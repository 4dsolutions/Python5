{
 "cells": [
  {
   "cell_type": "markdown",
   "metadata": {},
   "source": [
    "#### PYT-DS SAISOFT\n",
    "\n",
    "<a data-flickr-embed=\"true\"  href=\"https://www.flickr.com/photos/kirbyurner/27963484878/in/album-72157693427665102/\" title=\"Barry at Large\"><img src=\"https://farm1.staticflickr.com/969/27963484878_b38f0db42a_m.jpg\" width=\"240\" height=\"180\" alt=\"Barry at Large\"></a><script async src=\"//embedr.flickr.com/assets/client-code.js\" charset=\"utf-8\"></script>\n",
    "\n",
    "# DATA SCIENCE WITH PYTHON\n",
    "\n",
    "## Where Have We Been, What Have We Seen?\n",
    "\n",
    "My focus in this course is two track:\n",
    "\n",
    "* develop high level intuitions about statistical and [machine learning concepts](https://goo.gl/z9xgQz)\n",
    "\n",
    "* practice with nuts and bolts tools of the trade, namely pandas, matplotlib, numpy, other visualization tools (seaborn, bokeh...), specialized versions of pandas (geopandas, basemap).\n",
    "\n",
    "However, these two tracks are not strictly distinct, as navigating one's way through the extensive APIs associated with nuts and bolts tools, requires developing high level intuitions.  These tracks are complementary and require each other.\n",
    "\n",
    "### HIGH LEVEL INTUITIONS\n",
    "\n",
    "What are some examples of high level intuitions?\n",
    "\n",
    "I talked at some length about long-raging debates between two schools of thought in statistics:  frequentist and Bayesian.  Some of these debates have been concealed from us, as the successes of Bayesian thinking, also known as subjectivist, tend to feature computers and machine learning, as these were emergent in the UK and US during WW2 especially.\n",
    "\n",
    "Frequentists focus on sampling sufficiently to make reliable estimates regarding a larger population, deemed approachable in the asymptote but with diminishing returns.  Why sample a million people if choosing the right few hundred gives the same predictions?  Find out what sampling techniques give the most bang for the buck and then consider yourself ready to predict what will happen on the larger scale.  The focus is on finding correlating patterns, whether or not causation might be implied.\n",
    "\n",
    "<a data-flickr-embed=\"true\"  href=\"https://www.flickr.com/photos/kirbyurner/40676390102/in/album-72157693427665102/\" title=\"Dog Person\"><img src=\"https://farm5.staticflickr.com/4799/40676390102_fe8495c60e.jpg\" width=\"333\" height=\"500\" alt=\"Dog Person\"></a><script async src=\"//embedr.flickr.com/assets/client-code.js\" charset=\"utf-8\"></script>\n",
    "<div align=\"center\">Infrequent!</div>\n",
    "\n",
    "Alan Turing, famously the feature of the much fictionalized *The Imitation Game*, was tasked with cracking military grade encryption and enlisted the aid of machines to brute force through more possible permutations than human computers could muster, but not in an entirely mindless way. They had several clues, one might say prior or a priori knowledge, and during the search process itself (at runtime) could spontaneously choose them more promising branches for exploration.\n",
    "\n",
    "Chess and Go players may do something similar, as it's naturally impractical to explore the entire tree of possible moves many moves ahead. A way of culling or limiting ones search, today sometimes called \"back propagation\" or \"response to feedback\" makes the term \"brute force\" too coarse.  And yet the raw horsepower that machines bring to computation cannot be denied either.\n",
    "\n",
    "Turing's machines were sensitive to feedback, in the sense of the children's game where we say \"warmer\" or \"colder\" depending on whether the guided search is getting closer or further from a target.  Today we hear a lot about \"gradient descent\" which, similar to Newton's Method, is a way of finding a local or perhaps global minimum, according to what the rates of change say.  \"This may be as good as it gets\" in terms of face recognition.  But then you may always feed in more faces.\n",
    "\n",
    "Bayesians see themselves working on a belief system or \"model\" of a system, fine tuning it to match incoming data.  To the extent expectations are met, so is the model considered reliable.  Icing on the cake is when a model predicts something no one expected.  This proves, or at least adds credibility to the belief that, that one's model might be ahead of the curve, in terms of its predictive powers.\n",
    "\n",
    "<a data-flickr-embed=\"true\"  href=\"https://www.flickr.com/photos/kirbyurner/39098593240/in/album-72157693427665102/\" title=\"Library Book\"><img src=\"https://farm1.staticflickr.com/802/39098593240_ac283ee2df_n.jpg\" width=\"213\" height=\"320\" alt=\"Library Book\"></a><script async src=\"//embedr.flickr.com/assets/client-code.js\" charset=\"utf-8\"></script>\n",
    "\n",
    "The power of machines to respond to \"warmer\" and \"colder\" is the basis for many advances in data science.  Our crystal balls have become better at recognizing things, for example faces in pictures, written characters, word patterns in Tweets or scientific articles.  \n",
    "\n",
    "One might say these crystal balls are \"predictive\" in the sense that we anticipate they'll guess correctly when confronted with new sample data.  However, in English, we don't ordinarily consider \"recognizing a dog to be a dog\" as anything like divination, as in \"seeing the future\".  From a machine's point of view, \"getting it right\" is a form a prediction.\n",
    "\n",
    "### PRACTICAL TOOLS\n",
    "\n",
    "The two tools we started with were the ```numpy ndarray``` and the ```pandas Series``` type.  [A Series](https://github.com/pandas-dev/pandas/blob/v0.23.0/pandas/core/series.py) is really a 2D (or dim 2) addressing scheme, but with only a single vertical vector or column.  A ```DataFrame``` lines these vertical vectors together, left to right, giving us spreadsheet-like structures already familiar from centuries of working with tabular arrangements of rows and columns, defined to form \"cells\".\n",
    "\n",
    "Lets create a kind of chess board with labels reminiscent of standard chess notation.  The cells or values will be Unicode, meaning we might use the appropriate chess piece glyphs."
   ]
  },
  {
   "cell_type": "code",
   "execution_count": 1,
   "metadata": {
    "collapsed": true
   },
   "outputs": [],
   "source": [
    "import numpy as np\n",
    "import pandas as pd"
   ]
  },
  {
   "cell_type": "code",
   "execution_count": 2,
   "metadata": {},
   "outputs": [],
   "source": [
    "squares = np.array(list(64 * \" \"), dtype = np.str).reshape(8,8)"
   ]
  },
  {
   "cell_type": "code",
   "execution_count": 3,
   "metadata": {},
   "outputs": [
    {
     "data": {
      "text/plain": [
       "array([[' ', ' ', ' ', ' ', ' ', ' ', ' ', ' '],\n",
       "       [' ', ' ', ' ', ' ', ' ', ' ', ' ', ' '],\n",
       "       [' ', ' ', ' ', ' ', ' ', ' ', ' ', ' '],\n",
       "       [' ', ' ', ' ', ' ', ' ', ' ', ' ', ' '],\n",
       "       [' ', ' ', ' ', ' ', ' ', ' ', ' ', ' '],\n",
       "       [' ', ' ', ' ', ' ', ' ', ' ', ' ', ' '],\n",
       "       [' ', ' ', ' ', ' ', ' ', ' ', ' ', ' '],\n",
       "       [' ', ' ', ' ', ' ', ' ', ' ', ' ', ' ']],\n",
       "      dtype='<U1')"
      ]
     },
     "execution_count": 3,
     "metadata": {},
     "output_type": "execute_result"
    }
   ],
   "source": [
    "squares"
   ]
  },
  {
   "cell_type": "code",
   "execution_count": 4,
   "metadata": {},
   "outputs": [
    {
     "name": "stdout",
     "output_type": "stream",
     "text": [
      "♔♕♖\n"
     ]
    }
   ],
   "source": [
    "print('♔♕♖')"
   ]
  },
  {
   "cell_type": "code",
   "execution_count": 5,
   "metadata": {
    "collapsed": true
   },
   "outputs": [],
   "source": [
    "squares[0][0] = '♖'\n",
    "squares[7][0] = '♖'\n",
    "squares[0][7] = '♖'\n",
    "squares[7][7] = '♖'"
   ]
  },
  {
   "cell_type": "code",
   "execution_count": 6,
   "metadata": {},
   "outputs": [
    {
     "data": {
      "text/plain": [
       "array([['♖', ' ', ' ', ' ', ' ', ' ', ' ', '♖'],\n",
       "       [' ', ' ', ' ', ' ', ' ', ' ', ' ', ' '],\n",
       "       [' ', ' ', ' ', ' ', ' ', ' ', ' ', ' '],\n",
       "       [' ', ' ', ' ', ' ', ' ', ' ', ' ', ' '],\n",
       "       [' ', ' ', ' ', ' ', ' ', ' ', ' ', ' '],\n",
       "       [' ', ' ', ' ', ' ', ' ', ' ', ' ', ' '],\n",
       "       [' ', ' ', ' ', ' ', ' ', ' ', ' ', ' '],\n",
       "       ['♖', ' ', ' ', ' ', ' ', ' ', ' ', '♖']],\n",
       "      dtype='<U1')"
      ]
     },
     "execution_count": 6,
     "metadata": {},
     "output_type": "execute_result"
    }
   ],
   "source": [
    "squares"
   ]
  },
  {
   "cell_type": "code",
   "execution_count": 7,
   "metadata": {
    "collapsed": true
   },
   "outputs": [],
   "source": [
    "chessboard = pd.DataFrame(squares, index=range(1,9), \n",
    "                          columns = ['wR','wKn', 'wB', 'K',\n",
    "                                     'Q','eB', 'eKn', 'eR' ] )"
   ]
  },
  {
   "cell_type": "code",
   "execution_count": 8,
   "metadata": {},
   "outputs": [
    {
     "data": {
      "text/html": [
       "<div>\n",
       "<style scoped>\n",
       "    .dataframe tbody tr th:only-of-type {\n",
       "        vertical-align: middle;\n",
       "    }\n",
       "\n",
       "    .dataframe tbody tr th {\n",
       "        vertical-align: top;\n",
       "    }\n",
       "\n",
       "    .dataframe thead th {\n",
       "        text-align: right;\n",
       "    }\n",
       "</style>\n",
       "<table border=\"1\" class=\"dataframe\">\n",
       "  <thead>\n",
       "    <tr style=\"text-align: right;\">\n",
       "      <th></th>\n",
       "      <th>wR</th>\n",
       "      <th>wKn</th>\n",
       "      <th>wB</th>\n",
       "      <th>K</th>\n",
       "      <th>Q</th>\n",
       "      <th>eB</th>\n",
       "      <th>eKn</th>\n",
       "      <th>eR</th>\n",
       "    </tr>\n",
       "  </thead>\n",
       "  <tbody>\n",
       "    <tr>\n",
       "      <th>1</th>\n",
       "      <td>♖</td>\n",
       "      <td></td>\n",
       "      <td></td>\n",
       "      <td></td>\n",
       "      <td></td>\n",
       "      <td></td>\n",
       "      <td></td>\n",
       "      <td>♖</td>\n",
       "    </tr>\n",
       "    <tr>\n",
       "      <th>2</th>\n",
       "      <td></td>\n",
       "      <td></td>\n",
       "      <td></td>\n",
       "      <td></td>\n",
       "      <td></td>\n",
       "      <td></td>\n",
       "      <td></td>\n",
       "      <td></td>\n",
       "    </tr>\n",
       "    <tr>\n",
       "      <th>3</th>\n",
       "      <td></td>\n",
       "      <td></td>\n",
       "      <td></td>\n",
       "      <td></td>\n",
       "      <td></td>\n",
       "      <td></td>\n",
       "      <td></td>\n",
       "      <td></td>\n",
       "    </tr>\n",
       "    <tr>\n",
       "      <th>4</th>\n",
       "      <td></td>\n",
       "      <td></td>\n",
       "      <td></td>\n",
       "      <td></td>\n",
       "      <td></td>\n",
       "      <td></td>\n",
       "      <td></td>\n",
       "      <td></td>\n",
       "    </tr>\n",
       "    <tr>\n",
       "      <th>5</th>\n",
       "      <td></td>\n",
       "      <td></td>\n",
       "      <td></td>\n",
       "      <td></td>\n",
       "      <td></td>\n",
       "      <td></td>\n",
       "      <td></td>\n",
       "      <td></td>\n",
       "    </tr>\n",
       "    <tr>\n",
       "      <th>6</th>\n",
       "      <td></td>\n",
       "      <td></td>\n",
       "      <td></td>\n",
       "      <td></td>\n",
       "      <td></td>\n",
       "      <td></td>\n",
       "      <td></td>\n",
       "      <td></td>\n",
       "    </tr>\n",
       "    <tr>\n",
       "      <th>7</th>\n",
       "      <td></td>\n",
       "      <td></td>\n",
       "      <td></td>\n",
       "      <td></td>\n",
       "      <td></td>\n",
       "      <td></td>\n",
       "      <td></td>\n",
       "      <td></td>\n",
       "    </tr>\n",
       "    <tr>\n",
       "      <th>8</th>\n",
       "      <td>♖</td>\n",
       "      <td></td>\n",
       "      <td></td>\n",
       "      <td></td>\n",
       "      <td></td>\n",
       "      <td></td>\n",
       "      <td></td>\n",
       "      <td>♖</td>\n",
       "    </tr>\n",
       "  </tbody>\n",
       "</table>\n",
       "</div>"
      ],
      "text/plain": [
       "  wR wKn wB  K  Q eB eKn eR\n",
       "1  ♖                      ♖\n",
       "2                          \n",
       "3                          \n",
       "4                          \n",
       "5                          \n",
       "6                          \n",
       "7                          \n",
       "8  ♖                      ♖"
      ]
     },
     "execution_count": 8,
     "metadata": {},
     "output_type": "execute_result"
    }
   ],
   "source": [
    "chessboard"
   ]
  },
  {
   "cell_type": "markdown",
   "metadata": {},
   "source": [
    "I emphasize this is [not really chess](https://en.wikipedia.org/wiki/Chessboard).  Chess masters do not think in terms of west and east, nor is the checkerboard pattern sufficiently accessible.\n",
    "\n",
    "<a data-flickr-embed=\"true\"  href=\"https://www.flickr.com/photos/kirbyurner/24462714453/in/album-72157660337424600/\" title=\"A Python Student Deploys Flask App\"><img src=\"https://farm2.staticflickr.com/1593/24462714453_d88f762b00_n.jpg\" width=\"291\" height=\"320\" alt=\"A Python Student Deploys Flask App\"></a><script async src=\"//embedr.flickr.com/assets/client-code.js\" charset=\"utf-8\"></script>\n",
    "\n",
    "Our original ndarray (8 x 8) is now \"framed\" much as a canvas is framed by a possible elaborately carved metadata apparatus.  Indexes may be hierarchical, such as with years divided into months down the side, and animals into phyla across the top.\n",
    "\n",
    "Suppose we want to such our chessboard values back into a string-like spaghetti strand, not even 2D?  The string-like state is a base serialization of what is perhaps meant to be much higher dimensional data.\n",
    "\n",
    "Applying the rule that if dimensions intermultiply to the same total, we may reshape between them, I will take my 8 x 8 chessboard and turn it into some binary tree like 2 x 2 x 2 x 2 x 2 x 2 data structure.  Finding a Rook might take patience.  I leave it for you in the Lab."
   ]
  },
  {
   "cell_type": "code",
   "execution_count": 9,
   "metadata": {
    "collapsed": true
   },
   "outputs": [],
   "source": [
    "string_board = chessboard.values\n",
    "binary_tree = string_board.reshape(2,2,2,2,2,2)"
   ]
  },
  {
   "cell_type": "markdown",
   "metadata": {},
   "source": [
    "#### LAB:\n",
    "\n",
    "Find the rooks, or at least one of them.  The first one is easy and I give you it for free:"
   ]
  },
  {
   "cell_type": "code",
   "execution_count": 10,
   "metadata": {},
   "outputs": [
    {
     "data": {
      "text/plain": [
       "'♖'"
      ]
     },
     "execution_count": 10,
     "metadata": {},
     "output_type": "execute_result"
    }
   ],
   "source": [
    "binary_tree[0][0][0][0][0][0][0][0]"
   ]
  },
  {
   "cell_type": "markdown",
   "metadata": {},
   "source": [
    "At the time of this writing, ```pandas``` is having a tad of an identity crisis, as the Panel type, for which the initial p stands, is being phased out.  The added overhead of a stack of DataFrames proved more overhead than the law of dimishing returns would support.  I'm sure you'll be able to dig up more research about all the decision-making that went on."
   ]
  }
 ],
 "metadata": {
  "kernelspec": {
   "display_name": "Python 3",
   "language": "python",
   "name": "python3"
  },
  "language_info": {
   "codemirror_mode": {
    "name": "ipython",
    "version": 3
   },
   "file_extension": ".py",
   "mimetype": "text/x-python",
   "name": "python",
   "nbconvert_exporter": "python",
   "pygments_lexer": "ipython3",
   "version": "3.6.4"
  }
 },
 "nbformat": 4,
 "nbformat_minor": 2
}
