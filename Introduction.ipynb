{
 "cells": [
  {
   "cell_type": "markdown",
   "metadata": {},
   "source": [
    "# DISCOVERING MATH WITH PYTHON\n",
    "\n",
    "\n",
    "# Introduction\n",
    "\n",
    "A primary intended audience for the chapters that follow is a teacher looking for another better way to encapsulate a lesson plan in the form of an interactive worksheet.\n",
    "\n",
    "Jupyter Notebooks, an outgrowth of the I-Python Notebook project, are designed as a front end whereby the reader is not passive, but welcome and invited to change both the code and surrounding text.  Add more pictures, more examples.  Modify whole sections.\n",
    "\n",
    "This particular set of chapters does not aim to teach Jupyter Notebook skills so much as to demonstrate how they might be deployed, as worksheets subject to change, by students, by other teachers.  A given Notebook has the potential to \"go viral\" as we say, especially given a Creative Commons type license.\n",
    "\n",
    "When sharing these Notebooks with other teachers, I recommend keeping these chapters together as a set.  That's not a commandment or edict however.  Use this material as you see fit.\n",
    "\n",
    "The original home of these chapters is/was a Github account maintained by [4Dsolutions.net](http://www.4dsolutions.net), the domain behind what I call the *Oregon Curriculum Network*.  Other Jupyter Notebooks, as well as ordinary Python source code files, made up [the original repository](https://github.com/4dsolutions/Python5/).\n",
    "\n",
    "I invite you to journey back to these primal roots.  Explore!\n",
    "\n",
    "# Table of Contents\n",
    "\n",
    "* [Chapter 1:  Welcome to Python](Welcome%20to%20Python.ipynb)\n",
    "* [Chapter 2:  Functions At Work](Functions%20At%20Work.ipynb)\n",
    "* [Chapter 3:  A First Class](A%20First%20Class.ipynb)\n",
    "* [Chapter 4:  Clock Arithmetic](Clock%20Arithmetic.ipynb)\n",
    "* [Chapter 5:  Public Key Cryptography](Public%20Key%20Cryptography.ipynb)\n",
    "* [Chapter 6:  Vectors in Space](Vectors%20in%20Space.ipynb)\n",
    "* [Chapter 7:  Polyhedrons](Polyhedrons.ipynb)\n",
    "* [Chapter 8:  Transformations](Transformations.ipynb)\n",
    "* Chapter 9:  Symmetry Groups\n",
    "* Chapter 10: Complex Numbers\n",
    "* [Chapter 11: Quaternions](Quaternions.ipynb)\n",
    "* Chapter 12: The Mandelbrot Set"
   ]
  }
 ],
 "metadata": {
  "kernelspec": {
   "display_name": "Python 3",
   "language": "python",
   "name": "python3"
  },
  "language_info": {
   "codemirror_mode": {
    "name": "ipython",
    "version": 3
   },
   "file_extension": ".py",
   "mimetype": "text/x-python",
   "name": "python",
   "nbconvert_exporter": "python",
   "pygments_lexer": "ipython3",
   "version": "3.6.0"
  }
 },
 "nbformat": 4,
 "nbformat_minor": 2
}
