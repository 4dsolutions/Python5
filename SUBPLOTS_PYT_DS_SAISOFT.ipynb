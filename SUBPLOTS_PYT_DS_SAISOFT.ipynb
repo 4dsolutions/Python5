{
 "cells": [
  {
   "cell_type": "markdown",
   "metadata": {},
   "source": [
    "## PYT-DS: Subplots in Matplotlib\n",
    "\n",
    "The VanderPlas Syllabus is one of the more useful and core to this course in many ways.  \n",
    "\n",
    "Jake VanderPlas has been a key player in helping to promote open source.  He's an astronomer by training.  Lets remember that the [Space Telescope Institute](http://www.stsci.edu/), home for the Hubble space telescope, in terms of management and data wrangling, has been a big investor in Python technologies, as well as matplotlib.\n",
    "\n",
    "It was my great privilege to deliver [a Python training](http://worldgame.blogspot.com/2010/04/python-gig.html) at SScI in behalf of Holdenweb, a Steve Holden company.\n",
    "\n",
    "Links: \n",
    "\n",
    "   * [HTML](https://jakevdp.github.io/PythonDataScienceHandbook/index.html) \n",
    "   \n",
    "   * [The Notebooks](https://github.com/jakevdp/PythonDataScienceHandbook/tree/master/notebooks)\n"
   ]
  },
  {
   "cell_type": "code",
   "execution_count": null,
   "metadata": {},
   "outputs": [],
   "source": [
    "%matplotlib inline\n",
    "import matplotlib.pyplot as plt\n",
    "plt.style.use('seaborn-white')\n",
    "import numpy as np"
   ]
  },
  {
   "cell_type": "markdown",
   "metadata": {},
   "source": [
    "The first distinction to make is between Figure, which is the outer frame of a canvas, and the rectangular XY grids or coordinate systems we place within the figure.  XY grid objects are known as \"axes\" (plural) and most of the attributes we associate with plots are actually connected to axes.\n",
    "\n",
    "What may be confusing to the new user is that plt (pyplot) keeps track of which axes we're working on, so we have ways of communicating with axes through plt which obscures the direct connection twixt axes and their attributes.\n",
    "\n",
    "Below we avoid using plt completely except for initializing our figure, and manage to get two sets of axes (two plots inside the same figure)."
   ]
  },
  {
   "cell_type": "code",
   "execution_count": null,
   "metadata": {},
   "outputs": [],
   "source": [
    "fig = plt.figure(\"main\", figsize=(5,5)) # name or int id optional, as is figsize\n",
    "ax1 = fig.add_axes([0.1, 0.5, 0.8, 0.4],\n",
    "                   xticklabels=[], ylim=(-1.2, 1.2)) # no x axis tick marks\n",
    "ax2 = fig.add_axes([0.1, 0.1, 0.8, 0.4],\n",
    "                   ylim=(-1.2, 1.2))\n",
    "\n",
    "x = np.linspace(0, 10)\n",
    "ax1.plot(np.sin(x))\n",
    "_ = ax2.plot(np.cos(x)) # assign to dummy variable to suppress text output"
   ]
  },
  {
   "cell_type": "code",
   "execution_count": null,
   "metadata": {},
   "outputs": [],
   "source": [
    "plt.figure?"
   ]
  },
  {
   "cell_type": "markdown",
   "metadata": {},
   "source": [
    "Here's ```subplot``` in action, creating axes automatically based on how many rows and columns we specify, followed by a sequence number i, 1 through however many (in this case six).\n",
    "\n",
    "Notice how plt is keeping track of which subplot axes are current, and we talk to said axes through plt.  "
   ]
  },
  {
   "cell_type": "code",
   "execution_count": null,
   "metadata": {},
   "outputs": [],
   "source": [
    "for i in range(1, 7):\n",
    "    plt.subplot(2, 3, i)\n",
    "    plt.text(0.5, 0.5, str((2, 3, i)),\n",
    "             fontsize=18, ha='center')\n",
    "    plt.xticks([]) # get rid of tickmarks on x axis\n",
    "    plt.yticks([]) # get rid of tickmarks on y axis"
   ]
  },
  {
   "cell_type": "markdown",
   "metadata": {},
   "source": [
    "Here we're talking to the axes objects more directly by calling \"get current axes\". Somewhat confusingly, the instances return have an \"axes\" attribute which points to the same instance, a wrinkle I explore below.  Note the slight difference between the last two lines."
   ]
  },
  {
   "cell_type": "code",
   "execution_count": null,
   "metadata": {},
   "outputs": [],
   "source": [
    "for i in range(1, 7):\n",
    "    plt.subplot(2, 3, i)\n",
    "    plt.text(0.5, 0.5, str((2, 3, i)),\n",
    "             fontsize=18, ha='center')\n",
    "    # synonymous.  gca means 'get current axes'\n",
    "    plt.gca().get_yaxis().set_visible(False)\n",
    "    plt.gca().axes.get_xaxis().set_visible(False) # axes optional, self referential\n",
    "plt.gcf().subplots_adjust(hspace=0.1, wspace=0.1) # get current figure, adjust spacing"
   ]
  },
  {
   "cell_type": "markdown",
   "metadata": {},
   "source": [
    "### LAB:\n",
    "\n",
    "You might need to install pillow to get the code cells to work.  Pillow is a Python 3 fork of PIL, the Python Imaging Library, still imported using that name.\n",
    "\n",
    "```conda install pillow``` from the most compatible repo for whatever Anaconda environment you're using would be one way to get it.  Using ```pip``` would be another.  The ```face.png``` binary is in your course folder for this evening.\n",
    "\n",
    "Question: Might we using axes to show images?\n",
    "\n",
    "Answer: Absolutely, as matplotlib axes have an [imshow method](https://matplotlib.org/api/_as_gen/matplotlib.axes.Axes.imshow.html)."
   ]
  },
  {
   "cell_type": "code",
   "execution_count": null,
   "metadata": {},
   "outputs": [],
   "source": [
    "from PIL import Image # Image is a module!\n",
    "plt.subplot(1, 2, 1)\n",
    "plt.xticks([]) # get rid of tickmarks on x axis\n",
    "plt.yticks([]) # get rid of tickmarks on y axis\n",
    "\n",
    "im = Image.open(\"face.png\")\n",
    "plt.imshow(im)\n",
    "\n",
    "plt.subplot(1, 2, 2)\n",
    "plt.xticks([]) # get rid of tickmarks on x axis\n",
    "plt.yticks([]) # get rid of tickmarks on y axis\n",
    "\n",
    "# rotate 180 degrees\n",
    "rotated = im.transpose(Image.ROTATE_180)\n",
    "plt.imshow(rotated)\n",
    "_ = plt.gcf().tight_layout()"
   ]
  },
  {
   "cell_type": "markdown",
   "metadata": {},
   "source": [
    "The script below, borrowed from [the matplotlib gallery](https://matplotlib.org/gallery/images_contours_and_fields/image_annotated_heatmap.html), shows another common idiom for getting a figure and axes pair.  Call plt.suplots with no arguments.  Then talk to ax directly, for the most part. We're also rotating the x tickmark labels by 45 degrees.  Fancy!\n",
    "\n",
    "Uncommenting the use('classic') command up top makes a huge difference in the result.  I'm still trying to figure that out."
   ]
  },
  {
   "cell_type": "code",
   "execution_count": null,
   "metadata": {},
   "outputs": [],
   "source": [
    "# plt.style.use('classic')\n",
    "vegetables = [\"cucumber\", \"tomato\", \"lettuce\", \"asparagus\",\n",
    "              \"potato\", \"wheat\", \"barley\"]\n",
    "farmers = [\"Farmer Joe\", \"Upland Bros.\", \"Smith Gardening\",\n",
    "           \"Agrifun\", \"Organiculture\", \"BioGoods Ltd.\", \"Cornylee Corp.\"]\n",
    "\n",
    "harvest = np.array([[0.8, 2.4, 2.5, 3.9, 0.0, 4.0, 0.0],\n",
    "                    [2.4, 0.0, 4.0, 1.0, 2.7, 0.0, 0.0],\n",
    "                    [1.1, 2.4, 0.8, 4.3, 1.9, 4.4, 0.0],\n",
    "                    [0.6, 0.0, 0.3, 0.0, 3.1, 0.0, 0.0],\n",
    "                    [0.7, 1.7, 0.6, 2.6, 2.2, 6.2, 0.0],\n",
    "                    [1.3, 1.2, 0.0, 0.0, 0.0, 3.2, 5.1],\n",
    "                    [0.1, 2.0, 0.0, 1.4, 0.0, 1.9, 6.3]])\n",
    "\n",
    "\n",
    "fig, ax = plt.subplots()\n",
    "im = ax.imshow(harvest)\n",
    "\n",
    "# We want to show all ticks...\n",
    "ax.set_xticks(np.arange(len(farmers)))\n",
    "ax.set_yticks(np.arange(len(vegetables)))\n",
    "# ... and label them with the respective list entries\n",
    "ax.set_xticklabels(farmers)\n",
    "ax.set_yticklabels(vegetables)\n",
    "\n",
    "# Rotate the tick labels and set their alignment.\n",
    "plt.setp(ax.get_xticklabels(), rotation=45, ha=\"right\",\n",
    "         rotation_mode=\"anchor\")\n",
    "\n",
    "# Loop over data dimensions and create text annotations.\n",
    "for i in range(len(vegetables)):\n",
    "    for j in range(len(farmers)):\n",
    "        text = ax.text(j, i, harvest[i, j],\n",
    "                       ha=\"center\", va=\"center\", color=\"y\")\n",
    "\n",
    "ax.set_title(\"Harvest of local farmers (in tons/year)\")\n",
    "fig.tight_layout()"
   ]
  }
 ],
 "metadata": {
  "kernelspec": {
   "display_name": "Python 3",
   "language": "python",
   "name": "python3"
  },
  "language_info": {
   "codemirror_mode": {
    "name": "ipython",
    "version": 3
   },
   "file_extension": ".py",
   "mimetype": "text/x-python",
   "name": "python",
   "nbconvert_exporter": "python",
   "pygments_lexer": "ipython3",
   "version": "3.6.4"
  }
 },
 "nbformat": 4,
 "nbformat_minor": 2
}
