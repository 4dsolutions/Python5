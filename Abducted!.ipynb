{
 "cells": [
  {
   "cell_type": "markdown",
   "metadata": {},
   "source": [
    "Python for Everyone!<br/>[Oregon Curriculum Network](http://4dsolutions.net/ocn/)\n",
    "\n",
    "## Abucted by Aliens\n",
    "\n",
    "### Decorators in Python\n",
    "\n",
    "![alt txt](http://proofofalien.com/wp-content/uploads/2016/02/10-Tips-Of-How-To-Get-Abducted-By-Aliens-624x257.jpg)\n",
    "\n",
    "Note that Python functions, as top-level objects, may be endowed with attributes just like any other object.  \n",
    "\n",
    "That's what we do here:  the UFO decorator brands any function with some special mark, of having been abucted by aliens.\n",
    "\n",
    "Functions may be used to decorate other functions."
   ]
  },
  {
   "cell_type": "code",
   "execution_count": 1,
   "metadata": {
    "collapsed": false
   },
   "outputs": [
    {
     "name": "stdout",
     "output_type": "stream",
     "text": [
      "True\n"
     ]
    }
   ],
   "source": [
    "def UFO(abductee):\n",
    "    abductee.special_mark = True\n",
    "    return abductee\n",
    "\n",
    "def subject_A():\n",
    "    pass\n",
    "\n",
    "@UFO\n",
    "def subject_B():\n",
    "    pass\n",
    "\n",
    "print(subject_B.special_mark)\n",
    "        "
   ]
  },
  {
   "cell_type": "markdown",
   "metadata": {},
   "source": [
    "Functions do not implement the \\_\\_mul\\_\\_ method right out of the gate, i.e. if you have two functions, don't expect to compose them into a new function with the multiplication operator, unless and until you have the right Composer class."
   ]
  },
  {
   "cell_type": "code",
   "execution_count": 17,
   "metadata": {
    "collapsed": false
   },
   "outputs": [
    {
     "name": "stdout",
     "output_type": "stream",
     "text": [
      "KAAA\n",
      "KBAB\n"
     ]
    }
   ],
   "source": [
    "from types import FunctionType\n",
    "\n",
    "class Composer:\n",
    "    \n",
    "    def __init__(self, func):\n",
    "        self.func = func  # swallow a function\n",
    "        \n",
    "    def __mul__(self, other):\n",
    "        return Composer(lambda x: self(other(x)))\n",
    "    \n",
    "    def __rmul__(self, other):\n",
    "        return Composer(lambda x: other(self(x)))\n",
    "        \n",
    "    def __call__(self, x):\n",
    "        return self.func(x)\n",
    "\n",
    "def addA(s):\n",
    "    return s + \"A\"\n",
    "\n",
    "def addB(s):\n",
    "    return s + \"B\"\n",
    "\n",
    "result = addA(addA(addA(\"K\")))  # ordinary composition\n",
    "print(result)\n",
    "\n",
    "result = addB(addA(addB(\"K\")))\n",
    "print(result)"
   ]
  },
  {
   "cell_type": "markdown",
   "metadata": {},
   "source": [
    "So now lets see if we might use Composer as a decorator to turn both functions into Composables, that then multiply together.  If so, we may chain them using \"*\".\n",
    "\n",
    "Classes may be used to decorate functions.  We call these \"class decorators\"."
   ]
  },
  {
   "cell_type": "code",
   "execution_count": 18,
   "metadata": {
    "collapsed": false
   },
   "outputs": [
    {
     "name": "stdout",
     "output_type": "stream",
     "text": [
      "KBAB\n"
     ]
    }
   ],
   "source": [
    "@Composer\n",
    "def addA(s):\n",
    "    return s + \"A\"\n",
    "\n",
    "@Composer\n",
    "def addB(s):\n",
    "    return s + \"B\"\n",
    "\n",
    "Chained = addB * addA * addB  # an example of operator overloading\n",
    "print(Chained(\"K\"))"
   ]
  },
  {
   "cell_type": "markdown",
   "metadata": {},
   "source": [
    "Lets write a unittest to make sure even an ordinary, non-decorated function, may be multiplied by a Composer type object..."
   ]
  },
  {
   "cell_type": "code",
   "execution_count": 20,
   "metadata": {
    "collapsed": false
   },
   "outputs": [
    {
     "name": "stderr",
     "output_type": "stream",
     "text": [
      "..\n",
      "----------------------------------------------------------------------\n",
      "Ran 2 tests in 0.002s\n",
      "\n",
      "OK\n"
     ]
    },
    {
     "data": {
      "text/plain": [
       "<unittest.runner.TextTestResult run=2 errors=0 failures=0>"
      ]
     },
     "execution_count": 20,
     "metadata": {},
     "output_type": "execute_result"
    }
   ],
   "source": [
    "import unittest\n",
    "\n",
    "class TestUFO(unittest.TestCase):\n",
    "    \n",
    "    def test_composing(self):\n",
    "        \n",
    "        def Plus2(x):\n",
    "            return x + 2\n",
    "        \n",
    "        @Composer\n",
    "        def Times2(x):\n",
    "            return x * 2\n",
    "        \n",
    "        H = Times2 * Plus2\n",
    "        self.assertEqual(H(10), 24)\n",
    "\n",
    "    def test_composing2(self):\n",
    "        \n",
    "        def Plus2(x):\n",
    "            return x + 2\n",
    "        \n",
    "        @Composer\n",
    "        def Times2(x):\n",
    "            return x * 2\n",
    "        \n",
    "        H = Plus2 * Times2\n",
    "        self.assertEqual(H(10), 22)\n",
    "        \n",
    "a = TestUFO()  # the test suite\n",
    "suite = unittest.TestLoader().loadTestsFromModule(a) # fancy boilerplate\n",
    "unittest.TextTestRunner().run(suite)  # run the test suite"
   ]
  }
 ],
 "metadata": {
  "kernelspec": {
   "display_name": "Python 3",
   "language": "python",
   "name": "python3"
  },
  "language_info": {
   "codemirror_mode": {
    "name": "ipython",
    "version": 3
   },
   "file_extension": ".py",
   "mimetype": "text/x-python",
   "name": "python",
   "nbconvert_exporter": "python",
   "pygments_lexer": "ipython3",
   "version": "3.5.1"
  },
  "widgets": {
   "state": {},
   "version": "1.1.2"
  }
 },
 "nbformat": 4,
 "nbformat_minor": 0
}
