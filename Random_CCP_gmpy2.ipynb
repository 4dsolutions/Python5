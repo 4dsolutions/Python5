{
 "cells": [
  {
   "cell_type": "markdown",
   "metadata": {},
   "source": [
    "# Random IVM Tetrahedron Volumes (with gmpy2)\n",
    "\n",
    "![quadrays](https://upload.wikimedia.org/wikipedia/commons/9/99/Quadray.gif)\n",
    "\n",
    "According to a proof by Dr. Robert Gray, at one time archived on a Synergetics listserv, any tetrahedron of IVM vertexes (assuming non-coplanar) will have a whole number volume.  \n",
    "\n",
    "In this Notebook, we randomly generate IVM tetrahedrons and compute their volumes.  Within the error of floating point, we demonstrate this result."
   ]
  },
  {
   "cell_type": "code",
   "execution_count": 1,
   "metadata": {},
   "outputs": [],
   "source": [
    "from tetravolume import Qvector"
   ]
  },
  {
   "cell_type": "code",
   "execution_count": 2,
   "metadata": {},
   "outputs": [
    {
     "data": {
      "text/plain": [
       "mpfr('0.0',200)"
      ]
     },
     "execution_count": 2,
     "metadata": {},
     "output_type": "execute_result"
    }
   ],
   "source": [
    "import gmpy2\n",
    "from gmpy2 import mpfr\n",
    "gmpy2.get_context().precision=200\n",
    "mpfr(0)"
   ]
  },
  {
   "cell_type": "code",
   "execution_count": 3,
   "metadata": {},
   "outputs": [],
   "source": [
    "from itertools import permutations"
   ]
  },
  {
   "cell_type": "code",
   "execution_count": 4,
   "metadata": {},
   "outputs": [
    {
     "data": {
      "text/plain": [
       "[(0, 1, 1, 2),\n",
       " (1, 2, 0, 1),\n",
       " (0, 2, 1, 1),\n",
       " (0, 1, 2, 1),\n",
       " (2, 1, 0, 1),\n",
       " (1, 1, 2, 0),\n",
       " (1, 2, 1, 0),\n",
       " (2, 1, 1, 0),\n",
       " (1, 0, 2, 1),\n",
       " (2, 0, 1, 1),\n",
       " (1, 0, 1, 2),\n",
       " (1, 1, 0, 2)]"
      ]
     },
     "execution_count": 4,
     "metadata": {},
     "output_type": "execute_result"
    }
   ],
   "source": [
    "combos = set()\n",
    "for combo in permutations((0,1,1,2)):\n",
    "    combos.add(combo)\n",
    "combos = list(combos)\n",
    "combos"
   ]
  },
  {
   "cell_type": "markdown",
   "metadata": {},
   "source": [
    "One frequency:\n",
    "\n",
    "![\"freq1\"](freq1.png)\n"
   ]
  },
  {
   "cell_type": "code",
   "execution_count": 5,
   "metadata": {},
   "outputs": [
    {
     "data": {
      "text/plain": [
       "ivm_vector(a=mpfr('0.0',200), b=mpfr('392.0',200), c=mpfr('222.0',200), d=mpfr('642.0',200))"
      ]
     },
     "execution_count": 5,
     "metadata": {},
     "output_type": "execute_result"
    }
   ],
   "source": [
    "import random\n",
    "\n",
    "def any_ball():\n",
    "    # random coefficients for arbitrary choice of vectors...\n",
    "    coeffs = [random.randint(0, 300) for _ in range(12)]\n",
    "    vectors = ([coeffs[i] * Qvector(combos[i]) for i in range(12)])\n",
    "    vector_sum = Qvector((mpfr(0),mpfr(0),mpfr(0),mpfr(0)))\n",
    "    for v in vectors:\n",
    "        vector_sum = vector_sum + v\n",
    "    return vector_sum\n",
    "\n",
    "any_ball()"
   ]
  },
  {
   "cell_type": "code",
   "execution_count": 6,
   "metadata": {},
   "outputs": [
    {
     "data": {
      "text/plain": [
       "ivm_vector(a=mpfr('492.0',200), b=mpfr('329.0',200), c=mpfr('0.0',200), d=mpfr('267.0',200))"
      ]
     },
     "execution_count": 6,
     "metadata": {},
     "output_type": "execute_result"
    }
   ],
   "source": [
    "A,B,C,D = any_ball(), any_ball(), any_ball(), any_ball()\n",
    "A"
   ]
  },
  {
   "cell_type": "code",
   "execution_count": 7,
   "metadata": {},
   "outputs": [
    {
     "data": {
      "text/plain": [
       "ivm_vector(a=mpfr('248.0',200), b=mpfr('263.0',200), c=mpfr('0.0',200), d=mpfr('345.0',200))"
      ]
     },
     "execution_count": 7,
     "metadata": {},
     "output_type": "execute_result"
    }
   ],
   "source": [
    "A-B"
   ]
  },
  {
   "cell_type": "code",
   "execution_count": 8,
   "metadata": {},
   "outputs": [
    {
     "data": {
      "text/plain": [
       "mpfr('182.36501857538358499472121928182087681992193154377123883742419',200)"
      ]
     },
     "execution_count": 8,
     "metadata": {},
     "output_type": "execute_result"
    }
   ],
   "source": [
    "(A-B).length()"
   ]
  },
  {
   "cell_type": "code",
   "execution_count": 9,
   "metadata": {},
   "outputs": [],
   "source": [
    "lengths = [(\"AB\", (A-B).length()),\n",
    "           (\"AC\", (A-C).length()),\n",
    "           (\"AD\", (A-D).length()),\n",
    "           (\"BC\", (B-C).length()),\n",
    "           (\"CD\", (C-D).length()),\n",
    "           (\"DB\", (D-B).length())]"
   ]
  },
  {
   "cell_type": "code",
   "execution_count": 10,
   "metadata": {},
   "outputs": [
    {
     "data": {
      "text/plain": [
       "[('AB',\n",
       "  mpfr('182.36501857538358499472121928182087681992193154377123883742419',200)),\n",
       " ('AC',\n",
       "  mpfr('600.15164750252914722690451617422631602104978692970170354841761',200)),\n",
       " ('AD',\n",
       "  mpfr('551.34199912576948539719539536015344824528780410498293183661653',200)),\n",
       " ('BC',\n",
       "  mpfr('511.7528700456891428844478216824504677275886445592614561129447',200)),\n",
       " ('CD',\n",
       "  mpfr('598.36109499197890280611882194630845066148913520677993892985788',200)),\n",
       " ('DB',\n",
       "  mpfr('383.2270867253513957959972492873305724441048590574352961993633',200))]"
      ]
     },
     "execution_count": 10,
     "metadata": {},
     "output_type": "execute_result"
    }
   ],
   "source": [
    "lengths"
   ]
  },
  {
   "cell_type": "code",
   "execution_count": 11,
   "metadata": {},
   "outputs": [],
   "source": [
    "from tetravolume import Tetrahedron"
   ]
  },
  {
   "cell_type": "code",
   "execution_count": 12,
   "metadata": {},
   "outputs": [],
   "source": [
    "t = Tetrahedron(*[lengths[i][1] for i in range(6)])"
   ]
  },
  {
   "cell_type": "code",
   "execution_count": 13,
   "metadata": {},
   "outputs": [
    {
     "data": {
      "text/plain": [
       "mpfr('20009460.0',200)"
      ]
     },
     "execution_count": 13,
     "metadata": {},
     "output_type": "execute_result"
    }
   ],
   "source": [
    "t.ivm_volume()"
   ]
  },
  {
   "cell_type": "code",
   "execution_count": 14,
   "metadata": {},
   "outputs": [
    {
     "data": {
      "text/plain": [
       "mpfr('16319836.0',200)"
      ]
     },
     "execution_count": 14,
     "metadata": {},
     "output_type": "execute_result"
    }
   ],
   "source": [
    "def demo():\n",
    "    A,B,C,D = any_ball(), any_ball(), any_ball(), any_ball()\n",
    "    lengths = [(\"AB\", (A-B).length()),\n",
    "           (\"AC\", (A-C).length()),\n",
    "           (\"AD\", (A-D).length()),\n",
    "           (\"BC\", (B-C).length()),\n",
    "           (\"CD\", (C-D).length()),\n",
    "           (\"DB\", (D-B).length())]\n",
    "    t = Tetrahedron(*[lengths[i][1] for i in range(6)])\n",
    "    return t.ivm_volume()\n",
    "\n",
    "demo()"
   ]
  },
  {
   "cell_type": "code",
   "execution_count": 15,
   "metadata": {},
   "outputs": [
    {
     "data": {
      "text/plain": [
       "mpfr('18865099.805174635666877858142242985195480287075042724609375',200)"
      ]
     },
     "execution_count": 15,
     "metadata": {},
     "output_type": "execute_result"
    }
   ],
   "source": [
    "t.xyz_volume()"
   ]
  },
  {
   "cell_type": "code",
   "execution_count": 16,
   "metadata": {},
   "outputs": [
    {
     "data": {
      "image/jpeg": "[encoded data removed]",
      "text/html": [
       "\n",
       "        <iframe\n",
       "            width=\"400\"\n",
       "            height=\"300\"\n",
       "            src=\"https://www.youtube.com/embed/wLHescQT2ZI\"\n",
       "            frameborder=\"0\"\n",
       "            allowfullscreen\n",
       "        ></iframe>\n",
       "        "
      ],
      "text/plain": [
       "<IPython.lib.display.YouTubeVideo at 0x10d89ec50>"
      ]
     },
     "execution_count": 16,
     "metadata": {},
     "output_type": "execute_result"
    }
   ],
   "source": [
    "from IPython.display import YouTubeVideo\n",
    "YouTubeVideo(\"wLHescQT2ZI\") # https://youtu.be/wLHescQT2ZI"
   ]
  }
 ],
 "metadata": {
  "kernelspec": {
   "display_name": "Python 3",
   "language": "python",
   "name": "python3"
  },
  "language_info": {
   "codemirror_mode": {
    "name": "ipython",
    "version": 3
   },
   "file_extension": ".py",
   "mimetype": "text/x-python",
   "name": "python",
   "nbconvert_exporter": "python",
   "pygments_lexer": "ipython3",
   "version": "3.6.8"
  }
 },
 "nbformat": 4,
 "nbformat_minor": 2
}
