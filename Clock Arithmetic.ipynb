{
 "cells": [
  {
   "cell_type": "markdown",
   "metadata": {},
   "source": [
    "# Chapter 4: CLOCK ARITHMETIC\n",
    "\n",
    "Calling modulo arithmetic \"clock arithmetic\" is a way of calling attention to the finite cyclic nature of always taking remainders, factoring away the \"modulus\".  What does that mean?\n",
    "\n",
    "In Python, one of our primitive operators is %, for \"modulo\", which relates to the built-in function divmod(&nbsp;).  Lets see how % and divmod do their jobs:"
   ]
  },
  {
   "cell_type": "code",
   "execution_count": 1,
   "metadata": {
    "collapsed": false
   },
   "outputs": [
    {
     "data": {
      "text/plain": [
       "0"
      ]
     },
     "execution_count": 1,
     "metadata": {},
     "output_type": "execute_result"
    }
   ],
   "source": [
    "(5 + 5) % 10 # no remainder"
   ]
  },
  {
   "cell_type": "code",
   "execution_count": 2,
   "metadata": {
    "collapsed": false
   },
   "outputs": [
    {
     "data": {
      "text/plain": [
       "(2, 0)"
      ]
     },
     "execution_count": 2,
     "metadata": {},
     "output_type": "execute_result"
    }
   ],
   "source": [
    "divmod(10, 5) # 5 goes into 10 twice, no remainder"
   ]
  },
  {
   "cell_type": "code",
   "execution_count": 3,
   "metadata": {
    "collapsed": false
   },
   "outputs": [
    {
     "data": {
      "text/plain": [
       "9"
      ]
     },
     "execution_count": 3,
     "metadata": {},
     "output_type": "execute_result"
    }
   ],
   "source": [
    "19 % 10 # divide by 10, give the remainder"
   ]
  },
  {
   "cell_type": "markdown",
   "metadata": {},
   "source": [
    "The unit circle of 360 degrees, or 2 pi radians, is also treated in a clock-like fashion.  Going around thousands of degrees from some present position, never takes us beyond 360.  We're confined to a finite domain.  \n",
    "\n",
    "There's a kind of \"closure\" in this picture, which might be resonating with you by now, as one of those properties of a group.  Will we find groups in this Chapter?  You bet.\n",
    "\n",
    "We call this \"clock arithmetic\" because even if we say \"20 hours from now\", or \"30 hours ago\" we'll still be somewhere on the circle marked out into 12 intervals, each representing one hour.  The yearly calendar is likewise a kind of modulus.  No matter how many days we add, we're still somewhere between 0 and 365 days into some year.\n",
    "\n",
    "### A Class for M-numbers\n",
    "Lets build a class, the instances of which will multiply and add per some fixed modulus, meaning we're always factoring out the modulus and keeping the remainder.  "
   ]
  },
  {
   "cell_type": "code",
   "execution_count": 4,
   "metadata": {
    "collapsed": false
   },
   "outputs": [
    {
     "name": "stdout",
     "output_type": "stream",
     "text": [
      "(8) (7)\n",
      "(8) * (7) =  (6)\n",
      "(8) + (7) =  (5)\n"
     ]
    }
   ],
   "source": [
    "class M:  # for \"modulo\"\n",
    "    \n",
    "    modulus = 10  # class level\n",
    "    \n",
    "    def __init__(self, val):\n",
    "        self.val = val % M.modulus\n",
    "        \n",
    "    def __add__(self, other):\n",
    "        return M((self.val + other.val) % M.modulus)\n",
    "    \n",
    "    def __mul__(self, other):\n",
    "        return M((self.val * other.val) % M.modulus)\n",
    "    \n",
    "    def __pow__(self, exp):\n",
    "        raise NotImplemented\n",
    "    \n",
    "    def __repr__(self):\n",
    "        return \"(\" + str(self.val) + \")\"\n",
    "    \n",
    "a = M(8)\n",
    "b = M(7)\n",
    "print(a, b)\n",
    "print(\"(8) * (7) = \", a * b)\n",
    "print(\"(8) + (7) = \", a + b)"
   ]
  },
  {
   "cell_type": "markdown",
   "metadata": {},
   "source": [
    "OK, everything seems to be working, even though we haven't implemented powering yet.  Eventually we'd like to go pow(M(3), -1) to get the inverse of M(3), such that M(3) times its inverse equals the multiplicative identity M(1).\n",
    "\n",
    "### Looking for Groups\n",
    "\n",
    "But wait, does every M-number, with modulus set to 10, have an inverse?  We can check that easily.  First, lets make a list of all 10 M-numbers, (0) through (9):"
   ]
  },
  {
   "cell_type": "code",
   "execution_count": 5,
   "metadata": {
    "collapsed": false
   },
   "outputs": [
    {
     "data": {
      "text/plain": [
       "[(0), (1), (2), (3), (4), (5), (6), (7), (8), (9)]"
      ]
     },
     "execution_count": 5,
     "metadata": {},
     "output_type": "execute_result"
    }
   ],
   "source": [
    "elems = [M(n) for n in range(10)]\n",
    "elems"
   ]
  },
  {
   "cell_type": "markdown",
   "metadata": {},
   "source": [
    "Now we can do like a \"times table\" wherein we pick a single M-number, say M(5), and multiply it by every number in elems..."
   ]
  },
  {
   "cell_type": "code",
   "execution_count": 6,
   "metadata": {
    "collapsed": false
   },
   "outputs": [
    {
     "data": {
      "text/plain": [
       "[(0), (5), (0), (5), (0), (5), (0), (5), (0), (5)]"
      ]
     },
     "execution_count": 6,
     "metadata": {},
     "output_type": "execute_result"
    }
   ],
   "source": [
    "[M(5) * x for x in elems] "
   ]
  },
  {
   "cell_type": "markdown",
   "metadata": {},
   "source": [
    "Interesting.  In ordinary arithematic, the times table for 5 goes 0, 5, 10, 15, 20, 25, 30... and so on.  Factoring out the 10s, leaving only remainders, we get (0) or (5) as our two M-numbers.  We have no way to reach (1) and so (5) has no inverse.  We don't have a group yet.\n",
    "\n",
    "Lets try M(2):"
   ]
  },
  {
   "cell_type": "code",
   "execution_count": 7,
   "metadata": {
    "collapsed": false
   },
   "outputs": [
    {
     "data": {
      "text/plain": [
       "[(0), (2), (4), (6), (8), (0), (2), (4), (6), (8)]"
      ]
     },
     "execution_count": 7,
     "metadata": {},
     "output_type": "execute_result"
    }
   ],
   "source": [
    "[M(2) * x for x in elems]"
   ]
  },
  {
   "cell_type": "markdown",
   "metadata": {},
   "source": [
    "Same thing.  We cycle around and around, always stopping at the same stations, like a model train going in a circle.  We never stop at (1).  So M(2) has no inverse either.  What about M(3)?"
   ]
  },
  {
   "cell_type": "code",
   "execution_count": 8,
   "metadata": {
    "collapsed": false
   },
   "outputs": [
    {
     "data": {
      "text/plain": [
       "[(0), (3), (6), (9), (2), (5), (8), (1), (4), (7)]"
      ]
     },
     "execution_count": 8,
     "metadata": {},
     "output_type": "execute_result"
    }
   ],
   "source": [
    "[M(3) * x for x in elems]"
   ]
  },
  {
   "cell_type": "markdown",
   "metadata": {},
   "source": [
    "Aha!  Now we're getting somewhere.  M(3) * M(7) returns M(1), so these two are inverses of one another.  One fact to notice immediately is neither has any factors in common with 10. In fact, both are prime numbers in the ordinary integer sense.  M(9) is not prime, but again, 9 has no factors in common with 10.  So does M(9) have an inverse?  Lets check:"
   ]
  },
  {
   "cell_type": "code",
   "execution_count": 9,
   "metadata": {
    "collapsed": false
   },
   "outputs": [
    {
     "data": {
      "text/plain": [
       "[(0), (9), (8), (7), (6), (5), (4), (3), (2), (1)]"
      ]
     },
     "execution_count": 9,
     "metadata": {},
     "output_type": "execute_result"
    }
   ],
   "source": [
    "[M(9) * x for x in elems]"
   ]
  },
  {
   "cell_type": "markdown",
   "metadata": {},
   "source": [
    "Indeed it does.  M(9) * M(9) = M(1), meaning M(9) is its own inverse.\n",
    "\n",
    "When positive integers have no factors in common, aside from 1, we say they're \"relatively prime\" or that they're \"strangers\".  3 and 10 are strangers, as are 9 and 10.  Sometimes we write 7 | 10 = 1, meaning their greatest factor in common is 1.  On the other hand, 6 | 10 = 2, as 2 divides into both without remainder.\n",
    "\n",
    "\n",
    "### Finding Totatives\n",
    "\n",
    "It'd sure be handy at this point, to have a function, gcd, that returns the greatest common divisor of two numbers.  Then we could find all the strangers to 10, that are positive integers less than 10, pretty easily.  We call these strangers the \"totatives\" of 10, and the number of totatives, is called the \"totient\" of 10."
   ]
  },
  {
   "cell_type": "code",
   "execution_count": 10,
   "metadata": {
    "collapsed": false
   },
   "outputs": [
    {
     "data": {
      "text/plain": [
       "[1, 3, 7, 9]"
      ]
     },
     "execution_count": 10,
     "metadata": {},
     "output_type": "execute_result"
    }
   ],
   "source": [
    "import math\n",
    "modulus = 10\n",
    "[x for x in range(modulus) if math.gcd(x, modulus) == 1]"
   ]
  },
  {
   "cell_type": "code",
   "execution_count": 11,
   "metadata": {
    "collapsed": false
   },
   "outputs": [
    {
     "data": {
      "text/plain": [
       "[1, 5, 7, 11]"
      ]
     },
     "execution_count": 11,
     "metadata": {},
     "output_type": "execute_result"
    }
   ],
   "source": [
    "modulus = 12\n",
    "[x for x in range(modulus) if math.gcd(x, modulus) == 1]"
   ]
  },
  {
   "cell_type": "markdown",
   "metadata": {},
   "source": [
    "That was pretty easy.  Using Python's \"list comprehension\" syntax, which allows an if clause for filtering, we were able to get the totatives of 10 and 12 respectively.  Both 10 and 12 have a totient of four, meaning each has four totatives.\n",
    "\n",
    "What's true is that the M-numbers that are totatives of some modulus (say 10), collectively form a group under multiplication.  If we confine ourselves to strangers to the modulus, we'll have an inverse for every element, closure, associativity, and M(1) will be included.  That's a quick way to get a group.\n",
    "\n",
    "Lets build a function for computing totatives and use that to build some groups."
   ]
  },
  {
   "cell_type": "code",
   "execution_count": 12,
   "metadata": {
    "collapsed": true
   },
   "outputs": [],
   "source": [
    "def totatives(n):\n",
    "    return {x for x in range(n) if math.gcd(x, n) == 1}"
   ]
  },
  {
   "cell_type": "code",
   "execution_count": 13,
   "metadata": {
    "collapsed": false
   },
   "outputs": [
    {
     "data": {
      "text/plain": [
       "{(11), (1), (7), (5)}"
      ]
     },
     "execution_count": 13,
     "metadata": {},
     "output_type": "execute_result"
    }
   ],
   "source": [
    "M.modulus = 12\n",
    "elems = {M(x) for x in totatives(12)}\n",
    "elems"
   ]
  },
  {
   "cell_type": "code",
   "execution_count": 14,
   "metadata": {
    "collapsed": false
   },
   "outputs": [
    {
     "data": {
      "text/plain": [
       "{(37),\n",
       " (39),\n",
       " (41),\n",
       " (43),\n",
       " (47),\n",
       " (49),\n",
       " (51),\n",
       " (53),\n",
       " (9),\n",
       " (57),\n",
       " (59),\n",
       " (61),\n",
       " (63),\n",
       " (67),\n",
       " (69),\n",
       " (71),\n",
       " (73),\n",
       " (77),\n",
       " (79),\n",
       " (1),\n",
       " (81),\n",
       " (83),\n",
       " (87),\n",
       " (27),\n",
       " (89),\n",
       " (29),\n",
       " (91),\n",
       " (3),\n",
       " (93),\n",
       " (13),\n",
       " (97),\n",
       " (23),\n",
       " (99),\n",
       " (19),\n",
       " (11),\n",
       " (7),\n",
       " (21),\n",
       " (31),\n",
       " (17),\n",
       " (33)}"
      ]
     },
     "execution_count": 14,
     "metadata": {},
     "output_type": "execute_result"
    }
   ],
   "source": [
    "M.modulus = 100\n",
    "elems = {M(x) for x in totatives(100)}\n",
    "elems"
   ]
  },
  {
   "cell_type": "markdown",
   "metadata": {},
   "source": [
    "If we confine ourselves to a set of strangers, we're safe in assuming there's always an inverse for any given element.  That suggests a \"brute force\" way of finding any element's inverse:  just multiply it by every element in the same set of strangers, until their product is 1 (the identity element).  The function below accomplishes this:"
   ]
  },
  {
   "cell_type": "code",
   "execution_count": 15,
   "metadata": {
    "collapsed": false
   },
   "outputs": [],
   "source": [
    "def inverse(n : M, elems : set) -> M:\n",
    "    for m in elems:\n",
    "        if (n * m).val == 1:\n",
    "            return m"
   ]
  },
  {
   "cell_type": "code",
   "execution_count": 16,
   "metadata": {
    "collapsed": false
   },
   "outputs": [
    {
     "data": {
      "text/plain": [
       "(19)"
      ]
     },
     "execution_count": 16,
     "metadata": {},
     "output_type": "execute_result"
    }
   ],
   "source": [
    "inverse(M(79), elems)"
   ]
  },
  {
   "cell_type": "code",
   "execution_count": 17,
   "metadata": {
    "collapsed": false
   },
   "outputs": [
    {
     "data": {
      "text/plain": [
       "(1)"
      ]
     },
     "execution_count": 17,
     "metadata": {},
     "output_type": "execute_result"
    }
   ],
   "source": [
    "M(19) * M(79)"
   ]
  },
  {
   "cell_type": "markdown",
   "metadata": {},
   "source": [
    "### Adding a Power Method\n",
    "\n",
    "We now have the technology (tool set) we need to add the \\_\\_pow\\_\\_ method to our M class. A negative powering triggers finding an inverse of self, then positively powering.  We're saying M(n) \\*\\* -x equals (M(n)\\*\\*-1)\\*\\*x.\n",
    "\n",
    "This is how we treat exponents normally, e.g. 2 \\*\\* -2 equals (2 \\*\\* -1)\\*\\*2 or 1/4.\n",
    "\n",
    "For example, pow(M(79), -2) means find the inverse of M(79) e.g. M(79)\\*\\*-1, and then raise the result to the 2nd power."
   ]
  },
  {
   "cell_type": "code",
   "execution_count": 18,
   "metadata": {
    "collapsed": true
   },
   "outputs": [],
   "source": [
    "class M:  # for \"modulo\"\n",
    "    \n",
    "    modulus = 10  # class level\n",
    "    \n",
    "    def __init__(self, val):\n",
    "        self.val = val % M.modulus\n",
    "        \n",
    "    def __add__(self, other):\n",
    "        return M((self.val + other.val) % M.modulus)\n",
    "    \n",
    "    def __mul__(self, other):\n",
    "        return M((self.val * other.val) % M.modulus)\n",
    "    \n",
    "    def __pow__(self, exp):  # pow() and ** both trigger this method\n",
    "        output = self\n",
    "        if exp < 0:\n",
    "            exp = abs(exp)\n",
    "            output = inverse(self, {M(x) for x in totatives(M.modulus)})\n",
    "        elif exp == 0:\n",
    "            output = M(1)\n",
    "        elif exp == 1:\n",
    "            output = self    \n",
    "        if exp > 1:\n",
    "            for _ in range(1, exp):\n",
    "                output *= self\n",
    "        \n",
    "        return output\n",
    "    \n",
    "    def __repr__(self):\n",
    "        return \"(\" + str(self.val) + \")\""
   ]
  },
  {
   "cell_type": "code",
   "execution_count": 19,
   "metadata": {
    "collapsed": false
   },
   "outputs": [
    {
     "data": {
      "text/plain": [
       "(19)"
      ]
     },
     "execution_count": 19,
     "metadata": {},
     "output_type": "execute_result"
    }
   ],
   "source": [
    "M.modulus = 100\n",
    "a = M(79)\n",
    "a_inv = pow(a, -1)\n",
    "a_inv"
   ]
  },
  {
   "cell_type": "code",
   "execution_count": 20,
   "metadata": {
    "collapsed": false
   },
   "outputs": [
    {
     "data": {
      "text/plain": [
       "(97)"
      ]
     },
     "execution_count": 20,
     "metadata": {},
     "output_type": "execute_result"
    }
   ],
   "source": [
    "M(13) * M(13) * M(13)"
   ]
  },
  {
   "cell_type": "code",
   "execution_count": 21,
   "metadata": {
    "collapsed": false
   },
   "outputs": [
    {
     "data": {
      "text/plain": [
       "(97)"
      ]
     },
     "execution_count": 21,
     "metadata": {},
     "output_type": "execute_result"
    }
   ],
   "source": [
    "M(13)**3       # confirm this is another way of saying it (we're testing)"
   ]
  },
  {
   "cell_type": "code",
   "execution_count": 22,
   "metadata": {
    "collapsed": false
   },
   "outputs": [
    {
     "data": {
      "text/plain": [
       "(77)"
      ]
     },
     "execution_count": 22,
     "metadata": {},
     "output_type": "execute_result"
    }
   ],
   "source": [
    "M(13)**-1      # give me the inverse of M(13) please"
   ]
  },
  {
   "cell_type": "code",
   "execution_count": 23,
   "metadata": {
    "collapsed": false
   },
   "outputs": [
    {
     "data": {
      "text/plain": [
       "(1)"
      ]
     },
     "execution_count": 23,
     "metadata": {},
     "output_type": "execute_result"
    }
   ],
   "source": [
    "M(13) * M(77)  # these must be inverses then"
   ]
  },
  {
   "cell_type": "markdown",
   "metadata": {},
   "source": [
    "So now it looks like we have another fun tool for exploring Group Theory, while learning Python at the same time!\n",
    "\n",
    "Back to Chapter 3: [A First Class](A%20First%20Class.ipynb)"
   ]
  }
 ],
 "metadata": {
  "kernelspec": {
   "display_name": "Python 3",
   "language": "python",
   "name": "python3"
  },
  "language_info": {
   "codemirror_mode": {
    "name": "ipython",
    "version": 3
   },
   "file_extension": ".py",
   "mimetype": "text/x-python",
   "name": "python",
   "nbconvert_exporter": "python",
   "pygments_lexer": "ipython3",
   "version": "3.6.0"
  }
 },
 "nbformat": 4,
 "nbformat_minor": 2
}
