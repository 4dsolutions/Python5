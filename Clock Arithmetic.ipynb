{
 "cells": [
  {
   "cell_type": "markdown",
   "metadata": {},
   "source": [
    "[Oregon Curriculum Network](http://www.4dsolutions.net/ocn) <br />\n",
    "[Discovering Math with Python](Introduction.ipynb)\n",
    "\n",
    "\n",
    "# Chapter 4: CLOCK ARITHMETIC\n",
    "\n",
    "Calling modulo arithmetic \"clock arithmetic\" is a way of calling attention to the finite cyclic nature of always taking remainders, factoring away the \"modulus\".  What does that mean?\n",
    "\n",
    "In Python, one of our primitive operators is %, for \"modulo\", which relates to the built-in function divmod(&nbsp;).  Lets see how % and divmod do their jobs:"
   ]
  },
  {
   "cell_type": "code",
   "execution_count": null,
   "metadata": {
    "collapsed": false
   },
   "outputs": [],
   "source": [
    "(5 + 5) % 10 # no remainder"
   ]
  },
  {
   "cell_type": "code",
   "execution_count": null,
   "metadata": {
    "collapsed": false
   },
   "outputs": [],
   "source": [
    "divmod(10, 5) # 5 goes into 10 twice, no remainder"
   ]
  },
  {
   "cell_type": "code",
   "execution_count": null,
   "metadata": {
    "collapsed": false
   },
   "outputs": [],
   "source": [
    "19 % 10 # divide by 10, give the remainder"
   ]
  },
  {
   "cell_type": "markdown",
   "metadata": {},
   "source": [
    "Try doing a number of these yourself.  Guess the answer before hitting the Shift-Enter key.\n",
    "\n",
    "The unit circle of 360 degrees, or 2 pi radians, is also treated in a clock-like fashion.  Going around thousands of degrees from some present position, never takes us beyond 360.  We're confined to a finite domain.  \n",
    "\n",
    "There's a kind of \"closure\" in this picture, which might be resonating with you by now, as one of those properties of a group.  Will we find groups in this Chapter?  You bet.\n",
    "\n",
    "We call this \"clock arithmetic\" because even if we say \"20 hours from now\", or \"30 hours ago\" we'll still be somewhere on the circle marked out into 12 intervals, each representing one hour.  The yearly calendar is likewise a kind of modulus.  No matter how many days we add, we're still somewhere between 0 and 365 days into some year.\n",
    "\n",
    "### A Class for M-numbers\n",
    "Lets build a class, the instances of which will multiply and add per some fixed modulus, meaning we're always factoring out the modulus and keeping the remainder.  "
   ]
  },
  {
   "cell_type": "code",
   "execution_count": null,
   "metadata": {
    "collapsed": false
   },
   "outputs": [],
   "source": [
    "class M:  # for \"modulo\"\n",
    "    \n",
    "    modulus = 10  # class level\n",
    "    \n",
    "    def __init__(self, val, modulus=None):\n",
    "        if modulus:\n",
    "            self.modulus = M.modulus = modulus # resettable\n",
    "        else:\n",
    "            self.modulus = M.modulus\n",
    "        self.val = val % M.modulus\n",
    "        \n",
    "    def __add__(self, other):\n",
    "        if self.modulus != other.modulus:\n",
    "            raise ValueError\n",
    "        return M((self.val + other.val) % self.modulus)\n",
    "    \n",
    "    def __mul__(self, other):\n",
    "        if self.modulus != other.modulus:\n",
    "            raise ValueError\n",
    "        return M((self.val * other.val) % self.modulus)\n",
    "    \n",
    "    def __pow__(self, exp):\n",
    "        raise NotImplemented\n",
    "    \n",
    "    def __repr__(self):\n",
    "        return \"(\" + str(self.val) + \" mod \" + str(self.modulus)+ \")\"\n",
    "    \n",
    "a = M(8)\n",
    "b = M(7)\n",
    "print(a, b)\n",
    "print(\"(8 mod 10) * (7 mod 10) = \", a * b)\n",
    "print(\"(8 mod 10) + (7 mod 10) = \", a + b)"
   ]
  },
  {
   "cell_type": "markdown",
   "metadata": {},
   "source": [
    "OK, everything seems to be working, even though we haven't implemented powering yet.  Eventually we'd like to go pow(M(3), -1) to get the inverse of M(3), such that M(3) times its inverse equals the multiplicative identity M(1).\n",
    "\n",
    "### Looking for Groups\n",
    "\n",
    "But wait, does every M-number, with modulus set to 10, have an inverse?  We can check that easily.  First, lets make a list of all 10 M-numbers, (0) through (9):"
   ]
  },
  {
   "cell_type": "code",
   "execution_count": null,
   "metadata": {
    "collapsed": false
   },
   "outputs": [],
   "source": [
    "elems = [M(n) for n in range(10)]\n",
    "elems"
   ]
  },
  {
   "cell_type": "markdown",
   "metadata": {},
   "source": [
    "Now we can do like a \"times table\" wherein we pick a single M-number, say M(5), and multiply it by every number in elems..."
   ]
  },
  {
   "cell_type": "code",
   "execution_count": null,
   "metadata": {
    "collapsed": false
   },
   "outputs": [],
   "source": [
    "[M(5) * x for x in elems] "
   ]
  },
  {
   "cell_type": "markdown",
   "metadata": {},
   "source": [
    "Interesting.  In ordinary arithematic, the times table for 5 goes 0, 5, 10, 15, 20, 25, 30... and so on.  Factoring out the 10s, leaving only remainders, we get (0) or (5) as our two M-numbers.  We have no way to reach (1) and so (5) has no inverse.  We don't have a group yet.\n",
    "\n",
    "Lets try M(2):"
   ]
  },
  {
   "cell_type": "code",
   "execution_count": null,
   "metadata": {
    "collapsed": false
   },
   "outputs": [],
   "source": [
    "[M(2) * x for x in elems]"
   ]
  },
  {
   "cell_type": "markdown",
   "metadata": {},
   "source": [
    "Same thing.  We cycle around and around, always stopping at the same stations, like a model train going in a circle.  We never stop at (1).  So M(2) has no inverse either.  What about M(3)?"
   ]
  },
  {
   "cell_type": "code",
   "execution_count": null,
   "metadata": {
    "collapsed": false
   },
   "outputs": [],
   "source": [
    "[M(3) * x for x in elems]"
   ]
  },
  {
   "cell_type": "markdown",
   "metadata": {},
   "source": [
    "Aha!  Now we're getting somewhere.  M(3) * M(7) returns M(1), so these two are inverses of one another.  One fact to notice immediately is neither has any factors in common with 10. In fact, both are prime numbers in the ordinary integer sense.  M(9) is not prime, but again, 9 has no factors in common with 10.  So does M(9) have an inverse?  Lets check:"
   ]
  },
  {
   "cell_type": "code",
   "execution_count": null,
   "metadata": {
    "collapsed": false
   },
   "outputs": [],
   "source": [
    "[M(9) * x for x in elems]"
   ]
  },
  {
   "cell_type": "markdown",
   "metadata": {},
   "source": [
    "Indeed it does.  M(9) * M(9) = M(1), meaning M(9) is its own inverse.\n",
    "\n",
    "When positive integers have no factors in common, aside from 1, we say they're \"relatively prime\" or that they're \"strangers\".  3 and 10 are strangers, as are 9 and 10.  Sometimes we write 7 | 10 = 1, meaning their greatest factor in common is 1.  On the other hand, 6 | 10 = 2, as 2 divides into both without remainder.\n",
    "\n",
    "\n",
    "### Finding Totatives\n",
    "\n",
    "It'd sure be handy at this point, to have a function, gcd, that returns the greatest common divisor of two numbers.  Then we could find all the strangers to 10, that are positive integers less than 10, pretty easily.  We call these strangers the \"totatives\" of 10, and the number of totatives, is called the \"totient\" of 10.\n",
    "\n",
    "Note that we're using list comprehension syntax in this example.  The for loop inside the square brackets makes x be every integer from 0 to modulus - 1, but then most of these get filtered out, because of factors in common with the modulus."
   ]
  },
  {
   "cell_type": "code",
   "execution_count": null,
   "metadata": {
    "collapsed": false
   },
   "outputs": [],
   "source": [
    "import math\n",
    "modulus = 10\n",
    "[x for x in range(modulus) if math.gcd(x, modulus) == 1]"
   ]
  },
  {
   "cell_type": "code",
   "execution_count": null,
   "metadata": {
    "collapsed": false
   },
   "outputs": [],
   "source": [
    "modulus = 12\n",
    "[x for x in range(modulus) if math.gcd(x, modulus) == 1]"
   ]
  },
  {
   "cell_type": "markdown",
   "metadata": {},
   "source": [
    "That was pretty easy.  Using Python's \"list comprehension\" syntax, which allows an if clause for filtering, we were able to get the totatives of 10 and 12 respectively.  Both 10 and 12 have a totient of four, meaning each has four totatives.\n",
    "\n",
    "What's true is that the M-numbers that are totatives of some modulus (say 10), collectively form a group under multiplication.  If we confine ourselves to strangers to the modulus, we'll have an inverse for every element, closure, associativity, and M(1) will be included.  That's a quick way to get a group.\n",
    "\n",
    "Lets build a function for computing totatives and use that to build some groups.  A \"set comprehension\" is just like a list comprehension in terms of syntax, but the curly braces make it for a set, instead of a list.  Sets are unordered and their elements are always unique (no duplicates).  Since we know totatives are unique, we might as well practice using a set object."
   ]
  },
  {
   "cell_type": "code",
   "execution_count": null,
   "metadata": {
    "collapsed": true
   },
   "outputs": [],
   "source": [
    "def totatives(n):\n",
    "    return {x for x in range(n) if math.gcd(x, n) == 1}"
   ]
  },
  {
   "cell_type": "code",
   "execution_count": null,
   "metadata": {
    "collapsed": false
   },
   "outputs": [],
   "source": [
    "elems = {M(x, 12) for x in totatives(12)}\n",
    "elems"
   ]
  },
  {
   "cell_type": "code",
   "execution_count": null,
   "metadata": {
    "collapsed": false
   },
   "outputs": [],
   "source": [
    "M.modulus = 100\n",
    "elems = {M(x, 100) for x in totatives(100)}  # set comprehension\n",
    "elems  # print M-number totatives in no special order -- it's a set"
   ]
  },
  {
   "cell_type": "markdown",
   "metadata": {},
   "source": [
    "If we confine ourselves to a set of strangers, we're safe in assuming there's always an inverse for any given element.  That suggests a \"brute force\" way of finding any element's inverse:  just multiply it by every element in the same set of strangers, until their product is 1 (the identity element).  The function below accomplishes this:"
   ]
  },
  {
   "cell_type": "code",
   "execution_count": null,
   "metadata": {
    "collapsed": false
   },
   "outputs": [],
   "source": [
    "def inverse(n : M, elems : set) -> M:\n",
    "    for m in elems:\n",
    "        if (n * m).val == 1:\n",
    "            return m"
   ]
  },
  {
   "cell_type": "code",
   "execution_count": null,
   "metadata": {
    "collapsed": false
   },
   "outputs": [],
   "source": [
    "inverse(M(79), elems)"
   ]
  },
  {
   "cell_type": "code",
   "execution_count": null,
   "metadata": {
    "collapsed": false
   },
   "outputs": [],
   "source": [
    "M(19) * M(79)"
   ]
  },
  {
   "cell_type": "markdown",
   "metadata": {},
   "source": [
    "### Finding Totients\n",
    "\n",
    "We'll need this concept in the next chapter on Public Key Cryptography.  The totient of N is simply the number of totatives it has.  We can use the len(&nbsp;) to simply count them.  That won't always be practical, when N gets huge, but for now this approach makes the concept easy to grasp:"
   ]
  },
  {
   "cell_type": "code",
   "execution_count": null,
   "metadata": {
    "collapsed": false
   },
   "outputs": [],
   "source": [
    "def totient(n):\n",
    "    \"\"\"how many totatives have we?\"\"\"\n",
    "    return len(totatives(n))\n",
    "\n",
    "totient(1_000_000) # using _ helps us parse the number, one million"
   ]
  },
  {
   "cell_type": "markdown",
   "metadata": {},
   "source": [
    "The number one million has a totient of 400,000, meaning that many numbers from one to one million are co-prime to it."
   ]
  },
  {
   "cell_type": "markdown",
   "metadata": {},
   "source": [
    "### Adding a Power Method\n",
    "\n",
    "We now have the technology (tool set) we need to add the \\_\\_pow\\_\\_ method to our M class. A negative power triggers finding an inverse of a, the -1 part, then we switch back to positively powering.  We're saying $M(n)^{-e}$ equals $(M(n)^{-1})^{e}$.\n",
    "\n",
    "This is how we treat exponents normally, e.g. 2 \\*\\* -2 equals (2 \\*\\* -1)\\*\\*2 or 1/4."
   ]
  },
  {
   "cell_type": "code",
   "execution_count": null,
   "metadata": {
    "collapsed": false
   },
   "outputs": [],
   "source": [
    "2 ** -2 == (2 ** -1) ** 2"
   ]
  },
  {
   "cell_type": "markdown",
   "metadata": {},
   "source": [
    "For example, pow(M(79), -2) means find the inverse of M(79) e.g. M(79)\\*\\*-1, and then raise the result to the 2nd power."
   ]
  },
  {
   "cell_type": "code",
   "execution_count": null,
   "metadata": {
    "collapsed": false
   },
   "outputs": [],
   "source": [
    "class M:  # for \"modulo\"\n",
    "    \n",
    "    \"\"\"\n",
    "    Version 2, with inverting and powering added\n",
    "    Version 3, not listed, is in groups.py and uses xgcd (next Chapter)\n",
    "    \"\"\"\n",
    "    \n",
    "    modulus = 10  # class level\n",
    "    \n",
    "    def __init__(self, val, modulus=None):\n",
    "        if modulus:\n",
    "            self.modulus = M.modulus = modulus # resettable\n",
    "        else:\n",
    "            self.modulus = M.modulus\n",
    "        self.val = val % M.modulus\n",
    "        \n",
    "    def __add__(self, other):\n",
    "        if self.modulus != other.modulus:\n",
    "            raise ValueError\n",
    "        return M(self.val + other.val, self.modulus)\n",
    "    \n",
    "    def __mul__(self, other):\n",
    "        if self.modulus != other.modulus:\n",
    "            raise ValueError\n",
    "        return M(self.val * other.val, self.modulus)\n",
    "\n",
    "    def __invert__(self):\n",
    "        elems = {M(x) for x in totatives(self.modulus)}\n",
    "        for m in elems:\n",
    "            if (self * m).val == 1:\n",
    "                return m\n",
    "    \n",
    "    def __pow__(self, exp):  # pow() and ** both trigger this method\n",
    "        output = self\n",
    "        if exp < 0:\n",
    "            exp = abs(exp)  # make exp positive now\n",
    "            output = ~self  # -1 means take the inverse\n",
    "        elif exp == 0:\n",
    "            output = M(1)   # return identity if exp is 0\n",
    "        elif exp == 1:\n",
    "            output = self   # return M if exp is 1\n",
    "        if exp > 1:\n",
    "            for _ in range(1, exp):  # use __mul__ (already defined)\n",
    "                output *= self\n",
    "        \n",
    "        return output\n",
    "    \n",
    "    def __repr__(self):\n",
    "        return \"(\" + str(self.val) + \" mod \" + str(M.modulus)+ \")\""
   ]
  },
  {
   "cell_type": "code",
   "execution_count": null,
   "metadata": {
    "collapsed": false
   },
   "outputs": [],
   "source": [
    "M.modulus = 100\n",
    "a = M(79)\n",
    "a_inv = pow(a, -1)\n",
    "a_inv"
   ]
  },
  {
   "cell_type": "code",
   "execution_count": null,
   "metadata": {
    "collapsed": false
   },
   "outputs": [],
   "source": [
    "M(13) * M(13) * M(13)"
   ]
  },
  {
   "cell_type": "code",
   "execution_count": null,
   "metadata": {
    "collapsed": false
   },
   "outputs": [],
   "source": [
    "M(13)**3       # confirm this is another way of saying it (we're testing)"
   ]
  },
  {
   "cell_type": "code",
   "execution_count": null,
   "metadata": {
    "collapsed": false
   },
   "outputs": [],
   "source": [
    "M(13)**-1      # give me the inverse of M(13) please"
   ]
  },
  {
   "cell_type": "code",
   "execution_count": null,
   "metadata": {
    "collapsed": false
   },
   "outputs": [],
   "source": [
    "M(13) * M(77)  # these must be inverses then"
   ]
  },
  {
   "cell_type": "markdown",
   "metadata": {},
   "source": [
    "Now that we have our inverse function, we can ask questions such as:\n",
    "\n",
    "* What is the inverse of M(5, 7)?\n",
    "* What is the inverse of M(7, 5)?\n",
    "* What is the inverse of M(97, 100)?"
   ]
  },
  {
   "cell_type": "code",
   "execution_count": null,
   "metadata": {
    "collapsed": false
   },
   "outputs": [],
   "source": [
    "print(\"What is the inverse of M(5, 7)?\", ~M(5,7))\n",
    "print(\"What is the inverse of M(7, 5)?\", ~M(7,5))  # M(7,5) is same as M(2,5)\n",
    "print(\"What is the inverse of M(97, 100)?\", ~M(97, 100))"
   ]
  },
  {
   "cell_type": "markdown",
   "metadata": {},
   "source": [
    "## Primality Tests\n",
    "Now that we have a powering method in place, lets take a look a Fermat's Little Theorem.  The logic here is useful, in the sense that we sometimes get tripped up by IF / THEN statements.\n",
    "\n",
    "IF a number p is prime, THEN M(A, p) \\*\\* p == A, where 0 < A < p. If some number n passes this test for a given A, where gcd(A, n) == 1, then that's evidence n might be prime, but not proof.  If n in fact turns out to be composite, then a is called a Fermat Liar or Fermat Fooler.\n",
    "\n",
    "Lets take a look.  Is 511 prime?  Lets find an A with no factors in common with 511."
   ]
  },
  {
   "cell_type": "code",
   "execution_count": null,
   "metadata": {
    "collapsed": false
   },
   "outputs": [],
   "source": [
    "from math import gcd\n",
    "gcd(511, 25)"
   ]
  },
  {
   "cell_type": "code",
   "execution_count": null,
   "metadata": {
    "collapsed": false
   },
   "outputs": [],
   "source": [
    "n = M(25, 511) # n will power modulo 511\n",
    "n ** 511"
   ]
  },
  {
   "cell_type": "markdown",
   "metadata": {},
   "source": [
    "Here we say 25 is a \"witness\" to the fact that 511 is not prime.  If it were, it would pass this Fermat test.  How about 513?"
   ]
  },
  {
   "cell_type": "code",
   "execution_count": null,
   "metadata": {
    "collapsed": false
   },
   "outputs": [],
   "source": [
    "n = M(25, 513)\n",
    "n ** 513"
   ]
  },
  {
   "cell_type": "markdown",
   "metadata": {},
   "source": [
    "Nope, that's not passing either.  Remember we expect A back out again, of 25 in this case.  25 is a witness that 513 is not prime.  How about 523 then?"
   ]
  },
  {
   "cell_type": "code",
   "execution_count": null,
   "metadata": {
    "collapsed": false
   },
   "outputs": [],
   "source": [
    "n = M(19, 523)\n",
    "n ** 523"
   ]
  },
  {
   "cell_type": "code",
   "execution_count": null,
   "metadata": {
    "collapsed": false
   },
   "outputs": [],
   "source": [
    "n = M(25, 523)\n",
    "n ** 523"
   ]
  },
  {
   "cell_type": "code",
   "execution_count": null,
   "metadata": {
    "collapsed": false
   },
   "outputs": [],
   "source": [
    "n = M(31, 523)\n",
    "n ** 523"
   ]
  },
  {
   "cell_type": "markdown",
   "metadata": {},
   "source": [
    "OK, at last it appears we've struck gold.  All of our As are testifying that 523 is a prime.  Could all of these be liars?\n",
    "\n",
    "Lets introduce the set of [Carmichael Numbers](https://oeis.org/A002997), precisely those composites which sneak through the Fermat Test for any suitable base 1 < A < n.\n",
    "\n",
    "561 is the lowest Carmichael number."
   ]
  },
  {
   "cell_type": "code",
   "execution_count": null,
   "metadata": {
    "collapsed": false
   },
   "outputs": [],
   "source": [
    "liars = [M(n, 561) for n in (19, 25, 31) if gcd(n, 561) == 1]\n",
    "liars"
   ]
  },
  {
   "cell_type": "code",
   "execution_count": null,
   "metadata": {
    "collapsed": false
   },
   "outputs": [],
   "source": [
    "[n**561 for n in liars]  # all pass the Fermat primality test"
   ]
  },
  {
   "cell_type": "markdown",
   "metadata": {},
   "source": [
    "And yet 561 is a composite number, with prime factors (3, 11, 17).\n",
    "\n",
    "Another test for primality, called the [AKS Test](https://youtu.be/HvMSRWTE2mI), is more fool-proof.  We'll need the coefficients of the polynomial (x - 1) \\*\\* p, where p is our candidate prime.  Those coefficients may be read of Pascal's Triangle.  If all coefficients but the first and last (which are 1) are divisible by p, then p is prime.\n",
    "\n",
    "Lets try that out, first by writing a Python generator for successive rows of Pascal's Triangle:"
   ]
  },
  {
   "cell_type": "code",
   "execution_count": null,
   "metadata": {
    "collapsed": false
   },
   "outputs": [],
   "source": [
    "def pascal():\n",
    "    row = [1]\n",
    "    while True:\n",
    "        yield row\n",
    "        row = [(i+j) for i,j in zip(row + [0], [0] + row)]\n",
    "\n",
    "gen = pascal()\n",
    "for i in range(10):\n",
    "    print(next(gen))"
   ]
  },
  {
   "cell_type": "markdown",
   "metadata": {},
   "source": [
    "That seems to be working.  So Pascal's Triangle could be at the heart of a new iterator for producing successive prime numbers."
   ]
  },
  {
   "cell_type": "code",
   "execution_count": null,
   "metadata": {
    "collapsed": false
   },
   "outputs": [],
   "source": [
    "def primes():\n",
    "    yield 2\n",
    "    p = 1\n",
    "    gen = pascal()\n",
    "    next(gen) # [1]\n",
    "    next(gen) # [1, 1]\n",
    "    while True:\n",
    "        p += 2 # 3, 5... check odd rows only, once 2 yielded\n",
    "        next(gen)     # skip even row\n",
    "        r = set(next(gen)[1:-1]) # drop 1s on both ends and dedupe\n",
    "        if sum([coeff%p for coeff in r]) == 0:\n",
    "            yield p\n",
    "\n",
    "ps = primes()\n",
    "print(str([next(ps) for _ in range(100)]))"
   ]
  },
  {
   "cell_type": "markdown",
   "metadata": {},
   "source": [
    "Homework:\n",
    "\n",
    "Watch [this Youtube](https://youtu.be/ru7mWZJlRQg) on the Chinese Remainder Theorem (CRT).  Be prepared to explain its utility.  What Youtube do you find most elucidating, regarding the CRT?"
   ]
  },
  {
   "cell_type": "markdown",
   "metadata": {},
   "source": [
    "So now it looks like we have another fun tool for exploring Group Theory, while learning Python at the same time!\n",
    "\n",
    "Now lets take what we've learned in this chapter and apply it to an important topic:  Public Key Cryptography.\n",
    "\n",
    "Back to Chapter 3: [A First Class](A%20First%20Class.ipynb) <br />\n",
    "Chapter 5: [Public Key Cryptography](Public Key Cryptography.ipynb) <br />\n",
    "[Introduction](Introduction.ipynb)"
   ]
  }
 ],
 "metadata": {
  "kernelspec": {
   "display_name": "Python 3",
   "language": "python",
   "name": "python3"
  },
  "language_info": {
   "codemirror_mode": {
    "name": "ipython",
    "version": 3
   },
   "file_extension": ".py",
   "mimetype": "text/x-python",
   "name": "python",
   "nbconvert_exporter": "python",
   "pygments_lexer": "ipython3",
   "version": "3.6.0"
  }
 },
 "nbformat": 4,
 "nbformat_minor": 2
}
