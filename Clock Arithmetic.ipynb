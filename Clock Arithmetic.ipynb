{
 "cells": [
  {
   "cell_type": "markdown",
   "metadata": {},
   "source": [
    "[Oregon Curriculum Network](http://www.4dsolutions.net/ocn) <br />\n",
    "[Discovering Math with Python](Introduction.ipynb)\n",
    "\n",
    "\n",
    "# Chapter 4: CLOCK ARITHMETIC\n",
    "\n",
    "Calling modulo arithmetic \"clock arithmetic\" is a way of calling attention to the finite cyclic nature of always taking remainders, factoring away the \"modulus\".  What does that mean?\n",
    "\n",
    "In Python, one of our primitive operators is %, for \"modulo\", which relates to the built-in function divmod(&nbsp;).  Lets see how % and divmod do their jobs:"
   ]
  },
  {
   "cell_type": "code",
   "execution_count": 1,
   "metadata": {
    "collapsed": false
   },
   "outputs": [
    {
     "data": {
      "text/plain": [
       "0"
      ]
     },
     "execution_count": 1,
     "metadata": {},
     "output_type": "execute_result"
    }
   ],
   "source": [
    "(5 + 5) % 10 # no remainder"
   ]
  },
  {
   "cell_type": "code",
   "execution_count": 2,
   "metadata": {
    "collapsed": false
   },
   "outputs": [
    {
     "data": {
      "text/plain": [
       "(2, 0)"
      ]
     },
     "execution_count": 2,
     "metadata": {},
     "output_type": "execute_result"
    }
   ],
   "source": [
    "divmod(10, 5) # 5 goes into 10 twice, no remainder"
   ]
  },
  {
   "cell_type": "code",
   "execution_count": 3,
   "metadata": {
    "collapsed": false
   },
   "outputs": [
    {
     "data": {
      "text/plain": [
       "9"
      ]
     },
     "execution_count": 3,
     "metadata": {},
     "output_type": "execute_result"
    }
   ],
   "source": [
    "19 % 10 # divide by 10, give the remainder"
   ]
  },
  {
   "cell_type": "markdown",
   "metadata": {},
   "source": [
    "Try doing a number of these yourself.  Guess the answer before hitting the Shift-Enter key.\n",
    "\n",
    "The unit circle of 360 degrees, or 2 pi radians, is also treated in a clock-like fashion.  Going around thousands of degrees from some present position, never takes us beyond 360.  We're confined to a finite domain.  \n",
    "\n",
    "There's a kind of \"closure\" in this picture, which might be resonating with you by now, as one of those properties of a group.  Will we find groups in this Chapter?  You bet.\n",
    "\n",
    "We call this \"clock arithmetic\" because even if we say \"20 hours from now\", or \"30 hours ago\" we'll still be somewhere on the circle marked out into 12 intervals, each representing one hour.  The yearly calendar is likewise a kind of modulus.  No matter how many days we add, we're still somewhere between 0 and 365 days into some year.\n",
    "\n",
    "### A Class for M-numbers\n",
    "Lets build a class, the instances of which will multiply and add per some fixed modulus, meaning we're always factoring out the modulus and keeping the remainder.  "
   ]
  },
  {
   "cell_type": "code",
   "execution_count": 4,
   "metadata": {
    "collapsed": false
   },
   "outputs": [
    {
     "name": "stdout",
     "output_type": "stream",
     "text": [
      "(8 mod 10) (7 mod 10)\n",
      "(8 mod 10) * (7 mod 10) =  (6 mod 10)\n",
      "(8 mod 10) + (7 mod 10) =  (5 mod 10)\n"
     ]
    }
   ],
   "source": [
    "class M:  # for \"modulo\"\n",
    "    \n",
    "    modulus = 10  # class level\n",
    "    \n",
    "    def __init__(self, val, modulus=None):\n",
    "        if modulus:\n",
    "            self.modulus = M.modulus = modulus # resettable\n",
    "        else:\n",
    "            self.modulus = M.modulus\n",
    "        self.val = val % M.modulus\n",
    "        \n",
    "    def __add__(self, other):\n",
    "        if self.modulus != other.modulus:\n",
    "            raise ValueError\n",
    "        return M((self.val + other.val) % self.modulus)\n",
    "    \n",
    "    def __mul__(self, other):\n",
    "        if self.modulus != other.modulus:\n",
    "            raise ValueError\n",
    "        return M((self.val * other.val) % self.modulus)\n",
    "    \n",
    "    def __pow__(self, exp):\n",
    "        raise NotImplemented\n",
    "    \n",
    "    def __repr__(self):\n",
    "        return \"(\" + str(self.val) + \" mod \" + str(self.modulus)+ \")\"\n",
    "    \n",
    "a = M(8)\n",
    "b = M(7)\n",
    "print(a, b)\n",
    "print(\"(8 mod 10) * (7 mod 10) = \", a * b)\n",
    "print(\"(8 mod 10) + (7 mod 10) = \", a + b)"
   ]
  },
  {
   "cell_type": "markdown",
   "metadata": {},
   "source": [
    "OK, everything seems to be working, even though we haven't implemented powering yet.  Eventually we'd like to go pow(M(3), -1) to get the inverse of M(3), such that M(3) times its inverse equals the multiplicative identity M(1).\n",
    "\n",
    "### Looking for Groups\n",
    "\n",
    "But wait, does every M-number, with modulus set to 10, have an inverse?  We can check that easily.  First, lets make a list of all 10 M-numbers, (0) through (9):"
   ]
  },
  {
   "cell_type": "code",
   "execution_count": 5,
   "metadata": {
    "collapsed": false
   },
   "outputs": [
    {
     "data": {
      "text/plain": [
       "[(0 mod 10),\n",
       " (1 mod 10),\n",
       " (2 mod 10),\n",
       " (3 mod 10),\n",
       " (4 mod 10),\n",
       " (5 mod 10),\n",
       " (6 mod 10),\n",
       " (7 mod 10),\n",
       " (8 mod 10),\n",
       " (9 mod 10)]"
      ]
     },
     "execution_count": 5,
     "metadata": {},
     "output_type": "execute_result"
    }
   ],
   "source": [
    "elems = [M(n) for n in range(10)]\n",
    "elems"
   ]
  },
  {
   "cell_type": "markdown",
   "metadata": {},
   "source": [
    "Now we can do like a \"times table\" wherein we pick a single M-number, say M(5), and multiply it by every number in elems..."
   ]
  },
  {
   "cell_type": "code",
   "execution_count": 6,
   "metadata": {
    "collapsed": false
   },
   "outputs": [
    {
     "data": {
      "text/plain": [
       "[(0 mod 10),\n",
       " (5 mod 10),\n",
       " (0 mod 10),\n",
       " (5 mod 10),\n",
       " (0 mod 10),\n",
       " (5 mod 10),\n",
       " (0 mod 10),\n",
       " (5 mod 10),\n",
       " (0 mod 10),\n",
       " (5 mod 10)]"
      ]
     },
     "execution_count": 6,
     "metadata": {},
     "output_type": "execute_result"
    }
   ],
   "source": [
    "[M(5) * x for x in elems] "
   ]
  },
  {
   "cell_type": "markdown",
   "metadata": {},
   "source": [
    "Interesting.  In ordinary arithematic, the times table for 5 goes 0, 5, 10, 15, 20, 25, 30... and so on.  Factoring out the 10s, leaving only remainders, we get (0) or (5) as our two M-numbers.  We have no way to reach (1) and so (5) has no inverse.  We don't have a group yet.\n",
    "\n",
    "Lets try M(2):"
   ]
  },
  {
   "cell_type": "code",
   "execution_count": 7,
   "metadata": {
    "collapsed": false
   },
   "outputs": [
    {
     "data": {
      "text/plain": [
       "[(0 mod 10),\n",
       " (2 mod 10),\n",
       " (4 mod 10),\n",
       " (6 mod 10),\n",
       " (8 mod 10),\n",
       " (0 mod 10),\n",
       " (2 mod 10),\n",
       " (4 mod 10),\n",
       " (6 mod 10),\n",
       " (8 mod 10)]"
      ]
     },
     "execution_count": 7,
     "metadata": {},
     "output_type": "execute_result"
    }
   ],
   "source": [
    "[M(2) * x for x in elems]"
   ]
  },
  {
   "cell_type": "markdown",
   "metadata": {},
   "source": [
    "Same thing.  We cycle around and around, always stopping at the same stations, like a model train going in a circle.  We never stop at (1).  So M(2) has no inverse either.  What about M(3)?"
   ]
  },
  {
   "cell_type": "code",
   "execution_count": 8,
   "metadata": {
    "collapsed": false
   },
   "outputs": [
    {
     "data": {
      "text/plain": [
       "[(0 mod 10),\n",
       " (3 mod 10),\n",
       " (6 mod 10),\n",
       " (9 mod 10),\n",
       " (2 mod 10),\n",
       " (5 mod 10),\n",
       " (8 mod 10),\n",
       " (1 mod 10),\n",
       " (4 mod 10),\n",
       " (7 mod 10)]"
      ]
     },
     "execution_count": 8,
     "metadata": {},
     "output_type": "execute_result"
    }
   ],
   "source": [
    "[M(3) * x for x in elems]"
   ]
  },
  {
   "cell_type": "markdown",
   "metadata": {},
   "source": [
    "Aha!  Now we're getting somewhere.  M(3) * M(7) returns M(1), so these two are inverses of one another.  One fact to notice immediately is neither has any factors in common with 10. In fact, both are prime numbers in the ordinary integer sense.  M(9) is not prime, but again, 9 has no factors in common with 10.  So does M(9) have an inverse?  Lets check:"
   ]
  },
  {
   "cell_type": "code",
   "execution_count": 9,
   "metadata": {
    "collapsed": false
   },
   "outputs": [
    {
     "data": {
      "text/plain": [
       "[(0 mod 10),\n",
       " (9 mod 10),\n",
       " (8 mod 10),\n",
       " (7 mod 10),\n",
       " (6 mod 10),\n",
       " (5 mod 10),\n",
       " (4 mod 10),\n",
       " (3 mod 10),\n",
       " (2 mod 10),\n",
       " (1 mod 10)]"
      ]
     },
     "execution_count": 9,
     "metadata": {},
     "output_type": "execute_result"
    }
   ],
   "source": [
    "[M(9) * x for x in elems]"
   ]
  },
  {
   "cell_type": "markdown",
   "metadata": {},
   "source": [
    "Indeed it does.  M(9) * M(9) = M(1), meaning M(9) is its own inverse.\n",
    "\n",
    "When positive integers have no factors in common, aside from 1, we say they're \"relatively prime\" or that they're \"strangers\".  3 and 10 are strangers, as are 9 and 10.  Sometimes we write 7 | 10 = 1, meaning their greatest factor in common is 1.  On the other hand, 6 | 10 = 2, as 2 divides into both without remainder.\n",
    "\n",
    "\n",
    "### Finding Totatives\n",
    "\n",
    "It'd sure be handy at this point, to have a function, gcd, that returns the greatest common divisor of two numbers.  Then we could find all the strangers to 10, that are positive integers less than 10, pretty easily.  We call these strangers the \"totatives\" of 10, and the number of totatives, is called the \"totient\" of 10.\n",
    "\n",
    "Note that we're using list comprehension syntax in this example.  The for loop inside the square brackets makes x be every integer from 0 to modulus - 1, but then most of these get filtered out, because of factors in common with the modulus."
   ]
  },
  {
   "cell_type": "code",
   "execution_count": 10,
   "metadata": {
    "collapsed": false
   },
   "outputs": [
    {
     "data": {
      "text/plain": [
       "[1, 3, 7, 9]"
      ]
     },
     "execution_count": 10,
     "metadata": {},
     "output_type": "execute_result"
    }
   ],
   "source": [
    "import math\n",
    "modulus = 10\n",
    "[x for x in range(modulus) if math.gcd(x, modulus) == 1]"
   ]
  },
  {
   "cell_type": "code",
   "execution_count": 11,
   "metadata": {
    "collapsed": false
   },
   "outputs": [
    {
     "data": {
      "text/plain": [
       "[1, 5, 7, 11]"
      ]
     },
     "execution_count": 11,
     "metadata": {},
     "output_type": "execute_result"
    }
   ],
   "source": [
    "modulus = 12\n",
    "[x for x in range(modulus) if math.gcd(x, modulus) == 1]"
   ]
  },
  {
   "cell_type": "markdown",
   "metadata": {},
   "source": [
    "That was pretty easy.  Using Python's \"list comprehension\" syntax, which allows an if clause for filtering, we were able to get the totatives of 10 and 12 respectively.  Both 10 and 12 have a totient of four, meaning each has four totatives.\n",
    "\n",
    "What's true is that the M-numbers that are totatives of some modulus (say 10), collectively form a group under multiplication.  If we confine ourselves to strangers to the modulus, we'll have an inverse for every element, closure, associativity, and M(1) will be included.  That's a quick way to get a group.\n",
    "\n",
    "Lets build a function for computing totatives and use that to build some groups.  A \"set comprehension\" is just like a list comprehension in terms of syntax, but the curly braces make it for a set, instead of a list.  Sets are unordered and their elements are always unique (no duplicates).  Since we know totatives are unique, we might as well practice using a set object."
   ]
  },
  {
   "cell_type": "code",
   "execution_count": 12,
   "metadata": {
    "collapsed": true
   },
   "outputs": [],
   "source": [
    "def totatives(n):\n",
    "    return {x for x in range(n) if math.gcd(x, n) == 1}"
   ]
  },
  {
   "cell_type": "code",
   "execution_count": 13,
   "metadata": {
    "collapsed": false
   },
   "outputs": [
    {
     "data": {
      "text/plain": [
       "{(11 mod 12), (7 mod 12), (1 mod 12), (5 mod 12)}"
      ]
     },
     "execution_count": 13,
     "metadata": {},
     "output_type": "execute_result"
    }
   ],
   "source": [
    "elems = {M(x, 12) for x in totatives(12)}\n",
    "elems"
   ]
  },
  {
   "cell_type": "code",
   "execution_count": 14,
   "metadata": {
    "collapsed": false
   },
   "outputs": [
    {
     "data": {
      "text/plain": [
       "{(17 mod 100),\n",
       " (39 mod 100),\n",
       " (41 mod 100),\n",
       " (37 mod 100),\n",
       " (7 mod 100),\n",
       " (3 mod 100),\n",
       " (33 mod 100),\n",
       " (19 mod 100),\n",
       " (21 mod 100),\n",
       " (23 mod 100),\n",
       " (31 mod 100),\n",
       " (29 mod 100),\n",
       " (27 mod 100),\n",
       " (43 mod 100),\n",
       " (47 mod 100),\n",
       " (49 mod 100),\n",
       " (51 mod 100),\n",
       " (53 mod 100),\n",
       " (57 mod 100),\n",
       " (59 mod 100),\n",
       " (61 mod 100),\n",
       " (63 mod 100),\n",
       " (67 mod 100),\n",
       " (69 mod 100),\n",
       " (71 mod 100),\n",
       " (73 mod 100),\n",
       " (77 mod 100),\n",
       " (11 mod 100),\n",
       " (79 mod 100),\n",
       " (81 mod 100),\n",
       " (83 mod 100),\n",
       " (1 mod 100),\n",
       " (87 mod 100),\n",
       " (9 mod 100),\n",
       " (89 mod 100),\n",
       " (91 mod 100),\n",
       " (93 mod 100),\n",
       " (97 mod 100),\n",
       " (13 mod 100),\n",
       " (99 mod 100)}"
      ]
     },
     "execution_count": 14,
     "metadata": {},
     "output_type": "execute_result"
    }
   ],
   "source": [
    "M.modulus = 100\n",
    "elems = {M(x, 100) for x in totatives(100)}  # set comprehension\n",
    "elems  # print M-number totatives in no special order -- it's a set"
   ]
  },
  {
   "cell_type": "markdown",
   "metadata": {},
   "source": [
    "If we confine ourselves to a set of strangers, we're safe in assuming there's always an inverse for any given element.  That suggests a \"brute force\" way of finding any element's inverse:  just multiply it by every element in the same set of strangers, until their product is 1 (the identity element).  The function below accomplishes this:"
   ]
  },
  {
   "cell_type": "code",
   "execution_count": 15,
   "metadata": {
    "collapsed": false
   },
   "outputs": [],
   "source": [
    "def inverse(n : M, elems : set) -> M:\n",
    "    for m in elems:\n",
    "        if (n * m).val == 1:\n",
    "            return m"
   ]
  },
  {
   "cell_type": "code",
   "execution_count": 16,
   "metadata": {
    "collapsed": false
   },
   "outputs": [
    {
     "data": {
      "text/plain": [
       "(19 mod 100)"
      ]
     },
     "execution_count": 16,
     "metadata": {},
     "output_type": "execute_result"
    }
   ],
   "source": [
    "inverse(M(79), elems)"
   ]
  },
  {
   "cell_type": "code",
   "execution_count": 17,
   "metadata": {
    "collapsed": false
   },
   "outputs": [
    {
     "data": {
      "text/plain": [
       "(1 mod 100)"
      ]
     },
     "execution_count": 17,
     "metadata": {},
     "output_type": "execute_result"
    }
   ],
   "source": [
    "M(19) * M(79)"
   ]
  },
  {
   "cell_type": "markdown",
   "metadata": {},
   "source": [
    "### Finding Totients\n",
    "\n",
    "We'll need this concept in the next chapter on Public Key Cryptography.  The totient of N is simply the number of totatives it has.  We can use the len(&nbsp;) to simply count them.  That won't always be practical, when N gets huge, but for now this approach makes the concept easy to grasp:"
   ]
  },
  {
   "cell_type": "code",
   "execution_count": 18,
   "metadata": {
    "collapsed": false
   },
   "outputs": [
    {
     "data": {
      "text/plain": [
       "400000"
      ]
     },
     "execution_count": 18,
     "metadata": {},
     "output_type": "execute_result"
    }
   ],
   "source": [
    "def totient(n):\n",
    "    \"\"\"how many totatives have we?\"\"\"\n",
    "    return len(totatives(n))\n",
    "\n",
    "totient(1_000_000) # using _ helps us parse the number, one million"
   ]
  },
  {
   "cell_type": "markdown",
   "metadata": {},
   "source": [
    "The number one million has a totient of 400,000, meaning that many numbers from one to one million are co-prime to it."
   ]
  },
  {
   "cell_type": "markdown",
   "metadata": {},
   "source": [
    "### Adding a Power Method\n",
    "\n",
    "We now have the technology (tool set) we need to add the \\_\\_pow\\_\\_ method to our M class. A negative power triggers finding an inverse of a, the -1 part, then we switch back to positively powering.  We're saying $M(n)^{-e}$ equals $(M(n)^{-1})^{e}$.\n",
    "\n",
    "This is how we treat exponents normally, e.g. 2 \\*\\* -2 equals (2 \\*\\* -1)\\*\\*2 or 1/4."
   ]
  },
  {
   "cell_type": "code",
   "execution_count": 19,
   "metadata": {
    "collapsed": false
   },
   "outputs": [
    {
     "data": {
      "text/plain": [
       "True"
      ]
     },
     "execution_count": 19,
     "metadata": {},
     "output_type": "execute_result"
    }
   ],
   "source": [
    "2 ** -2 == (2 ** -1) ** 2"
   ]
  },
  {
   "cell_type": "markdown",
   "metadata": {},
   "source": [
    "For example, pow(M(79), -2) means find the inverse of M(79) e.g. M(79)\\*\\*-1, and then raise the result to the 2nd power."
   ]
  },
  {
   "cell_type": "code",
   "execution_count": 20,
   "metadata": {
    "collapsed": false
   },
   "outputs": [],
   "source": [
    "class M:  # for \"modulo\"\n",
    "    \n",
    "    \"\"\"\n",
    "    Version 2, with inverting and powering added\n",
    "    Version 3, not listed, is in groups.py and uses xgcd (next Chapter)\n",
    "    \"\"\"\n",
    "    \n",
    "    modulus = 10  # class level\n",
    "    \n",
    "    def __init__(self, val, modulus=None):\n",
    "        if modulus:\n",
    "            self.modulus = M.modulus = modulus # resettable\n",
    "        else:\n",
    "            self.modulus = M.modulus\n",
    "        self.val = val % M.modulus\n",
    "        \n",
    "    def __add__(self, other):\n",
    "        if self.modulus != other.modulus:\n",
    "            raise ValueError\n",
    "        return M(self.val + other.val, self.modulus)\n",
    "    \n",
    "    def __mul__(self, other):\n",
    "        if self.modulus != other.modulus:\n",
    "            raise ValueError\n",
    "        return M(self.val * other.val, self.modulus)\n",
    "\n",
    "    def __invert__(self):\n",
    "        elems = {M(x) for x in totatives(self.modulus)}\n",
    "        for m in elems:\n",
    "            if (self * m).val == 1:\n",
    "                return m\n",
    "    \n",
    "    def __pow__(self, exp):  # pow() and ** both trigger this method\n",
    "        output = self\n",
    "        if exp < 0:\n",
    "            exp = abs(exp)  # make exp positive now\n",
    "            output = ~self  # -1 means take the inverse\n",
    "        elif exp == 0:\n",
    "            output = M(1)   # return identity if exp is 0\n",
    "        elif exp == 1:\n",
    "            output = self   # return M if exp is 1\n",
    "        if exp > 1:\n",
    "            for _ in range(1, exp):  # use __mul__ (already defined)\n",
    "                output *= self\n",
    "        \n",
    "        return output\n",
    "    \n",
    "    def __repr__(self):\n",
    "        return \"(\" + str(self.val) + \" mod \" + str(M.modulus)+ \")\""
   ]
  },
  {
   "cell_type": "code",
   "execution_count": 21,
   "metadata": {
    "collapsed": false
   },
   "outputs": [
    {
     "data": {
      "text/plain": [
       "(19 mod 100)"
      ]
     },
     "execution_count": 21,
     "metadata": {},
     "output_type": "execute_result"
    }
   ],
   "source": [
    "M.modulus = 100\n",
    "a = M(79)\n",
    "a_inv = pow(a, -1)\n",
    "a_inv"
   ]
  },
  {
   "cell_type": "code",
   "execution_count": 22,
   "metadata": {
    "collapsed": false
   },
   "outputs": [
    {
     "data": {
      "text/plain": [
       "(97 mod 100)"
      ]
     },
     "execution_count": 22,
     "metadata": {},
     "output_type": "execute_result"
    }
   ],
   "source": [
    "M(13) * M(13) * M(13)"
   ]
  },
  {
   "cell_type": "code",
   "execution_count": 23,
   "metadata": {
    "collapsed": false
   },
   "outputs": [
    {
     "data": {
      "text/plain": [
       "(97 mod 100)"
      ]
     },
     "execution_count": 23,
     "metadata": {},
     "output_type": "execute_result"
    }
   ],
   "source": [
    "M(13)**3       # confirm this is another way of saying it (we're testing)"
   ]
  },
  {
   "cell_type": "code",
   "execution_count": 24,
   "metadata": {
    "collapsed": false
   },
   "outputs": [
    {
     "data": {
      "text/plain": [
       "(77 mod 100)"
      ]
     },
     "execution_count": 24,
     "metadata": {},
     "output_type": "execute_result"
    }
   ],
   "source": [
    "M(13)**-1      # give me the inverse of M(13) please"
   ]
  },
  {
   "cell_type": "code",
   "execution_count": 25,
   "metadata": {
    "collapsed": false
   },
   "outputs": [
    {
     "data": {
      "text/plain": [
       "(1 mod 100)"
      ]
     },
     "execution_count": 25,
     "metadata": {},
     "output_type": "execute_result"
    }
   ],
   "source": [
    "M(13) * M(77)  # these must be inverses then"
   ]
  },
  {
   "cell_type": "markdown",
   "metadata": {},
   "source": [
    "Now that we have our inverse function, we can ask questions such as:\n",
    "\n",
    "* What is the inverse of M(5, 7)?\n",
    "* What is the inverse of M(7, 5)?\n",
    "* What is the inverse of M(97, 100)?"
   ]
  },
  {
   "cell_type": "code",
   "execution_count": 27,
   "metadata": {
    "collapsed": false
   },
   "outputs": [
    {
     "name": "stdout",
     "output_type": "stream",
     "text": [
      "What is the inverse of M(5, 7)? (3 mod 7)\n",
      "What is the inverse of M(7, 5)? (3 mod 5)\n",
      "What is the inverse of M(97, 100)? (33 mod 100)\n"
     ]
    }
   ],
   "source": [
    "print(\"What is the inverse of M(5, 7)?\", ~M(5,7))\n",
    "print(\"What is the inverse of M(7, 5)?\", ~M(7,5))  # M(7,5) is same as M(2,5)\n",
    "print(\"What is the inverse of M(97, 100)?\", ~M(97, 100))"
   ]
  },
  {
   "cell_type": "markdown",
   "metadata": {},
   "source": [
    "Homework:\n",
    "\n",
    "Watch [this Youtube](https://youtu.be/ru7mWZJlRQg) on the Chinese Remainder Theorem (CRT).  Be prepared to explain its utility.  What Youtube do you find most elucidating, regarding the CRT?"
   ]
  },
  {
   "cell_type": "markdown",
   "metadata": {},
   "source": [
    "So now it looks like we have another fun tool for exploring Group Theory, while learning Python at the same time!\n",
    "\n",
    "Now lets take what we learned in this chapter and apply it to an important topic:  Public Key Cryptography.\n",
    "\n",
    "Back to Chapter 3: [A First Class](A%20First%20Class.ipynb) <br />\n",
    "Chapter 5: [Public Key Cryptography](Public Key Cryptography.ipynb) <br />\n",
    "[Introduction](Introduction.ipynb)"
   ]
  }
 ],
 "metadata": {
  "kernelspec": {
   "display_name": "Python 3",
   "language": "python",
   "name": "python3"
  },
  "language_info": {
   "codemirror_mode": {
    "name": "ipython",
    "version": 3
   },
   "file_extension": ".py",
   "mimetype": "text/x-python",
   "name": "python",
   "nbconvert_exporter": "python",
   "pygments_lexer": "ipython3",
   "version": "3.6.0"
  }
 },
 "nbformat": 4,
 "nbformat_minor": 2
}
