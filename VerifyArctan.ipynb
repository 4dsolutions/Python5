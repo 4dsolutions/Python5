{
 "cells": [
  {
   "cell_type": "markdown",
   "metadata": {},
   "source": [
    "Python for Everyone!<br/>[Oregon Curriculum Network](http://4dsolutions.net/ocn/)\n",
    "\n",
    "# Pattern Verification with Python\n",
    "\n",
    "There's a real difference between verifying a suspected identity, in this case involving arctangents and phi ($\\phi$), and providing an algebraic proof.\n",
    "\n",
    "My impression is some of the Ramanujan convergent series have been verified, which is easier to do through brute force computation, rather than proved algebraically.\n",
    "\n",
    "Consider this monster for example:\n",
    "\n",
    "$$\\frac{1}{\\pi} = \\frac{2\\sqrt{2}}{9801} \\sum^\\infty_{k=0} \\frac{(4k)!(1103+26390k)}{(k!)^4 396^{4k}}$$\n",
    "\n",
    "Has someone provided an algebraic proof?\n",
    "\n",
    "In the absence of proof, there's still [computational verification](Extended%20Precision.ipynb).\n",
    "\n",
    "### The Pattern\n",
    "\n",
    "Here's the pattern David Koski was discovering, using a calculator:\n",
    "\n",
    "```\n",
    "\n",
    "    from math import atan as arctan\n",
    "    Ø = (1 + rt2(5))/2\n",
    "    arctan( Ø ** 1) -  arctan( Ø ** -1) == arctan(1/2)\n",
    "    arctan( Ø **-1) -  arctan( Ø ** -3) == arctan(1/3)\n",
    "    arctan( Ø **-3) -  arctan( Ø ** -5) == arctan(1/7)\n",
    "    arctan( Ø **-5) -  arctan( Ø ** -7) == arctan(1/18)\n",
    "    arctan( Ø **-7) -  arctan( Ø ** -9) == arctan(1/47)\n",
    "    arctan( Ø **-9) -  arctan( Ø **-11) == arctan(1/123)\n",
    "\n",
    "```\n",
    ". . .\n",
    "\n",
    "Given the limitations of floating point numbers, we'll switch to gmpy2, which, unlike the Decimal type, supports arctan.  \n",
    "\n",
    "We may enlist the `unittest.TestCase` method `assertAlmostEqual` to verify the pattern so far.\n",
    "\n",
    "I'm organizing my tests to run inside of the `verify` function.  That's slightly unusual.  [Here's a link](https://docs.python.org/3/library/unittest.html#organizing-test-code) to the documentation."
   ]
  },
  {
   "cell_type": "code",
   "execution_count": 10,
   "metadata": {},
   "outputs": [
    {
     "name": "stderr",
     "output_type": "stream",
     "text": [
      ".\n",
      "----------------------------------------------------------------------\n",
      "Ran 1 test in 0.005s\n",
      "\n",
      "OK\n"
     ]
    }
   ],
   "source": [
    "import gmpy2\n",
    "from gmpy2 import atan2 as arctan, atan as at\n",
    "from unittest import TestCase, TextTestRunner, TestSuite\n",
    "\n",
    "# arctan(y, x) = arctan(y/x)\n",
    "# at(x) = atan(x)\n",
    "\n",
    "gmpy2.get_context().precision=300\n",
    "Ø = (1 + gmpy2.sqrt(5))/2\n",
    "    \n",
    "class TestArcTan(TestCase):\n",
    "    \n",
    "    def test_claim(self):\n",
    "        self.assertAlmostEqual(at(Ø) - arctan(1, Ø), arctan(1,2), places=30)\n",
    "        self.assertAlmostEqual(arctan( 1, Ø) - arctan(1, Ø** 3), arctan(1,3), places=30)\n",
    "        self.assertAlmostEqual(arctan( 1, Ø**3) - arctan(1, Ø** 5), arctan(1,7), places=30)\n",
    "        self.assertAlmostEqual(arctan( 1, Ø**5) - arctan(1, Ø** 7), arctan(1,18), places=30)\n",
    "        self.assertAlmostEqual(arctan( 1, Ø**7) - arctan(1, Ø** 9), arctan(1,47), places=30)\n",
    "        self.assertAlmostEqual(arctan( 1, Ø**9) - arctan(1, Ø**11), arctan(1,123), places=30) \n",
    "        \n",
    "def verify():\n",
    "    \"\"\"\n",
    "    how true are these expressions?\n",
    "    \n",
    "    using a function to stuff an empty TestSuite, taking from\n",
    "    an existing class, is not the usual pattern\n",
    "    \"\"\"\n",
    "    def suite():\n",
    "        suite = TestSuite()\n",
    "        suite.addTest(TestArcTan('test_claim'))\n",
    "        return suite\n",
    "        \n",
    "    runner = TextTestRunner()\n",
    "    runner.run(suite())\n",
    "    \n",
    "verify()"
   ]
  },
  {
   "cell_type": "markdown",
   "metadata": {},
   "source": [
    "By inspection, the pattern is fairly clear, but for the sequence of fractions 1/2, 1/3, 1/7, 1/18... in the resulting term.  Where is that coming from?  How might we generate this sequence by following some rule?\n",
    "\n",
    "A useful resource in such cases is the [On-Line Encyclopedia of Integer Sequences](http://oeis.org/), which comes through for us when we search on just those denominators.  We find this is [a \"bisection of the Lucas Numbers\"](http://oeis.org/A005248).\n",
    "\n",
    "We learn from this web page that this sequence may be generated as the sum of consecutive odd-position Fibonacci numbers.  \n",
    "\n",
    "For example:"
   ]
  },
  {
   "cell_type": "code",
   "execution_count": 6,
   "metadata": {},
   "outputs": [
    {
     "name": "stdout",
     "output_type": "stream",
     "text": [
      "[2, 3, 7, 18, 47, 123, 322, 843, 2207, 5778, 15127, 39603, 103682, 271443, 710647, 1860498, 4870847, 12752043, 33385282, 87403803]\n"
     ]
    }
   ],
   "source": [
    "def Fibo(a=1, b=0):\n",
    "    # 1, 0, 1, 1, 2, 3, 5, 8, 13, 21...\n",
    "    while True:\n",
    "        yield a\n",
    "        a, b = b, a + b\n",
    "        \n",
    "def A005248():\n",
    "    \"\"\"\n",
    "    Skip half the Fibs, sum consecutive terms from \n",
    "    the other half:\n",
    "    \n",
    "    1 + 1, 1 + 2, 2 + 5, 5 + 13...\n",
    "    \"\"\"\n",
    "    fibo_0 = Fibo()\n",
    "    fibo_1 = Fibo()\n",
    "\n",
    "    # advance 2 positions\n",
    "    next(fibo_1); next(fibo_1)  #1, 0\n",
    "    \n",
    "    while True:\n",
    "        yield next(fibo_0) + next(fibo_1) # 1 + 1, 1 + 2, 2 + 5...\n",
    "        next(fibo_0) # skip over next Fib\n",
    "        next(fibo_1) # skip over next Fib\n",
    "\n",
    "a005248 = A005248()\n",
    "print([next(a005248) for _ in range(20)])"
   ]
  },
  {
   "cell_type": "markdown",
   "metadata": {},
   "source": [
    "Now we have the ability to build successive arctan expressions and verify them.  Rather then depend on unittest, lets simply compute the floating point difference between the two sides of the equation.  If it stays very small, we will consider the expression verified."
   ]
  },
  {
   "cell_type": "code",
   "execution_count": 11,
   "metadata": {},
   "outputs": [
    {
     "name": "stdout",
     "output_type": "stream",
     "text": [
      "Expr: (at(Ø**1) - at(Ø**-1)) - arctan(1, 2)\n",
      "Diff: 2.454546732648863276547885977493137821487607756249724782555774558593552627360857928230048942e-91\n",
      "Expr: (at(Ø**-1) - at(Ø**-3)) - arctan(1, 3)\n",
      "Diff: -2.454546732648863276547885977493137821487607756249724782555774558593552627360857928230048942e-91\n",
      "Expr: (at(Ø**-3) - at(Ø**-5)) - arctan(1, 7)\n",
      "Diff: 0.0\n",
      "Expr: (at(Ø**-5) - at(Ø**-7)) - arctan(1, 18)\n",
      "Diff: -3.0681834158110790956848574718664222768595096953121559781947181982419407842010724102875611775e-92\n",
      "Expr: (at(Ø**-7) - at(Ø**-9)) - arctan(1, 47)\n",
      "Diff: -6.136366831622158191369714943732844553719019390624311956389436396483881568402144820575122355e-92\n",
      "Expr: (at(Ø**-9) - at(Ø**-11)) - arctan(1, 123)\n",
      "Diff: -7.6704585395276977392121436796660556921487742382803899454867954956048519605026810257189029438e-93\n",
      "Expr: (at(Ø**-11) - at(Ø**-13)) - arctan(1, 322)\n",
      "Diff: -3.8352292697638488696060718398330278460743871191401949727433977478024259802513405128594514719e-93\n",
      "Expr: (at(Ø**-13) - at(Ø**-15)) - arctan(1, 843)\n",
      "Diff: -3.8352292697638488696060718398330278460743871191401949727433977478024259802513405128594514719e-93\n",
      "Expr: (at(Ø**-15) - at(Ø**-17)) - arctan(1, 2207)\n",
      "Diff: -2.1573164642421649891534154099060781634168427545163596721681612331388646138913790384834414529e-93\n",
      "Expr: (at(Ø**-17) - at(Ø**-19)) - arctan(1, 5778)\n",
      "Diff: -4.7940365872048110870075897997912848075929838989252437159292471847530324753141756410743143399e-94\n",
      "Expr: (at(Ø**-19) - at(Ø**-21)) - arctan(1, 15127)\n",
      "Diff: -2.9962728670030069293797436248695530047456149368282773224557794904706452970713597756714464624e-94\n",
      "Expr: (at(Ø**-21) - at(Ø**-23)) - arctan(1, 39603)\n",
      "Diff: -1.198509146801202771751897449947821201898245974731310928982311796188258118828543910268578585e-94\n",
      "Expr: (at(Ø**-23) - at(Ø**-25)) - arctan(1, 103682)\n",
      "Diff: -4.4944093005045103940696154373043295071184224052424159836836692357059679456070396635071696936e-95\n",
      "Expr: (at(Ø**-25) - at(Ø**-27)) - arctan(1, 271443)\n",
      "Diff: -2.2472046502522551970348077186521647535592112026212079918418346178529839728035198317535848468e-95\n",
      "Expr: (at(Ø**-27) - at(Ø**-29)) - arctan(1, 710647)\n",
      "Diff: -8.4270174384459569888805289449456178258470420098295299694068798169486898980131993690759431756e-96\n",
      "Expr: (at(Ø**-29) - at(Ø**-31)) - arctan(1, 1860498)\n",
      "Diff: -3.745341083753758661724679531086941255932018671035346653069724363088306621339199719589308078e-96\n",
      "Expr: (at(Ø**-31) - at(Ø**-33)) - arctan(1, 4870847)\n",
      "Diff: -1.4045029064076594981467548241576029709745070016382549949011466361581149830021998948459905293e-96\n",
      "Expr: (at(Ø**-33) - at(Ø**-35)) - arctan(1, 12752043)\n",
      "Diff: -6.4373049877017726998392929440556802836331570908420020599635887490580270054267495180441232591e-97\n",
      "Expr: (at(Ø**-35) - at(Ø**-37)) - arctan(1, 33385282)\n",
      "Diff: -2.6334429495143615590251652952955055705772006280717281154396499427964655931291248028362322424e-97\n",
      "Expr: (at(Ø**-37) - at(Ø**-39)) - arctan(1, 87403803)\n",
      "Diff: -9.5096550954685278520353191219004367826398911569256848613098470156539035307440617880197275419e-98\n"
     ]
    }
   ],
   "source": [
    "def build_expr():\n",
    "    a005248 = A005248()\n",
    "    exp1 = 1\n",
    "    exp2 = -1\n",
    "    template = \"(at(Ø**{}) - at(Ø**{})) - arctan(1, {})\"\n",
    "    while True:\n",
    "        yield template.format(exp1, exp2, next(a005248))\n",
    "        exp1 -= 2\n",
    "        exp2 -= 2\n",
    "\n",
    "expr_gen = build_expr()\n",
    "\n",
    "for _ in range(20):\n",
    "    expr = next(expr_gen)\n",
    "    print(\"Expr:\", expr)\n",
    "    print(\"Diff:\", eval(expr))"
   ]
  },
  {
   "cell_type": "markdown",
   "metadata": {},
   "source": [
    "Looking good!"
   ]
  }
 ],
 "metadata": {
  "kernelspec": {
   "display_name": "Python 3",
   "language": "python",
   "name": "python3"
  },
  "language_info": {
   "codemirror_mode": {
    "name": "ipython",
    "version": 3
   },
   "file_extension": ".py",
   "mimetype": "text/x-python",
   "name": "python",
   "nbconvert_exporter": "python",
   "pygments_lexer": "ipython3",
   "version": "3.6.4"
  }
 },
 "nbformat": 4,
 "nbformat_minor": 2
}
