{
 "cells": [
  {
   "cell_type": "markdown",
   "metadata": {},
   "source": [
    "Python for Everyone!<br/>[Oregon Curriculum Network](http://4dsolutions.net/ocn/)\n",
    "\n",
    "# Pattern Verification with Python\n",
    "\n",
    "There's a real difference between verifying a suspected identity, in this case involving arctangents and phi ($\\phi$), and providing an algebraic proof.\n",
    "\n",
    "My impression is some of the Ramanujan convergent series have been verified, which is easier to do through brute force computation, rather than proved algebraically.\n",
    "\n",
    "Consider this monster for example:\n",
    "\n",
    "$$\\frac{1}{\\pi} = \\frac{2\\sqrt{2}}{9801} \\sum^\\infty_{k=0} \\frac{(4k)!(1103+26390k)}{(k!)^4 396^{4k}}$$\n",
    "\n",
    "Has someone provided an algebraic proof?\n",
    "\n",
    "In the absence of proof, there's still [computational verification](Extended%20Precision.ipynb).\n",
    "\n",
    "### The Pattern\n",
    "\n",
    "Here's the pattern David Koski was discovering, using a calculator:\n",
    "\n",
    "```\n",
    "\n",
    "    from math import atan as arctan\n",
    "    Ø = (1 + rt2(5))/2\n",
    "    arctan( Ø ** 1) -  arctan( Ø ** -1) == arctan(1/2)\n",
    "    arctan( Ø **-1) -  arctan( Ø ** -3) == arctan(1/3)\n",
    "    arctan( Ø **-3) -  arctan( Ø ** -5) == arctan(1/7)\n",
    "    arctan( Ø **-5) -  arctan( Ø ** -7) == arctan(1/18)\n",
    "    arctan( Ø **-7) -  arctan( Ø ** -9) == arctan(1/47)\n",
    "    arctan( Ø **-9) -  arctan( Ø **-11) == arctan(1/123)\n",
    "\n",
    "```\n",
    ". . .\n",
    "\n",
    "Given the limitations of floating point numbers, we'll switch to [gmpy2](https://gmpy2.readthedocs.io/en/latest/), which, unlike the Decimal type, supports arctan.  \n",
    "\n",
    "We may enlist the `unittest.TestCase` method `assertAlmostEqual` to verify the pattern so far.\n",
    "\n",
    "I'm organizing my tests to run inside of the `verify` function.  That's slightly unusual.  [Here's a link](https://docs.python.org/3/library/unittest.html#organizing-test-code) to the documentation."
   ]
  },
  {
   "cell_type": "code",
   "execution_count": 1,
   "metadata": {},
   "outputs": [
    {
     "name": "stderr",
     "output_type": "stream",
     "text": [
      ".\n",
      "----------------------------------------------------------------------\n",
      "Ran 1 test in 0.004s\n",
      "\n",
      "OK\n"
     ]
    }
   ],
   "source": [
    "import gmpy2\n",
    "from gmpy2 import atan2 as arctan, atan as at\n",
    "from unittest import TestCase, TextTestRunner, TestSuite\n",
    "\n",
    "# arctan(y, x) = arctan(y/x)\n",
    "# at(x) = atan(x)\n",
    "\n",
    "gmpy2.get_context().precision=300\n",
    "Ø = (1 + gmpy2.sqrt(5))/2\n",
    "    \n",
    "class TestArcTan(TestCase):\n",
    "    \n",
    "    def test_claim(self):\n",
    "        self.assertAlmostEqual(at(Ø) - arctan(1, Ø), arctan(1,2), places=30)\n",
    "        self.assertAlmostEqual(arctan( 1, Ø) - arctan(1, Ø** 3), arctan(1,3), places=30)\n",
    "        self.assertAlmostEqual(arctan( 1, Ø**3) - arctan(1, Ø** 5), arctan(1,7), places=30)\n",
    "        self.assertAlmostEqual(arctan( 1, Ø**5) - arctan(1, Ø** 7), arctan(1,18), places=30)\n",
    "        self.assertAlmostEqual(arctan( 1, Ø**7) - arctan(1, Ø** 9), arctan(1,47), places=30)\n",
    "        self.assertAlmostEqual(arctan( 1, Ø**9) - arctan(1, Ø**11), arctan(1,123), places=30) \n",
    "        \n",
    "def verify():\n",
    "    \"\"\"\n",
    "    how true are these expressions?\n",
    "    \n",
    "    using a function to stuff an empty TestSuite, taking from\n",
    "    an existing class, is not the usual pattern\n",
    "    \"\"\"\n",
    "    def suite():\n",
    "        suite = TestSuite()\n",
    "        suite.addTest(TestArcTan('test_claim'))\n",
    "        return suite\n",
    "        \n",
    "    runner = TextTestRunner()\n",
    "    runner.run(suite())\n",
    "    \n",
    "verify()"
   ]
  },
  {
   "cell_type": "markdown",
   "metadata": {},
   "source": [
    "By inspection, the pattern is fairly clear, but for the sequence of fractions 1/2, 1/3, 1/7, 1/18... in the resulting term.  Where is that coming from?  How might we generate this sequence by following some rule?\n",
    "\n",
    "A useful resource in such cases is the [On-Line Encyclopedia of Integer Sequences](http://oeis.org/), which comes through for us when we search on just those denominators.  We find this is [a \"bisection of the Lucas Numbers\"](http://oeis.org/A005248).\n",
    "\n",
    "We learn from this web page that this sequence may be generated as the sum of consecutive odd-position Fibonacci numbers.  \n",
    "\n",
    "For example:"
   ]
  },
  {
   "cell_type": "code",
   "execution_count": 2,
   "metadata": {},
   "outputs": [
    {
     "name": "stdout",
     "output_type": "stream",
     "text": [
      "[2, 3, 7, 18, 47, 123, 322, 843, 2207, 5778, 15127, 39603, 103682, 271443, 710647, 1860498, 4870847, 12752043, 33385282, 87403803]\n"
     ]
    }
   ],
   "source": [
    "def Fibo(a=1, b=0):\n",
    "    # 1, 0, 1, 1, 2, 3, 5, 8, 13, 21...\n",
    "    while True:\n",
    "        yield a\n",
    "        a, b = b, a + b\n",
    "        \n",
    "def A005248():\n",
    "    \"\"\"\n",
    "    Skip half the Fibs, sum consecutive terms from \n",
    "    the other half:\n",
    "    \n",
    "    1 + 1, 1 + 2, 2 + 5, 5 + 13...\n",
    "    \"\"\"\n",
    "    fibo_0 = Fibo()\n",
    "    fibo_1 = Fibo()\n",
    "\n",
    "    # advance 2 positions\n",
    "    next(fibo_1); next(fibo_1)  #1, 0\n",
    "    \n",
    "    while True:\n",
    "        yield next(fibo_0) + next(fibo_1) # 1 + 1, 1 + 2, 2 + 5...\n",
    "        next(fibo_0) # skip over next Fib\n",
    "        next(fibo_1) # skip over next Fib\n",
    "\n",
    "a005248 = A005248()\n",
    "print([next(a005248) for _ in range(20)])"
   ]
  },
  {
   "cell_type": "markdown",
   "metadata": {},
   "source": [
    "Now we have the ability to build successive arctan expressions and verify them.  Rather then depend on unittest, lets simply compute the floating point difference between the two sides of the equation.  If it stays very small, we will consider the expression verified."
   ]
  },
  {
   "cell_type": "code",
   "execution_count": 3,
   "metadata": {},
   "outputs": [
    {
     "name": "stdout",
     "output_type": "stream",
     "text": [
      "Expr: (at(Ø**1) - at(Ø**-1)) - arctan(1, 2)\n",
      "Diff: 2.45454673264886327655e-91\n",
      "Expr: (at(Ø**-1) - at(Ø**-3)) - arctan(1, 3)\n",
      "Diff: -2.45454673264886327655e-91\n",
      "Expr: (at(Ø**-3) - at(Ø**-5)) - arctan(1, 7)\n",
      "Diff: 0.00000000000000000000e+00\n",
      "Expr: (at(Ø**-5) - at(Ø**-7)) - arctan(1, 18)\n",
      "Diff: -3.06818341581107909568e-92\n",
      "Expr: (at(Ø**-7) - at(Ø**-9)) - arctan(1, 47)\n",
      "Diff: -6.13636683162215819137e-92\n",
      "Expr: (at(Ø**-9) - at(Ø**-11)) - arctan(1, 123)\n",
      "Diff: -7.67045853952769773921e-93\n",
      "Expr: (at(Ø**-11) - at(Ø**-13)) - arctan(1, 322)\n",
      "Diff: -3.83522926976384886961e-93\n",
      "Expr: (at(Ø**-13) - at(Ø**-15)) - arctan(1, 843)\n",
      "Diff: -3.83522926976384886961e-93\n",
      "Expr: (at(Ø**-15) - at(Ø**-17)) - arctan(1, 2207)\n",
      "Diff: -2.15731646424216498915e-93\n",
      "Expr: (at(Ø**-17) - at(Ø**-19)) - arctan(1, 5778)\n",
      "Diff: -4.79403658720481108701e-94\n",
      "Expr: (at(Ø**-19) - at(Ø**-21)) - arctan(1, 15127)\n",
      "Diff: -2.99627286700300692938e-94\n",
      "Expr: (at(Ø**-21) - at(Ø**-23)) - arctan(1, 39603)\n",
      "Diff: -1.19850914680120277175e-94\n",
      "Expr: (at(Ø**-23) - at(Ø**-25)) - arctan(1, 103682)\n",
      "Diff: -4.49440930050451039407e-95\n",
      "Expr: (at(Ø**-25) - at(Ø**-27)) - arctan(1, 271443)\n",
      "Diff: -2.24720465025225519703e-95\n",
      "Expr: (at(Ø**-27) - at(Ø**-29)) - arctan(1, 710647)\n",
      "Diff: -8.42701743844595698888e-96\n",
      "Expr: (at(Ø**-29) - at(Ø**-31)) - arctan(1, 1860498)\n",
      "Diff: -3.74534108375375866172e-96\n",
      "Expr: (at(Ø**-31) - at(Ø**-33)) - arctan(1, 4870847)\n",
      "Diff: -1.40450290640765949815e-96\n",
      "Expr: (at(Ø**-33) - at(Ø**-35)) - arctan(1, 12752043)\n",
      "Diff: -6.43730498770177269984e-97\n",
      "Expr: (at(Ø**-35) - at(Ø**-37)) - arctan(1, 33385282)\n",
      "Diff: -2.63344294951436155903e-97\n",
      "Expr: (at(Ø**-37) - at(Ø**-39)) - arctan(1, 87403803)\n",
      "Diff: -9.50965509546852785204e-98\n"
     ]
    }
   ],
   "source": [
    "def build_expr():\n",
    "    a005248 = A005248()\n",
    "    exp1 = 1\n",
    "    exp2 = -1\n",
    "    template = \"(at(Ø**{}) - at(Ø**{})) - arctan(1, {})\"\n",
    "    while True:\n",
    "        yield template.format(exp1, exp2, next(a005248))\n",
    "        exp1 -= 2\n",
    "        exp2 -= 2\n",
    "\n",
    "expr_gen = build_expr()\n",
    "\n",
    "for _ in range(20):\n",
    "    expr = next(expr_gen)\n",
    "    print(\"Expr: {}\".format(expr))\n",
    "    print(\"Diff: {0:4.20e}\".format(eval(expr)))"
   ]
  },
  {
   "cell_type": "markdown",
   "metadata": {},
   "source": [
    "Looking good!\n",
    "\n",
    "*For Further Reading*:\n",
    "\n",
    "* [Note on edu-sig](https://mail.python.org/pipermail/edu-sig/2018-October/012024.html) (October, 2018)\n",
    "* [Pi Day Fun](Pi%20Day%20Fun.ipynb) (Jupyter Notebook, March, 2016) \n",
    "* [Koski Paper @ Coffee Shops Network](http://coffeeshopsnet.blogspot.com/2017/06/koski-paper.html) (2015)"
   ]
  }
 ],
 "metadata": {
  "kernelspec": {
   "display_name": "Python 3",
   "language": "python",
   "name": "python3"
  },
  "language_info": {
   "codemirror_mode": {
    "name": "ipython",
    "version": 3
   },
   "file_extension": ".py",
   "mimetype": "text/x-python",
   "name": "python",
   "nbconvert_exporter": "python",
   "pygments_lexer": "ipython3",
   "version": "3.6.4"
  }
 },
 "nbformat": 4,
 "nbformat_minor": 2
}
