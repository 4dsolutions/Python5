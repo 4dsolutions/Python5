{
 "cells": [
  {
   "cell_type": "markdown",
   "metadata": {},
   "source": [
    "Python for Everyone!<br/>[Oregon Curriculum Network](http://4dsolutions.net/ocn/)\n",
    "\n",
    "# Pattern Verification with Python\n",
    "\n",
    "There's a real difference between verifying a suspected identity, in this case involving arctangents and phi ($\\phi$), and providing an algebraic proof.\n",
    "\n",
    "My impression is some of the Ramanujan convergent series have been verified, which is easier to do through brute force computation, than proved algebraically.\n",
    "\n",
    "Consider this monster for example:\n",
    "\n",
    "$$\\frac{1}{\\pi} = \\frac{2\\sqrt{2}}{9801} \\sum^\\infty_{k=0} \\frac{(4k)!(1103+26390k)}{(k!)^4 396^{4k}}$$\n",
    "\n",
    "Has someone provided an algebraic proof?\n",
    "\n",
    "In the absence of proof, there's still [computational verification](Extended%20Precision.ipynb).\n",
    "\n",
    "### The Pattern\n",
    "\n",
    "Here's the pattern David Koski was discovering, using a calculator:\n",
    "\n",
    "```python\n",
    "    from math import atan as arctan\n",
    "    arctan( Ø ** 1) -  arctan( Ø **  -1) == arctan(1/2)\n",
    "    arctan( Ø **-1) -  arctan( Ø **  -3) == arctan(1/3)\n",
    "    arctan( Ø **-3) -  arctan( Ø **  -5) == arctan(1/7)\n",
    "    arctan( Ø **-5) -  arctan( Ø **  -7) == arctan(1/18)\n",
    "    arctan( Ø **-7) -  arctan( Ø **  -9) == arctan(1/47)\n",
    "    arctan( Ø **-9) -  arctan( Ø ** -11) == arctan(1/123)\n",
    "```\n",
    ". . .\n",
    "\n",
    "Given the limitations of floating point numbers (the Decimal type does not natively do trig), we may enlist the `unittest.TestCase` method `assertAlmostEqual` to verify the pattern so far.\n",
    "\n",
    "I'm organizing my tests to run inside of the `verify` function.  That's slightly unusual.  [Here's a link](https://docs.python.org/3/library/unittest.html#organizing-test-code) to the documentation."
   ]
  },
  {
   "cell_type": "code",
   "execution_count": 1,
   "metadata": {},
   "outputs": [
    {
     "name": "stderr",
     "output_type": "stream",
     "text": [
      ".\n",
      "----------------------------------------------------------------------\n",
      "Ran 1 test in 0.002s\n",
      "\n",
      "OK\n"
     ]
    }
   ],
   "source": [
    "from math import atan as arctan, sqrt as rt2\n",
    "from unittest import TestCase, TextTestRunner, TestSuite\n",
    "Ø = (1 + rt2(5))/2\n",
    "    \n",
    "class TestArcTan(TestCase):\n",
    "    \n",
    "    def test_claim(self):\n",
    "        self.assertAlmostEqual(arctan( Ø**1 ) - arctan( Ø**-1), arctan( 1/2  ))\n",
    "        self.assertAlmostEqual(arctan( Ø**-1) - arctan( Ø**-3), arctan( 1/3  ))\n",
    "        self.assertAlmostEqual(arctan( Ø**-3) - arctan(Ø**-5 ), arctan( 1/7  ))\n",
    "        self.assertAlmostEqual(arctan( Ø**-5) - arctan(Ø**-7 ), arctan( 1/18 ))\n",
    "        self.assertAlmostEqual(arctan( Ø**-7) - arctan(Ø**-9 ), arctan( 1/47 ))\n",
    "        self.assertAlmostEqual(arctan( Ø**-9) - arctan(Ø**-11), arctan( 1/123)) \n",
    "        \n",
    "def verify():\n",
    "    \"\"\"\n",
    "    how true are these expressions?\n",
    "    \n",
    "    using a function to stuff an empty TestSuit, taking from\n",
    "    an existing class, is not the usual pattern\n",
    "    \"\"\"\n",
    "    def suite():\n",
    "        suite = TestSuite()\n",
    "        suite.addTest(TestArcTan('test_claim'))\n",
    "        return suite\n",
    "        \n",
    "    runner = TextTestRunner()\n",
    "    runner.run(suite())\n",
    "    \n",
    "verify()"
   ]
  },
  {
   "cell_type": "markdown",
   "metadata": {},
   "source": [
    "By inspection, the pattern is fairly clear, but for the sequence of fractions 1/2, 1/3, 1/7, 1/18... in the resulting term.  \n",
    "\n",
    "A useful resource in such cases is the [On-Line Encyclopedia of Integer Sequences](http://oeis.org/), which comes through for us when we search on just those denominators.  We find this is [a \"bisection of the Lucas Numbers\"](http://oeis.org/A005248).\n",
    "\n",
    "We learn from this web page that this sequence may be generated as the sum of consecutive odd-position Fibonacci numbers.  \n",
    "\n",
    "For example:"
   ]
  },
  {
   "cell_type": "code",
   "execution_count": 2,
   "metadata": {},
   "outputs": [
    {
     "name": "stdout",
     "output_type": "stream",
     "text": [
      "[2, 3, 7, 18, 47, 123, 322, 843, 2207, 5778, 15127, 39603, 103682, 271443, 710647, 1860498, 4870847, 12752043, 33385282, 87403803]\n"
     ]
    }
   ],
   "source": [
    "def Fibo(a=1, b=0):\n",
    "    # 1, 0, 1, 1, 2, 3, 5, 8, 13, 21...\n",
    "    while True:\n",
    "        yield a\n",
    "        a, b = b, a + b\n",
    "        \n",
    "def A005248():\n",
    "    \"\"\"\n",
    "    Skip half the Fibs, sum consecutive terms from \n",
    "    the other half:\n",
    "    \n",
    "    1 + 1, 1 + 2, 2 + 5, 5 + 13...\n",
    "    \"\"\"\n",
    "    fibo_0 = Fibo()\n",
    "    fibo_1 = Fibo()\n",
    "\n",
    "    # advance 2 positions\n",
    "    next(fibo_1); next(fibo_1)  #1, 0\n",
    "    \n",
    "    while True:\n",
    "        yield next(fibo_0) + next(fibo_1) # 1 + 1, 1 + 2, 2 + 5...\n",
    "        next(fibo_0) # skip over next Fib\n",
    "        next(fibo_1) # skip over next Fib\n",
    "\n",
    "a005248 = A005248()\n",
    "print([next(a005248) for _ in range(20)])"
   ]
  },
  {
   "cell_type": "markdown",
   "metadata": {},
   "source": [
    "Now we have the ability to build successive arctan expressions and verify them.  Rather then depend on unittest, lets simply compute the floating point difference between the two sides of the equation.  If it stays very small, we will consider the expression verified."
   ]
  },
  {
   "cell_type": "code",
   "execution_count": 3,
   "metadata": {},
   "outputs": [
    {
     "name": "stdout",
     "output_type": "stream",
     "text": [
      "(arctan( Ø ** 1) -  arctan( Ø ** -1)) - arctan(1/2)\n",
      "0.0\n",
      "(arctan( Ø ** -1) -  arctan( Ø ** -3)) - arctan(1/3)\n",
      "0.0\n",
      "(arctan( Ø ** -3) -  arctan( Ø ** -5)) - arctan(1/7)\n",
      "0.0\n",
      "(arctan( Ø ** -5) -  arctan( Ø ** -7)) - arctan(1/18)\n",
      "-1.3877787807814457e-17\n",
      "(arctan( Ø ** -7) -  arctan( Ø ** -9)) - arctan(1/47)\n",
      "0.0\n",
      "(arctan( Ø ** -9) -  arctan( Ø ** -11)) - arctan(1/123)\n",
      "-3.469446951953614e-18\n",
      "(arctan( Ø ** -11) -  arctan( Ø ** -13)) - arctan(1/322)\n",
      "-8.673617379884035e-19\n",
      "(arctan( Ø ** -13) -  arctan( Ø ** -15)) - arctan(1/843)\n",
      "-6.505213034913027e-19\n",
      "(arctan( Ø ** -15) -  arctan( Ø ** -17)) - arctan(1/2207)\n",
      "-2.168404344971009e-19\n",
      "(arctan( Ø ** -17) -  arctan( Ø ** -19)) - arctan(1/5778)\n",
      "-1.0842021724855044e-19\n",
      "(arctan( Ø ** -19) -  arctan( Ø ** -21)) - arctan(1/15127)\n",
      "-2.710505431213761e-20\n",
      "(arctan( Ø ** -21) -  arctan( Ø ** -23)) - arctan(1/39603)\n",
      "-2.0328790734103208e-20\n",
      "(arctan( Ø ** -23) -  arctan( Ø ** -25)) - arctan(1/103682)\n",
      "-8.470329472543003e-21\n",
      "(arctan( Ø ** -25) -  arctan( Ø ** -27)) - arctan(1/271443)\n",
      "-3.3881317890172014e-21\n",
      "(arctan( Ø ** -27) -  arctan( Ø ** -29)) - arctan(1/710647)\n",
      "-1.2705494208814505e-21\n",
      "(arctan( Ø ** -29) -  arctan( Ø ** -31)) - arctan(1/1860498)\n",
      "-5.293955920339377e-22\n",
      "(arctan( Ø ** -31) -  arctan( Ø ** -33)) - arctan(1/4870847)\n",
      "-1.852884572118782e-22\n",
      "(arctan( Ø ** -33) -  arctan( Ø ** -35)) - arctan(1/12752043)\n",
      "-7.940933880509066e-23\n",
      "(arctan( Ø ** -35) -  arctan( Ø ** -37)) - arctan(1/33385282)\n",
      "-3.3087224502121107e-23\n",
      "(arctan( Ø ** -37) -  arctan( Ø ** -39)) - arctan(1/87403803)\n",
      "-1.4889251025954498e-23\n"
     ]
    }
   ],
   "source": [
    "def build_expr():\n",
    "    a005248 = A005248()\n",
    "    exp1 = 1\n",
    "    exp2 = -1\n",
    "    template = \"(arctan( Ø ** {}) -  arctan( Ø ** {})) - arctan(1/{})\"\n",
    "    while True:\n",
    "        yield template.format(exp1, exp2, next(a005248))\n",
    "        exp1 -= 2\n",
    "        exp2 -= 2\n",
    "\n",
    "expr_gen = build_expr()\n",
    "\n",
    "for _ in range(20):\n",
    "    expr = next(expr_gen)\n",
    "    print(expr)\n",
    "    print(eval(expr))"
   ]
  },
  {
   "cell_type": "markdown",
   "metadata": {},
   "source": [
    "Looking good!"
   ]
  }
 ],
 "metadata": {
  "kernelspec": {
   "display_name": "Python 3",
   "language": "python",
   "name": "python3"
  },
  "language_info": {
   "codemirror_mode": {
    "name": "ipython",
    "version": 3
   },
   "file_extension": ".py",
   "mimetype": "text/x-python",
   "name": "python",
   "nbconvert_exporter": "python",
   "pygments_lexer": "ipython3",
   "version": "3.6.4"
  }
 },
 "nbformat": 4,
 "nbformat_minor": 2
}
