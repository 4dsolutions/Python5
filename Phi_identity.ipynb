{
 "cells": [
  {
   "cell_type": "markdown",
   "metadata": {},
   "source": [
    "# Another Phi Identity\n",
    "\n",
    "Developed from an email from D. B. Koski.\n",
    "\n",
    "Or, in a Markdown cell (fingers crossed Github gets it):\n",
    "\n",
    "$$\n",
    "2(n+1) = \\sum\\limits_{i}^n (fibo(i)\\phi^{3-i} + fibo(i-3)\\phi^{i})\n",
    "$$\n",
    "\n",
    "What we aim to accomplish, in this exercise, is showing how the above equality might be treated as a claim, the sense of which needs to be established, followed by its truth or untruth.\n",
    "\n",
    "The sense would come before truthood is part of the grammar, in the sameway that what is meaningless cannot be quite the same as false.\n",
    "\n",
    "Anyway, our equality is far from meaningless and involves two terms always summing to make two, no matter the value of n.  As i travels from 0 to n, inclusive, it contributes that many 2s, i.e. (n + 1) of them.  If i runs from 0 to 1, that's 2 + 2 = 4 and so on.\n",
    "\n",
    "Winding the Fibonacci Numbers back to start them with 2, -1 reminds us the Fibonacci Numbers [extend in both directions](https://oeis.org/A147316)."
   ]
  },
  {
   "cell_type": "code",
   "execution_count": 2,
   "metadata": {},
   "outputs": [
    {
     "name": "stdout",
     "output_type": "stream",
     "text": [
      "SEQ1: [0, 1, 1, 2, 3, 5, 8, 13, 21, 34]\n",
      "SEQ2: [2, -1, 1, 0, 1, 1, 2, 3, 5, 8]\n",
      " 2 ==    0 * Ø**(  3) +    2 * Ø**(  0)  --> 2.000000000000000000\n",
      " 2 ==    1 * Ø**(  2) +   -1 * Ø**( -1)  --> 2.000000000000000000\n",
      " 2 ==    1 * Ø**(  1) +    1 * Ø**( -2)  --> 2.000000000000000000\n",
      " 2 ==    2 * Ø**(  0) +    0 * Ø**( -3)  --> 2.000000000000000000\n",
      " 2 ==    3 * Ø**( -1) +    1 * Ø**( -4)  --> 2.000000000000000000\n",
      " 2 ==    5 * Ø**( -2) +    1 * Ø**( -5)  --> 2.000000000000000000\n",
      " 2 ==    8 * Ø**( -3) +    2 * Ø**( -6)  --> 2.000000000000000000\n",
      " 2 ==   13 * Ø**( -4) +    3 * Ø**( -7)  --> 2.000000000000000000\n",
      " 2 ==   21 * Ø**( -5) +    5 * Ø**( -8)  --> 2.000000000000000000\n",
      " 2 ==   34 * Ø**( -6) +    8 * Ø**( -9)  --> 2.000000000000000000\n"
     ]
    }
   ],
   "source": [
    "import math\n",
    "import gmpy2\n",
    "\n",
    "gmpy2.get_context().precision=200\n",
    "\n",
    "def fibo(a=0, b=1):\n",
    "    while True:\n",
    "        yield a\n",
    "        a, b = b, a + b\n",
    "        \n",
    "fib_gen = fibo()\n",
    "print(\"SEQ1:\",[next(fib_gen) for _ in range(10)])\n",
    "\n",
    "fib_gen = fibo(2, -1)\n",
    "print(\"SEQ2:\",[next(fib_gen) for _ in range(10)])\n",
    "\n",
    "coeff0 = fibo()\n",
    "coeff1 = fibo(2, -1)\n",
    "Ø      = (gmpy2.sqrt(5) + 1)/2\n",
    "\n",
    "template = \" 2 == {coeff0:>4} * Ø**({a:>3}) + {coeff1:>4} * Ø**({b:>3}) \"\n",
    "expr     = \"{coeff0:>3} * Ø**({a:>3}) + {coeff1:>3} * Ø**({b:>3})\"\n",
    "args   = {}\n",
    "\n",
    "for n in range(10):\n",
    "    args[\"a\"] = 3 - n\n",
    "    args[\"b\"] = -n\n",
    "    args[\"coeff0\"] = next(coeff0)\n",
    "    args[\"coeff1\"] = next(coeff1)\n",
    "    identity = template.format(**args)\n",
    "    print(identity, end=\" --> \")\n",
    "    print(\"{:>20.18f}\".format(eval(expr.format(**args))))"
   ]
  },
  {
   "cell_type": "code",
   "execution_count": 3,
   "metadata": {},
   "outputs": [],
   "source": [
    "def sequence(n):\n",
    "    coeff0 = fibo()\n",
    "    coeff1 = fibo(2, -1)\n",
    "    total = 0\n",
    "    for i in range(n+1):\n",
    "        args[\"a\"] = 3 - i\n",
    "        args[\"b\"] = -i\n",
    "        args[\"coeff0\"] = next(coeff0)\n",
    "        args[\"coeff1\"] = next(coeff1)\n",
    "        total += eval(expr.format(**args))\n",
    "    return total"
   ]
  },
  {
   "cell_type": "code",
   "execution_count": 4,
   "metadata": {},
   "outputs": [
    {
     "data": {
      "text/plain": [
       "mpfr('2.0',200)"
      ]
     },
     "execution_count": 4,
     "metadata": {},
     "output_type": "execute_result"
    }
   ],
   "source": [
    "sequence(0)"
   ]
  },
  {
   "cell_type": "code",
   "execution_count": 5,
   "metadata": {},
   "outputs": [
    {
     "data": {
      "text/plain": [
       "[mpfr('2.0',200),\n",
       " mpfr('4.0',200),\n",
       " mpfr('6.0',200),\n",
       " mpfr('8.0',200),\n",
       " mpfr('10.0',200),\n",
       " mpfr('12.0',200),\n",
       " mpfr('14.0',200),\n",
       " mpfr('16.0',200),\n",
       " mpfr('18.0',200),\n",
       " mpfr('20.0',200)]"
      ]
     },
     "execution_count": 5,
     "metadata": {},
     "output_type": "execute_result"
    }
   ],
   "source": [
    "[sequence(n) for n in range(10)]"
   ]
  },
  {
   "cell_type": "markdown",
   "metadata": {},
   "source": [
    "Lets generalize by rewinding further back in the Fibonacci Numbers, starting with coefficients 610 and -144 respectively, and going forward from there.  The printout below overlaps the one above, while showing that, indeed, we're free to press this identity in both directions.  \n",
    "\n",
    "Two terms with Fibonacci coefficients, three apart (the first ahead), and exponents of phi three apart (the first three higher), always add to give the number 2, starting with anchoring relationships such as:\n",
    "\n",
    "$$\n",
    "2 = fibo(i)\\phi^{3-i} + fibo(i-3)\\phi^{i}\n",
    "$$\n",
    "\n",
    "We could rewrite the Sigma expression accordingly."
   ]
  },
  {
   "cell_type": "code",
   "execution_count": 6,
   "metadata": {},
   "outputs": [
    {
     "name": "stdout",
     "output_type": "stream",
     "text": [
      "SEQ1: [-144, 89, -55, 34, -21, 13, -8, 5, -3, 2]\n",
      "SEQ2: [610, -377, 233, -144, 89, -55, 34, -21, 13, -8]\n",
      " 2 == -144 * Ø**( 15) +  610 * Ø**( 12)  --> 2.000000000000000000\n",
      " 2 ==   89 * Ø**( 14) + -377 * Ø**( 11)  --> 2.000000000000000000\n",
      " 2 ==  -55 * Ø**( 13) +  233 * Ø**( 10)  --> 2.000000000000000000\n",
      " 2 ==   34 * Ø**( 12) + -144 * Ø**(  9)  --> 2.000000000000000000\n",
      " 2 ==  -21 * Ø**( 11) +   89 * Ø**(  8)  --> 2.000000000000000000\n",
      " 2 ==   13 * Ø**( 10) +  -55 * Ø**(  7)  --> 2.000000000000000000\n",
      " 2 ==   -8 * Ø**(  9) +   34 * Ø**(  6)  --> 2.000000000000000000\n",
      " 2 ==    5 * Ø**(  8) +  -21 * Ø**(  5)  --> 2.000000000000000000\n",
      " 2 ==   -3 * Ø**(  7) +   13 * Ø**(  4)  --> 2.000000000000000000\n",
      " 2 ==    2 * Ø**(  6) +   -8 * Ø**(  3)  --> 2.000000000000000000\n",
      " 2 ==   -1 * Ø**(  5) +    5 * Ø**(  2)  --> 2.000000000000000000\n",
      " 2 ==    1 * Ø**(  4) +   -3 * Ø**(  1)  --> 2.000000000000000000\n",
      " 2 ==    0 * Ø**(  3) +    2 * Ø**(  0)  --> 2.000000000000000000\n",
      " 2 ==    1 * Ø**(  2) +   -1 * Ø**( -1)  --> 2.000000000000000000\n",
      " 2 ==    1 * Ø**(  1) +    1 * Ø**( -2)  --> 2.000000000000000000\n",
      " 2 ==    2 * Ø**(  0) +    0 * Ø**( -3)  --> 2.000000000000000000\n",
      " 2 ==    3 * Ø**( -1) +    1 * Ø**( -4)  --> 2.000000000000000000\n",
      " 2 ==    5 * Ø**( -2) +    1 * Ø**( -5)  --> 2.000000000000000000\n",
      " 2 ==    8 * Ø**( -3) +    2 * Ø**( -6)  --> 2.000000000000000000\n",
      " 2 ==   13 * Ø**( -4) +    3 * Ø**( -7)  --> 2.000000000000000000\n"
     ]
    }
   ],
   "source": [
    "fib_gen = fibo(-144, 89)\n",
    "print(\"SEQ1:\",[next(fib_gen) for _ in range(10)])\n",
    "\n",
    "fib_gen = fibo(610, -377)\n",
    "print(\"SEQ2:\",[next(fib_gen) for _ in range(10)])\n",
    "\n",
    "coeff0 = fibo(-144, 89)\n",
    "coeff1 = fibo(610, -377)\n",
    "for n in range(-12,8):\n",
    "    args[\"a\"] = 3 - n\n",
    "    args[\"b\"] = -n\n",
    "    args[\"coeff0\"] = next(coeff0)\n",
    "    args[\"coeff1\"] = next(coeff1)\n",
    "    identity = template.format(**args)\n",
    "    print(identity, end=\" --> \")\n",
    "    print(\"{:>20.18f}\".format(eval(expr.format(**args))))"
   ]
  },
  {
   "cell_type": "markdown",
   "metadata": {},
   "source": [
    "$$\n",
    "2(n+1) = \\sum\\limits_{i}^n (fibo(i)\\phi^{3-i} + fibo(i-3)\\phi^{i})\n",
    "$$"
   ]
  }
 ],
 "metadata": {
  "kernelspec": {
   "display_name": "Python 3",
   "language": "python",
   "name": "python3"
  },
  "language_info": {
   "codemirror_mode": {
    "name": "ipython",
    "version": 3
   },
   "file_extension": ".py",
   "mimetype": "text/x-python",
   "name": "python",
   "nbconvert_exporter": "python",
   "pygments_lexer": "ipython3",
   "version": "3.6.8"
  }
 },
 "nbformat": 4,
 "nbformat_minor": 2
}
