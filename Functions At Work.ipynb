{
 "cells": [
  {
   "cell_type": "markdown",
   "metadata": {},
   "source": [
    "# Chapter 2: FUNCTIONS AT WORK\n",
    "\n",
    "Lets start off with a Python function, using the keyword def (for \"define\"). Functions help organize code, primarily by doing fixed unchanging things, step by step, to something changing we give it to work on.\n",
    "\n",
    "For example, we might have a function called \"dress this doll\" that dresses any doll we give it.  The of a function as a verb that typically works on an object, creating a result that, typically is another object.  The mathematical idea of a *function* is not far off.  Mathematical functions never produce different a different result, given the same inputs or arguments.  That's a standard to aim for with the functions you design.\n",
    "\n",
    "In the example below, the function named *cyclic* is what we call a \"callable\" meaning you invoke it by putting parentheses after it.  Not only callables are functions.  When we\n",
    "initialize an instance of a class, coming soon, we'll call the class.  You'll see. \n",
    "\n",
    "## Callable objects in general\n",
    "\n",
    "Actually, lets talk right now about how the types, the template classes for lists, dicts, tuples, other data structures, are callables.  Lets list some of those types:  bool (True or False); str (string); list (a collection type); dict (not a sequence); range (yes, a type, not a function) and zip (yes, a type, for creating instances of the zip class).\n",
    "\n",
    "### Calling types\n",
    "\n",
    "Calling any type with no arguments logically suggests an empty instance of whatever Something, e.g. d = dict() would be \"empty dictionary\" and the_list = list() should start an empty list. \n",
    "\n",
    "How about int(); float(); decimal()?  These would produce their respective versions of zero, one would think, and they do.\n",
    "\n",
    "Lets do some testing:"
   ]
  },
  {
   "cell_type": "code",
   "execution_count": 1,
   "metadata": {
    "collapsed": false
   },
   "outputs": [
    {
     "name": "stdout",
     "output_type": "stream",
     "text": [
      "[] {}\n"
     ]
    }
   ],
   "source": [
    "the_list = list()\n",
    "nada_dict = dict(the_list)  # converting\n",
    "print(the_list, nada_dict)"
   ]
  },
  {
   "cell_type": "markdown",
   "metadata": {},
   "source": [
    "We created an empty list and an empty dict in the steps above, and then printed them.  print(&nbsp;) is an example of a built-in Python function.  It sends strings to the console, converting objects to strings first, as a part of its job.  We fed it not-string type objects, but it didn't complain.\n",
    "\n",
    "Lets continue calling the built-in types, with no arguments..."
   ]
  },
  {
   "cell_type": "code",
   "execution_count": 2,
   "metadata": {
    "collapsed": false
   },
   "outputs": [
    {
     "name": "stdout",
     "output_type": "stream",
     "text": [
      "\n",
      "empty_string: \n",
      "logical:  False\n",
      "float_zero:  0.0\n",
      "int_zero: 0\n",
      "d: 0\n"
     ]
    }
   ],
   "source": [
    "import decimal\n",
    "# lets create more \"empty stuff\" by calling types with no arguments\n",
    "empty_string = str()\n",
    "logical = bool()\n",
    "float_zero = float()\n",
    "int_zero = int()\n",
    "d = decimal.Decimal()\n",
    "# a triple-quoted string may go on for many lines...\n",
    "# and the format method enables substitution into \n",
    "# curly brace placeholders\n",
    "print(\"\"\"\n",
    "empty_string: {}\n",
    "logical:  {}\n",
    "float_zero:  {}\n",
    "int_zero: {}\n",
    "d: {}\"\"\".format(empty_string, logical, float_zero, int_zero, d))"
   ]
  },
  {
   "cell_type": "markdown",
   "metadata": {},
   "source": [
    "The empty string doesn't show up, because it's empty.  Spaces wouldn't show up either, when printed.  However an empty string and single space are different.  \n",
    "\n",
    "The former has a length of 0, the latter a length of 1.  "
   ]
  },
  {
   "cell_type": "code",
   "execution_count": 3,
   "metadata": {
    "collapsed": false
   },
   "outputs": [
    {
     "name": "stdout",
     "output_type": "stream",
     "text": [
      "0 1\n"
     ]
    }
   ],
   "source": [
    "print(len(str()), len(\" \"))"
   ]
  },
  {
   "cell_type": "markdown",
   "metadata": {},
   "source": [
    "If we check for equality (==), we find the answer is False."
   ]
  },
  {
   "cell_type": "code",
   "execution_count": 4,
   "metadata": {
    "collapsed": false
   },
   "outputs": [
    {
     "data": {
      "text/plain": [
       "False"
      ]
     },
     "execution_count": 4,
     "metadata": {},
     "output_type": "execute_result"
    }
   ],
   "source": [
    "str() == \" \"  # empty string equals space? (no way)"
   ]
  },
  {
   "cell_type": "markdown",
   "metadata": {},
   "source": [
    "What have we been looking at?  Built-in callables mainly (although *print* is a function), which includes more than just functions; but also types.\n",
    "\n",
    "## A First Function\n",
    "\n",
    "Now lets look at a function, the source code for an object of that type.  The one below expects a single object for input.  \n",
    "\n",
    "The name *cyclic* gives a hint to the reader what type we want, plus an annotations feature would let us even write that we expect a dict more explicitly. Almost another way of commenting.\n",
    "\n",
    "The triple-quoted docstring shows the annotated version of the function head, the line with def in it."
   ]
  },
  {
   "cell_type": "code",
   "execution_count": 5,
   "metadata": {
    "collapsed": true
   },
   "outputs": [],
   "source": [
    "def cyclic(the_dict):\n",
    "    \"\"\"\n",
    "    cyclic notation, a compact view of a permutation\n",
    "    \n",
    "    could say (annotated version):\n",
    "    \n",
    "    def cyclic(the_dict : dict) -> tuple:\n",
    "    \n",
    "    without annoying, or troubling, the Python interpreter (try it!).\n",
    "    \"\"\"\n",
    "    output = []      # we'll make this a tuple before returning\n",
    "    while the_dict:\n",
    "        start = tuple(the_dict.keys())[0]\n",
    "        the_cycle = [start]\n",
    "        the_next = the_dict.pop(start) # take it out of the_dict\n",
    "        while the_next != start:       # keep going until we cycle\n",
    "            the_cycle.append(the_next) # following the bread crumb trail...\n",
    "            the_next = the_dict.pop(the_next)  # look up what we're paired with\n",
    "        output.append(tuple(the_cycle)) # we've got a cycle, append to output\n",
    "    return tuple(output) # giving back a tuple object, job complete"
   ]
  },
  {
   "cell_type": "markdown",
   "metadata": {},
   "source": [
    "Don't let the above code intimidate you.  It's about the right size for a function, and does just the right amount of work.  Note that it delegates to methods our high level data structures bring to the table, such as *pop* and *append*.\n",
    "\n",
    "### Looking at Data Structures\n",
    "\n",
    "All list type objects know how to append, as a part of their heritage.  To pop, in the case of a dict, is to remove an item by key, while returning the value.  Lets look at that:"
   ]
  },
  {
   "cell_type": "code",
   "execution_count": 6,
   "metadata": {
    "collapsed": false
   },
   "outputs": [
    {
     "data": {
      "text/plain": [
       "{'bear': 2.5, 'monkey': 3, 'otter': 1.5}"
      ]
     },
     "execution_count": 6,
     "metadata": {},
     "output_type": "execute_result"
    }
   ],
   "source": [
    "ages = {\"monkey\":3, \"bear\":2.5, \"otter\":1.5}  # remember me?\n",
    "ages"
   ]
  },
  {
   "cell_type": "code",
   "execution_count": 7,
   "metadata": {
    "collapsed": false
   },
   "outputs": [
    {
     "data": {
      "text/plain": [
       "2.5"
      ]
     },
     "execution_count": 7,
     "metadata": {},
     "output_type": "execute_result"
    }
   ],
   "source": [
    "bear_age = ages.pop(\"bear\")  # take a key, return a value\n",
    "bear_age"
   ]
  },
  {
   "cell_type": "code",
   "execution_count": 8,
   "metadata": {
    "collapsed": false
   },
   "outputs": [
    {
     "data": {
      "text/plain": [
       "{'monkey': 3, 'otter': 1.5}"
      ]
     },
     "execution_count": 8,
     "metadata": {},
     "output_type": "execute_result"
    }
   ],
   "source": [
    "ages  # the bear item is gone"
   ]
  },
  {
   "cell_type": "markdown",
   "metadata": {},
   "source": [
    "In cyclic, we're \"diasy chaining\" through a dict, meaning each key points to a value, which becomes the key to a next value, and so on, until we loop back around to the first in the sequence, if we do (we must eventually because the dict is finite).\n",
    "\n",
    "Sounds like [a square dance](https://youtu.be/QuaojjCV1Tk) of some kind.\n",
    "\n",
    "If letter 'd' maps to letter 'd' then ('d',) is the cyclic subgroup (in inner tuple); whereas if 'd' maps to 'a', 'a' back to 'd', then ('d' 'a') or ('a' , 'd') says it all.  Any permutation may be expressed as a tuple of such tuples.\n",
    "\n",
    "Pick a letter, any letter (in our set).  It maps to something, which maps to something else, and so on, until you come back around.  We'll always be able to express a permutation in this form.\n",
    "\n",
    "Lets run the above function on some actual permutation to make this more concrete.  \n",
    "\n",
    "First, lest serve up the dictionary:"
   ]
  },
  {
   "cell_type": "code",
   "execution_count": 9,
   "metadata": {
    "collapsed": false
   },
   "outputs": [
    {
     "name": "stdout",
     "output_type": "stream",
     "text": [
      "ASCII abcdefghijklmnopqrstuvwxyz\n",
      "Coding Key: {'a': 's', 'b': 'h', 'c': 'f', 'd': 'q', 'e': ' ', 'f': 'z', 'g': 'k', 'h': 'm', 'i': 'i', 'j': 't', 'k': 'a', 'l': 'y', 'm': 'd', 'n': 'u', 'o': 'b', 'p': 'v', 'q': 'j', 'r': 'r', 's': 'g', 't': 'l', 'u': 'o', 'v': 'n', 'w': 'p', 'x': 'e', 'y': 'w', 'z': 'c', ' ': 'x'}\n"
     ]
    }
   ],
   "source": [
    "from string import ascii_lowercase # a string\n",
    "from random import shuffle\n",
    "the_letters = list(ascii_lowercase) + [\" \"] # lowercase plus space, as a list\n",
    "shuffled = the_letters.copy() # copy me\n",
    "shuffle(shuffled)             # works \"in place\" i.e. None returned\n",
    "permutation = dict(zip(the_letters, shuffled)) # make pairs, each letter w/ random other\n",
    "print(\"ASCII\", ascii_lowercase)\n",
    "print(\"Coding Key:\", permutation)"
   ]
  },
  {
   "cell_type": "markdown",
   "metadata": {},
   "source": [
    "ASCII is the precursor to [Unicode](https://youtu.be/Z_sl99D2a18), a vast lookup table containing a huge number of important symbols, such as world alphabets and ideograms, special symbols (chess pieces, playing cards), emoji.  \n",
    "\n",
    "In some romantic science fiction we might imagine sharing Unicode with distant aliens, as if this were a helpful puzzle piece.  When talking with humans though, it really helps to share a database.\n",
    "\n",
    "We take all 26 letters from lowercase ascii, a canned (pre-stored) string within the string module, part of the Standard Library, plus the space (space bar, ASCII character 32), and turn that into a list of 27 elements.  Feed two such lists, one a clone of the other, but reshuffled, to the zip type, making pairs, in turn feeding all those pairs in one object to dict, a type which knows how to deal with precisely that format.\n",
    "\n",
    "Lets look at the process with some integers instead:"
   ]
  },
  {
   "cell_type": "code",
   "execution_count": 10,
   "metadata": {
    "collapsed": false
   },
   "outputs": [
    {
     "data": {
      "text/plain": [
       "((0, 4),\n",
       " (1, 12),\n",
       " (2, 0),\n",
       " (3, 9),\n",
       " (4, 7),\n",
       " (5, 20),\n",
       " (6, 10),\n",
       " (7, 13),\n",
       " (8, 15),\n",
       " (9, 19),\n",
       " (10, 8),\n",
       " (11, 6),\n",
       " (12, 17),\n",
       " (13, 2),\n",
       " (14, 11),\n",
       " (15, 16),\n",
       " (16, 5),\n",
       " (17, 14),\n",
       " (18, 18),\n",
       " (19, 3),\n",
       " (20, 1))"
      ]
     },
     "execution_count": 10,
     "metadata": {},
     "output_type": "execute_result"
    }
   ],
   "source": [
    "# feel free to keep re-running this, a different permutation every time!\n",
    "seq1 = list(range(21))\n",
    "seq2 = seq1.copy()\n",
    "shuffle(seq2)\n",
    "the_zip = tuple(zip(seq1, seq2))  # actually a tuple already\n",
    "the_zip"
   ]
  },
  {
   "cell_type": "markdown",
   "metadata": {},
   "source": [
    "Now lets feed all that to the dict type (a native Python builtin), an essential job of which is to spawn instances of its own type.  \n",
    "\n",
    "To that end, it's a callable, taking in the raw material needed for the constitution of new such objects, new dict objects in this case:"
   ]
  },
  {
   "cell_type": "code",
   "execution_count": 11,
   "metadata": {
    "collapsed": true
   },
   "outputs": [],
   "source": [
    "perm_ints = dict(the_zip) # the_zip is by now a tuple of tuples, which dict will digest"
   ]
  },
  {
   "cell_type": "markdown",
   "metadata": {},
   "source": [
    "Our function will work equally well on either dict, as we're not depending on the type of our keys and/or values for this recipe to work.  \n",
    "\n",
    "In the one dict, *permutation*, we map letters to letters, in this other *perm_ints*, we maps ints to ints. \n",
    "\n",
    "The cyclic function doesn't care about these details and works the same either way. Python is good at letting us generalize. \n",
    "\n",
    "That doesn't mean *cyclic* is immune from crashing.  It's expecting a dict wherein every value is also a valid key.  Not every dict is like that."
   ]
  },
  {
   "cell_type": "code",
   "execution_count": 12,
   "metadata": {
    "collapsed": false
   },
   "outputs": [
    {
     "data": {
      "text/plain": [
       "(('a', 's', 'g', 'k'),\n",
       " ('b', 'h', 'm', 'd', 'q', 'j', 't', 'l', 'y', 'w', 'p', 'v', 'n', 'u', 'o'),\n",
       " ('c', 'f', 'z'),\n",
       " ('e', ' ', 'x'),\n",
       " ('i',),\n",
       " ('r',))"
      ]
     },
     "execution_count": 12,
     "metadata": {},
     "output_type": "execute_result"
    }
   ],
   "source": [
    "cyclic(permutation)"
   ]
  },
  {
   "cell_type": "code",
   "execution_count": 13,
   "metadata": {
    "collapsed": false
   },
   "outputs": [
    {
     "data": {
      "text/plain": [
       "((0, 4, 7, 13, 2),\n",
       " (1, 12, 17, 14, 11, 6, 10, 8, 15, 16, 5, 20),\n",
       " (3, 9, 19),\n",
       " (18,))"
      ]
     },
     "execution_count": 13,
     "metadata": {},
     "output_type": "execute_result"
    }
   ],
   "source": [
    "cyclic(perm_ints)"
   ]
  },
  {
   "cell_type": "markdown",
   "metadata": {},
   "source": [
    "You may be wondering, considering the above pipeline, which went from zip type, to tuple, then to dict, whether a dict might eat a zip type directly.  Lets try that..."
   ]
  },
  {
   "cell_type": "code",
   "execution_count": 14,
   "metadata": {
    "collapsed": false
   },
   "outputs": [
    {
     "data": {
      "text/plain": [
       "{0: 4,\n",
       " 1: 12,\n",
       " 2: 0,\n",
       " 3: 9,\n",
       " 4: 7,\n",
       " 5: 20,\n",
       " 6: 10,\n",
       " 7: 13,\n",
       " 8: 15,\n",
       " 9: 19,\n",
       " 10: 8,\n",
       " 11: 6,\n",
       " 12: 17,\n",
       " 13: 2,\n",
       " 14: 11,\n",
       " 15: 16,\n",
       " 16: 5,\n",
       " 17: 14,\n",
       " 18: 18,\n",
       " 19: 3,\n",
       " 20: 1}"
      ]
     },
     "execution_count": 14,
     "metadata": {},
     "output_type": "execute_result"
    }
   ],
   "source": [
    "cipher = dict(zip(seq1, seq2))  # will a dict eat a zip?\n",
    "cipher"
   ]
  },
  {
   "cell_type": "markdown",
   "metadata": {},
   "source": [
    "So yes, that works great.\n",
    "\n",
    "So why did we call our dict thing a cipher just now?  Because a permutation suggests a way of encrypting a message, meaning to make it \"hard to crack\" where \"prying eyes\" are concerned.  \n",
    "\n",
    "So-called substitution codes are not that easy to crack if changed frequently and used for only short messages, or so they tell me.  If we know the encrypted language, such as English, then a letter frequency analysis may help with the crack.\n",
    "\n",
    "However lets not get into making any claims about uncrackability, and just take a look of how if two people, call them Alice and Bob, share the same secret key, then message between them might stay encrypted, impeneterable to Eve, at least for awhile."
   ]
  },
  {
   "cell_type": "code",
   "execution_count": 15,
   "metadata": {
    "collapsed": false
   },
   "outputs": [],
   "source": [
    "def encrypt(plain : str, secret_key : dict) -> str:\n",
    "    \"\"\"\n",
    "    turn plaintext into cyphertext using the secret key\n",
    "    \"\"\"\n",
    "    output = \"\"  # empty string\n",
    "    for c in plain:\n",
    "        output = output + secret_key.get(c, c) \n",
    "    return output"
   ]
  },
  {
   "cell_type": "code",
   "execution_count": 16,
   "metadata": {
    "collapsed": true
   },
   "outputs": [],
   "source": [
    "c = encrypt(\"able was i ere i say elba\", permutation) # something Napoleon might have said"
   ]
  },
  {
   "cell_type": "code",
   "execution_count": 17,
   "metadata": {
    "collapsed": false
   },
   "outputs": [
    {
     "data": {
      "text/plain": [
       "'able was i ere i say elba'"
      ]
     },
     "execution_count": 17,
     "metadata": {},
     "output_type": "execute_result"
    }
   ],
   "source": [
    "c"
   ]
  },
  {
   "cell_type": "markdown",
   "metadata": {},
   "source": [
    "Excuse me?  That doesn't look scrambled at all?  The reason is subtle:  feeding permuation to cyclic above rendered it empty.  We operated upon \"the_dict\" and in turning out a corresponding tuple of tuples, consumed the object fed it.  The function worked on our only copy, on the original itself."
   ]
  },
  {
   "cell_type": "code",
   "execution_count": 18,
   "metadata": {
    "collapsed": false
   },
   "outputs": [
    {
     "data": {
      "text/plain": [
       "{}"
      ]
     },
     "execution_count": 18,
     "metadata": {},
     "output_type": "execute_result"
    }
   ],
   "source": [
    "permutation"
   ]
  },
  {
   "cell_type": "markdown",
   "metadata": {},
   "source": [
    "Let's do two things to improve the situation:\n",
    "* generate permutations from a function, that takes a set of what to permute\n",
    "* make sure the cyclic function doesn't mess with the passed-in original\n",
    "\n",
    "Let's do first things first:"
   ]
  },
  {
   "cell_type": "code",
   "execution_count": 19,
   "metadata": {
    "collapsed": false
   },
   "outputs": [],
   "source": [
    "def make_perm(incoming : set) -> dict:\n",
    "    seq1 = list(incoming)\n",
    "    seq2 = seq1.copy()\n",
    "    shuffle(seq2)\n",
    "    return dict(zip(seq1, seq2))"
   ]
  },
  {
   "cell_type": "code",
   "execution_count": 20,
   "metadata": {
    "collapsed": false
   },
   "outputs": [
    {
     "data": {
      "text/plain": [
       "{0: 3, 1: 6, 2: 7, 3: 9, 4: 8, 5: 0, 6: 4, 7: 5, 8: 1, 9: 2}"
      ]
     },
     "execution_count": 20,
     "metadata": {},
     "output_type": "execute_result"
    }
   ],
   "source": [
    "make_perm(set(range(10)))"
   ]
  },
  {
   "cell_type": "code",
   "execution_count": 21,
   "metadata": {
    "collapsed": false
   },
   "outputs": [
    {
     "data": {
      "text/plain": [
       "{' ': 'q',\n",
       " 'a': 'r',\n",
       " 'b': 'c',\n",
       " 'c': 'a',\n",
       " 'd': 'e',\n",
       " 'e': 'z',\n",
       " 'f': 'p',\n",
       " 'g': 'i',\n",
       " 'h': 'v',\n",
       " 'i': 't',\n",
       " 'j': 'n',\n",
       " 'k': 'u',\n",
       " 'l': 'd',\n",
       " 'm': 'h',\n",
       " 'n': 'j',\n",
       " 'o': 'y',\n",
       " 'p': 'l',\n",
       " 'q': 'k',\n",
       " 'r': 's',\n",
       " 's': 'w',\n",
       " 't': 'm',\n",
       " 'u': 'f',\n",
       " 'v': 'b',\n",
       " 'w': 'o',\n",
       " 'x': 'x',\n",
       " 'y': ' ',\n",
       " 'z': 'g'}"
      ]
     },
     "execution_count": 21,
     "metadata": {},
     "output_type": "execute_result"
    }
   ],
   "source": [
    "make_perm(the_letters) # defined above as lowercase ascii letters plus space"
   ]
  },
  {
   "cell_type": "markdown",
   "metadata": {},
   "source": [
    "That's all working great, and now the second change, a new cyclic:"
   ]
  },
  {
   "cell_type": "code",
   "execution_count": 22,
   "metadata": {
    "collapsed": true
   },
   "outputs": [],
   "source": [
    "def cyclic(the_perm : dict) -> tuple:\n",
    "    \"\"\"\n",
    "    cyclic notation, a compact view of a permutation\n",
    "    \"\"\"\n",
    "    output = []      # we'll make this a tuple before returning\n",
    "    \n",
    "    the_dict = the_perm.copy() # protect the original from exhaustion\n",
    "    \n",
    "    while the_dict:\n",
    "        start = tuple(the_dict.keys())[0]\n",
    "        the_cycle = [start]\n",
    "        the_next = the_dict.pop(start) # take it out of the_dict\n",
    "        while the_next != start:       # keep going until we cycle\n",
    "            the_cycle.append(the_next) # following the bread crumb trail...\n",
    "            the_next = the_dict.pop(the_next)  # look up what we're paired with\n",
    "        output.append(tuple(the_cycle)) # we've got a cycle, append to output\n",
    "    return tuple(output) # giving back a tuple object, job complete"
   ]
  },
  {
   "cell_type": "code",
   "execution_count": 23,
   "metadata": {
    "collapsed": true
   },
   "outputs": [],
   "source": [
    "original = make_perm(the_letters)  # the_letters is a string"
   ]
  },
  {
   "cell_type": "code",
   "execution_count": 24,
   "metadata": {
    "collapsed": true
   },
   "outputs": [],
   "source": [
    "cyclic_view = cyclic(original)"
   ]
  },
  {
   "cell_type": "code",
   "execution_count": 25,
   "metadata": {
    "collapsed": false
   },
   "outputs": [
    {
     "data": {
      "text/plain": [
       "(('a', 'v', 'r', 'b', 'k', 'e', 's', 'z', 'i'),\n",
       " ('c', 'u', 'x', 'q', 'm', 'd', 'o', 'j', 'f', 'h', 'p', ' '),\n",
       " ('g', 't', 'l', 'y', 'w', 'n'))"
      ]
     },
     "execution_count": 25,
     "metadata": {},
     "output_type": "execute_result"
    }
   ],
   "source": [
    "cyclic_view"
   ]
  },
  {
   "cell_type": "code",
   "execution_count": 26,
   "metadata": {
    "collapsed": false
   },
   "outputs": [
    {
     "data": {
      "text/plain": [
       "{' ': 'c',\n",
       " 'a': 'v',\n",
       " 'b': 'k',\n",
       " 'c': 'u',\n",
       " 'd': 'o',\n",
       " 'e': 's',\n",
       " 'f': 'h',\n",
       " 'g': 't',\n",
       " 'h': 'p',\n",
       " 'i': 'a',\n",
       " 'j': 'f',\n",
       " 'k': 'e',\n",
       " 'l': 'y',\n",
       " 'm': 'd',\n",
       " 'n': 'g',\n",
       " 'o': 'j',\n",
       " 'p': ' ',\n",
       " 'q': 'm',\n",
       " 'r': 'b',\n",
       " 's': 'z',\n",
       " 't': 'l',\n",
       " 'u': 'x',\n",
       " 'v': 'r',\n",
       " 'w': 'n',\n",
       " 'x': 'q',\n",
       " 'y': 'w',\n",
       " 'z': 'i'}"
      ]
     },
     "execution_count": 26,
     "metadata": {},
     "output_type": "execute_result"
    }
   ],
   "source": [
    "original"
   ]
  },
  {
   "cell_type": "markdown",
   "metadata": {},
   "source": [
    "Life is good.  As a final touch, we'd like to deciper or decrypt, what was encrypted, using the very same secret_key.  All encrypt(&nbsp;) needs to do is reverse the secret key, giving what's called the inverse permutation, and call encrypt with that.  \n",
    "\n",
    "The original message magically reappears.\n",
    "\n",
    "Lets make a new permutation for this test, so we don't confuse ourselves."
   ]
  },
  {
   "cell_type": "code",
   "execution_count": 27,
   "metadata": {
    "collapsed": true
   },
   "outputs": [],
   "source": [
    "cipher = make_perm(the_letters)\n",
    "c = encrypt(\"hello alice this is bob lets hope eve does not decrypt this\", cipher)"
   ]
  },
  {
   "cell_type": "code",
   "execution_count": 28,
   "metadata": {
    "collapsed": true
   },
   "outputs": [],
   "source": [
    "def decrypt(cyphertext : str, secret_key : dict) -> str:\n",
    "    \"\"\"\n",
    "    Turn cyphertext into plaintext using ~self\n",
    "    \"\"\"\n",
    "    reverse_P = {v: k for k, v in secret_key.items()}  # invert me!\n",
    "    output = \"\"\n",
    "    for c in cyphertext:\n",
    "        output = output + reverse_P.get(c, c)\n",
    "    return output"
   ]
  },
  {
   "cell_type": "code",
   "execution_count": 29,
   "metadata": {
    "collapsed": false
   },
   "outputs": [
    {
     "data": {
      "text/plain": [
       "'tgiiexui sgxkt jx jxzezxigkjxteqgxgpgxyegjxwekxygscrqkxkt j'"
      ]
     },
     "execution_count": 29,
     "metadata": {},
     "output_type": "execute_result"
    }
   ],
   "source": [
    "c"
   ]
  },
  {
   "cell_type": "code",
   "execution_count": 30,
   "metadata": {
    "collapsed": false
   },
   "outputs": [],
   "source": [
    "p = decrypt(c, cipher)"
   ]
  },
  {
   "cell_type": "code",
   "execution_count": 31,
   "metadata": {
    "collapsed": false
   },
   "outputs": [
    {
     "data": {
      "text/plain": [
       "'hello alice this is bob lets hope eve does not decrypt this'"
      ]
     },
     "execution_count": 31,
     "metadata": {},
     "output_type": "execute_result"
    }
   ],
   "source": [
    "p"
   ]
  },
  {
   "cell_type": "markdown",
   "metadata": {},
   "source": [
    "Final thing:  I bet you might be wondering about a function that ate a tuple of tuples, some cyclic notation, and gave back the corresponding dictionary object.  \n",
    "\n",
    "This would be the inverse function of cycle so we could call it inv_cycle.  That's a great cliff-hanger for a next chapter wouldn't you think?  Feel free to try writing inv_cycle.  Here's something to get you started:"
   ]
  },
  {
   "cell_type": "code",
   "execution_count": 32,
   "metadata": {
    "collapsed": true
   },
   "outputs": [],
   "source": [
    "def inv_cyclic(cycles : tuple) -> dict:\n",
    "    output = {} # empty dig\n",
    "    pass # more code goes here\n",
    "    return output"
   ]
  },
  {
   "cell_type": "markdown",
   "metadata": {},
   "source": [
    "Have fun!\n",
    "\n",
    "* Back to Chapter 1: [Welcome to Python](Welcome%20to%20Python.ipynb)\n",
    "* Continue to Chapter 3:  [A First Class](A%20First%20Class.ipynb)"
   ]
  }
 ],
 "metadata": {
  "kernelspec": {
   "display_name": "Python 3",
   "language": "python",
   "name": "python3"
  },
  "language_info": {
   "codemirror_mode": {
    "name": "ipython",
    "version": 3
   },
   "file_extension": ".py",
   "mimetype": "text/x-python",
   "name": "python",
   "nbconvert_exporter": "python",
   "pygments_lexer": "ipython3",
   "version": "3.6.0"
  }
 },
 "nbformat": 4,
 "nbformat_minor": 2
}
