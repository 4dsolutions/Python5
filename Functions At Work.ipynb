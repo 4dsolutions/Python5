{
 "cells": [
  {
   "cell_type": "markdown",
   "metadata": {},
   "source": [
    "# Chapter 2: FUNCTIONS AT WORK\n",
    "\n",
    "Lets start off with a Python function, using the keyword def (for \"define\"). Functions help organize code, primarily by doing fixed unchanging things, step by step, to something changing we give it to work on.\n",
    "\n",
    "For example, we might have a function called \"dress this doll\" that dresses any doll we give it.  The of a function as a verb that typically works on an object, creating a result that, typically is another object.  The mathematical idea of a *function* is not far off.  Mathematical functions never produce different a different result, given the same inputs or arguments.  That's a standard to aim for with the functions you design.\n",
    "\n",
    "In the example below, the function named *cyclic* is what we call a \"callable\" meaning you invoke it by putting parentheses after it.  Not only callables are functions.  When we\n",
    "initialize an instance of a class, coming soon, we'll call the class.  You'll see. \n",
    "\n",
    "## Callable objects in general\n",
    "\n",
    "Actually, lets talk right now about how the types, the template classes for lists, dicts, tuples, other data structures, are callables.  Lets list some of those types:  bool (True or False); str (string); list (a collection type); dict (not a sequence); range (yes, a type, not a function) and zip (yes, a type, an instance of the zip class).\n",
    "\n",
    "### Calling types\n",
    "\n",
    "Calling any type with no arguments logically suggests and empty instance of whatever Something, e.g. d = dict() would be \"empty dictionary\" and the_list = list() should start an empty list.  How about int(); float(); decimal()?  These would produce their respective versions of zero, one would think, and they do."
   ]
  },
  {
   "cell_type": "code",
   "execution_count": 1,
   "metadata": {
    "collapsed": false
   },
   "outputs": [
    {
     "name": "stdout",
     "output_type": "stream",
     "text": [
      "[] {}\n"
     ]
    }
   ],
   "source": [
    "the_list = list()\n",
    "nada_dict = dict(the_list)  # converting\n",
    "print(the_list, nada_dict)"
   ]
  },
  {
   "cell_type": "code",
   "execution_count": 2,
   "metadata": {
    "collapsed": false
   },
   "outputs": [
    {
     "name": "stdout",
     "output_type": "stream",
     "text": [
      "\n",
      "empty_string: \n",
      "logical:  False\n",
      "float_zero:  0.0\n",
      "int_zero: 0\n",
      "d: 0\n"
     ]
    }
   ],
   "source": [
    "import decimal\n",
    "empty_string = str()\n",
    "logical = bool()\n",
    "float_zero = float()\n",
    "int_zero = int()\n",
    "d = decimal.Decimal()\n",
    "# a triple-quoted string may go on for many lines...\n",
    "# and the format method enables substitution into \n",
    "# curly brace placeholders\n",
    "print(\"\"\"\n",
    "empty_string: {}\n",
    "logical:  {}\n",
    "float_zero:  {}\n",
    "int_zero: {}\n",
    "d: {}\"\"\".format(empty_string, logical, float_zero, int_zero, d))"
   ]
  },
  {
   "cell_type": "markdown",
   "metadata": {},
   "source": [
    "What have we been looking at?  Built-in callables mainly, which includes more than just functions; but also types.\n",
    "\n",
    "## A First Function\n",
    "\n",
    "Now lets look at a function, the source code for an object of that type.  The one below expects a single object for input.  \n",
    "\n",
    "The name *cyclic* gives a hint to the reader what type we want, plus an annotations feature would let us even write that we expect a dict more explicitly. Almost another way of commenting.\n",
    "\n",
    "The triple-quoted docstring shows the annotated version of the function head, the line with def in it."
   ]
  },
  {
   "cell_type": "code",
   "execution_count": 3,
   "metadata": {
    "collapsed": true
   },
   "outputs": [],
   "source": [
    "def cyclic(the_dict):\n",
    "    \"\"\"\n",
    "    cyclic notation, a compact view of a permutation\n",
    "    \n",
    "    could say (annotated version):\n",
    "    \n",
    "    def cyclic(the_dict : dict) -> tuple:\n",
    "    \n",
    "    without annoying, or troubling, the Python interpreter (try it!).\n",
    "    \"\"\"\n",
    "    output = []      # we'll make this a tuple before returning\n",
    "    while the_dict:\n",
    "        start = tuple(the_dict.keys())[0]\n",
    "        the_cycle = [start]\n",
    "        the_next = the_dict.pop(start) # take it out of the_dict\n",
    "        while the_next != start:       # keep going until we cycle\n",
    "            the_cycle.append(the_next) # following the bread crumb trail...\n",
    "            the_next = the_dict.pop(the_next)  # look up what we're paired with\n",
    "        output.append(tuple(the_cycle)) # we've got a cycle, append to output\n",
    "    return tuple(output) # giving back a tuple object, job complete"
   ]
  },
  {
   "cell_type": "markdown",
   "metadata": {},
   "source": [
    "Don't let the above code intimidate you.  It's about the right size for a function, and does just the right amount of work.  Note that it delegates to methods our high level data structures bring to the table, such as *pop* and *append*.\n",
    "\n",
    "### Looking at Data Structures\n",
    "\n",
    "All list type objects know how to append, as a part of their heritage.  To pop, in the case of a dict, is to remove an item by key, while returning the value.  Lets look at that:"
   ]
  },
  {
   "cell_type": "code",
   "execution_count": 28,
   "metadata": {
    "collapsed": false
   },
   "outputs": [
    {
     "data": {
      "text/plain": [
       "{'bear': 2.5, 'monkey': 3, 'otter': 1.5}"
      ]
     },
     "execution_count": 28,
     "metadata": {},
     "output_type": "execute_result"
    }
   ],
   "source": [
    "ages = {\"monkey\":3, \"bear\":2.5, \"otter\":1.5}  # remember me?\n",
    "ages"
   ]
  },
  {
   "cell_type": "code",
   "execution_count": 29,
   "metadata": {
    "collapsed": false
   },
   "outputs": [
    {
     "data": {
      "text/plain": [
       "2.5"
      ]
     },
     "execution_count": 29,
     "metadata": {},
     "output_type": "execute_result"
    }
   ],
   "source": [
    "bear_age = ages.pop(\"bear\")  # take a key, return a value\n",
    "bear_age"
   ]
  },
  {
   "cell_type": "code",
   "execution_count": 30,
   "metadata": {
    "collapsed": false
   },
   "outputs": [
    {
     "data": {
      "text/plain": [
       "{'monkey': 3, 'otter': 1.5}"
      ]
     },
     "execution_count": 30,
     "metadata": {},
     "output_type": "execute_result"
    }
   ],
   "source": [
    "ages  # the bear item is gone"
   ]
  },
  {
   "cell_type": "markdown",
   "metadata": {},
   "source": [
    "In cyclic, we're \"diasy chaining\" through a dict, meaning each key points to a value, which becomes the key to a next value, and so on, until we loop back around to the first in the sequence, if we do (we must eventually because the dict is finite).\n",
    "\n",
    "Sounds like [a square dance](https://youtu.be/QuaojjCV1Tk) of some kind.\n",
    "\n",
    "If letter 'd' maps to letter 'd' then ('d',) is the cyclic subgroup (in inner tuple); whereas if 'd' maps to 'a', 'a' back to 'd', then ('d' 'a') or ('a' , 'd') says it all.  Any permutation may be expressed as a tuple of such tuples.\n",
    "\n",
    "Pick a letter, any letter (in our set).  It maps to something, which maps to something else, and so on, until you come back around.  We'll always be able to express a permutation in this form.\n",
    "\n",
    "Lets run the above function on some actual permutation to make this more concrete.  \n",
    "\n",
    "First, lest serve up the dictionary:"
   ]
  },
  {
   "cell_type": "code",
   "execution_count": 4,
   "metadata": {
    "collapsed": false
   },
   "outputs": [
    {
     "name": "stdout",
     "output_type": "stream",
     "text": [
      "ASCII abcdefghijklmnopqrstuvwxyz\n",
      "Coding Key: {'a': 'u', 'b': 'w', 'c': 'j', 'd': 't', 'e': 'i', 'f': 'q', 'g': 'd', 'h': 's', 'i': 'b', 'j': 'a', 'k': 'r', 'l': 'y', 'm': 'n', 'n': 'k', 'o': 'v', 'p': 'c', 'q': 'o', 'r': 'p', 's': 'z', 't': 'h', 'u': ' ', 'v': 'g', 'w': 'f', 'x': 'l', 'y': 'e', 'z': 'x', ' ': 'm'}\n"
     ]
    }
   ],
   "source": [
    "from string import ascii_lowercase # a string\n",
    "from random import shuffle\n",
    "the_letters = list(ascii_lowercase) + [\" \"] # lowercase plus space, as a list\n",
    "shuffled = the_letters.copy() # copy me\n",
    "shuffle(shuffled)             # works \"in place\" i.e. None returned\n",
    "permutation = dict(zip(the_letters, shuffled)) # make pairs, each letter w/ random other\n",
    "print(\"ASCII\", ascii_lowercase)\n",
    "print(\"Coding Key:\", permutation)"
   ]
  },
  {
   "cell_type": "markdown",
   "metadata": {},
   "source": [
    "ASCII is the precursor to [Unicode](https://youtu.be/Z_sl99D2a18), a vast lookup table containing a huge number of important symbols, such as world alphabets and ideograms, special symbols (chess pieces, playing cards), emoji.  \n",
    "\n",
    "In some romantic science fiction we might imagine sharing Unicode with distant aliens, as if this were a helpful puzzle piece.  When talking with humans though, it really helps to share a database.\n",
    "\n",
    "We take all 26 letters from lowercase ascii, a canned (pre-stored) string within the string module, part of the Standard Library, plus the space (space bar, ASCII character 32), and turn that into a list of 27 elements.  Feed two such lists, one a clone of the other, but reshuffled, to the zip type, making pairs, in turn feeding all those pairs in one object to dict, a type which knows how to deal with precisely that format.\n",
    "\n",
    "Lets look at the process with some integers instead:"
   ]
  },
  {
   "cell_type": "code",
   "execution_count": 5,
   "metadata": {
    "collapsed": false
   },
   "outputs": [
    {
     "data": {
      "text/plain": [
       "((0, 9),\n",
       " (1, 10),\n",
       " (2, 0),\n",
       " (3, 11),\n",
       " (4, 18),\n",
       " (5, 17),\n",
       " (6, 7),\n",
       " (7, 5),\n",
       " (8, 13),\n",
       " (9, 1),\n",
       " (10, 2),\n",
       " (11, 14),\n",
       " (12, 4),\n",
       " (13, 6),\n",
       " (14, 12),\n",
       " (15, 3),\n",
       " (16, 19),\n",
       " (17, 8),\n",
       " (18, 15),\n",
       " (19, 16),\n",
       " (20, 20))"
      ]
     },
     "execution_count": 5,
     "metadata": {},
     "output_type": "execute_result"
    }
   ],
   "source": [
    "# feel free to keep re-running this, a different permutation every time!\n",
    "seq1 = list(range(21))\n",
    "seq2 = seq1.copy()\n",
    "shuffle(seq2)\n",
    "the_zip = tuple(zip(seq1, seq2))  # actually a tuple already\n",
    "the_zip"
   ]
  },
  {
   "cell_type": "markdown",
   "metadata": {},
   "source": [
    "Now lets feed all that to the dict type (a native Python builtin), an essential job of which is to spawn instances of its own type.  \n",
    "\n",
    "To that end, it's a callable, taking in the raw material needed for the constitution of new such objects, new dict objects in this case:"
   ]
  },
  {
   "cell_type": "code",
   "execution_count": 6,
   "metadata": {
    "collapsed": true
   },
   "outputs": [],
   "source": [
    "perm_ints = dict(the_zip) # the_zip is by now a tuple of tuples, which dict will digest"
   ]
  },
  {
   "cell_type": "markdown",
   "metadata": {},
   "source": [
    "Our function will work equally well on either dict, as we're not depending on the type of our keys and/or values for this recipe to work.  \n",
    "\n",
    "In the one dict, *permutation*, we map letters to letters, in this other *perm_ints*, we maps ints to ints. \n",
    "\n",
    "The cyclic function doesn't care about these details and works the same either way. Python is good at letting us generalize. \n",
    "\n",
    "That doesn't mean *cyclic* is immune from crashing.  It's expecting a dict wherein every value is also a valid key.  Not every dict is like that."
   ]
  },
  {
   "cell_type": "code",
   "execution_count": 7,
   "metadata": {
    "collapsed": false
   },
   "outputs": [
    {
     "data": {
      "text/plain": [
       "(('a', 'u', ' ', 'm', 'n', 'k', 'r', 'p', 'c', 'j'),\n",
       " ('b',\n",
       "  'w',\n",
       "  'f',\n",
       "  'q',\n",
       "  'o',\n",
       "  'v',\n",
       "  'g',\n",
       "  'd',\n",
       "  't',\n",
       "  'h',\n",
       "  's',\n",
       "  'z',\n",
       "  'x',\n",
       "  'l',\n",
       "  'y',\n",
       "  'e',\n",
       "  'i'))"
      ]
     },
     "execution_count": 7,
     "metadata": {},
     "output_type": "execute_result"
    }
   ],
   "source": [
    "cyclic(permutation)"
   ]
  },
  {
   "cell_type": "code",
   "execution_count": 8,
   "metadata": {
    "collapsed": false
   },
   "outputs": [
    {
     "data": {
      "text/plain": [
       "((0, 9, 1, 10, 2),\n",
       " (3, 11, 14, 12, 4, 18, 15),\n",
       " (5, 17, 8, 13, 6, 7),\n",
       " (16, 19),\n",
       " (20,))"
      ]
     },
     "execution_count": 8,
     "metadata": {},
     "output_type": "execute_result"
    }
   ],
   "source": [
    "cyclic(perm_ints)"
   ]
  },
  {
   "cell_type": "markdown",
   "metadata": {},
   "source": [
    "You may be wondering, considering the above pipeline, which went from zip type, to tuple, then to dict, whether a dict might eat a zip type directly.  Lets try that..."
   ]
  },
  {
   "cell_type": "code",
   "execution_count": 9,
   "metadata": {
    "collapsed": false
   },
   "outputs": [
    {
     "data": {
      "text/plain": [
       "{0: 9,\n",
       " 1: 10,\n",
       " 2: 0,\n",
       " 3: 11,\n",
       " 4: 18,\n",
       " 5: 17,\n",
       " 6: 7,\n",
       " 7: 5,\n",
       " 8: 13,\n",
       " 9: 1,\n",
       " 10: 2,\n",
       " 11: 14,\n",
       " 12: 4,\n",
       " 13: 6,\n",
       " 14: 12,\n",
       " 15: 3,\n",
       " 16: 19,\n",
       " 17: 8,\n",
       " 18: 15,\n",
       " 19: 16,\n",
       " 20: 20}"
      ]
     },
     "execution_count": 9,
     "metadata": {},
     "output_type": "execute_result"
    }
   ],
   "source": [
    "cipher = dict(zip(seq1, seq2))  # will a dict eat a zip?\n",
    "cipher"
   ]
  },
  {
   "cell_type": "markdown",
   "metadata": {},
   "source": [
    "So yes, that works great.\n",
    "\n",
    "So why did we call our dict thing a cipher just now?  Because a permutation suggests a way of encrypting a message, meaning to make it \"hard to crack\" where \"prying eyes\" are concerned.  So-called substitution codes are not that easy to crack if changed every day, or so they tell me.  However lets not get into making claims of uncrackability, and just take a look of how if two people, call them Carol and Bob, share the cipher, the message between them might stay cryptic to Eve at least for awhile."
   ]
  },
  {
   "cell_type": "code",
   "execution_count": 10,
   "metadata": {
    "collapsed": false
   },
   "outputs": [],
   "source": [
    "def encrypt(plain : str, secret_key : dict) -> str:\n",
    "    \"\"\"\n",
    "    turn plaintext into cyphertext using the secret key\n",
    "    \"\"\"\n",
    "    output = \"\"  # empty string\n",
    "    for c in plain:\n",
    "        output = output + secret_key.get(c, c) \n",
    "    return output"
   ]
  },
  {
   "cell_type": "code",
   "execution_count": 11,
   "metadata": {
    "collapsed": true
   },
   "outputs": [],
   "source": [
    "c = encrypt(\"able was i ere i say elba\", permutation) # something Napoleon might have said"
   ]
  },
  {
   "cell_type": "code",
   "execution_count": 12,
   "metadata": {
    "collapsed": false
   },
   "outputs": [
    {
     "data": {
      "text/plain": [
       "'able was i ere i say elba'"
      ]
     },
     "execution_count": 12,
     "metadata": {},
     "output_type": "execute_result"
    }
   ],
   "source": [
    "c"
   ]
  },
  {
   "cell_type": "markdown",
   "metadata": {},
   "source": [
    "Excuse me?  That doesn't look scrambled at all?  The reason is subtle:  feeding permuation to cyclic above rendered it empty.  We operated upon \"the_dict\" and in turning out a corresponding tuple of tuples, consumed the object fed it.  The function worked on our only copy, on the original itself."
   ]
  },
  {
   "cell_type": "code",
   "execution_count": 13,
   "metadata": {
    "collapsed": false
   },
   "outputs": [
    {
     "data": {
      "text/plain": [
       "{}"
      ]
     },
     "execution_count": 13,
     "metadata": {},
     "output_type": "execute_result"
    }
   ],
   "source": [
    "permutation"
   ]
  },
  {
   "cell_type": "markdown",
   "metadata": {},
   "source": [
    "Let's do two things to improve the situation:\n",
    "* generate permutations from a function, that takes a set of what to permute\n",
    "* make sure the cyclic function doesn't mess with the passed-in original\n",
    "\n",
    "Let's do first things first:"
   ]
  },
  {
   "cell_type": "code",
   "execution_count": 14,
   "metadata": {
    "collapsed": false
   },
   "outputs": [],
   "source": [
    "def make_perm(incoming : set) -> dict:\n",
    "    seq1 = list(incoming)\n",
    "    seq2 = seq1.copy()\n",
    "    shuffle(seq2)\n",
    "    return dict(zip(seq1, seq2))"
   ]
  },
  {
   "cell_type": "code",
   "execution_count": 15,
   "metadata": {
    "collapsed": false
   },
   "outputs": [
    {
     "data": {
      "text/plain": [
       "{0: 1, 1: 2, 2: 6, 3: 7, 4: 8, 5: 9, 6: 3, 7: 5, 8: 4, 9: 0}"
      ]
     },
     "execution_count": 15,
     "metadata": {},
     "output_type": "execute_result"
    }
   ],
   "source": [
    "make_perm(set(range(10)))"
   ]
  },
  {
   "cell_type": "code",
   "execution_count": 16,
   "metadata": {
    "collapsed": false
   },
   "outputs": [
    {
     "data": {
      "text/plain": [
       "{' ': 'r',\n",
       " 'a': 'e',\n",
       " 'b': 'n',\n",
       " 'c': 'h',\n",
       " 'd': ' ',\n",
       " 'e': 'o',\n",
       " 'f': 'q',\n",
       " 'g': 'm',\n",
       " 'h': 'd',\n",
       " 'i': 'b',\n",
       " 'j': 'u',\n",
       " 'k': 's',\n",
       " 'l': 'w',\n",
       " 'm': 'g',\n",
       " 'n': 'l',\n",
       " 'o': 'x',\n",
       " 'p': 'c',\n",
       " 'q': 'y',\n",
       " 'r': 'z',\n",
       " 's': 'p',\n",
       " 't': 'i',\n",
       " 'u': 'j',\n",
       " 'v': 'a',\n",
       " 'w': 'v',\n",
       " 'x': 'k',\n",
       " 'y': 'f',\n",
       " 'z': 't'}"
      ]
     },
     "execution_count": 16,
     "metadata": {},
     "output_type": "execute_result"
    }
   ],
   "source": [
    "make_perm(the_letters) # defined above as lowercase ascii letters plus space"
   ]
  },
  {
   "cell_type": "markdown",
   "metadata": {},
   "source": [
    "That's all working great, and now the second change, a new cyclic:"
   ]
  },
  {
   "cell_type": "code",
   "execution_count": 17,
   "metadata": {
    "collapsed": true
   },
   "outputs": [],
   "source": [
    "def cyclic(the_perm : dict) -> tuple:\n",
    "    \"\"\"\n",
    "    cyclic notation, a compact view of a permutation\n",
    "    \"\"\"\n",
    "    output = []      # we'll make this a tuple before returning\n",
    "    \n",
    "    the_dict = the_perm.copy() # protect the original from exhaustion\n",
    "    \n",
    "    while the_dict:\n",
    "        start = tuple(the_dict.keys())[0]\n",
    "        the_cycle = [start]\n",
    "        the_next = the_dict.pop(start) # take it out of the_dict\n",
    "        while the_next != start:       # keep going until we cycle\n",
    "            the_cycle.append(the_next) # following the bread crumb trail...\n",
    "            the_next = the_dict.pop(the_next)  # look up what we're paired with\n",
    "        output.append(tuple(the_cycle)) # we've got a cycle, append to output\n",
    "    return tuple(output) # giving back a tuple object, job complete"
   ]
  },
  {
   "cell_type": "code",
   "execution_count": 18,
   "metadata": {
    "collapsed": true
   },
   "outputs": [],
   "source": [
    "original = make_perm(the_letters)  # the_letters is a string"
   ]
  },
  {
   "cell_type": "code",
   "execution_count": 19,
   "metadata": {
    "collapsed": true
   },
   "outputs": [],
   "source": [
    "cyclic_view = cyclic(original)"
   ]
  },
  {
   "cell_type": "code",
   "execution_count": 20,
   "metadata": {
    "collapsed": false
   },
   "outputs": [
    {
     "data": {
      "text/plain": [
       "(('a',\n",
       "  ' ',\n",
       "  'i',\n",
       "  'y',\n",
       "  's',\n",
       "  'k',\n",
       "  'd',\n",
       "  'h',\n",
       "  'v',\n",
       "  't',\n",
       "  'e',\n",
       "  'q',\n",
       "  'p',\n",
       "  'm',\n",
       "  'x',\n",
       "  'g',\n",
       "  'j',\n",
       "  'z'),\n",
       " ('b',),\n",
       " ('c', 'u', 'w'),\n",
       " ('f', 'n', 'o'),\n",
       " ('l',),\n",
       " ('r',))"
      ]
     },
     "execution_count": 20,
     "metadata": {},
     "output_type": "execute_result"
    }
   ],
   "source": [
    "cyclic_view"
   ]
  },
  {
   "cell_type": "code",
   "execution_count": 21,
   "metadata": {
    "collapsed": false
   },
   "outputs": [
    {
     "data": {
      "text/plain": [
       "{' ': 'i',\n",
       " 'a': ' ',\n",
       " 'b': 'b',\n",
       " 'c': 'u',\n",
       " 'd': 'h',\n",
       " 'e': 'q',\n",
       " 'f': 'n',\n",
       " 'g': 'j',\n",
       " 'h': 'v',\n",
       " 'i': 'y',\n",
       " 'j': 'z',\n",
       " 'k': 'd',\n",
       " 'l': 'l',\n",
       " 'm': 'x',\n",
       " 'n': 'o',\n",
       " 'o': 'f',\n",
       " 'p': 'm',\n",
       " 'q': 'p',\n",
       " 'r': 'r',\n",
       " 's': 'k',\n",
       " 't': 'e',\n",
       " 'u': 'w',\n",
       " 'v': 't',\n",
       " 'w': 'c',\n",
       " 'x': 'g',\n",
       " 'y': 's',\n",
       " 'z': 'a'}"
      ]
     },
     "execution_count": 21,
     "metadata": {},
     "output_type": "execute_result"
    }
   ],
   "source": [
    "original"
   ]
  },
  {
   "cell_type": "markdown",
   "metadata": {},
   "source": [
    "Life is good.  As a final touch, we'd like to deciper or decrypt, what was encrypted, using the very same secret_key.  All encrypt(&nbsp;) needs to do is reverse the secret key, giving what's called the inverse permutation, and call encrypt with that.  \n",
    "\n",
    "The original message magically reappears.\n",
    "\n",
    "Lets make a new permutation for this test, so we don't confuse ourselves."
   ]
  },
  {
   "cell_type": "code",
   "execution_count": 22,
   "metadata": {
    "collapsed": true
   },
   "outputs": [],
   "source": [
    "cipher = make_perm(the_letters)\n",
    "c = encrypt(\"hello carol this is bob lets hope eve does not decrypt this\", cipher)"
   ]
  },
  {
   "cell_type": "code",
   "execution_count": 23,
   "metadata": {
    "collapsed": true
   },
   "outputs": [],
   "source": [
    "def decrypt(cyphertext : str, secret_key : dict) -> str:\n",
    "    \"\"\"\n",
    "    Turn cyphertext into plaintext using ~self\n",
    "    \"\"\"\n",
    "    reverse_P = {v: k for k, v in secret_key.items()}  # invert me!\n",
    "    output = \"\"\n",
    "    for c in cyphertext:\n",
    "        output = output + reverse_P.get(c, c)\n",
    "    return output"
   ]
  },
  {
   "cell_type": "code",
   "execution_count": 24,
   "metadata": {
    "collapsed": false
   },
   "outputs": [
    {
     "data": {
      "text/plain": [
       "'dcffypnagyfpmdltpltpjyjpfcmtpdyicpc cpbyctpsympbcngoimpmdlt'"
      ]
     },
     "execution_count": 24,
     "metadata": {},
     "output_type": "execute_result"
    }
   ],
   "source": [
    "c"
   ]
  },
  {
   "cell_type": "code",
   "execution_count": 25,
   "metadata": {
    "collapsed": false
   },
   "outputs": [],
   "source": [
    "p = decrypt(c, cipher)"
   ]
  },
  {
   "cell_type": "code",
   "execution_count": 26,
   "metadata": {
    "collapsed": false
   },
   "outputs": [
    {
     "data": {
      "text/plain": [
       "'hello carol this is bob lets hope eve does not decrypt this'"
      ]
     },
     "execution_count": 26,
     "metadata": {},
     "output_type": "execute_result"
    }
   ],
   "source": [
    "p"
   ]
  },
  {
   "cell_type": "markdown",
   "metadata": {},
   "source": [
    "Final thing:  I bet you might be wondering about a function that ate a tuple of tuples, some cyclic notation, and gave back the corresponding dictionary object.  \n",
    "\n",
    "This would be the inverse function of cycle so we could call it inv_cycle.  That's a great cliff-hanger for a next chapter wouldn't you think?  Feel free to try writing inv_cycle.  Here's something to get you started:"
   ]
  },
  {
   "cell_type": "code",
   "execution_count": 27,
   "metadata": {
    "collapsed": true
   },
   "outputs": [],
   "source": [
    "def inv_cyclic(cycles : tuple) -> dict:\n",
    "    output = {} # empty dig\n",
    "    pass # more code goes here\n",
    "    return output"
   ]
  },
  {
   "cell_type": "markdown",
   "metadata": {},
   "source": [
    "Have fun!\n",
    "\n",
    "* Back to Chapter 1: [Welcome to Python](Welcome%20to%20Python.ipynb)\n",
    "* Continue to Chapter 3:  [A First Class](A%20First%20Class.ipynb)"
   ]
  }
 ],
 "metadata": {
  "kernelspec": {
   "display_name": "Python 3",
   "language": "python",
   "name": "python3"
  },
  "language_info": {
   "codemirror_mode": {
    "name": "ipython",
    "version": 3
   },
   "file_extension": ".py",
   "mimetype": "text/x-python",
   "name": "python",
   "nbconvert_exporter": "python",
   "pygments_lexer": "ipython3",
   "version": "3.6.0"
  }
 },
 "nbformat": 4,
 "nbformat_minor": 2
}
