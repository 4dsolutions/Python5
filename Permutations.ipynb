{
 "cells": [
  {
   "cell_type": "markdown",
   "metadata": {},
   "source": [
    "Python for Everyone!<br/>[Oregon Curriculum Network](http://4dsolutions.net/ocn/)\n",
    "\n",
    "## Playing with Cyphers\n",
    "\n",
    "### Suggested Andragogy\n",
    "\n",
    "Playing with permutations (perms) fresh out of the box, with operator overloading already implemented, is best appreciated up front, with any dive into source code to follow.\n",
    "\n",
    "The main point at first is to see what a perm can do:"
   ]
  },
  {
   "cell_type": "code",
   "execution_count": 1,
   "metadata": {},
   "outputs": [
    {
     "name": "stdout",
     "output_type": "stream",
     "text": [
      "P class: (('a', 'p'), ('b', 'q'), ('c', 'w'))...\n",
      "p= this is plaintext\n",
      "c= rmcfhcfhjbpckr gr\n",
      "m= this is plaintext\n"
     ]
    }
   ],
   "source": [
    "from px_class import P\n",
    "perm = P().shuffle()\n",
    "print(perm)\n",
    "m = \"this is plaintext\"\n",
    "print(\"p=\", m)\n",
    "cyphertext = perm(m) # send it over the wire (pretend)\n",
    "print(\"c=\", cyphertext)\n",
    "# lets decipher the ciphertext\n",
    "decoder_ring = ~perm # the undo of perm\n",
    "print(\"m=\", decoder_ring(cyphertext))"
   ]
  },
  {
   "cell_type": "markdown",
   "metadata": {},
   "source": [
    "### Operator Overloading in Python\n",
    "\n",
    "<img src=\"https://upload.wikimedia.org/wikipedia/commons/thumb/3/3e/EnigmaMachineLabeled.jpg/800px-EnigmaMachineLabeled.jpg\" width=\"50%\" height=\"50%\">\n",
    "\n",
    "The class below wraps a \\_code object, a Python dict, and then uses that to implement encrypt and decrypt methods.  A simple substitution code is easy to break, based on letter frequency, presuming the original language is known.\n",
    "\n",
    "Permutations may be chained i.e. composed, i.e. multiplied.  That which may be multiplied, may be powered as well.  The group theory notion of \"inverse\" makes sense in that p * ~p should give back the Identity permutation. \n",
    "\n",
    "Think of a \"do\" * \"undo\" such that an encrypting would pair with a decrypting, returning the original plaintext.  That's the work of the Identity permutation as well.\n",
    "\n",
    "Permutations are at the heart of Group Theory, as we begin to develop a sense of an Algebra.  In this universe, a thing will always pair with an anti-thing (inverses exist) and two things will always multiply to give a third thing (closure).  There's an identity thing, its own inverse.  Multiplication is associative but in the general case maybe not commutative. In the case of these permutations, it is."
   ]
  },
  {
   "cell_type": "code",
   "execution_count": 2,
   "metadata": {},
   "outputs": [],
   "source": [
    "from px_class import P\n",
    "\n",
    "p = P().shuffle()\n",
    "anti_p = ~p\n",
    "assert p * ~p == ~p * p  # commutativity\n",
    "I = ~p * p               # identity\n",
    "assert I * p == p == p * I"
   ]
  },
  {
   "cell_type": "markdown",
   "metadata": {},
   "source": [
    "What you see above is operator overloading.  Even if you're maybe glazing over as to what it means to invert, or to multiply, what's clear is these to operators have meaning, are being used.\n",
    "\n",
    "The inverted permutation is a reverse dictionary, undoing the swap with a path back to the start.  'a' maps to 's' but then, in the inverse code, 's' maps right back to 'a'.\n",
    "\n",
    "To multiply is like to compose two functions, in that for A times B, each key in A points ends up pointing to the corresponding ```B[A[key]]```."
   ]
  },
  {
   "cell_type": "code",
   "execution_count": 3,
   "metadata": {},
   "outputs": [
    {
     "name": "stdout",
     "output_type": "stream",
     "text": [
      "p = P class: (('a', 'q'), ('b', 'l'), ('c', 'g'))...\n",
      "q = P class: (('a', 'k'), ('b', 'h'), ('c', 'c'))...\n",
      "p['a']    = q\n",
      "q[p('a')] = s\n",
      "r('a')    = s\n"
     ]
    }
   ],
   "source": [
    "p = P().shuffle()\n",
    "q = P().shuffle()\n",
    "print('p =', p)\n",
    "print('q =', q)\n",
    "r = p * q\n",
    "print(\"p['a']    =\", p('a')) \n",
    "print(\"q[p('a')] =\", q[p('a')]) \n",
    "print(\"r('a')    =\", r('a'))"
   ]
  },
  {
   "cell_type": "markdown",
   "metadata": {},
   "source": [
    "That's why multiplying a permutation with its own inverse is the same as \"doing nothing\" just as the identity permutation does.  Any permutation multiplied by I (the identity) results in the same thing."
   ]
  },
  {
   "cell_type": "code",
   "execution_count": 4,
   "metadata": {},
   "outputs": [],
   "source": [
    "I = P()  # without shuffling, P() returns I\n",
    "assert I == ~I\n",
    "q = P().shuffle() # any perm\n",
    "assert I * q == q == q * I"
   ]
  },
  {
   "cell_type": "markdown",
   "metadata": {},
   "source": [
    "### Cyclic Notation\n",
    "\n",
    "Cyclic notation is a clever way of representing a permutation as a tuple of tuples, whereas every permuation likewise has a unique \"inversion table\" defined below by Knuth."
   ]
  },
  {
   "cell_type": "code",
   "execution_count": 5,
   "metadata": {},
   "outputs": [
    {
     "ename": "NameError",
     "evalue": "name 'ascii_lowercase' is not defined",
     "output_type": "error",
     "traceback": [
      "\u001b[0;31m---------------------------------------------------------------------------\u001b[0m",
      "\u001b[0;31mNameError\u001b[0m                                 Traceback (most recent call last)",
      "\u001b[0;32m<ipython-input-5-842af7290c0e>\u001b[0m in \u001b[0;36m<module>\u001b[0;34m\u001b[0m\n\u001b[1;32m      3\u001b[0m \u001b[0mCreated\u001b[0m \u001b[0mon\u001b[0m \u001b[0mTue\u001b[0m \u001b[0mNov\u001b[0m \u001b[0;36m10\u001b[0m \u001b[0;36m17\u001b[0m\u001b[0;34m:\u001b[0m\u001b[0;36m39\u001b[0m\u001b[0;34m:\u001b[0m\u001b[0;36m0\u001b[0m\u001b[0;36m9\u001b[0m \u001b[0;36m2015\u001b[0m\u001b[0;34m\u001b[0m\u001b[0;34m\u001b[0m\u001b[0m\n\u001b[1;32m      4\u001b[0m \"\"\"\n\u001b[0;32m----> 5\u001b[0;31m \u001b[0;32mclass\u001b[0m \u001b[0mP\u001b[0m\u001b[0;34m:\u001b[0m\u001b[0;34m\u001b[0m\u001b[0;34m\u001b[0m\u001b[0m\n\u001b[0m\u001b[1;32m      6\u001b[0m     \"\"\"\n\u001b[1;32m      7\u001b[0m     \u001b[0mA\u001b[0m \u001b[0mPermutation\u001b[0m\u001b[0;34m\u001b[0m\u001b[0;34m\u001b[0m\u001b[0m\n",
      "\u001b[0;32m<ipython-input-5-842af7290c0e>\u001b[0m in \u001b[0;36mP\u001b[0;34m()\u001b[0m\n\u001b[1;32m     17\u001b[0m         \u001b[0mthe_code\u001b[0m \u001b[0;34m=\u001b[0m \u001b[0;32mNone\u001b[0m\u001b[0;34m,\u001b[0m   \u001b[0;31m# direct inject\u001b[0m\u001b[0;34m\u001b[0m\u001b[0;34m\u001b[0m\u001b[0m\n\u001b[1;32m     18\u001b[0m         \u001b[0minv_table\u001b[0m \u001b[0;34m=\u001b[0m \u001b[0;32mNone\u001b[0m\u001b[0;34m,\u001b[0m  \u001b[0;31m# construct\u001b[0m\u001b[0;34m\u001b[0m\u001b[0;34m\u001b[0m\u001b[0m\n\u001b[0;32m---> 19\u001b[0;31m         iterable = ascii_lowercase + ' '): # default domain\n\u001b[0m\u001b[1;32m     20\u001b[0m \u001b[0;34m\u001b[0m\u001b[0m\n\u001b[1;32m     21\u001b[0m         \u001b[0;32mif\u001b[0m \u001b[0mthe_code\u001b[0m\u001b[0;34m:\u001b[0m\u001b[0;34m\u001b[0m\u001b[0;34m\u001b[0m\u001b[0m\n",
      "\u001b[0;31mNameError\u001b[0m: name 'ascii_lowercase' is not defined"
     ]
    }
   ],
   "source": [
    "# -*- coding: utf-8 -*-\n",
    "\"\"\"\n",
    "Created on Tue Nov 10 17:39:09 2015\n",
    "\"\"\"\n",
    "class P:\n",
    "    \"\"\"\n",
    "    A Permutation\n",
    "    \n",
    "    self._code: a dict, is a mapping of iterable elements \n",
    "    to themselves in any order.\n",
    "\n",
    "    start out with Identity, or directly inject the mapping as\n",
    "    a dict or use an inversions table to construct the permutation\n",
    "    \"\"\"   \n",
    "\n",
    "    def __init__(self, \n",
    "        the_code = None,   # direct inject\n",
    "        inv_table = None,  # construct \n",
    "        iterable = ascii_lowercase + ' '): # default domain\n",
    "\n",
    "        if the_code:\n",
    "            self._code = the_code\n",
    "            \n",
    "        elif inv_table:\n",
    "            values = []\n",
    "            for key in sorted(inv_table, reverse=True):\n",
    "                if inv_table[key] >= len(values):\n",
    "                    values.append(key)\n",
    "                else:\n",
    "                    values.insert(inv_table[key], key)\n",
    "            self._code = dict(zip(sorted(inv_table), values))\n",
    "            \n",
    "        elif iterable:    \n",
    "            try:\n",
    "                # create two iterators for zipping together\n",
    "                iter1 = iter(iterable)\n",
    "                iter2 = iter(iterable)\n",
    "            except:\n",
    "                raise TypeError\n",
    "                \n",
    "            self._code = dict(zip(iter1, iter2))\n",
    "        \n",
    "    def shuffle(self):\n",
    "        \"\"\"\n",
    "        return a random permutation of this permutation\n",
    "        \"\"\"\n",
    "        # use shuffle\n",
    "        # something like\n",
    "        the_keys = list(self._code.keys()) # grab keys\n",
    "        shuffle(the_keys)  # shuffles other one\n",
    "        newP = P()\n",
    "        newP._code = dict(zip(self._code.keys(), the_keys))\n",
    "        return newP\n",
    "        \n",
    "    def encrypt(self, plain):\n",
    "        \"\"\"\n",
    "        turn plaintext into cyphertext using self._code\n",
    "        \"\"\"\n",
    "        output = \"\"  # empty string\n",
    "        for c in plain:\n",
    "            output = output + self._code.get(c, c) \n",
    "        return output\n",
    "            \n",
    "    def decrypt(self, cypher):\n",
    "        \"\"\"\n",
    "        Turn cyphertext into plaintext using ~self\n",
    "        \"\"\"\n",
    "        reverse_P = ~self  # invert me!\n",
    "        output = \"\"\n",
    "        for c in cypher:\n",
    "            output = output + reverse_P._code.get(c, c)\n",
    "        return output\n",
    " \n",
    "    def __getitem__(self, key):\n",
    "        return self._code.get(key, None)\n",
    "               \n",
    "    def __repr__(self):\n",
    "        return \"P class: \" + str(tuple(self._code.items())[:3]) + \"...\"\n",
    "\n",
    "    def cyclic(self):\n",
    "        \"\"\"\n",
    "        cyclic notation, a compact view of a group\n",
    "        \"\"\"\n",
    "        output = []\n",
    "        the_dict = self._code.copy()\n",
    "        while the_dict:\n",
    "            start = tuple(the_dict.keys())[0]\n",
    "            the_cycle = [start]\n",
    "            the_next = the_dict.pop(start)\n",
    "            while the_next != start:\n",
    "                the_cycle.append(the_next)\n",
    "                the_next = the_dict.pop(the_next)\n",
    "            output.append(tuple(the_cycle))\n",
    "        return tuple(output)\n",
    "\n",
    "    def __mul__(self, other): \n",
    "        \"\"\"\n",
    "        look up my keys to get values that serve\n",
    "        as keys to get others \"target\" values\n",
    "        \"\"\"\n",
    "        new_code = {}\n",
    "        for c in self._code:  # going through my keys\n",
    "            target = other._code[ self._code[c] ]\n",
    "            new_code[c] = target\n",
    "        new_P = P(' ') \n",
    "        new_P._code = new_code\n",
    "        return new_P\n",
    "        \n",
    "    def __truediv__(self, other):\n",
    "        return self * ~other\n",
    "                \n",
    "    def __pow__(self, exp):\n",
    "        \"\"\"\n",
    "        multiply self * self the right number of times\n",
    "        \"\"\"\n",
    "        if exp == 0:\n",
    "            output = P()\n",
    "        else:\n",
    "            output = self\n",
    "\n",
    "        for x in range(1, abs(exp)):\n",
    "            output *= self\n",
    "        \n",
    "        if exp < 0:\n",
    "            output = ~output\n",
    "            \n",
    "        return output\n",
    "\n",
    "    def __call__(self, s): \n",
    "        \"\"\"\n",
    "        another way to encrypt\n",
    "        \"\"\"\n",
    "        return self.encrypt(s)  \n",
    "\n",
    "    def __invert__(self):\n",
    "        \"\"\"\n",
    "        create new P with reversed dict\n",
    "        \"\"\"\n",
    "        newP = P(' ')\n",
    "        newP._code = dict(zip(self._code.values(), self._code.keys()))\n",
    "        return newP\n",
    "        \n",
    "    def __eq__(self, other):\n",
    "        \"\"\"\n",
    "        are these permutation the same?  \n",
    "        Yes if self._code == other._code\n",
    "        \"\"\"\n",
    "        return self._code == other._code\n",
    "        \n",
    "    def inversion_table(self):\n",
    "        invs = {}\n",
    "        invP = ~self\n",
    "        keys = sorted(self._code)\n",
    "        for key in keys:\n",
    "            x = invP[key] # position of key\n",
    "            cnt = 0\n",
    "            for left_of_key in keys: # in order up to position\n",
    "                if left_of_key == x: # none more to left\n",
    "                    break\n",
    "                if self._code[left_of_key] > key:\n",
    "                    cnt += 1\n",
    "            invs[key] = cnt\n",
    "        return invs"
   ]
  },
  {
   "cell_type": "markdown",
   "metadata": {},
   "source": [
    "In this first test, lets make sure that any random permutation, times its inverse, gives the Identity permutation..."
   ]
  },
  {
   "cell_type": "code",
   "execution_count": null,
   "metadata": {},
   "outputs": [],
   "source": [
    "p = P() # identity permutation\n",
    "new_p = p.shuffle()\n",
    "inv_p = ~new_p \n",
    "try:\n",
    "    assert p == inv_p * new_p   # should be True\n",
    "    print(\"First Test Succeeds\")\n",
    "except AssertionError:\n",
    "    print(\"First Test Fails\")"
   ]
  },
  {
   "cell_type": "markdown",
   "metadata": {},
   "source": [
    "Since it makes sense to both power, and invert, we may raise permutations to a negative power. (p \\*\\* -1) is another way of saying \"give me the inverse\"..."
   ]
  },
  {
   "cell_type": "code",
   "execution_count": null,
   "metadata": {},
   "outputs": [],
   "source": [
    "p = P().shuffle()\n",
    "try:\n",
    "    assert p ** -1 == ~p\n",
    "    assert p ** -2 == ~(p * p)\n",
    "    assert p ** -2 == (~p * ~p)\n",
    "    print(\"Second Test Succeeds\")\n",
    "except AssertionError:\n",
    "    print(\"Second Test Fails\")"
   ]
  },
  {
   "cell_type": "markdown",
   "metadata": {},
   "source": [
    "Since Permutation p will be able to compute it's own inverse, decrypting the cyphertext is a snap..."
   ]
  },
  {
   "cell_type": "code",
   "execution_count": null,
   "metadata": {},
   "outputs": [],
   "source": [
    "p = P().shuffle()\n",
    "s = \"able was i ere i saw elba\"\n",
    "c = p(s)\n",
    "print(\"Plain:  \", s)\n",
    "print(\"Cipher: \", c)\n",
    "try:\n",
    "    assert p.decrypt(c) == s\n",
    "    print(\"Third Test Succeeds\")\n",
    "except AssertionError:\n",
    "    print(\"Third Test Fails\")"
   ]
  },
  {
   "cell_type": "markdown",
   "metadata": {},
   "source": [
    "### Inversion Table Notation\n",
    "\n",
    "\"The inversion table *B1 B2 ... Bn* of the permutation *A1, A2 ... An* is obtained by letting *Bj* be the number of elements to the left of *j* that are greater than *j*.\" -- Donald E. Knuth\n",
    "\n",
    "![Knuth quote](https://c8.staticflickr.com/9/8408/29639707343_ab1df95f9e_z.jpg)"
   ]
  },
  {
   "cell_type": "code",
   "execution_count": null,
   "metadata": {},
   "outputs": [],
   "source": [
    "knuth = {1:5, 2:9, 3:1, 4:8, 5:2, 6:6, 7:4, 8:7, 9:3} # vol 3 pg. 12\n",
    "expected = {1:2, 2:3, 3:6, 4:4, 5:0, 6:2, 7:2, 8:1, 9:0} # Ibid\n",
    "k = P(the_code=knuth)\n",
    "try: \n",
    "    assert k.inversion_table() == expected\n",
    "    print(\"Fourth Test Succeeds\")\n",
    "except AssertionError:\n",
    "    print(\"Fourth Test Fails\")"
   ]
  },
  {
   "cell_type": "markdown",
   "metadata": {},
   "source": [
    "Lets make sure that, given the derived inversion table for the Permutation named *knuth*, we're able to regenerate *knuth* upon initialization..."
   ]
  },
  {
   "cell_type": "code",
   "execution_count": null,
   "metadata": {},
   "outputs": [],
   "source": [
    "p = P(inv_table = expected)\n",
    "try: \n",
    "    assert p == k\n",
    "    print(\"Fifth Test Succeeds\")\n",
    "except AssertionError:\n",
    "    print(\"Fifth Test Fails\")"
   ]
  },
  {
   "cell_type": "markdown",
   "metadata": {},
   "source": [
    "Finally, given any random permutation, lets make sure we're able to reconstruct it from its inversion table.  The only difference from the test above is we're using a random permutation versus the one given on page 12 in volume 3 of *The Art of Computer Programming*."
   ]
  },
  {
   "cell_type": "code",
   "execution_count": null,
   "metadata": {},
   "outputs": [],
   "source": [
    "p = P().shuffle()\n",
    "inv = p.inversion_table()\n",
    "print(\"Perm:\", p._code)\n",
    "print(\"Inv table:\", inv)\n",
    "new_p = P(inv_table = inv)\n",
    "try: \n",
    "    assert p == new_p\n",
    "    print(\"Sixth Test Succeeds\")\n",
    "except AssertionError:\n",
    "    print(\"Sixth Test Fails\") "
   ]
  }
 ],
 "metadata": {
  "kernelspec": {
   "display_name": "Python 3",
   "language": "python",
   "name": "python3"
  },
  "language_info": {
   "codemirror_mode": {
    "name": "ipython",
    "version": 3
   },
   "file_extension": ".py",
   "mimetype": "text/x-python",
   "name": "python",
   "nbconvert_exporter": "python",
   "pygments_lexer": "ipython3",
   "version": "3.7.4"
  }
 },
 "nbformat": 4,
 "nbformat_minor": 4
}
