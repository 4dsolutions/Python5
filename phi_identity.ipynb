{
 "cells": [
  {
   "cell_type": "markdown",
   "metadata": {},
   "source": [
    "# Another Phi Identity\n",
    "\n",
    "Developed from an email from D. B. Koski.\n",
    "\n",
    "For n = 0, 1, 2, 3...\n",
    "$$\n",
    "2(n+1) = \\sum\\limits_{i=0}^n (fibo(n)\\phi^{3-n} + fibo(n-2)\\phi^{n})\n",
    "$$"
   ]
  },
  {
   "cell_type": "code",
   "execution_count": null,
   "metadata": {},
   "outputs": [],
   "source": [
    "import math\n",
    "import gmpy2\n",
    "\n",
    "gmpy2.get_context().precision=200\n",
    "\n",
    "def fibo(a=0, b=1):\n",
    "    while True:\n",
    "        yield a\n",
    "        a, b = b, a + b\n",
    "        \n",
    "fib_gen = fibo()\n",
    "print(\"SEQ2:\",[next(fib_gen) for _ in range(10)])\n",
    "\n",
    "fib_gen = fibo(2, -1)\n",
    "print(\"SEQ2:\",[next(fib_gen) for _ in range(10)])\n",
    "\n",
    "coeff0 = fibo()\n",
    "coeff1 = fibo(2, -1)\n",
    "Ø      = (gmpy2.sqrt(5) + 1)/2\n",
    "\n",
    "template = \" 2 == {coeff0:>3} * Ø**({a:>3}) + {coeff1:>3} * Ø**({b:>3}) \"\n",
    "expr     = \"{coeff0:>3} * Ø**({a:>3}) + {coeff1:>3} * Ø**({b:>3})\"\n",
    "args   = {}\n",
    "\n",
    "for n in range(10):\n",
    "    args[\"a\"] = 3 - n\n",
    "    args[\"b\"] = -n\n",
    "    args[\"coeff0\"] = next(coeff0)\n",
    "    args[\"coeff1\"] = next(coeff1)\n",
    "    identity = template.format(**args)\n",
    "    print(identity, end=\" --> \")\n",
    "    print(\"{:>20.18f}\".format(eval(expr.format(**args))))"
   ]
  },
  {
   "cell_type": "code",
   "execution_count": null,
   "metadata": {},
   "outputs": [],
   "source": [
    "def sequence(n):\n",
    "    coeff0 = fibo()\n",
    "    coeff1 = fibo(2, -1)\n",
    "    total = 0\n",
    "    for i in range(n+1):\n",
    "        args[\"a\"] = 3 - i\n",
    "        args[\"b\"] = -i\n",
    "        args[\"coeff0\"] = next(coeff0)\n",
    "        args[\"coeff1\"] = next(coeff1)\n",
    "        total += eval(expr.format(**args))\n",
    "    return total"
   ]
  },
  {
   "cell_type": "code",
   "execution_count": null,
   "metadata": {},
   "outputs": [],
   "source": [
    "sequence(0)"
   ]
  },
  {
   "cell_type": "code",
   "execution_count": null,
   "metadata": {},
   "outputs": [],
   "source": [
    "[sequence(n) for n in range(10)]"
   ]
  }
 ],
 "metadata": {
  "kernelspec": {
   "display_name": "Python 3",
   "language": "python",
   "name": "python3"
  },
  "language_info": {
   "codemirror_mode": {
    "name": "ipython",
    "version": 3
   },
   "file_extension": ".py",
   "mimetype": "text/x-python",
   "name": "python",
   "nbconvert_exporter": "python",
   "pygments_lexer": "ipython3",
   "version": "3.6.8"
  }
 },
 "nbformat": 4,
 "nbformat_minor": 2
}
