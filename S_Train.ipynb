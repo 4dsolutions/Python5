{
 "cells": [
  {
   "cell_type": "markdown",
   "metadata": {},
   "source": [
    "[Oregon Curriculum Network](http://www.4dsolutions.net/ocn) <br />\n",
    "[Discovering Math with Python](Introduction.ipynb)\n",
    "\n",
    "# All Aboard the S Train! \n",
    "\n",
    "Those of us exploring the geometry of thinking laid out in Synergetics (subtitled explorations in the geometry of thinking) will be familiar with the Jitterbug Transformation, popularized in this [Youtube introduction to the International Mathematicians Union logo](https://youtu.be/1VXDejQcAWY):\n",
    "\n",
    "<a data-flickr-embed=\"true\"  href=\"https://www.flickr.com/photos/kirbyurner/46320625832/in/dateposted-public/\" title=\"imu_logo_u2be\"><img src=\"https://farm5.staticflickr.com/4815/46320625832_7c33a06f9e.jpg\" width=\"500\" height=\"461\" alt=\"imu_logo_u2be\"></a><script async src=\"//embedr.flickr.com/assets/client-code.js\" charset=\"utf-8\"></script>\n"
   ]
  },
  {
   "cell_type": "code",
   "execution_count": 1,
   "metadata": {},
   "outputs": [
    {
     "data": {
      "text/html": [
       "\n",
       "        <iframe\n",
       "            width=\"400\"\n",
       "            height=\"300\"\n",
       "            src=\"https://www.youtube.com/embed/1VXDejQcAWY\"\n",
       "            frameborder=\"0\"\n",
       "            allowfullscreen\n",
       "        ></iframe>\n",
       "        "
      ],
      "text/plain": [
       "<IPython.lib.display.YouTubeVideo at 0x10efcea20>"
      ]
     },
     "execution_count": 1,
     "metadata": {},
     "output_type": "execute_result"
    }
   ],
   "source": [
    "from IPython.display import YouTubeVideo\n",
    "YouTubeVideo(\"1VXDejQcAWY\")"
   ]
  },
  {
   "cell_type": "markdown",
   "metadata": {},
   "source": [
    "The cuboctahedron and icosahedron are related by having the same edge length.  The ratio of the two, in terms of volume, is: $20 : 5 \\sqrt{2} \\phi^2$.  \n",
    "\n",
    "Lets call this the \"S factor\".  \n",
    "\n",
    "Icosa * sfactor = Cubocta."
   ]
  },
  {
   "cell_type": "code",
   "execution_count": 9,
   "metadata": {},
   "outputs": [
    {
     "data": {
      "text/plain": [
       "1.080363026950906"
      ]
     },
     "execution_count": 9,
     "metadata": {},
     "output_type": "execute_result"
    }
   ],
   "source": [
    "from math import sqrt\n",
    "𝜙 = (sqrt(5) + 1)/2\n",
    "sfactor = 2 * sqrt(2) * 𝜙 ** -2\n",
    "sfactor"
   ]
  },
  {
   "cell_type": "code",
   "execution_count": 3,
   "metadata": {},
   "outputs": [
    {
     "data": {
      "text/plain": [
       "18.51229586821916"
      ]
     },
     "execution_count": 3,
     "metadata": {},
     "output_type": "execute_result"
    }
   ],
   "source": [
    "20 * 1/sfactor  # for volume of JB icosahedron"
   ]
  },
  {
   "cell_type": "markdown",
   "metadata": {},
   "source": [
    "From Figure 988.00 in *Synergetics*:\n",
    "\n",
    "<a data-flickr-embed=\"true\"  href=\"https://www.flickr.com/photos/kirbyurner/46319721212/in/dateposted-public/\" title=\"Jitterbug Relation\"><img src=\"https://farm5.staticflickr.com/4908/46319721212_5144721a96.jpg\" width=\"500\" height=\"295\" alt=\"Jitterbug Relation\"></a><script async src=\"//embedr.flickr.com/assets/client-code.js\" charset=\"utf-8\"></script>\n",
    "<div align=\"center\">Jitterbug Relationship</div>"
   ]
  },
  {
   "cell_type": "markdown",
   "metadata": {},
   "source": [
    "## The S Train is Leaving the Station...\n",
    "\n",
    "However there's another twinning or pairing of the cubocta and icosa in Synergetics that arises when we fit both into a contextualizing octahedron.  \n",
    "\n",
    "Consider the canonical octahedron of volume 4, with a cuboctahedron inside, its triangular faces flush with the octahedron's.\n",
    "\n",
    "Now consider an icosahedron with eight of its twenty faces flush to the same octahedron, but skewed (tilted) relative to the cuboctahedron's.\n",
    "\n",
    "<a data-flickr-embed=\"true\"  href=\"https://www.flickr.com/photos/kirbyurner/31432640247/in/dateposted-public/\" title=\"icosa_within\"><img src=\"https://farm5.staticflickr.com/4876/31432640247_14b56cdc4b.jpg\" width=\"500\" height=\"409\" alt=\"icosa_within\"></a><script async src=\"//embedr.flickr.com/assets/client-code.js\" charset=\"utf-8\"></script>\n",
    "<div align=\"center\">From Figure 988.12 in Synergetics by RBF</div>\n",
    "\n",
    "The relationship between this pair is different than in the Jitterbug Transformation.  For one thing, the edges are no longer the same length, and for another, the icosahedron's edges are longer, and its volume is greater.\n",
    "\n",
    "Also from Figure 988.00 in Synergetics:\n",
    "\n",
    "<a data-flickr-embed=\"true\"  href=\"https://www.flickr.com/photos/kirbyurner/46319721512/in/dateposted-public/\" title=\"Skew Relationship\"><img src=\"https://farm5.staticflickr.com/4827/46319721512_e1f04c3ca2.jpg\" width=\"500\" height=\"272\" alt=\"Skew Relationship\"></a><script async src=\"//embedr.flickr.com/assets/client-code.js\" charset=\"utf-8\"></script>\n",
    "<div align=\"center\">Cuboctahedron and Icosahedron<br /> both with faces flush to Octahedron of volume 4</div>\n",
    "\n",
    "However, despite these differences, the S-Factor is still involved.  \n",
    "\n",
    "The cuboctahedron's volume, times S-Factor to the 2nd power, gives the icosahedron's volume."
   ]
  },
  {
   "cell_type": "code",
   "execution_count": 4,
   "metadata": {},
   "outputs": [
    {
     "data": {
      "text/plain": [
       "2.9179606750063094"
      ]
     },
     "execution_count": 4,
     "metadata": {},
     "output_type": "execute_result"
    }
   ],
   "source": [
    "icosa_within = 2.5 * sfactor * sfactor\n",
    "icosa_within"
   ]
  },
  {
   "cell_type": "markdown",
   "metadata": {},
   "source": [
    "The \"skew icosahedron\" inside the volume 4 octahedron is what we use to derive the 24 S modules, which make up the difference in volume between the two.  The S module's volume may also be expressed in terms of φ."
   ]
  },
  {
   "cell_type": "code",
   "execution_count": 5,
   "metadata": {},
   "outputs": [
    {
     "data": {
      "text/plain": [
       "0.04508497187473711"
      ]
     },
     "execution_count": 5,
     "metadata": {},
     "output_type": "execute_result"
    }
   ],
   "source": [
    "smod = (4 - icosa_within)/24\n",
    "smod"
   ]
  },
  {
   "cell_type": "code",
   "execution_count": 6,
   "metadata": {},
   "outputs": [
    {
     "data": {
      "text/plain": [
       "0.04508497187473711"
      ]
     },
     "execution_count": 6,
     "metadata": {},
     "output_type": "execute_result"
    }
   ],
   "source": [
    "(𝜙**-5)/2 "
   ]
  },
  {
   "cell_type": "markdown",
   "metadata": {},
   "source": [
    "The fact that the cuboctahedron and icosahedron relate in two ways via a common S-factor suggests the metaphor of a train or subway route.  \n",
    "\n",
    "Start at the cuboctahedron and follow the Jitterbug Pathway (one stop, one application of the S-factor, but as a reciprocal, since we're dropping in volume). \n",
    "\n",
    "We've arrived at the Jitterbug icosahedron. Applying 1/S twice more will take us to another cuboctahedron (dubbed \"SmallGuy\" in some writings)."
   ]
  },
  {
   "cell_type": "code",
   "execution_count": 7,
   "metadata": {},
   "outputs": [
    {
     "data": {
      "text/plain": [
       "15.860645438769605"
      ]
     },
     "execution_count": 7,
     "metadata": {},
     "output_type": "execute_result"
    }
   ],
   "source": [
    "SmallGuy = 20 * (1/sfactor) ** 3\n",
    "SmallGuy"
   ]
  },
  {
   "cell_type": "markdown",
   "metadata": {},
   "source": [
    "When going in the other direction (smaller to bigger), apply the S factor directly (not the reciprocal) since the volumes increase.  \n",
    "\n",
    "For example start at the cuboctahedron of volume 2.5, apply the S factor twice to get the corresponding skew icosahedron (\"Icosahedron Within\"), its faces embedded in the same volume 4 octahedron (see above)."
   ]
  },
  {
   "cell_type": "markdown",
   "metadata": {},
   "source": [
    "## S is for \"Skew\"...\n",
    "\n",
    "However, we might also say \"S\" is for \"Sesame Street\" and for \"spine\" as the Concentric Hierarchy forms the backbone of Synergetics and becomes the familiar neighborhood, what we keep coming back to.  \n",
    "\n",
    "## ... and for \"Subway\"\n",
    "\n",
    "The idea of scale factors taking us from one \"station stop\" to another within the Concentric Hierarchy jibes with the \"hypertoon\" concept:  smooth transformations terminating in \"switch points\" from which other transformations also branch (a nodes and edges construct, like the polyhedrons themselves).\n",
    "\n",
    "Successive applications of both S and S3 take us to \"station stops\" along the \"S train\" e.g. \n",
    "\n",
    "$$cubocta \\rightarrow S^2 \\rightarrow icosa \\rightarrow S \\rightarrow cubocta \\rightarrow S3 \\rightarrow RT$$ \n",
    "\n",
    "and so on. Bigger and bigger (or other way). \n",
    "\n",
    "Remember S3?  That's also our $IVM \\Leftrightarrow XYZ$ conversion constant.\n",
    "\n",
    "<a data-flickr-embed=\"true\"  href=\"https://www.flickr.com/photos/kirbyurner/21077777642/in/photolist-FRd2LJ-y7z7Xm-frqefo-8thDyL-6zKk1y-5KBFWR-5KFVMm-5uinM4\" title=\"Conversion Constant\"><img src=\"https://farm1.staticflickr.com/702/21077777642_9803ddb65e.jpg\" width=\"500\" height=\"375\" alt=\"Conversion Constant\"></a><script async src=\"//embedr.flickr.com/assets/client-code.js\" charset=\"utf-8\"></script>\n",
    "<div align=\"center\">Cube edges = 2 x Tetrahedron edges;<br /> Cube:Tetrahedron volume ratio = S3</div>\n"
   ]
  },
  {
   "cell_type": "code",
   "execution_count": 8,
   "metadata": {},
   "outputs": [
    {
     "data": {
      "text/plain": [
       "21.213203435596423"
      ]
     },
     "execution_count": 8,
     "metadata": {},
     "output_type": "execute_result"
    }
   ],
   "source": [
    "S3 = sqrt(9/8)\n",
    "JB_icosa = SmallGuy * sfactor * sfactor\n",
    "JB_cubocta = JB_icosa * sfactor\n",
    "SuperRT = JB_cubocta * S3\n",
    "SuperRT  # 20*S3"
   ]
  },
  {
   "cell_type": "markdown",
   "metadata": {},
   "source": [
    "The SuperRT is the RT defined by the Jitterbug icosa (```JB_icosa```) and its dual, the Pentagonal Dodecahedron of tetravolume $3\\sqrt{2}(\\phi^2 + 1)$.\n",
    "\n",
    "The S train through the 2.5 cubocta, which stops at \"Icosa Within\" does not meet up with S train through 20 cubocta, which runs to SmallGuy. \n",
    "\n",
    "The 20 and 2.5 cubocta stations are linked by \"Double D express\" (halve or double all edge lengths). \n",
    "\n",
    "The Phi Commuter does a lot of the heavy lifting, multiplying all edges by phi or 1/phi, as in the ...e6, e3, E, E3, E6... progression.\n",
    "\n",
    "Multiplying edges by x entails multiplying volume by $x^3$.\n",
    "\n",
    "Take Phi Commuter from SuperRT to the 120 E Mods RT (with radius R), get off and transfer to the T Mods RT (mind the gap of ~0.9994), then take the local to the 7.5 RT. The space-filling RD6 will be at the same corner. \n",
    "\n",
    "<a data-flickr-embed=\"true\"  href=\"https://www.flickr.com/photos/kirbyurner/4178618670/in/photolist-28MC8r3-27PVk6E-27PVjh5-27PVkvN-27PViQ3-27PVjC5-KgsYkX-KgsXRk-KgsZ2B-27KsgFG-27xwi3K-9WvZwa-97TTvV-7nfvKu\" title=\"The 6 and the 7.5\"><img src=\"https://farm3.staticflickr.com/2767/4178618670_1b4729e527.jpg\" width=\"500\" height=\"456\" alt=\"The 6 and the 7.5\"></a><script async src=\"//embedr.flickr.com/assets/client-code.js\" charset=\"utf-8\"></script>\n",
    "<div align=\"center\">RT of volume 7.5 and RD of volume 6<br /> with shared vertexes (by David Koski using vZome)</div>\n",
    "\n",
    "The RD6's long diagonals make Octa4, your bridge to *Icosa Within* and the S line to the 2.5 cubocta.\n",
    "\n",
    "This kind of touring by scale factor and switching pathways is called \"taking subways around the neighborhood\" (i.e. Sesame Street).\n",
    "\n",
    "![subway system](https://upload.wikimedia.org/wikipedia/commons/thumb/e/e4/Xi%27an_Metro_Map.svg/1024px-Xi%27an_Metro_Map.svg.png)"
   ]
  }
 ],
 "metadata": {
  "kernelspec": {
   "display_name": "Python 3",
   "language": "python",
   "name": "python3"
  },
  "language_info": {
   "codemirror_mode": {
    "name": "ipython",
    "version": 3
   },
   "file_extension": ".py",
   "mimetype": "text/x-python",
   "name": "python",
   "nbconvert_exporter": "python",
   "pygments_lexer": "ipython3",
   "version": "3.6.6"
  }
 },
 "nbformat": 4,
 "nbformat_minor": 2
}
