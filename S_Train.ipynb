{
 "cells": [
  {
   "cell_type": "markdown",
   "metadata": {},
   "source": [
    "[Oregon Curriculum Network](http://www.4dsolutions.net/ocn) <br />\n",
    "[Discovering Math with Python](Introduction.ipynb)\n",
    "\n",
    "# All Aboard the S Train! \n",
    "\n",
    "Those of us exploring the geometry of thinking laid out in Synergetics (subtitled explorations in the geometry of thinking) will be familiar with the Jitterbug Transformation, popularized in this [Youtube introduction to the International Mathematicians Union logo](https://youtu.be/1VXDejQcAWY):\n",
    "\n",
    "<a data-flickr-embed=\"true\"  href=\"https://www.flickr.com/photos/kirbyurner/46320625832/in/dateposted-public/\" title=\"imu_logo_u2be\"><img src=\"https://farm5.staticflickr.com/4815/46320625832_7c33a06f9e.jpg\" width=\"500\" height=\"461\" alt=\"imu_logo_u2be\"></a><script async src=\"//embedr.flickr.com/assets/client-code.js\" charset=\"utf-8\"></script>\n"
   ]
  },
  {
   "cell_type": "code",
   "execution_count": 1,
   "metadata": {},
   "outputs": [
    {
     "data": {
      "image/jpeg": "[encoded data removed]",
      "text/html": [
       "\n",
       "        <iframe\n",
       "            width=\"400\"\n",
       "            height=\"300\"\n",
       "            src=\"https://www.youtube.com/embed/1VXDejQcAWY\"\n",
       "            frameborder=\"0\"\n",
       "            allowfullscreen\n",
       "        ></iframe>\n",
       "        "
      ],
      "text/plain": [
       "<IPython.lib.display.YouTubeVideo at 0x10793b828>"
      ]
     },
     "execution_count": 1,
     "metadata": {},
     "output_type": "execute_result"
    }
   ],
   "source": [
    "from IPython.display import YouTubeVideo\n",
    "YouTubeVideo(\"1VXDejQcAWY\")"
   ]
  },
  {
   "cell_type": "markdown",
   "metadata": {},
   "source": [
    "The cuboctahedron and icosahedron are related by having the same edge length.  The ratio of the two, in terms of volume, is: $20 : 5 \\sqrt{2} \\phi^2$.  \n",
    "\n",
    "Lets call this the \"S factor\". It also happens to be the [Smod/Emod volume ratio](https://repl.it/@kurner/SandE-Modules)."
   ]
  },
  {
   "cell_type": "code",
   "execution_count": 2,
   "metadata": {},
   "outputs": [
    {
     "name": "stdout",
     "output_type": "stream",
     "text": [
      "sfactor:  1.080363026950905814406172628196375701989460486805627392673\n"
     ]
    }
   ],
   "source": [
    "import gmpy2\n",
    "import gmpy2\n",
    "gmpy2.get_context().precision=200\n",
    "root2 = gmpy2.sqrt(2)\n",
    "root7 = gmpy2.sqrt(7)\n",
    "root5 = gmpy2.sqrt(5)\n",
    "root3 = gmpy2.sqrt(3)\n",
    "\n",
    "# phi\n",
    "𝜙 = (gmpy2.sqrt(5) + 1)/2\n",
    "\n",
    "# Synergetics modules\n",
    "Smod = (𝜙 **-5)/2  \n",
    "Emod = (root2/8) * (𝜙 ** -3)\n",
    "sfactor = Smod/Emod\n",
    "print(\"sfactor: {:60.57}\".format(sfactor))"
   ]
  },
  {
   "cell_type": "markdown",
   "metadata": {},
   "source": [
    "Icosa * sfactor = Cubocta."
   ]
  },
  {
   "cell_type": "code",
   "execution_count": 3,
   "metadata": {},
   "outputs": [
    {
     "name": "stdout",
     "output_type": "stream",
     "text": [
      "sfactor:  1.080363026950905814406172628196375701989460486805627392673\n"
     ]
    }
   ],
   "source": [
    "sfactor = 2 * root2 * 𝜙 ** -2\n",
    "print(\"sfactor: {:60.57}\".format(sfactor))"
   ]
  },
  {
   "cell_type": "code",
   "execution_count": 4,
   "metadata": {},
   "outputs": [
    {
     "name": "stdout",
     "output_type": "stream",
     "text": [
      "Icosahedron: 18.512295868219161196009899292654531923571426913640152615969\n"
     ]
    }
   ],
   "source": [
    "JB_icosa = 20 * 1/sfactor\n",
    "print(\"Icosahedron: {:60.57}\".format(JB_icosa))  # for volume of JB icosahedron"
   ]
  },
  {
   "cell_type": "markdown",
   "metadata": {},
   "source": [
    "From Figure 988.00 in *Synergetics*:\n",
    "\n",
    "<a data-flickr-embed=\"true\"  href=\"https://www.flickr.com/photos/kirbyurner/46319721212/in/dateposted-public/\" title=\"Jitterbug Relation\"><img src=\"https://farm5.staticflickr.com/4908/46319721212_5144721a96.jpg\" width=\"500\" height=\"295\" alt=\"Jitterbug Relation\"></a><script async src=\"//embedr.flickr.com/assets/client-code.js\" charset=\"utf-8\"></script>\n",
    "<div align=\"center\">Jitterbug Relationship</div>"
   ]
  },
  {
   "cell_type": "markdown",
   "metadata": {},
   "source": [
    "## The S Train is Leaving the Station...\n",
    "\n",
    "However there's another twinning or pairing of the cubocta and icosa in Synergetics that arises when we fit both into a contextualizing octahedron.  \n",
    "\n",
    "Consider the canonical octahedron of volume 4, with a cuboctahedron inside, its triangular faces flush with the octahedron's.  Its volume is 2.5.\n",
    "\n",
    "Now consider an icosahedron with eight of its twenty faces flush to the same octahedron, but skewed (tilted) relative to the cuboctahedron's.\n",
    "\n",
    "<a data-flickr-embed=\"true\"  href=\"https://www.flickr.com/photos/kirbyurner/31432640247/in/dateposted-public/\" title=\"icosa_within\"><img src=\"https://farm5.staticflickr.com/4876/31432640247_14b56cdc4b.jpg\" width=\"500\" height=\"409\" alt=\"icosa_within\"></a><script async src=\"//embedr.flickr.com/assets/client-code.js\" charset=\"utf-8\"></script>\n",
    "<div align=\"center\">From Figure 988.12 in Synergetics by RBF</div>\n",
    "\n",
    "The relationship between this pair is different than in the Jitterbug Transformation.  For one thing, the edges are no longer the same length, and for another, the icosahedron's edges are longer, and its volume is greater.\n",
    "\n",
    "However, despite these differences, the S-Factor is still involved.  \n",
    "\n",
    "For one thing: the longer edge of the icosahedron is the S-factor, given edges and radii of the cuboctahedron of volume 2.5 are all R = 1 = the radius of one CCP sphere -- each encased by the volume 6 RD (see below).\n",
    "\n",
    "From Figure 988.00 in Synergetics:\n",
    "\n",
    "<a data-flickr-embed=\"true\"  href=\"https://www.flickr.com/photos/kirbyurner/46319721512/in/dateposted-public/\" title=\"Skew Relationship\"><img src=\"https://farm5.staticflickr.com/4827/46319721512_e1f04c3ca2.jpg\" width=\"500\" height=\"272\" alt=\"Skew Relationship\"></a><script async src=\"//embedr.flickr.com/assets/client-code.js\" charset=\"utf-8\"></script>\n",
    "<div align=\"center\">Cuboctahedron and Icosahedron<br /> both with faces flush to Octahedron of volume 4</div>\n",
    "\n",
    "For another:  the cuboctahedron's volume, times S-Factor to the 2nd power, gives the icosahedron's volume."
   ]
  },
  {
   "cell_type": "code",
   "execution_count": 5,
   "metadata": {},
   "outputs": [
    {
     "data": {
      "text/plain": [
       "mpfr('2.9179606750063091077247899380617129367814492116542282718730885',200)"
      ]
     },
     "execution_count": 5,
     "metadata": {},
     "output_type": "execute_result"
    }
   ],
   "source": [
    "icosa_within = 2.5 * sfactor * sfactor\n",
    "icosa_within"
   ]
  },
  {
   "cell_type": "markdown",
   "metadata": {},
   "source": [
    "### Verifying S Module Volume\n",
    "\n",
    "The \"skew icosahedron\" inside the volume 4 octahedron is what we use to derive the 24 S modules, which make up the difference in volume between the two.  The S module's volume may also be expressed in terms of φ."
   ]
  },
  {
   "cell_type": "code",
   "execution_count": 6,
   "metadata": {},
   "outputs": [
    {
     "name": "stdout",
     "output_type": "stream",
     "text": [
      "smod:  0.045084971874737120511467085914095294300772949514407155339\n"
     ]
    }
   ],
   "source": [
    "smod = (4 - icosa_within)/24\n",
    "print(\"smod: {:60.57}\".format(smod))"
   ]
  },
  {
   "cell_type": "code",
   "execution_count": 7,
   "metadata": {},
   "outputs": [
    {
     "name": "stdout",
     "output_type": "stream",
     "text": [
      "smod:  0.045084971874737120511467085914095294300772949514407155339\n"
     ]
    }
   ],
   "source": [
    "(𝜙**-5)/2 \n",
    "print(\"smod: {:60.57}\".format(smod))"
   ]
  },
  {
   "cell_type": "markdown",
   "metadata": {},
   "source": [
    "Lets look at the S module in more detail, and compute its volume from scratch, using [a Python formula](Computing%20Volumes.ipynb).\n",
    "\n",
    "<a data-flickr-embed=\"true\"  href=\"https://www.flickr.com/photos/kirbyurner/45589318711/in/dateposted-public/\" title=\"dejong\"><img src=\"https://farm2.staticflickr.com/1935/45589318711_677d272397.jpg\" width=\"417\" height=\"136\" alt=\"dejong\"></a><script async src=\"//embedr.flickr.com/assets/client-code.js\" charset=\"utf-8\"></script>\n",
    "<br />\n",
    "<a data-flickr-embed=\"true\"  href=\"https://www.flickr.com/photos/kirbyurner/32732893998/in/dateposted-public/\" title=\"smod_dimensions\"><img src=\"https://farm5.staticflickr.com/4892/32732893998_cd5f725f3d.jpg\" width=\"500\" height=\"484\" alt=\"smod_dimensions\"></a><script async src=\"//embedr.flickr.com/assets/client-code.js\" charset=\"utf-8\"></script>\n",
    "\n",
    "Picking a common apex for three lengths (radials), and then connecting the dots around the base so defined, is step one in using our algorithm.  We'll use gmpy2 for its extended precision capabilities.\n",
    "\n",
    "The Tetrahedron class in tetravolume module is set by default to work in D units (D = 2R) i.e. the canonical tetrahedron, octahedron, icosahedron, all have edges 1."
   ]
  },
  {
   "cell_type": "code",
   "execution_count": 8,
   "metadata": {},
   "outputs": [
    {
     "name": "stdout",
     "output_type": "stream",
     "text": [
      "smod:  0.045084971874737120511467085914095294300772949514407155339\n"
     ]
    }
   ],
   "source": [
    "import tetvols\n",
    "# assume a = 1 D\n",
    "a  = 1 \n",
    "# common apex is F\n",
    "FH = 1/𝜙\n",
    "FE = sfactor/2\n",
    "FG = root3 * FE/2\n",
    "# connecting the base (same order, i.e. H, E, G)\n",
    "HE = (3 - root5)/2\n",
    "EG = FE/2\n",
    "GH = EG\n",
    "\n",
    "Smod = tetvols.ivm_volume((FH, FE, FG, HE, EG, GH))\n",
    "print(\"smod: {:60.57}\".format(Smod))"
   ]
  },
  {
   "cell_type": "code",
   "execution_count": 9,
   "metadata": {},
   "outputs": [
    {
     "name": "stdout",
     "output_type": "stream",
     "text": [
      "Octa Edge = 1\n",
      "FH:  0.618033988749894848204586834365638117720309179805762862135\n",
      "FE:  0.540181513475452907203086314098187850994730243402813696336\n",
      "FG:  0.467810913324468290005538599027413209092598872997544460757\n",
      "HE:  0.381966011250105151795413165634361882279690820194237137865\n",
      "EG:  0.270090756737726453601543157049093925497365121701406848168\n",
      "GH:  0.270090756737726453601543157049093925497365121701406848168\n"
     ]
    }
   ],
   "source": [
    "print(\"Octa Edge = 1\")\n",
    "print(\"FH: {:60.57}\".format(FH))\n",
    "print(\"FE: {:60.57}\".format(FE))\n",
    "print(\"FG: {:60.57}\".format(FG))\n",
    "print(\"HE: {:60.57}\".format(HE))\n",
    "print(\"EG: {:60.57}\".format(EG))\n",
    "print(\"GH: {:60.57}\".format(GH))"
   ]
  },
  {
   "cell_type": "markdown",
   "metadata": {},
   "source": [
    "<a data-flickr-embed=\"true\"  href=\"https://www.flickr.com/photos/kirbyurner/32735856588/in/dateposted-public/\" title=\"fig988_13C\"><img src=\"https://farm8.staticflickr.com/7909/32735856588_ac9c7d7b89_o.jpg\" width=\"518\" height=\"478\" alt=\"fig988_13C\"></a><script async src=\"//embedr.flickr.com/assets/client-code.js\" charset=\"utf-8\"></script>\n",
    "<br />\n",
    "\n",
    "Setting a = 2 give us the following edges table:"
   ]
  },
  {
   "cell_type": "code",
   "execution_count": 10,
   "metadata": {},
   "outputs": [
    {
     "name": "stdout",
     "output_type": "stream",
     "text": [
      "Octa Edge = 2\n",
      "FH:  1.236067977499789696409173668731276235440618359611525724271\n",
      "FE:  1.080363026950905814406172628196375701989460486805627392673\n",
      "FG:  0.935621826648936580011077198054826418185197745995088921515\n",
      "HE:  0.763932022500210303590826331268723764559381640388474275729\n",
      "EG:  0.540181513475452907203086314098187850994730243402813696336\n",
      "GH:  0.540181513475452907203086314098187850994730243402813696336\n"
     ]
    }
   ],
   "source": [
    "print(\"Octa Edge = 2\")\n",
    "print(\"FH: {:60.57}\".format(FH * 2))\n",
    "print(\"FE: {:60.57}\".format(FE * 2))\n",
    "print(\"FG: {:60.57}\".format(FG * 2))\n",
    "print(\"HE: {:60.57}\".format(HE * 2))\n",
    "print(\"EG: {:60.57}\".format(EG * 2))\n",
    "print(\"GH: {:60.57}\".format(GH * 2))"
   ]
  },
  {
   "cell_type": "markdown",
   "metadata": {},
   "source": [
    "### The S Train\n",
    "\n",
    "The fact that the cuboctahedron and icosahedron relate in two ways via a common S-factor suggests the metaphor of a train or subway route.  \n",
    "\n",
    "Start at the cuboctahedron and follow the Jitterbug Pathway (one stop, one application of the S-factor, but as a reciprocal, since we're dropping in volume). \n",
    "\n",
    "We've arrived at the Jitterbug icosahedron. Applying 1/S twice more will take us to another cuboctahedron (dubbed \"SmallGuy\" in some writings).  Its triangular faces overlap those of the Jitterbug icosahedron."
   ]
  },
  {
   "cell_type": "code",
   "execution_count": 11,
   "metadata": {},
   "outputs": [
    {
     "name": "stdout",
     "output_type": "stream",
     "text": [
      "SmallGuy: 15.860645438769607979506732934761348026253292147308374978763\n"
     ]
    }
   ],
   "source": [
    "SmallGuy = 20 * (1/sfactor) ** 3\n",
    "SmallGuy\n",
    "print(\"SmallGuy: {:60.57}\".format(SmallGuy))"
   ]
  },
  {
   "cell_type": "markdown",
   "metadata": {},
   "source": [
    "SmallGuy's edges are 2R times 1/sfactor, since linear change is a 3rd root of volumetric change (when shape is held constant). \n",
    "\n",
    "Interestingly, this result is one tenth the JB_icosahedron's volume, but a linear measure in this instance. "
   ]
  },
  {
   "cell_type": "code",
   "execution_count": 12,
   "metadata": {},
   "outputs": [
    {
     "name": "stdout",
     "output_type": "stream",
     "text": [
      "SmallGuy Edge:   1.851229586821916119600989929265453192357142691364015261597\n",
      "Icosahedron:     18.512295868219161196009899292654531923571426913640152615969\n"
     ]
    }
   ],
   "source": [
    "print(\"SmallGuy Edge:  {:60.57}\".format(2 * (1/sfactor)))  # SmallGuy edge\n",
    "print(\"Icosahedron:     {:60.57}\".format(JB_icosa))  # for volume of JB icosahedron"
   ]
  },
  {
   "cell_type": "markdown",
   "metadata": {},
   "source": [
    "When going in the other direction (smaller to bigger), apply the S factor directly (not the reciprocal) since the volumes increase.  \n",
    "\n",
    "For example start at the cuboctahedron of volume 2.5, apply the S factor twice to get the corresponding skew icosahedron (\"Icosahedron Within\"), its faces embedded in the same volume 4 octahedron (see above)."
   ]
  },
  {
   "cell_type": "markdown",
   "metadata": {},
   "source": [
    "# S is for \"Skew\"...\n",
    "\n",
    "However, we might also say \"S\" is for \"Sesame Street\" and for \"spine\" as the Concentric Hierarchy forms the backbone of Synergetics and becomes the familiar neighborhood, what we keep coming back to.  \n",
    "\n",
    "## ... and for \"Subway\"\n",
    "\n",
    "The idea of scale factors taking us from one \"station stop\" to another within the Concentric Hierarchy jibes with the \"hypertoon\" concept:  smooth transformations terminating in \"switch points\" from which other transformations also branch (a nodes and edges construct, like the polyhedrons themselves).\n",
    "\n",
    "Successive applications of both S and Syn3 take us to \"station stops\" along the \"S train\" e.g. \n",
    "\n",
    "$$SmallGuy \\rightarrow S^2 \\rightarrow icosa \\rightarrow S \\rightarrow cubocta \\rightarrow Syn3 \\rightarrow RT$$ \n",
    "\n",
    "and so on. Bigger and bigger (or other way). \n",
    "\n",
    "Remember Syn3?  That's also our $IVM \\Leftrightarrow XYZ$ conversion constant.  Yet here we're not using it that way, as we're staying in tetravolumes the whole time.  \n",
    "\n",
    "However, what's so is the ratio between the volume of the cube of edges R and the volume of the tetrahedron of edges D (D = 2R) is the same as that between the RT and volume 20 cuboctahedron, where long diagonals of RT = edges of cubocta.\n",
    "\n",
    "<a data-flickr-embed=\"true\"  href=\"https://www.flickr.com/photos/kirbyurner/21077777642/in/photolist-FRd2LJ-y7z7Xm-frqefo-8thDyL-6zKk1y-5KBFWR-5KFVMm-5uinM4\" title=\"Conversion Constant\"><img src=\"https://farm1.staticflickr.com/702/21077777642_9803ddb65e.jpg\" width=\"500\" height=\"375\" alt=\"Conversion Constant\"></a><script async src=\"//embedr.flickr.com/assets/client-code.js\" charset=\"utf-8\"></script>\n",
    "<div align=\"center\">Cube edges = 1/2 x Tetrahedron edges;<br /> Cube:Tetrahedron volume ratio = S3</div>\n"
   ]
  },
  {
   "cell_type": "code",
   "execution_count": 13,
   "metadata": {},
   "outputs": [
    {
     "name": "stdout",
     "output_type": "stream",
     "text": [
      "JB Icosa:   18.512295868219161196009899292654531923571426913640152615969\n",
      "JB Cubocta: 20.000000000000000000000000000000000000000000000000000000000\n",
      "SuperRT:    21.213203435596425732025330863145471178545078130654221097650\n"
     ]
    }
   ],
   "source": [
    "Syn3 = gmpy2.sqrt(gmpy2.mpfr(9)/gmpy2.mpfr(8))\n",
    "JB_icosa = SmallGuy * sfactor * sfactor\n",
    "print(\"JB Icosa:   {:60.57}\".format(JB_icosa))\n",
    "JB_cubocta = JB_icosa * sfactor\n",
    "print(\"JB Cubocta: {:60.57}\".format(JB_cubocta))\n",
    "SuperRT = JB_cubocta * Syn3\n",
    "SuperRT  # 20*S3\n",
    "print(\"SuperRT:    {:60.57}\".format(SuperRT))"
   ]
  },
  {
   "cell_type": "markdown",
   "metadata": {},
   "source": [
    "The SuperRT is the RT defined by the Jitterbug icosa (```JB_icosa```) and its dual, the Pentagonal Dodecahedron of tetravolume $3\\sqrt{2}(\\phi^2 + 1)$.\n",
    "\n",
    "The S train through the 2.5 cubocta, which stops at \"Icosa Within\" does not meet up with S train through 20 cubocta, which runs to SmallGuy. \n",
    "\n",
    "The 20 and 2.5 cubocta stations are linked by \"Double D express\" (halve or double all edge lengths). \n",
    "\n",
    "$$Cubocta 20 \\rightarrow DoubleD \\rightarrow Cubocta 2.5 \\rightarrow S^2 \\rightarrow Icosa Within \\rightarrow + 24 Smods \\rightarrow Octa4$$ \n",
    "\n",
    "The Phi Commuter does a lot of the heavy lifting, multiplying all edges by phi or 1/phi, as in the ...e6, e3, E, E3, E6... progression.\n",
    "\n",
    "Multiplying edges by x entails multiplying volume by $x^3$.\n",
    "\n",
    "Take Phi Commuter from SuperRT to the 120 E Mods RT (with radius R), get off and transfer to the T Mods RT (mind the gap of ~0.9994), then take the local to the 7.5 RT. \n",
    "\n",
    "The space-filling RD6 will be at the same corner (they share vertexes).\n",
    "\n",
    "<a data-flickr-embed=\"true\"  href=\"https://www.flickr.com/photos/kirbyurner/4178618670/in/photolist-28MC8r3-27PVk6E-27PVjh5-27PVkvN-27PViQ3-27PVjC5-KgsYkX-KgsXRk-KgsZ2B-27KsgFG-27xwi3K-9WvZwa-97TTvV-7nfvKu\" title=\"The 6 and the 7.5\"><img src=\"https://farm3.staticflickr.com/2767/4178618670_1b4729e527.jpg\" width=\"500\" height=\"456\" alt=\"The 6 and the 7.5\"></a><script async src=\"//embedr.flickr.com/assets/client-code.js\" charset=\"utf-8\"></script>\n",
    "<div align=\"center\">RT of volume 7.5 and RD of volume 6<br /> with shared vertexes (by David Koski using vZome)</div>\n",
    "\n",
    "The RD6's long diagonals make Octa4, your bridge to *Icosa Within* and the S line to the 2.5 cubocta.\n",
    "\n",
    "\n",
    "$$SuperRT \\rightarrow \\phi Commuter \\rightarrow Emod RT \\rightarrow Tmod RT \\rightarrow 3/2 \\rightarrow 7.5 RT \\rightarrow RD6 \\rightarrow Octa4$$ \n",
    "\n",
    "This kind of touring by scale factor and switching pathways is called \"taking subways around the neighborhood\" (i.e. Sesame Street).\n",
    "\n",
    "<a data-flickr-embed=\"true\"  href=\"https://www.flickr.com/photos/kirbyurner/31433920137/in/dateposted-public/\" title=\"Sesame Street Subway\"><img src=\"https://farm5.staticflickr.com/4812/31433920137_ecb829e3bd.jpg\" width=\"500\" height=\"375\" alt=\"Sesame Street Subway\"></a><script async src=\"//embedr.flickr.com/assets/client-code.js\" charset=\"utf-8\"></script>\n",
    "\n",
    "![subway system](https://upload.wikimedia.org/wikipedia/commons/thumb/e/e4/Xi%27an_Metro_Map.svg/1024px-Xi%27an_Metro_Map.svg.png)\n",
    "\n",
    "\n",
    "*For further reading:*\n",
    "\n",
    "* [Five Octahedrons in S* Module Volumes](CompoundFiveOctahedra.ipynb)\n",
    "* [this Notebook](http://nbviewer.jupyter.org/github/4dsolutions/Python5/blob/master/S_Train.ipynb) in nbviewer"
   ]
  }
 ],
 "metadata": {
  "kernelspec": {
   "display_name": "Python 3",
   "language": "python",
   "name": "python3"
  },
  "language_info": {
   "codemirror_mode": {
    "name": "ipython",
    "version": 3
   },
   "file_extension": ".py",
   "mimetype": "text/x-python",
   "name": "python",
   "nbconvert_exporter": "python",
   "pygments_lexer": "ipython3",
   "version": "3.6.4"
  }
 },
 "nbformat": 4,
 "nbformat_minor": 2
}
