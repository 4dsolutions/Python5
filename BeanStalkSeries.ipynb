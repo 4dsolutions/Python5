{
 "cells": [
  {
   "cell_type": "markdown",
   "metadata": {},
   "source": [
    "\n",
    "# Bean Stalk Series: Dissecting the E\n",
    "### (version 0.5)\n",
    "\n",
    "\n",
    "\n",
    "<br />\n",
    "<br />\n",
    "\n",
    "<div style=\"text-align: center\">\n",
    "<a data-flickr-embed=\"true\"  href=\"https://www.flickr.com/photos/kirbyurner/37897977156\" title=\"E mod (right tetrahedron) with submodules: Fum, Fo, Fi, Fe going left to right.\"><img src=\"https://farm5.staticflickr.com/4444/37897977156_630bb41944_z.jpg\" width=\"640\" height=\"573\" alt=\"E mod (right tetrahedron) with submodules: Fum, Fo, Fi, Fe going left to right.\"></a><script async src=\"//embedr.flickr.com/assets/client-code.js\" charset=\"utf-8\"></script>\n",
    "<b>Figure 1: E module dissected into Fum, Fo, Fi and Fe</b>\n",
    "</div>\n",
    "\n",
    "What we see here is another vZome construction by David Koski, showing an E module dissected into four sub-modules, according to how the LCD Triangles cross the RT as chords.\n",
    "\n",
    "What are their volumes?\n",
    "\n",
    "Lets start with E itself."
   ]
  },
  {
   "cell_type": "code",
   "execution_count": 9,
   "metadata": {},
   "outputs": [
    {
     "name": "stdout",
     "output_type": "stream",
     "text": [
      "0.04173131692777365\n"
     ]
    }
   ],
   "source": [
    "from math import sqrt as rt2\n",
    "ø = (rt2(5) + 1)/2\n",
    "ø_down = ø ** -1\n",
    "ø_up = ø\n",
    "E_vol = (15 * rt2(2) * ø_down ** 3)/120 # a little more than 1/24, volume of T module\n",
    "print(E_vol)"
   ]
  },
  {
   "cell_type": "markdown",
   "metadata": {},
   "source": [
    "Now lets import the tetravolume.py module, which in turn has dependencies, to get these volumes directly, based on edge lengths."
   ]
  },
  {
   "cell_type": "code",
   "execution_count": 25,
   "metadata": {},
   "outputs": [],
   "source": [
    "import tetravolume as tv # has to be in your path\n",
    "# see Fig. 986.411A in Synergetics\n",
    "fum_spoke1 = 1  # shared with E-mod, OC in Fig. 986.411A\n",
    "fum_spoke2 = rt2((9 - 3*rt2(5))/2) # shared with E-mod, orange in Fig. 1 above\n",
    "fum_spoke3 = ?  # don't have this yet\n",
    "Fum = tetravolume.make_tetra(fum_radius1, fum_radius2, fum_radius3).ivm_volume()\n",
    "print(\"Fum volume (in tetravolumes):\", Fum)"
   ]
  },
  {
   "cell_type": "code",
   "execution_count": 26,
   "metadata": {},
   "outputs": [
    {
     "name": "stdout",
     "output_type": "stream",
     "text": [
      "15.350018208050784\n"
     ]
    }
   ],
   "source": [
    "PD = 3 * rt2(2) * (ø ** 2 + 1)\n",
    "print(PD_vol)"
   ]
  },
  {
   "cell_type": "code",
   "execution_count": 28,
   "metadata": {},
   "outputs": [
    {
     "name": "stdout",
     "output_type": "stream",
     "text": [
      "15.350018208050779\n"
     ]
    }
   ],
   "source": [
    "E = e = E_vol # shorthand (E3 = E * ø_up ** 3, e3 = E * ø_down ** 3, E = e)\n",
    "e3 = e * ø_down ** 3\n",
    "PD = 348 * E + 84 * e3\n",
    "print(PD)"
   ]
  },
  {
   "cell_type": "markdown",
   "metadata": {},
   "source": [
    "RT3, on the other hand, has a volume we may express as:"
   ]
  },
  {
   "cell_type": "code",
   "execution_count": 24,
   "metadata": {},
   "outputs": [
    {
     "name": "stdout",
     "output_type": "stream",
     "text": [
      "21.213203435596423\n"
     ]
    }
   ],
   "source": [
    "RT3 = 480 * E + 120 * e3  # e3 is e * ø_down ** 3 (e = E)\n",
    "print(RT3)"
   ]
  },
  {
   "cell_type": "markdown",
   "metadata": {},
   "source": [
    "Recall RT3 is the Rhombic Triacontahedron we get by intersecting the two Platonic duals:  Icosahedron (Icosa) and Pentagonal Dodecahedron (PD), with the former having edges = 2R and volume ~18.51 (5 \\* rt2(2) \\* ø \\*\\* 2).\n",
    "\n",
    "It turns out that if we shave a Fum3 off an E3, and multiply by 120, we get the PD's volume.\n",
    "\n",
    "Put another way: RT3 - PD leaves a volume of 120 Fum3 volumes.  In other words 120 * (E3 - Fum3) = PD."
   ]
  },
  {
   "cell_type": "code",
   "execution_count": null,
   "metadata": {
    "collapsed": true
   },
   "outputs": [],
   "source": [
    "Fum3 = Fum * ø_up ** 3\n",
    "PD = 120 * (E3 - Fum3)\n",
    "print(PD)"
   ]
  },
  {
   "cell_type": "markdown",
   "metadata": {},
   "source": [
    "For Further Reading:\n",
    "* [Cuboidal E3](https://github.com/4dsolutions/Python5/blob/master/CuboidalE3.ipynb)\n",
    "* [Terminology and Scope](http://worldgame.blogspot.com/2017/10/terminology-and-scope.html)\n",
    "* [Escaping the Vortex of Standardized Tests](https://medium.com/@kirbyurner/escaping-the-vortex-of-standardized-tests-a-game-plan-84d77d75d100)\n",
    "* [S&E Modules (Python 3 Repl)](https://repl.it/@kurner/SandE-Modules)\n",
    "* [Figure 986.411A in Synergetics](http://www.rwgrayprojects.com/synergetics/s09/figs/f86411a.html)"
   ]
  }
 ],
 "metadata": {
  "kernelspec": {
   "display_name": "Python 3",
   "language": "python",
   "name": "python3"
  },
  "language_info": {
   "codemirror_mode": {
    "name": "ipython",
    "version": 3
   },
   "file_extension": ".py",
   "mimetype": "text/x-python",
   "name": "python",
   "nbconvert_exporter": "python",
   "pygments_lexer": "ipython3",
   "version": "3.6.1"
  }
 },
 "nbformat": 4,
 "nbformat_minor": 2
}
