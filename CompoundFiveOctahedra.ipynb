{
 "cells": [
  {
   "cell_type": "markdown",
   "metadata": {},
   "source": [
    "[Oregon Curriculum Network](http://www.4dsolutions.net/ocn) <br />\n",
    "[Discovering Math with Python](Introduction.ipynb)\n",
    "\n",
    "\n",
    "# Five Octahedrons in S* Module Volumes\n",
    "\n",
    "<a data-flickr-embed=\"true\"  href=\"https://www.flickr.com/photos/kirbyurner/46361149221/in/dateposted-public/\" title=\"Five Octahedrons by Casey House\"><img src=\"https://farm5.staticflickr.com/4918/46361149221_ef7104b704.jpg\" width=\"500\" height=\"499\" alt=\"Five Octahedrons by Casey House\"></a><script async src=\"//embedr.flickr.com/assets/client-code.js\" charset=\"utf-8\"></script>\n",
    "\n",
    "This is a cut and paste job, working from notes messaged by David Koski to [Casey House](https://www.ilovecaseyhouse.com/) and myself.  It's about the volume of Five Octahedrons (a five-fold symmetric non-convex shape -- it has \"bumps\").\n",
    "\n",
    "My goal is to verify David's numbers using the extended precision library [gmpy2](https://gmpy2.readthedocs.io/en/latest/).\n",
    "\n",
    "The precision is expressed in bits, not decimal digits. 100 is already well beyond what a native floating point [IEEE 754](https://en.wikipedia.org/wiki/IEEE_754) would contain.  If using a live version of this Notebook, you'll be able to take control of the context, including how many bits.\n",
    "\n",
    "Lets go with 200 bits this time.  You'll start to see discrepancies in the least significant digits, which is to be expected."
   ]
  },
  {
   "cell_type": "code",
   "execution_count": 1,
   "metadata": {},
   "outputs": [],
   "source": [
    "import gmpy2\n",
    "gmpy2.get_context().precision=200"
   ]
  },
  {
   "cell_type": "code",
   "execution_count": 2,
   "metadata": {},
   "outputs": [
    {
     "data": {
      "text/plain": [
       "mpfr('1.6180339887498948482045868343656381177203091798057628621354484',200)"
      ]
     },
     "execution_count": 2,
     "metadata": {},
     "output_type": "execute_result"
    }
   ],
   "source": [
    "root5 = gmpy2.sqrt(5)\n",
    "Ø = (1 + root5)/2\n",
    "Ø"
   ]
  },
  {
   "cell_type": "code",
   "execution_count": 3,
   "metadata": {},
   "outputs": [
    {
     "name": "stdout",
     "output_type": "stream",
     "text": [
      " s12 = 0.00014001679103629136258724096203699966688007490164541515572523037\n",
      "  s9 = 0.00059312064482111343538172207721480972171960661370048746793462091\n",
      "  s6 = 0.0025124993703207451041141292708962385537585013564473650274637142\n",
      "  s3 = 0.010643118126104093851838239160799763936753612039489947577789477\n",
      "   S = 0.045084971874737120511467085914095294300772949514407155338621598\n",
      "  S3 = 0.19098300562505257589770658281718094113984541009711856893227582\n",
      "  S6 = 0.8090169943749474241022934171828190588601545899028814310677248\n"
     ]
    }
   ],
   "source": [
    "S  = (Ø **-5)/2      # home base Smod\n",
    "S3 = S * Ø**3        # capital s, phi up\n",
    "S6 = S3 * Ø**3       # phi up yet again\n",
    "# and so on\n",
    "\n",
    "s3 =  S * Ø**-3      # small s, phi down\n",
    "s6 = s3 * Ø**-3\n",
    "s9 = s6 * Ø**-3 \n",
    "s12= s9 * Ø**-3\n",
    "\n",
    "for i in 's12, s9, s6, s3, S, S3, S6'.split(\",\"):\n",
    "    print(\"{:>4} =\".format(i), eval(i))"
   ]
  },
  {
   "cell_type": "markdown",
   "metadata": {},
   "source": [
    "The S may be expressed in terms of phi-scaled versions of itself."
   ]
  },
  {
   "cell_type": "code",
   "execution_count": 4,
   "metadata": {},
   "outputs": [
    {
     "data": {
      "text/plain": [
       "mpfr('0.045084971874737120511467085914095294300772949514407155338621637',200)"
      ]
     },
     "execution_count": 4,
     "metadata": {},
     "output_type": "execute_result"
    }
   ],
   "source": [
    "S = 4*s3 + s6  # synonyms\n",
    "S"
   ]
  },
  {
   "cell_type": "markdown",
   "metadata": {},
   "source": [
    "<a data-flickr-embed=\"true\"  href=\"https://www.flickr.com/photos/kirbyurner/6335726352/in/photolist-25JufgG-22RBsb5-CwvwpP-vLby2U-ujipN3-f75zUP-aDSfHf-8ryECF-8ryEix-7mcmne-5zTRjp-5zY9gA-7k4Eid-7jZLe2-7k4Ejf-7k4Em5-7jZLhp\" title=\"S Module\"><img src=\"https://farm7.staticflickr.com/6114/6335726352_902009df40.jpg\" width=\"500\" height=\"441\" alt=\"S Module\"></a><script async src=\"//embedr.flickr.com/assets/client-code.js\" charset=\"utf-8\"></script>\n",
    "\n",
    "The five octahedrons are presumed to have edges 2R, the same edge used for the unit volume tetrahedron, and for the 12-around-1 cuboctahedron.  The dissection by David Koski was done in [vZome](http://vzome.com/home/)."
   ]
  },
  {
   "cell_type": "code",
   "execution_count": 5,
   "metadata": {},
   "outputs": [
    {
     "data": {
      "text/plain": [
       "mpfr('6.3343685400050472861798319504493703494251593693233826174984788',200)"
      ]
     },
     "execution_count": 5,
     "metadata": {},
     "output_type": "execute_result"
    }
   ],
   "source": [
    "# Koski writes:\n",
    "FiveOcta = 132 * S + 36 * s3\n",
    "RD6 = 126*S + 30*s3\n",
    "# 1/10 of RTW is 6S+6s3\n",
    "# adding them together gets the result\n",
    "# Whew\n",
    "FiveOcta"
   ]
  },
  {
   "cell_type": "code",
   "execution_count": 6,
   "metadata": {},
   "outputs": [
    {
     "data": {
      "text/plain": [
       "mpfr('6.00000000000000000000000000000000000000000000000000000000001',200)"
      ]
     },
     "execution_count": 6,
     "metadata": {},
     "output_type": "execute_result"
    }
   ],
   "source": [
    "RD6"
   ]
  },
  {
   "cell_type": "code",
   "execution_count": 7,
   "metadata": {},
   "outputs": [
    {
     "data": {
      "text/plain": [
       "mpfr('6.3343685400050472861798319504493703494251593693233826174984788',200)"
      ]
     },
     "execution_count": 7,
     "metadata": {},
     "output_type": "execute_result"
    }
   ],
   "source": [
    "FiveOcta2 = 10116 * s9 + 2388 * s12\n",
    "FiveOcta2"
   ]
  },
  {
   "cell_type": "markdown",
   "metadata": {},
   "source": [
    "David:  \"So, the beauty of working with these bits is that I can move them around.\""
   ]
  },
  {
   "cell_type": "code",
   "execution_count": 8,
   "metadata": {},
   "outputs": [
    {
     "name": "stdout",
     "output_type": "stream",
     "text": [
      "6.3343685400050472861798319504493703494251593693233826174984788\n",
      "6.3343685400050472861798319504493703494251593693233826174984738\n",
      "6.3343685400050472861798319504493703494251593693233826174984738\n",
      "6.3343685400050472861798319504493703494251593693233826174984788\n"
     ]
    }
   ],
   "source": [
    "for i in 132*S + 36*s3, 564*s3 + 132*s6, 2388*s6 + 564*s9, 10116*s9 + 2388*s12:\n",
    "    print(i)"
   ]
  },
  {
   "cell_type": "markdown",
   "metadata": {},
   "source": [
    "<a data-flickr-embed=\"true\"  href=\"https://www.flickr.com/photos/kirbyurner/31499584137/in/dateposted-public/\" title=\"icosa_within\"><img src=\"https://farm5.staticflickr.com/4818/31499584137_1babf0215c.jpg\" width=\"500\" height=\"312\" alt=\"icosa_within\"></a><script async src=\"//embedr.flickr.com/assets/client-code.js\" charset=\"utf-8\"></script>\n",
    "<div align=\"center\">\n",
    "Icosa Within by D. B. Koski   \n",
    "</div>\n",
    "<br />\n",
    "<a data-flickr-embed=\"true\"  href=\"https://www.flickr.com/photos/kirbyurner/31499584597/in/dateposted-public/\" title=\"rt_inside\"><img src=\"https://farm5.staticflickr.com/4858/31499584597_bda3daa48a.jpg\" width=\"500\" height=\"312\" alt=\"rt_inside\"></a><script async src=\"//embedr.flickr.com/assets/client-code.js\" charset=\"utf-8\"></script>\n",
    "<div align=\"center\">\n",
    "RT Within by D. B. Koski   \n",
    "</div>\n",
    "\n",
    "The Five Octahedra each of volume 4, edges 2R, contain a shared Icosahedron, the long diagonals of which define a corresponding RT as shown by the Koski vZomes above.\n",
    "\n",
    "This shared Icosahedron has a volume of $2.5 * sfactor^2$ (See *All Aboard the S Train* link below).\n",
    "\n",
    "An Icosahedron 8 times larger, $20 * sfactor^2$, has the volume 20 cuboctahedron + that of the RT defined above."
   ]
  },
  {
   "cell_type": "code",
   "execution_count": 9,
   "metadata": {},
   "outputs": [],
   "source": [
    "S3 = gmpy2.mpfr(9/8) ** 0.5             # a Synergetics Constant\n",
    "cubocta = gmpy2.mpfr(2.5)               # inscribed in Octa 4\n",
    "RT_within = 60*S + 60*s3\n",
    "sfactor = 2 * gmpy2.sqrt(2) * Ø ** -2\n",
    "Icosa_within = cubocta * sfactor ** 2  # inscribed in Octa 4"
   ]
  },
  {
   "cell_type": "code",
   "execution_count": 10,
   "metadata": {},
   "outputs": [
    {
     "name": "stdout",
     "output_type": "stream",
     "text": [
      "23.343685400050472861798319504493703494251593693233826174984688\n",
      "23.343685400050472861798319504493703494251593693233826174984668\n"
     ]
    }
   ],
   "source": [
    "print(Icosa_within * 8)\n",
    "print(cubocta * 8 + RT_within)  # 20 + RT Within"
   ]
  },
  {
   "cell_type": "markdown",
   "metadata": {},
   "source": [
    "*For further reading:*\n",
    "\n",
    "[All Aboard the S Train](S_Train.ipynb)"
   ]
  }
 ],
 "metadata": {
  "kernelspec": {
   "display_name": "Python 3",
   "language": "python",
   "name": "python3"
  },
  "language_info": {
   "codemirror_mode": {
    "name": "ipython",
    "version": 3
   },
   "file_extension": ".py",
   "mimetype": "text/x-python",
   "name": "python",
   "nbconvert_exporter": "python",
   "pygments_lexer": "ipython3",
   "version": "3.6.6"
  }
 },
 "nbformat": 4,
 "nbformat_minor": 2
}
