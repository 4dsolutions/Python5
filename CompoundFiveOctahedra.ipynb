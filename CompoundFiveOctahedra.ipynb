{
 "cells": [
  {
   "cell_type": "markdown",
   "metadata": {},
   "source": [
    "<a data-flickr-embed=\"true\"  href=\"https://www.flickr.com/photos/kirbyurner/46361149221/in/dateposted-public/\" title=\"Five Octahedrons by Casey House\"><img src=\"https://farm5.staticflickr.com/4918/46361149221_ef7104b704.jpg\" width=\"500\" height=\"499\" alt=\"Five Octahedrons by Casey House\"></a><script async src=\"//embedr.flickr.com/assets/client-code.js\" charset=\"utf-8\"></script>\n",
    "\n",
    "This is a cut and paste job, working from notes messaged by David Koski to [Casey House](https://www.ilovecaseyhouse.com/) and myself.  It's about the volume of Five Octahedrons (a five-fold symmetric non-convex shape -- it has \"bumps\").\n",
    "\n",
    "My goal is to verify David's numbers using the extended precision library [gmpy2](https://gmpy2.readthedocs.io/en/latest/).\n",
    "\n",
    "The precision is expressed in bits, not decimal digits. 100 is already well beyond what a native floating point [IEEE 754](https://en.wikipedia.org/wiki/IEEE_754) would contain.  If using a live version of this Notebook, you'll be able to take control of the context, including how many bits.\n",
    "\n",
    "Lets go with 200 bits this time.  You'll start to see discrepancies in the least significant digits, which is to be expected."
   ]
  },
  {
   "cell_type": "code",
   "execution_count": 1,
   "metadata": {},
   "outputs": [],
   "source": [
    "import gmpy2\n",
    "gmpy2.get_context().precision=200"
   ]
  },
  {
   "cell_type": "code",
   "execution_count": 2,
   "metadata": {},
   "outputs": [
    {
     "data": {
      "text/plain": [
       "mpfr('1.6180339887498948482045868343656381177203091798057628621354484',200)"
      ]
     },
     "execution_count": 2,
     "metadata": {},
     "output_type": "execute_result"
    }
   ],
   "source": [
    "root5 = gmpy2.sqrt(5)\n",
    "Ø = (1 + root5)/2\n",
    "Ø"
   ]
  },
  {
   "cell_type": "code",
   "execution_count": 3,
   "metadata": {},
   "outputs": [],
   "source": [
    "\n",
    "S  = (Ø **-5)/2      # home base Smod\n",
    "S3 = S * Ø**3        # capital s, phi up\n",
    "S6 = S3 * Ø**3       # phi up yet again\n",
    "# and so on\n",
    "\n",
    "s3 =  S * Ø**-3      # small s, phi down\n",
    "s6 = s3 * Ø**-3\n",
    "s9 = s6 * Ø**-3 \n",
    "s12= s9 * Ø**-3"
   ]
  },
  {
   "cell_type": "code",
   "execution_count": 4,
   "metadata": {},
   "outputs": [
    {
     "data": {
      "text/plain": [
       "mpfr('6.3343074458079774544518406591356331175012482925885986684211182',200)"
      ]
     },
     "execution_count": 4,
     "metadata": {},
     "output_type": "execute_result"
    }
   ],
   "source": [
    "compound_volume = 8640 * (s9 + s12)\n",
    "compound_volume"
   ]
  },
  {
   "cell_type": "code",
   "execution_count": 5,
   "metadata": {},
   "outputs": [
    {
     "data": {
      "text/plain": [
       "mpfr('6.3343685400050472861798319504493703494251593693233826174984738',200)"
      ]
     },
     "execution_count": 5,
     "metadata": {},
     "output_type": "execute_result"
    }
   ],
   "source": [
    "# Koski writes:\n",
    "FiveOcta = 132 * S + 36 * s3\n",
    "RD6 = 126*S + 30*s3\n",
    "# 1/10 of RTW is 6S+6s3\n",
    "# adding them together gets the result\n",
    "# Whew\n",
    "FiveOcta"
   ]
  },
  {
   "cell_type": "code",
   "execution_count": 6,
   "metadata": {},
   "outputs": [
    {
     "data": {
      "text/plain": [
       "mpfr('6.000000000000000000000000000000000000000000000000000000000005',200)"
      ]
     },
     "execution_count": 6,
     "metadata": {},
     "output_type": "execute_result"
    }
   ],
   "source": [
    "RD6"
   ]
  },
  {
   "cell_type": "code",
   "execution_count": 7,
   "metadata": {},
   "outputs": [
    {
     "data": {
      "text/plain": [
       "mpfr('6.3343685400050472861798319504493703494251593693233826174984788',200)"
      ]
     },
     "execution_count": 7,
     "metadata": {},
     "output_type": "execute_result"
    }
   ],
   "source": [
    "FiveOcta2 = 10116 * s9 + 2388 * s12\n",
    "FiveOcta2"
   ]
  }
 ],
 "metadata": {
  "kernelspec": {
   "display_name": "Python 3",
   "language": "python",
   "name": "python3"
  },
  "language_info": {
   "codemirror_mode": {
    "name": "ipython",
    "version": 3
   },
   "file_extension": ".py",
   "mimetype": "text/x-python",
   "name": "python",
   "nbconvert_exporter": "python",
   "pygments_lexer": "ipython3",
   "version": "3.6.6"
  }
 },
 "nbformat": 4,
 "nbformat_minor": 2
}
