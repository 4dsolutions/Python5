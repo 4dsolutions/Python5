{
 "cells": [
  {
   "cell_type": "markdown",
   "metadata": {},
   "source": [
    "# SAISOFT PYT-PR:  Session 10\n",
    "\n",
    "### The Ecosystem includes Many Languages\n",
    "\n",
    "The Python ecosystem involves Python in using other languages and rule sets such as:\n",
    "\n",
    "* SQL (Structured Query Language)\n",
    "* Regexes (Regular Expressions)\n",
    "* Markdown (for Jupyter Notebooks)\n",
    "* magic (% and %% inside Notebooks and I-Python)\n",
    "* APIs (every library and framework comes with one)\n",
    "* Sphinx (documentation generator, uses reStructured Text)\n",
    "* JavaScript (used with web frameworks)\n",
    "* Template Languages (example: Jinja)\n",
    "* HTML / CSS (naturally)\n",
    "* Widget Toolkits (more APIs for GUIs)\n",
    "* IDEs (such as Spyder, Pycharm, Sublime Text, vi, emacs)\n",
    "\n",
    "and so much else."
   ]
  },
  {
   "cell_type": "markdown",
   "metadata": {},
   "source": [
    "Lets take a look at another Standard Library module and talk about what it does.  \n",
    "\n",
    "Hash functions are not designed to preserve content.  They don't encrypt.  They're about associating some unique finger print with any hashable object."
   ]
  },
  {
   "cell_type": "code",
   "execution_count": null,
   "metadata": {},
   "outputs": [],
   "source": [
    "import hashlib\n",
    "m = hashlib.sha256()\n",
    "m.update(b\"Nobody inspects\")\n",
    "m.update(b\" the spammish repetition\")\n",
    "m.digest()"
   ]
  },
  {
   "cell_type": "markdown",
   "metadata": {},
   "source": [
    "Expected:\n",
    "<pre>\n",
    "b'\\x03\\x1e\\xdd}Ae\\x15\\x93\\xc5\\xfe\\\\\\x00o\\xa5u+7\\xfd\\xdf\\xf7\\xbcN\\x84:\\xa6\\xaf\\x0c\\x95\\x0fK\\x94\\x06'\n",
    "</pre>\n"
   ]
  },
  {
   "cell_type": "code",
   "execution_count": null,
   "metadata": {
    "scrolled": true
   },
   "outputs": [],
   "source": [
    "result = hashlib.sha256(b\"Nobody inspects the spammish repetition\").hexdigest()\n",
    "result"
   ]
  },
  {
   "cell_type": "code",
   "execution_count": null,
   "metadata": {},
   "outputs": [],
   "source": [
    "print(\"Digest size\", m.digest_size)\n",
    "print(\"Block size \", m.block_size)"
   ]
  },
  {
   "cell_type": "markdown",
   "metadata": {},
   "source": [
    "In class, we looked at a passwords database that doesn't save actual passwords, only hashes thereof.  Even system administrators with the keys to the database, have no means to force a hash to run backwards to regain the phrase which was behind it.  A hash is a one way street.\n",
    "\n",
    "### LAB:\n",
    "\n",
    "Check the Python docs and run the above example with sha224 instead.  Do you get past this assertion (unit test)?"
   ]
  },
  {
   "cell_type": "code",
   "execution_count": null,
   "metadata": {},
   "outputs": [],
   "source": [
    "# Uncomment me to check your result\n",
    "# assert result == 'a4337bc45a8fc544c03f52dc550cd6e1e87021bc896588bd79e901e2'"
   ]
  }
 ],
 "metadata": {
  "kernelspec": {
   "display_name": "Python 3",
   "language": "python",
   "name": "python3"
  },
  "language_info": {
   "codemirror_mode": {
    "name": "ipython",
    "version": 3
   },
   "file_extension": ".py",
   "mimetype": "text/x-python",
   "name": "python",
   "nbconvert_exporter": "python",
   "pygments_lexer": "ipython3",
   "version": "3.6.4"
  }
 },
 "nbformat": 4,
 "nbformat_minor": 2
}
