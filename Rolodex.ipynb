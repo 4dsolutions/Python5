{
 "cells": [
  {
   "cell_type": "markdown",
   "metadata": {},
   "source": [
    "Adapted from a tutorial by [Shane Lynn](https://www.shanelynn.ie/summarising-aggregation-and-grouping-data-in-python-pandas/)\n",
    "\n",
    "# THE ROLODEX\n",
    "\n",
    "![rolodex](https://nibsblog.files.wordpress.com/2012/04/mgmrolodexfileebay-opt.jpg)\n",
    "\n",
    "What's interesting about the ```uk-500.csv``` file is none of it is real, yet it's realistic, starting from real person and company names, but then scrambled.  Street addresses are not actual.  Nor are the websites or email addresses.\n",
    "\n",
    "[Here's a source](https://www.briandunning.com/sample-data/) for more data like this.\n",
    "\n",
    "Data anonymization is a task for software development in itself.  Adding realism is often the goal.  Hand-entering a few \"phony records\" is insufficient.  \n",
    "\n",
    "Allowing medical records to remain actual (real) while changing patient information to similated data, allows a program to keep using the same data structures, including for medical research purposes.\n",
    "\n",
    "### LAB CHALLENGE\n",
    "\n",
    "Download the ```us-500.csv``` file from the above link.  Or perhaps you can find it on Github and read in in over the web.\n",
    "\n",
    "### LAB CHALLENGE\n",
    "\n",
    "Swap the above rolodex picture for another one.  Use a URL."
   ]
  },
  {
   "cell_type": "code",
   "execution_count": null,
   "metadata": {},
   "outputs": [],
   "source": [
    "import pandas as pd\n",
    "import numpy as np\n",
    " \n",
    "# read the data from the downloaded CSV file.\n",
    "data = pd.read_csv('https://s3-eu-west-1.amazonaws.com/shanebucket/downloads/uk-500.csv')\n",
    "\n",
    "# set a numeric id for use as an index for examples.\n",
    "data['id'] = np.arange(500, dtype=np.int).reshape(data.shape[0])\n",
    "\n",
    "data.head(5)"
   ]
  },
  {
   "cell_type": "code",
   "execution_count": null,
   "metadata": {},
   "outputs": [],
   "source": [
    "# Single selections using iloc and DataFrame\n",
    "# Rows:\n",
    "#data.iloc[0] # first row of data frame (Aleshia Tomkiewicz) - Note a Series data type output.\n",
    "#data.iloc[1] # second row of data frame (Evan Zigomalas)\n",
    "data.iloc[-1] # last row of data frame (Mi Richan)\n",
    "# Columns:\n",
    "#data.iloc[:,0] # first column of data frame (first_name)\n",
    "#data.iloc[:,1] # second column of data frame (last_name)\n",
    "#data.iloc[:,-1] # last column of data frame (id)"
   ]
  },
  {
   "cell_type": "code",
   "execution_count": null,
   "metadata": {},
   "outputs": [],
   "source": [
    "data.set_index(\"last_name\", inplace=True)\n",
    "data.head()"
   ]
  },
  {
   "cell_type": "code",
   "execution_count": null,
   "metadata": {},
   "outputs": [],
   "source": [
    "data.loc[['Andrade', 'Veness'], 'city':'email']"
   ]
  },
  {
   "cell_type": "code",
   "execution_count": null,
   "metadata": {},
   "outputs": [],
   "source": [
    "data.loc['Andrade':'Veness', ['first_name', 'address', 'city']]"
   ]
  },
  {
   "cell_type": "markdown",
   "metadata": {},
   "source": [
    "### LAB CHALLENGE:\n",
    "\n",
    "Can the above be right?  We ask for all rows between an A and a V name and get only three total?  The table is not sorted.  Last names are in random order.  How might we \"fix\" that?\n",
    "\n",
    "[Here's a hint](https://pandas.pydata.org/pandas-docs/stable/generated/pandas.DataFrame.sort_values.html)\n",
    "\n",
    "After sorting by ```last_name``` I get a count of 455 records between these two names inclusive.  Do you get that too?"
   ]
  },
  {
   "cell_type": "code",
   "execution_count": null,
   "metadata": {},
   "outputs": [],
   "source": [
    "data.loc['Andrade':'Veness', ['first_name', 'address', 'city']].count()"
   ]
  },
  {
   "cell_type": "code",
   "execution_count": null,
   "metadata": {
    "collapsed": true
   },
   "outputs": [],
   "source": [
    "data.set_index('id', inplace=True)"
   ]
  },
  {
   "cell_type": "code",
   "execution_count": null,
   "metadata": {},
   "outputs": [],
   "source": [
    "data.loc[102]"
   ]
  },
  {
   "cell_type": "code",
   "execution_count": null,
   "metadata": {},
   "outputs": [],
   "source": [
    "data.loc[data['first_name'] == 'Antonio', 'city':'email']"
   ]
  },
  {
   "cell_type": "code",
   "execution_count": null,
   "metadata": {},
   "outputs": [],
   "source": [
    "data.loc[data['first_name'].isin(['France', 'Tyisha', 'Eric'])]  # checking against a list"
   ]
  },
  {
   "cell_type": "code",
   "execution_count": null,
   "metadata": {},
   "outputs": [],
   "source": [
    "data.loc[data['email'].str.endswith(\"gmail.com\") & (data['first_name'] == 'Antonio')] "
   ]
  },
  {
   "cell_type": "code",
   "execution_count": null,
   "metadata": {},
   "outputs": [],
   "source": [
    "idx = data['company_name'].apply(lambda x: len(x.split(' ')) == 4) # company name is 4 words\n",
    "data.loc[idx, ['email', 'first_name', 'company_name']].head()"
   ]
  },
  {
   "cell_type": "markdown",
   "metadata": {},
   "source": [
    "## GROUPBY\n",
    "\n",
    "This data set looks ideal for practicing groupby. How many contacts do I have by county?"
   ]
  },
  {
   "cell_type": "code",
   "execution_count": null,
   "metadata": {},
   "outputs": [],
   "source": [
    "county_tally = data.groupby(\"county\")[\"county\"].count()"
   ]
  },
  {
   "cell_type": "code",
   "execution_count": null,
   "metadata": {},
   "outputs": [],
   "source": [
    "county_tally.dtypes"
   ]
  },
  {
   "cell_type": "code",
   "execution_count": null,
   "metadata": {},
   "outputs": [],
   "source": [
    "county_tally.max()"
   ]
  },
  {
   "cell_type": "markdown",
   "metadata": {},
   "source": [
    "### LAB CHALLENGE\n",
    "\n",
    "Which county has these 44 listings?"
   ]
  }
 ],
 "metadata": {
  "kernelspec": {
   "display_name": "Python 3",
   "language": "python",
   "name": "python3"
  },
  "language_info": {
   "codemirror_mode": {
    "name": "ipython",
    "version": 3
   },
   "file_extension": ".py",
   "mimetype": "text/x-python",
   "name": "python",
   "nbconvert_exporter": "python",
   "pygments_lexer": "ipython3",
   "version": "3.6.4"
  }
 },
 "nbformat": 4,
 "nbformat_minor": 2
}
