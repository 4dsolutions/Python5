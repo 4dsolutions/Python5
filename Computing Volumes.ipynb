{
 "cells": [
  {
   "cell_type": "markdown",
   "metadata": {},
   "source": [
    "Synergetics<br/>[Oregon Curriculum Network](http://4dsolutions.net/ocn/)\n",
    "<h3 align=\"center\">Computing Volumes in XYZ and IVM units</h3>\n",
    "<h4 align=\"center\">by Kirby Urner, July 2016</h4>\n",
    "\n",
    "\n",
    "![Fig. 1](https://c1.staticflickr.com/5/4117/4902708217_451afaa8c5_z.jpg \"Fig 1: Mitey Cube\")\n",
    "\n",
    "A cube is composed of 24 identical not-regular tetrahedrons, each with a corner at the cube's center, an edge from cube's center to a face center, and two more to adjacent cube corners on that face, defining six edges in all (Fig. 1).  \n",
    "\n",
    "If we define the cube's edges to be √2 then the whole cube would have volume √2 * √2 * √2 in XYZ units.  \n",
    "\n",
    "However, in IVM units, the very same cube has a volume of 3, owing to the differently-shaped volume unit, a tetrahedron of edges 2, inscribed in this same cube.  [Fig. 986.210](http://www.rwgrayprojects.com/synergetics/findex/fx0900.html) from *Synergetics*:\n",
    "\n",
    "![Fig. 2](http://www.rwgrayprojects.com/synergetics/s09/figs/f86210.gif)\n",
    "\n",
    "Those lengths would be in R-units, where R is the radius of a unit sphere.  In D-units, twice as long (D = 2R), the tetrahedron has edges 1 and the cube has edges √2/2.\n",
    "\n",
    "By XYZ we mean the XYZ coordinate system of René Descartes (1596 – 1650).  \n",
    "\n",
    "By IVM we mean the \"octet-truss\", a space-frame consisting of tetrahedrons and octahedrons in a space-filling matrix, with twice as many tetrahedrons as octahedrons.  \n",
    "\n",
    "![octet truss](http://grunch.net/synergetics/images/truss.gif)\n",
    "\n",
    "The tetrahedron and octahedron have relative volumes of 1:4.  The question then becomes, how to superimpose the two.\n",
    "\n",
    "The canonical solution is to start with unit-radius balls (spheres) of radius R.  R = 1 in other words, whereas D, the diameter, is 2.  Alternatively, we may set D = 1 and R = 0.5, keeping the same 2:1 ratio for D:R.  \n",
    "\n",
    "The XYZ cube has edges R, whereas the IVM tetrahedron has edges D.  That relative sizing convention brings their respective volumes fairly close together, with the cube's volume exceeding the tetrahedron's by about six percent."
   ]
  },
  {
   "cell_type": "code",
   "execution_count": 1,
   "metadata": {},
   "outputs": [
    {
     "name": "stdout",
     "output_type": "stream",
     "text": [
      "XYZ units: 2.8284271247461907\n",
      "IVM units: 3\n",
      "Conversion constant: 1.060660171779821\n"
     ]
    }
   ],
   "source": [
    "import math\n",
    "xyz_volume = math.sqrt(2)**3\n",
    "ivm_volume = 3\n",
    "print(\"XYZ units:\", xyz_volume)\n",
    "print(\"IVM units:\", ivm_volume)\n",
    "print(\"Conversion constant:\", ivm_volume/xyz_volume)"
   ]
  },
  {
   "cell_type": "markdown",
   "metadata": {},
   "source": [
    "The Python code below encodes a Tetrahedron type based solely on its six edge lengths.  The code makes no attempt to determine the consequent angles.  \n",
    "\n",
    "A complicated volume formula, mined from the history books and streamlined by mathematician Gerald de Jong, outputs the volume of said tetrahedron in both IVM and XYZ units.  \n",
    "\n",
    "<a data-flickr-embed=\"true\"  href=\"https://www.flickr.com/photos/kirbyurner/45589318711/in/dateposted-public/\" title=\"dejong\"><img src=\"https://farm2.staticflickr.com/1935/45589318711_677d272397.jpg\" width=\"417\" height=\"136\" alt=\"dejong\"></a><script async src=\"//embedr.flickr.com/assets/client-code.js\" charset=\"utf-8\"></script>\n",
    "\n",
    "\n",
    "The [unittests](http://pythontesting.net/framework/unittest/unittest-introduction/) that follow assure it's producing the expected results.  The formula bears great resemblance to the one by [Piero della Francesca](https://mathpages.com/home/kmath424/kmath424.htm)."
   ]
  },
  {
   "cell_type": "code",
   "execution_count": 2,
   "metadata": {},
   "outputs": [
    {
     "name": "stdout",
     "output_type": "stream",
     "text": [
      "1.0\n"
     ]
    }
   ],
   "source": [
    "from math import sqrt as rt2\n",
    "from qrays import Qvector, Vector\n",
    "\n",
    "R =0.5\n",
    "D =1.0\n",
    "\n",
    "S3    = pow(9/8, 0.5)\n",
    "root2 = rt2(2)\n",
    "root3 = rt2(3)\n",
    "root5 = rt2(5)\n",
    "root6 = rt2(6)\n",
    "PHI = (1 + root5)/2.0\n",
    "\n",
    "class Tetrahedron:\n",
    "    \"\"\"\n",
    "    Takes six edges of tetrahedron with faces\n",
    "    (a,b,d)(b,c,e)(c,a,f)(d,e,f) -- returns volume\n",
    "    in ivm and xyz units\n",
    "    \"\"\"\n",
    "\n",
    "    def __init__(self, a,b,c,d,e,f):\n",
    "        self.a, self.a2 = a, a**2\n",
    "        self.b, self.b2 = b, b**2\n",
    "        self.c, self.c2 = c, c**2\n",
    "        self.d, self.d2 = d, d**2\n",
    "        self.e, self.e2 = e, e**2\n",
    "        self.f, self.f2 = f, f**2\n",
    "\n",
    "    def ivm_volume(self):\n",
    "        ivmvol = ((self._addopen() - self._addclosed() - self._addopposite())/2) ** 0.5\n",
    "        return ivmvol\n",
    "\n",
    "    def xyz_volume(self):\n",
    "        xyzvol = rt2(8/9) * self.ivm_volume()\n",
    "        return xyzvol\n",
    "\n",
    "    def _addopen(self):\n",
    "        a2,b2,c2,d2,e2,f2 = self.a2, self.b2, self.c2, self.d2, self.e2, self.f2\n",
    "        sumval = f2*a2*b2\n",
    "        sumval +=  d2 * a2 * c2\n",
    "        sumval +=  a2 * b2 * e2\n",
    "        sumval +=  c2 * b2 * d2\n",
    "        sumval +=  e2 * c2 * a2\n",
    "        sumval +=  f2 * c2 * b2\n",
    "        sumval +=  e2 * d2 * a2\n",
    "        sumval +=  b2 * d2 * f2\n",
    "        sumval +=  b2 * e2 * f2\n",
    "        sumval +=  d2 * e2 * c2\n",
    "        sumval +=  a2 * f2 * e2\n",
    "        sumval +=  d2 * f2 * c2\n",
    "        return sumval\n",
    "\n",
    "    def _addclosed(self):\n",
    "        a2,b2,c2,d2,e2,f2 = self.a2, self.b2, self.c2, self.d2, self.e2, self.f2\n",
    "        sumval =   a2 * b2 * d2\n",
    "        sumval +=  d2 * e2 * f2\n",
    "        sumval +=  b2 * c2 * e2\n",
    "        sumval +=  a2 * c2 * f2\n",
    "        return sumval\n",
    "\n",
    "    def _addopposite(self):\n",
    "        a2,b2,c2,d2,e2,f2 = self.a2, self.b2, self.c2, self.d2, self.e2, self.f2\n",
    "        sumval =  a2 * e2 * (a2 + e2)\n",
    "        sumval += b2 * f2 * (b2 + f2)\n",
    "        sumval += c2 * d2 * (c2 + d2)\n",
    "        return sumval\n",
    "    \n",
    "def make_tet(v0,v1,v2):\n",
    "    \"\"\"\n",
    "    three edges from any corner, remaining three edges computed\n",
    "    \"\"\"\n",
    "    tet = Tetrahedron(v0.length(), v1.length(), v2.length(), \n",
    "                      (v0-v1).length(), (v1-v2).length(), (v2-v0).length())\n",
    "    return tet.ivm_volume(), tet.xyz_volume()\n",
    "\n",
    "tet = Tetrahedron(D, D, D, D, D, D)\n",
    "print(tet.ivm_volume())"
   ]
  },
  {
   "cell_type": "code",
   "execution_count": 3,
   "metadata": {},
   "outputs": [
    {
     "name": "stderr",
     "output_type": "stream",
     "text": [
      "...............\n",
      "----------------------------------------------------------------------\n",
      "Ran 15 tests in 0.025s\n",
      "\n",
      "OK\n"
     ]
    },
    {
     "data": {
      "text/plain": [
       "<unittest.runner.TextTestResult run=15 errors=0 failures=0>"
      ]
     },
     "execution_count": 3,
     "metadata": {},
     "output_type": "execute_result"
    }
   ],
   "source": [
    "import unittest\n",
    "from qrays import Vector, Qvector\n",
    "\n",
    "class Test_Tetrahedron(unittest.TestCase):\n",
    "\n",
    "    def test_unit_volume(self):\n",
    "        tet = Tetrahedron(D, D, D, D, D, D)\n",
    "        self.assertEqual(tet.ivm_volume(), 1, \"Volume not 1\")\n",
    "\n",
    "    def test_e_module(self):\n",
    "        e0 = D\n",
    "        e1 = root3 * PHI**-1\n",
    "        e2 = rt2((5 - root5)/2)\n",
    "        e3 = (3 - root5)/2\n",
    "        e4 = rt2(5 - 2*root5)\n",
    "        e5 = 1/PHI\n",
    "        tet = Tetrahedron(e0, e1, e2, e3, e4, e5)\n",
    "        self.assertTrue(1/23 > tet.ivm_volume()/8 > 1/24, \"Wrong E-mod\")\n",
    "        \n",
    "    def test_unit_volume2(self):\n",
    "        tet = Tetrahedron(R, R, R, R, R, R)\n",
    "        self.assertAlmostEqual(float(tet.xyz_volume()), 0.117851130)\n",
    "\n",
    "    def test_phi_edge_tetra(self):\n",
    "        tet = Tetrahedron(D, D, D, D, D, PHI)\n",
    "        self.assertAlmostEqual(float(tet.ivm_volume()), 0.70710678)\n",
    "\n",
    "    def test_right_tetra(self):\n",
    "        e = pow((root3/2)**2 + (root3/2)**2, 0.5)  # right tetrahedron\n",
    "        tet = Tetrahedron(D, D, D, D, D, e)\n",
    "        self.assertAlmostEqual(tet.xyz_volume(), 1)\n",
    "\n",
    "    def test_quadrant(self):\n",
    "        qA = Qvector((1,0,0,0))\n",
    "        qB = Qvector((0,1,0,0))\n",
    "        qC = Qvector((0,0,1,0))\n",
    "        tet = make_tet(qA, qB, qC) \n",
    "        self.assertAlmostEqual(tet[0], 0.25) \n",
    "\n",
    "    def test_octant(self):\n",
    "        x = Vector((0.5, 0,   0))\n",
    "        y = Vector((0  , 0.5, 0))\n",
    "        z = Vector((0  , 0  , 0.5))\n",
    "        tet = make_tet(x,y,z)\n",
    "        self.assertAlmostEqual(tet[1], 1/6, 5) # good to 5 places\n",
    "\n",
    "    def test_quarter_octahedron(self):\n",
    "        a = Vector((1,0,0))\n",
    "        b = Vector((0,1,0))\n",
    "        c = Vector((0.5,0.5,root2/2))\n",
    "        tet = make_tet(a, b, c)\n",
    "        self.assertAlmostEqual(tet[0], 1, 5) # good to 5 places  \n",
    "\n",
    "    def test_xyz_cube(self):\n",
    "        a = Vector((0.5, 0.0, 0.0))\n",
    "        b = Vector((0.0, 0.5, 0.0))\n",
    "        c = Vector((0.0, 0.0, 0.5))\n",
    "        R_octa = make_tet(a,b,c) \n",
    "        self.assertAlmostEqual(6 * R_octa[1], 1, 4) # good to 4 places  \n",
    "\n",
    "    def test_s3(self):\n",
    "        D_tet = Tetrahedron(D, D, D, D, D, D)\n",
    "        a = Vector((0.5, 0.0, 0.0))\n",
    "        b = Vector((0.0, 0.5, 0.0))\n",
    "        c = Vector((0.0, 0.0, 0.5))\n",
    "        R_cube = 6 * make_tet(a,b,c)[1]\n",
    "        self.assertAlmostEqual(D_tet.xyz_volume() * S3, R_cube, 4)\n",
    "\n",
    "    def test_martian(self):\n",
    "        p = Qvector((2,1,0,1))\n",
    "        q = Qvector((2,1,1,0))\n",
    "        r = Qvector((2,0,1,1))\n",
    "        result = make_tet(5*q, 2*p, 2*r)\n",
    "        self.assertAlmostEqual(result[0], 20, 7)\n",
    "        \n",
    "    def test_phi_tet(self):\n",
    "        \"edges from common vertex: phi, 1/phi, 1\"\n",
    "        p = Vector((1, 0, 0))\n",
    "        q = Vector((1, 0, 0)).rotz(60) * PHI\n",
    "        r = Vector((0.5, root3/6, root6/3)) * 1/PHI\n",
    "        result = make_tet(p, q, r)\n",
    "        self.assertAlmostEqual(result[0], 1, 7)\n",
    "        \n",
    "    def test_phi_tet_2(self):\n",
    "        p = Qvector((2,1,0,1))\n",
    "        q = Qvector((2,1,1,0))\n",
    "        r = Qvector((2,0,1,1))\n",
    "        result = make_tet(PHI*q, (1/PHI)*p, r)\n",
    "        self.assertAlmostEqual(result[0], 1, 7)\n",
    "        \n",
    "    def test_phi_tet_3(self):\n",
    "        T = Tetrahedron(PHI, 1/PHI, 1.0, \n",
    "                        root2, root2/PHI, root2)\n",
    "        result = T.ivm_volume()\n",
    "        self.assertAlmostEqual(result, 1, 7)\n",
    "\n",
    "    def test_koski(self):\n",
    "        a = 1 \n",
    "        b = PHI ** -1\n",
    "        c = PHI ** -2\n",
    "        d = (root2) * PHI ** -1 \n",
    "        e = (root2) * PHI ** -2\n",
    "        f = (root2) * PHI ** -1       \n",
    "        T = Tetrahedron(a,b,c,d,e,f)\n",
    "        result = T.ivm_volume()\n",
    "        self.assertAlmostEqual(result, PHI ** -3, 7)  \n",
    "        \n",
    "a = Test_Tetrahedron()\n",
    "\n",
    "R =0.5\n",
    "D =1.0\n",
    "\n",
    "suite = unittest.TestLoader().loadTestsFromModule(a)\n",
    "unittest.TextTestRunner().run(suite)"
   ]
  },
  {
   "cell_type": "code",
   "execution_count": 4,
   "metadata": {},
   "outputs": [
    {
     "name": "stdout",
     "output_type": "stream",
     "text": [
      "IVM volume of tetra: 40.0\n"
     ]
    }
   ],
   "source": [
    "a = 2\n",
    "b = 4\n",
    "c = 5\n",
    "d = 3.4641016151377544\n",
    "e = 4.58257569495584\n",
    "f = 4.358898943540673\n",
    "tetra = Tetrahedron(a,b,c,d,e,f)\n",
    "print(\"IVM volume of tetra:\", round(tetra.ivm_volume(),5))"
   ]
  },
  {
   "cell_type": "markdown",
   "metadata": {},
   "source": [
    "Lets define a MITE, one of these 24 identical space-filling tetrahedrons, with reference to D=1, R=0.5, as this is how our Tetrahedron class is calibrated.  The cubes 12 edges will all be √2/2.\n",
    "\n",
    "Edges 'a' 'b' 'c' fan out from the cube center, with 'b' going up to a face center, with 'a' and 'c' to adjacent ends of the face's edge. \n",
    "\n",
    "From the cube's center to mid-face is √2/4 (half an edge), our 'b'. 'a' and 'c' are both half the cube's body diagonal of √(3/2)/2 or √(3/8). \n",
    "\n",
    "Edges 'd', 'e' and 'f' define the facet opposite the cube's center. \n",
    "\n",
    "'d' and 'e' are both half face diagonals or 0.5, whereas 'f' is a cube edge, √2/2.  This gives us our tetrahedron:"
   ]
  },
  {
   "cell_type": "code",
   "execution_count": 5,
   "metadata": {},
   "outputs": [
    {
     "name": "stdout",
     "output_type": "stream",
     "text": [
      "IVM volume of Mite: 0.125\n",
      "XYZ volume of Mite: 0.11785\n"
     ]
    }
   ],
   "source": [
    "b = rt2(2)/4\n",
    "a = c = rt2(3/8)\n",
    "d = e = 0.5\n",
    "f = rt2(2)/2\n",
    "mite = Tetrahedron(a, b, c, d, e, f)\n",
    "print(\"IVM volume of Mite:\", round(mite.ivm_volume(),5))\n",
    "print(\"XYZ volume of Mite:\", round(mite.xyz_volume(),5))"
   ]
  },
  {
   "cell_type": "markdown",
   "metadata": {},
   "source": [
    "Allowing for floating point error, this space-filling right tetrahedron has a volume of 0.125 or 1/8. Since 24 of them form a cube, said cube has a volume of 3.  The XYZ volume, on the other hand, is what we'd expect from a regular tetrahedron of edges 0.5 in the current calibration system."
   ]
  },
  {
   "cell_type": "code",
   "execution_count": 6,
   "metadata": {},
   "outputs": [
    {
     "name": "stdout",
     "output_type": "stream",
     "text": [
      "MITE volume in XYZ units: 0.11785\n",
      "XYZ volume of 24-Mite Cube: 2.82843\n"
     ]
    }
   ],
   "source": [
    "regular = Tetrahedron(0.5, 0.5, 0.5, 0.5, 0.5, 0.5)\n",
    "print(\"MITE volume in XYZ units:\", round(regular.xyz_volume(),5))\n",
    "print(\"XYZ volume of 24-Mite Cube:\", round(24 * regular.xyz_volume(),5))"
   ]
  },
  {
   "cell_type": "markdown",
   "metadata": {},
   "source": [
    "The MITE (minimum tetrahedron) further dissects into component modules, a left and right A module, then either a left or right B module.  Outwardly, the positive and negative MITEs look the same.  Here are some drawings from R. Buckminster Fuller's research, the chief popularizer of the A and B modules.\n",
    "\n",
    "![A and B mods](http://www.rwgrayprojects.com/synergetics/s09/figs/f5400b.gif)\n",
    "\n",
    "In a different Jupyter Notebook, we could run these tetrahedra through our volume computer to discover both As and Bs have a volume of 1/24 in IVM units.\n",
    "\n",
    "Instead, lets take a look at the E-module and compute its volume.\n",
    "\n",
    "<br />\n",
    "The black hub is at the center of the RT, as shown here...\n",
    "\n",
    "<br />\n",
    "\n",
    "<div style=\"text-align: center\">\n",
    "<a data-flickr-embed=\"true\"  href=\"https://www.flickr.com/photos/kirbyurner/24971714468/in/dateposted-public/\" title=\"E module with origin\"><img src=\"https://farm5.staticflickr.com/4516/24971714468_46e14ce4b5_z.jpg\" width=\"640\" height=\"399\" alt=\"E module with origin\"></a><script async src=\"//embedr.flickr.com/assets/client-code.js\" charset=\"utf-8\"></script>\n",
    "<b>RT center is the black hub (Koski with vZome)</b>\n",
    "</div>"
   ]
  },
  {
   "cell_type": "code",
   "execution_count": 7,
   "metadata": {},
   "outputs": [
    {
     "name": "stdout",
     "output_type": "stream",
     "text": [
      "IVM volume: 0.04173\n",
      "XYZ volume: 0.03934\n"
     ]
    }
   ],
   "source": [
    "from math import sqrt as rt2\n",
    "from tetravolume import make_tet, Vector\n",
    "\n",
    "ø = (rt2(5)+1)/2\n",
    "e0 = Black_Yellow = rt2(3)*ø**-1\n",
    "e1 = Black_Blue = 1\n",
    "e3 = Yellow_Blue = (3 - rt2(5))/2\n",
    "e6 = Black_Red = rt2((5 - rt2(5))/2)\n",
    "e7 = Blue_Red = 1/ø\n",
    "\n",
    "# E-mod is a right tetrahedron, so xyz is easy\n",
    "v0 = Vector((Black_Blue, 0, 0))\n",
    "v1 = Vector((Black_Blue, Yellow_Blue, 0))\n",
    "v2 = Vector((Black_Blue, 0, Blue_Red))\n",
    "\n",
    "# assumes R=0.5 so computed result is 8x needed\n",
    "# volume, ergo divide by 8.\n",
    "ivm, xyz = make_tet(v0,v1,v2)\n",
    "\n",
    "print(\"IVM volume:\", round(ivm/8, 5))\n",
    "print(\"XYZ volume:\", round(xyz/8, 5))"
   ]
  },
  {
   "cell_type": "markdown",
   "metadata": {},
   "source": [
    "This information is being shared around Portland in various contexts.  Below, an image from a hands-on workshop in 2010 organized by the Portland Free School."
   ]
  },
  {
   "cell_type": "markdown",
   "metadata": {},
   "source": [
    "![Free School, Portland](https://c1.staticflickr.com/5/4058/4431307684_8655ee3198_z.jpg)"
   ]
  }
 ],
 "metadata": {
  "kernelspec": {
   "display_name": "Python 3",
   "language": "python",
   "name": "python3"
  },
  "language_info": {
   "codemirror_mode": {
    "name": "ipython",
    "version": 3
   },
   "file_extension": ".py",
   "mimetype": "text/x-python",
   "name": "python",
   "nbconvert_exporter": "python",
   "pygments_lexer": "ipython3",
   "version": "3.6.4"
  },
  "widgets": {
   "state": {},
   "version": "1.1.2"
  }
 },
 "nbformat": 4,
 "nbformat_minor": 1
}
