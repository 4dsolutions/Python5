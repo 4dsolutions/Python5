{
 "cells": [
  {
   "cell_type": "markdown",
   "metadata": {},
   "source": [
    "[Oregon Curriculum Network](http://www.4dsolutions.net/ocn) <br />\n",
    "[Discovering Math with Python](Introduction.ipynb)\n",
    "\n",
    "# Martian Multiplication\n",
    "\n",
    "\n",
    "<a data-flickr-embed=\"true\"  href=\"https://www.flickr.com/photos/kirbyurner/42107444461/in/dateposted-public/\" title=\"5 x 2 &#x3D; 10\"><img src=\"https://farm1.staticflickr.com/830/42107444461_d299ff6aed.jpg\" width=\"500\" height=\"312\" alt=\"5 x 2 &#x3D; 10\"></a><script async src=\"//embedr.flickr.com/assets/client-code.js\" charset=\"utf-8\"></script><br />\n",
    "<div style=\"text-align: center;\" markdown=\"1\">5 x 2 = 10</div>\n",
    "\n",
    "Earthians (Earthlings) start with a square, subdivided into a grid, and show multiplication as a matter of slicing out rectangles, n x m.  Martians, in contrast, start with an equilateral triangle, subdivided into a grid, and show multiplication as a matter of slicing out triangles, also n x m.\n",
    "\n",
    "The above triangle, in two shades of green, represents 2 x 6 = 12 i.e. the area of the triangle under the red line is equal to that of 12 grid triangles, shown in tan with green borders.  If you mentally swivel the lighter green obtuse triangle about a vertex shared in common with a second such area, you may see how the result fills exactly 4 unit triangles.  Light green (4) + dark green (8) = 12.\n",
    "\n",
    "No lets add another edge from the common origin and multiply three numbers instead of two.  Below we see what a volume of 2 x 2 x 5 = 20 might look like.  Of course any number of tetrahedrons may have the same volume.  \n",
    "\n",
    "Multiplying inside the IVM, the way Martians do it,  provides a canonical OABC for any OA x OB x OC.  ABC is \"the lid\" and simply \"closing the lid\" is all it takes to define the corresponding volume.\n",
    "\n",
    "<a data-flickr-embed=\"true\"  href=\"https://www.flickr.com/photos/kirbyurner/41211295565/in/dateposted-public/\" title=\"Martian Multiplication\"><img src=\"https://farm1.staticflickr.com/907/41211295565_59145e2f63.jpg\" width=\"500\" height=\"312\" alt=\"Martian Multiplication\"></a><script async src=\"//embedr.flickr.com/assets/client-code.js\" charset=\"utf-8\"></script>\n",
    "<br />\n",
    "<div style=\"text-align: center;\" markdown=\"1\">5 x 2 x 2 = 20</div>\n",
    "\n",
    "The reason we see these matrix edges as length 2 sometimes is they connect adjacent CCP sphere centers, thinking of spheres as unit radius (R = 1, D = 2). Other times we say D = 1, R = 1/2.\n",
    "\n",
    "Without the Martian model of multipliction, it makes no sense to see a cube of face diagonals 2, having a volume of 3.  Only if the inscribed tetrahedron were unit volume would that make sense, but that's the Martian construct.  \"Only on Mars does Synergetics ring true\" might be some song in the hymnal.\n",
    "\n",
    "<a data-flickr-embed=\"true\"  href=\"https://www.flickr.com/photos/kirbyurner/21077777642/in/photolist-FRd2LJ-y7z7Xm-frqefo-8thDyL-6zKk1y-5KBFWR-5KFVMm-5uinM4\" title=\"Conversion Constant\"><img src=\"https://farm1.staticflickr.com/702/21077777642_9803ddb65e.jpg\" width=\"500\" height=\"375\" alt=\"Conversion Constant\"></a><script async src=\"//embedr.flickr.com/assets/client-code.js\" charset=\"utf-8\"></script>\n",
    "\n",
    "A cube of edges R has S3 times the volume of a tetrahedron of edges D (D = 2R).  Each shape (cube and tetrahedron) counts as a unit of volume in their respective systems (XYZ versus IVM).  S3 is sometimes called the Synergetics Constant, although more technically it's the Synergetics Constant to the 3rd power.  \n",
    "\n",
    "Tetravolumes times 1/S3 gives the corresponding volume in terms of XYZ cubes.  The XYZ cube volume times S3 gives the corresponding value in tetravolumes, presuming the calibration defined above.  We test that in the code cells below.\n",
    "\n",
    "The Qvectors, imported and used below, are [\"Quadrays\"](https://en.wikipedia.org/wiki/Quadray_coordinates) i.e. vectors built from linear combinations of four basis rays from the center of a regular tetrahedron to its four corners.  Think of the methane molecule (carbon in the middle, a hydrogen at each vertex).\n",
    "\n",
    "![quadrays](https://upload.wikimedia.org/wikipedia/commons/9/99/Quadray.gif)\n",
    "\n",
    "The vectors ```p, q, r``` represent three vectors from a common origin ```(0,0,0,0)``` that happen to define three corners of the cuboctahedron defining the same regular tetrahedron, of which there are eight all told.\n",
    "\n",
    "Here's the cuboctahedron.  The Qvectors ```p, q, r``` point to inter-adjacent balls in the same triangle, from the common origin at the very center of this packing (from the center of the ball at the origin).\n",
    "\n",
    "![\"freq1\"](freq1.png)"
   ]
  },
  {
   "cell_type": "code",
   "execution_count": 1,
   "metadata": {},
   "outputs": [],
   "source": [
    "from tetravolume import make_tet, S3\n",
    "from qrays import Qvector"
   ]
  },
  {
   "cell_type": "code",
   "execution_count": 2,
   "metadata": {},
   "outputs": [
    {
     "name": "stdout",
     "output_type": "stream",
     "text": [
      "IVM volume:  20.0\n",
      "XYZ volume:  18.85618\n"
     ]
    }
   ],
   "source": [
    "def ivm(a,b,c):\n",
    "    \"\"\"\n",
    "    Return the IVM volume of a given tetrahedron.  Edges all\n",
    "    start from same corner of a regular tet.\n",
    "    \"\"\"\n",
    "    # vectors all mutually 60 degrees e.g. at reg tet corner\n",
    "    p = Qvector((2,1,0,1))\n",
    "    q = Qvector((2,1,1,0))\n",
    "    r = Qvector((2,0,1,1))\n",
    "    result = make_tet(a*q, b*p, c*r) # scale as required\n",
    "    return result[0]  # make_tet returns (ivm_volume, xyz_volume)\n",
    "\n",
    "def xyz(a,b,c):\n",
    "    \"\"\"\n",
    "    Return the XYZ volume of a given tetrahedron.  Edges all\n",
    "    start from same corner of a regular tet.\n",
    "    \"\"\"\n",
    "    # vectors all mutually 60 degrees e.g. at reg tet corner\n",
    "    p = Qvector((2,1,0,1))\n",
    "    q = Qvector((2,1,1,0))\n",
    "    r = Qvector((2,0,1,1))\n",
    "    result = make_tet(a*q, b*p, c*r) # scale as required\n",
    "    return result[1]  # make_tet returns (ivm_volume, xyz_volume)\n",
    "\n",
    "ivmvol = ivm(2,2,5)\n",
    "xyzvol = xyz(2,2,5)\n",
    "print(\"IVM volume: \", round(ivmvol, 5))\n",
    "print(\"XYZ volume: \", round(xyzvol, 5))"
   ]
  },
  {
   "cell_type": "code",
   "execution_count": 3,
   "metadata": {},
   "outputs": [
    {
     "data": {
      "text/plain": [
       "True"
      ]
     },
     "execution_count": 3,
     "metadata": {},
     "output_type": "execute_result"
    }
   ],
   "source": [
    "xyzvol * S3 == ivmvol"
   ]
  },
  {
   "cell_type": "code",
   "execution_count": 4,
   "metadata": {},
   "outputs": [
    {
     "name": "stdout",
     "output_type": "stream",
     "text": [
      "1.0\n"
     ]
    }
   ],
   "source": [
    "ivmvol = ivm(1,1,1)\n",
    "print(ivmvol)"
   ]
  },
  {
   "cell_type": "code",
   "execution_count": 5,
   "metadata": {},
   "outputs": [
    {
     "name": "stdout",
     "output_type": "stream",
     "text": [
      "8.0\n"
     ]
    }
   ],
   "source": [
    "ivmvol = ivm(2,2,2)\n",
    "print(ivmvol)"
   ]
  },
  {
   "cell_type": "markdown",
   "metadata": {},
   "source": [
    "[C6XTY](http://www.c6xty.com) at [Saturday Academy](http://www.4dsolutions.net/satacad/martianmath/toc.html)\n",
    "\n",
    "<a data-flickr-embed=\"true\"  href=\"https://www.flickr.com/photos/kirbyurner/27156123767/in/dateposted-public/\" title=\"Product Placement\"><img src=\"https://farm1.staticflickr.com/954/27156123767_6eecddea25.jpg\" width=\"500\" height=\"375\" alt=\"Product Placement\"></a><script async src=\"//embedr.flickr.com/assets/client-code.js\" charset=\"utf-8\"></script>\n",
    "\n",
    "Many thanks to our sponsors.  Related reading on [edu-sig](https://mail.python.org/pipermail/edu-sig/2018-May/011829.html).  vZome graphics by David Koski."
   ]
  }
 ],
 "metadata": {
  "kernelspec": {
   "display_name": "Python 3",
   "language": "python",
   "name": "python3"
  },
  "language_info": {
   "codemirror_mode": {
    "name": "ipython",
    "version": 3
   },
   "file_extension": ".py",
   "mimetype": "text/x-python",
   "name": "python",
   "nbconvert_exporter": "python",
   "pygments_lexer": "ipython3",
   "version": "3.6.4"
  }
 },
 "nbformat": 4,
 "nbformat_minor": 2
}
