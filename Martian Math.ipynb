{
 "cells": [
  {
   "cell_type": "markdown",
   "metadata": {},
   "source": [
    "[Oregon Curriculum Network](http://www.4dsolutions.net/ocn) <br />\n",
    "[Discovering Math with Python](Introduction.ipynb)\n",
    "\n",
    "# Martian Multiplication\n",
    "\n",
    "\n",
    "<a data-flickr-embed=\"true\"  href=\"https://www.flickr.com/photos/kirbyurner/42107444461/in/dateposted-public/\" title=\"5 x 2 &#x3D; 10\"><img src=\"https://farm1.staticflickr.com/830/42107444461_d299ff6aed.jpg\" width=\"500\" height=\"312\" alt=\"5 x 2 &#x3D; 10\"></a><script async src=\"//embedr.flickr.com/assets/client-code.js\" charset=\"utf-8\"></script>\n",
    "\n",
    "<div align=\"center\">5 x 2 = 10</div>\n",
    "\n",
    "Earthians (Earthlings) start with a square, subdivided into a grid, and show multiplication as a matter of slicing out rectangles, n x m.  Martians, in contrast, start with an equilateral triangle, subdivided into a grid, and show multiplication as a matter of slicing out triangles, also n x m.\n",
    "\n",
    "The above triangle, in two shades of green, represents 2 x 6 = 12 i.e. the area of the triangle under the red line is equal to that of 12 grid triangles, shown in tan with green borders.  If you mentally swivel the lighter green obtuse triangle about a vertex shared in common with a second such area, you may see how the result fills exactly 4 unit triangles.  Light green (4) + dark green (8) = 12.\n",
    "\n",
    "No lets add another edge from the common origin and multiply three numbers instead of two.  Below we see what a volume of 2 x 2 x 5 = 20 might look like.  Of course any number of tetrahedrons may have the same volume.  \n",
    "\n",
    "This strange way of multiplying is consistent with the Earthling way.  The Pythagorean Theorem is still true.\n",
    "\n",
    "<a data-flickr-embed=\"true\"  href=\"https://www.flickr.com/photos/kirbyurner/40322965820/in/dateposted-public/\" title=\"pythag2\"><img src=\"https://farm1.staticflickr.com/982/40322965820_fabe4d6c43_o.jpg\" width=\"166\" height=\"197\" alt=\"pythag2\"></a><script async src=\"//embedr.flickr.com/assets/client-code.js\" charset=\"utf-8\"></script>\n",
    "\n",
    "Multiplying [inside the IVM](https://github.com/4dsolutions/Python5/blob/master/Generating%20the%20FCC.ipynb), the way Martians do it,  provides a canonical OABC for any OA x OB x OC.  ABC is \"the lid\" and simply \"closing the lid\" is all it takes to define the corresponding volume.\n",
    "\n",
    "<a data-flickr-embed=\"true\"  href=\"https://www.flickr.com/photos/kirbyurner/41211295565/in/dateposted-public/\" title=\"Martian Multiplication\"><img src=\"https://farm1.staticflickr.com/907/41211295565_59145e2f63.jpg\" width=\"500\" height=\"312\" alt=\"Martian Multiplication\"></a><script async src=\"//embedr.flickr.com/assets/client-code.js\" charset=\"utf-8\"></script>\n",
    "\n",
    "<div align=\"center\">5 x 2 x 2 = 20</div>\n",
    "\n",
    "The reason we see these matrix edges as length 2 sometimes is they connect adjacent CCP sphere centers, thinking of spheres as unit radius (R = 1, D = 2). Other times we say D = 1, R = 1/2.\n",
    "\n",
    "Without the Martian model of multipliction, it makes no sense to see a cube of face diagonals 2, having a volume of 3.  Only if the inscribed tetrahedron were unit volume would that make sense, but that's the Martian construct.  \"Only on Mars does Synergetics ring true\" might be some song in the hymnal.\n",
    "\n",
    "<a data-flickr-embed=\"true\"  href=\"https://www.flickr.com/photos/kirbyurner/21077777642/in/photolist-FRd2LJ-y7z7Xm-frqefo-8thDyL-6zKk1y-5KBFWR-5KFVMm-5uinM4\" title=\"Conversion Constant\"><img src=\"https://farm1.staticflickr.com/702/21077777642_9803ddb65e.jpg\" width=\"500\" height=\"375\" alt=\"Conversion Constant\"></a><script async src=\"//embedr.flickr.com/assets/client-code.js\" charset=\"utf-8\"></script>\n",
    "<div align=\"center\">Cube edges = 2 x Tetrahedron edges;<br /> Cube:Tetrahedron volume ratio = S3</div>\n",
    "\n",
    "A cube of edges R has S3 times the volume of a tetrahedron of edges D (D = 2R).  Each shape (cube and tetrahedron) counts as a unit of volume in its respective systems (XYZ versus IVM).  S3 is sometimes called the Synergetics Constant, although more technically it's the Synergetics Constant to the 3rd power.  "
   ]
  },
  {
   "cell_type": "code",
   "execution_count": 1,
   "metadata": {},
   "outputs": [
    {
     "name": "stdout",
     "output_type": "stream",
     "text": [
      "S3: 1.0606601717798212\n"
     ]
    }
   ],
   "source": [
    "from tetravolume import make_tet, S3\n",
    "from qrays import Qvector\n",
    "print(\"S3:\", S3)"
   ]
  },
  {
   "cell_type": "markdown",
   "metadata": {},
   "source": [
    "Tetravolumes times 1/S3 gives the corresponding volume in terms of XYZ cubes.  The XYZ cube volume times S3 gives the corresponding value in tetravolumes, presuming the calibration defined above.  We test that in the code cells below.\n",
    "\n",
    "The Qvector type, imported above and used below, implements the [\"Quadray coordinate system\"](https://en.wikipedia.org/wiki/Quadray_coordinates) i.e. vectors built from linear combinations of four basis rays from the center of a regular tetrahedron to its four corners.  \n",
    "\n",
    "Think of the methane molecule (carbon in the middle, a hydrogen at each vertex).\n",
    "\n",
    "![quadrays](https://upload.wikimedia.org/wikipedia/commons/9/99/Quadray.gif)\n",
    "\n",
    "The vectors ```p, q, r``` defined below, represent three vectors from a common origin ```(0,0,0,0)``` that happen to define three corners of the cuboctahedron defining the same regular tetrahedron, of which there are eight all told.\n",
    "\n",
    "The cuboctahedron consists of 8 regular tetrahedrons and four half-octahedrons, in terms of volume (and shape).  Since our canonical octahedron (same length edges as tetrahedron) has volume 4, the cuboctahedron has a volume of 8 + 6 * 2 or 8 + 12 = 20.\n",
    "\n",
    "![polys](http://www.grunch.net/synergetics/hierarchy/dodecanim.gif)\n",
    "\n",
    "![ve](http://www.grunch.net/synergetics/hierarchy/sphpackanim.gif)\n",
    "\n",
    "Here's the cuboctahedron.  The Qvectors ```p, q, r``` point to inter-adjacent balls in the same triangle, from the common origin at the very center of this packing (from the center of the ball at the origin).\n",
    "\n",
    "![\"freq1\"](freq1.png)\n",
    "\n",
    "<div align=\"center\">One-frequency Cuboctahedral Packing (CCP)</div>"
   ]
  },
  {
   "cell_type": "code",
   "execution_count": 2,
   "metadata": {},
   "outputs": [
    {
     "name": "stdout",
     "output_type": "stream",
     "text": [
      "60.0 60.0 60.0\n"
     ]
    }
   ],
   "source": [
    "p = Qvector((2,1,0,1))\n",
    "q = Qvector((2,1,1,0))\n",
    "r = Qvector((2,0,1,1))\n",
    "print(q.angle(p), p.angle(r), r.angle(q))"
   ]
  },
  {
   "cell_type": "code",
   "execution_count": 3,
   "metadata": {},
   "outputs": [
    {
     "name": "stdout",
     "output_type": "stream",
     "text": [
      "IVM volume:  20.0\n",
      "XYZ volume:  18.85618\n"
     ]
    }
   ],
   "source": [
    "def ivm(a,b,c):\n",
    "    \"\"\"\n",
    "    Return the IVM volume of a given tetrahedron.  Edges all\n",
    "    start from same corner of a regular tet.\n",
    "    \"\"\"\n",
    "    # vectors all mutually 60 degrees e.g. at reg tet corner\n",
    "    p = Qvector((2,1,0,1))\n",
    "    q = Qvector((2,1,1,0))\n",
    "    r = Qvector((2,0,1,1))\n",
    "    result = make_tet(a*q, b*p, c*r) # scale as required\n",
    "    return result[0]  # make_tet returns (ivm_volume, xyz_volume)\n",
    "\n",
    "def xyz(a,b,c):\n",
    "    \"\"\"\n",
    "    Return the XYZ volume of a given tetrahedron.  Edges all\n",
    "    start from same corner of a regular tet.\n",
    "    \"\"\"\n",
    "    # vectors all mutually 60 degrees e.g. at reg tet corner\n",
    "    p = Qvector((2,1,0,1))\n",
    "    q = Qvector((2,1,1,0))\n",
    "    r = Qvector((2,0,1,1))\n",
    "    result = make_tet(a*q, b*p, c*r) # scale as required\n",
    "    return result[1]  # make_tet returns (ivm_volume, xyz_volume)\n",
    "\n",
    "ivmvol = ivm(2,2,5)\n",
    "xyzvol = xyz(2,2,5)\n",
    "print(\"IVM volume: \", round(ivmvol, 5))\n",
    "print(\"XYZ volume: \", round(xyzvol, 5))"
   ]
  },
  {
   "cell_type": "code",
   "execution_count": 4,
   "metadata": {},
   "outputs": [
    {
     "data": {
      "text/plain": [
       "True"
      ]
     },
     "execution_count": 4,
     "metadata": {},
     "output_type": "execute_result"
    }
   ],
   "source": [
    "xyzvol * S3 == ivmvol"
   ]
  },
  {
   "cell_type": "markdown",
   "metadata": {},
   "source": [
    "One reason we want to multiply this way is to establish a unit volume tetrahedron.  The edges interconnect adjacent unit radius spheres, and so are 2R.  The volume is 1.\n",
    "\n",
    "Sometimes we picture a \"tetrahedral book\" with two triangular covers lying flat, and a single page turning back and forth, hinged at the spine (like in any book).  When the page is straight up vertical, that right tetrahedron of edges D (except for the page tip to cover tip) has a volume equivalent to that of a cube with edges R.  So this is another way to show the relationship between two units of volume.  The right tetrahedron is bigger than the regular tetrahedron by a scale factor of S3.\n",
    "\n",
    "<a data-flickr-embed=\"true\"  href=\"https://www.flickr.com/photos/kirbyurner/40322964880/in/dateposted-public/\" title=\"s3\"><img src=\"https://farm1.staticflickr.com/976/40322964880_a43dd99667_z.jpg\" width=\"640\" height=\"396\" alt=\"s3\"></a><script async src=\"//embedr.flickr.com/assets/client-code.js\" charset=\"utf-8\"></script>"
   ]
  },
  {
   "cell_type": "code",
   "execution_count": 5,
   "metadata": {},
   "outputs": [
    {
     "name": "stdout",
     "output_type": "stream",
     "text": [
      "1.0\n"
     ]
    }
   ],
   "source": [
    "ivmvol = ivm(1,1,1)\n",
    "print(ivmvol)"
   ]
  },
  {
   "cell_type": "markdown",
   "metadata": {},
   "source": [
    "Double the length of the edges, and volume increases 8-fold, like in ordinary multiplication."
   ]
  },
  {
   "cell_type": "code",
   "execution_count": 6,
   "metadata": {},
   "outputs": [
    {
     "name": "stdout",
     "output_type": "stream",
     "text": [
      "8.0\n"
     ]
    }
   ],
   "source": [
    "ivmvol = ivm(2,2,2)\n",
    "print(ivmvol)"
   ]
  },
  {
   "cell_type": "markdown",
   "metadata": {},
   "source": [
    "Lets take a gander at the volume formula we're using behind the scenes:\n",
    "\n",
    "```\n",
    "\n",
    "class Tetrahedron:\n",
    "    \"\"\"\n",
    "    Takes six edges of tetrahedron with faces\n",
    "    (a,b,d)(b,c,e)(c,a,f)(d,e,f) -- returns volume\n",
    "    if ivm and xyz\n",
    "    \"\"\"\n",
    "\n",
    "    def __init__(self, a, b, c, d, e, f):\n",
    "        # a,b,c,d,e,f = [Decimal(i) for i in (a,b,c,d,e,f)]\n",
    "        self.a, self.a2 = a, a**2\n",
    "        self.b, self.b2 = b, b**2\n",
    "        self.c, self.c2 = c, c**2\n",
    "        self.d, self.d2 = d, d**2\n",
    "        self.e, self.e2 = e, e**2\n",
    "        self.f, self.f2 = f, f**2\n",
    "\n",
    "    def ivm_volume(self):\n",
    "        ivmvol = ((self._addopen() \n",
    "                    - self._addclosed() \n",
    "                    - self._addopposite())/2) ** 0.5\n",
    "        return ivmvol\n",
    "\n",
    "    def xyz_volume(self):\n",
    "        xyzvol = 1/S3 * self.ivm_volume()\n",
    "        return xyzvol\n",
    "\n",
    "    def _addopen(self):\n",
    "        a2,b2,c2,d2,e2,f2 = self.a2, self.b2, self.c2, self.d2, self.e2, self.f2\n",
    "        sumval = f2*a2*b2\n",
    "        sumval +=  d2 * a2 * c2\n",
    "        sumval +=  a2 * b2 * e2\n",
    "        sumval +=  c2 * b2 * d2\n",
    "        sumval +=  e2 * c2 * a2\n",
    "        sumval +=  f2 * c2 * b2\n",
    "        sumval +=  e2 * d2 * a2\n",
    "        sumval +=  b2 * d2 * f2\n",
    "        sumval +=  b2 * e2 * f2\n",
    "        sumval +=  d2 * e2 * c2\n",
    "        sumval +=  a2 * f2 * e2\n",
    "        sumval +=  d2 * f2 * c2\n",
    "        return sumval\n",
    "\n",
    "    def _addclosed(self):\n",
    "        a2,b2,c2,d2,e2,f2 = self.a2, self.b2, self.c2, self.d2, self.e2, self.f2\n",
    "        sumval =   a2 * b2 * d2\n",
    "        sumval +=  d2 * e2 * f2\n",
    "        sumval +=  b2 * c2 * e2\n",
    "        sumval +=  a2 * c2 * f2\n",
    "        return sumval\n",
    "\n",
    "    def _addopposite(self):\n",
    "        a2,b2,c2,d2,e2,f2 = self.a2, self.b2, self.c2, self.d2, self.e2, self.f2\n",
    "        sumval =  a2 * e2 * (a2 + e2)\n",
    "        sumval += b2 * f2 * (b2 + f2)\n",
    "        sumval += c2 * d2 * (c2 + d2)\n",
    "        return sumval\n",
    "```\n",
    "\n",
    "Yes, that looks pretty complicated.  The algorithm requires only the six edge lengths, three from a point, then three around the lid or opposite face.  Thanks to Gerald de Jong for deriving this while using one of Euler's as his model.  Notice the IVM volume falls out natively with no constant multiplier.  The multiplier comes in, as 1/S3, only when we need the corresponding XYZ volume."
   ]
  },
  {
   "cell_type": "markdown",
   "metadata": {},
   "source": [
    "[C6XTY](http://www.c6xty.com) at [Saturday Academy](http://www.4dsolutions.net/satacad/martianmath/toc.html)\n",
    "\n",
    "<a data-flickr-embed=\"true\"  href=\"https://www.flickr.com/photos/kirbyurner/27156123767/in/dateposted-public/\" title=\"Product Placement\"><img src=\"https://farm1.staticflickr.com/954/27156123767_6eecddea25.jpg\" width=\"500\" height=\"375\" alt=\"Product Placement\"></a><script async src=\"//embedr.flickr.com/assets/client-code.js\" charset=\"utf-8\"></script>\n",
    "\n",
    "Many thanks to our sponsors.  Related reading on [edu-sig](https://mail.python.org/pipermail/edu-sig/2018-May/011829.html).  vZome graphics by David Koski."
   ]
  }
 ],
 "metadata": {
  "kernelspec": {
   "display_name": "Python 3",
   "language": "python",
   "name": "python3"
  },
  "language_info": {
   "codemirror_mode": {
    "name": "ipython",
    "version": 3
   },
   "file_extension": ".py",
   "mimetype": "text/x-python",
   "name": "python",
   "nbconvert_exporter": "python",
   "pygments_lexer": "ipython3",
   "version": "3.6.4"
  }
 },
 "nbformat": 4,
 "nbformat_minor": 2
}
