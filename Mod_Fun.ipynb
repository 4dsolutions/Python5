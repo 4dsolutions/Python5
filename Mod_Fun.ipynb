{
 "cells": [
  {
   "cell_type": "markdown",
   "metadata": {},
   "source": [
    "[Oregon Curriculum Network](http://www.4dsolutions.net/ocn) <br />\n",
    "[Discovering Math with Python](Introduction.ipynb)\n",
    "\n",
    "\n",
    "# FOCUSING ON THE S FACTOR\n",
    "#### $\\phi$ DOODLES Using $\\LaTeX$\n",
    "\n",
    "<a data-flickr-embed=\"true\"  href=\"https://www.flickr.com/photos/kirbyurner/37271936814/in/photolist-D17NrN-YMAqPs-YMAqhf-YeD8Xh-ZPBUSB-Y3ouSi-XhBkg1-WtCTD7-WtFwVg-VhXZoN-VFDUfa-UXW4tu-VakADe-TWeHGx-TVX4PF-UzeozQ-UtGD6C-TZAAJw-TH8XUh-TRFNEP-Sv4eHf-SZBzQK-SkVmHf-RVG9nU-RYjrxF-Gcea6D-QVaS2M-QtgU8h-QcgRgB-MG4f5j-LMZHu8-LySA48-KVPQgq-KyFu4d-JqMX3i-JrLuuS-HsbyEL-HsbzWo-Hsbwff-Dc4EtD-CM5VMh-DzQtqC-AmvTwh-uyTQjq-sDbPe3-rb6EdZ-qcA5rT-puPHA3-qapc5R-qafBJE\" title=\"Eyeballing Code\"><img src=\"https://farm5.staticflickr.com/4492/37271936814_18e7e72217.jpg\" width=\"500\" height=\"281\" alt=\"Eyeballing Code\"></a><script async src=\"//embedr.flickr.com/assets/client-code.js\" charset=\"utf-8\"></script>\n",
    "\n",
    "First, some identity checks (not proofs), using Decimal objects:\n",
    "\n",
    "$\\sqrt{2}-(\\sqrt{2}(\\phi^{-3}))= 2\\sqrt{2}(\\phi^{-2})$\n",
    "\n",
    "$(\\phi^{-2})+(\\phi^{-3})+(\\phi^{2}) = 1$"
   ]
  },
  {
   "cell_type": "code",
   "execution_count": 1,
   "metadata": {
    "collapsed": true
   },
   "outputs": [],
   "source": [
    "from math import sqrt as rt2\n",
    "from decimal import Decimal, getcontext\n",
    "context = getcontext()\n",
    "context.prec = 50"
   ]
  },
  {
   "cell_type": "code",
   "execution_count": 2,
   "metadata": {
    "collapsed": true
   },
   "outputs": [],
   "source": [
    "one = Decimal(1)  # 28 digits of precision by default, more on tap\n",
    "two = Decimal(2)\n",
    "three = Decimal(3)\n",
    "five = Decimal(5)\n",
    "nine = Decimal(9)\n",
    "eight = Decimal(8)\n",
    "sqrt2 = two.sqrt()\n",
    "sqrt5 = five.sqrt()\n",
    "Ø = (one + sqrt5)/two\n",
    "S3 = (nine/eight).sqrt()  # Got Synergetics?"
   ]
  },
  {
   "cell_type": "markdown",
   "metadata": {},
   "source": [
    "In showing off the Decimal type, I'm advertising high precision, but not \"infinite precision\".  Please be tolerant of our epsilons (tiny abberations)."
   ]
  },
  {
   "cell_type": "code",
   "execution_count": 3,
   "metadata": {},
   "outputs": [
    {
     "data": {
      "text/plain": [
       "Decimal('0.99999999999999999999999999999999999999999999999995')"
      ]
     },
     "execution_count": 3,
     "metadata": {},
     "output_type": "execute_result"
    }
   ],
   "source": [
    "(Ø**-2) + (Ø**-3) + ( Ø**-2)"
   ]
  },
  {
   "cell_type": "code",
   "execution_count": 4,
   "metadata": {},
   "outputs": [
    {
     "data": {
      "text/plain": [
       "Decimal('1.0803630269509058144061726281963757019894604868056')"
      ]
     },
     "execution_count": 4,
     "metadata": {},
     "output_type": "execute_result"
    }
   ],
   "source": [
    "sqrt2 - sqrt2 * Ø**-3"
   ]
  },
  {
   "cell_type": "markdown",
   "metadata": {},
   "source": [
    "## JITTERBUG TRANSFORMATION\n",
    "\n",
    "We call this the S Factor by the way.  VE:Icosa :: S:E is what to remember.  VE is the 12-around-1 nuclear sphere based agglomeration whereas Icosa is dervied from Jitterbugging, a mathematical transformation with a more technical name if you're a math snob (I can be).\n",
    "\n",
    "<a data-flickr-embed=\"true\"  href=\"https://www.flickr.com/photos/kirbyurner/8393394058/in/photolist-dMGkCE-5y2HNo\" title=\"Jitterbug Transformation\"><img src=\"https://farm9.staticflickr.com/8195/8393394058_b096cc1e20.jpg\" width=\"500\" height=\"375\" alt=\"Jitterbug Transformation\"></a><script async src=\"//embedr.flickr.com/assets/client-code.js\" charset=\"utf-8\"></script>"
   ]
  },
  {
   "cell_type": "code",
   "execution_count": 5,
   "metadata": {},
   "outputs": [
    {
     "data": {
      "text/plain": [
       "Decimal('1.0803630269509058144061726281963757019894604868055')"
      ]
     },
     "execution_count": 5,
     "metadata": {},
     "output_type": "execute_result"
    }
   ],
   "source": [
    "two * sqrt2 * (Ø**-2)"
   ]
  },
  {
   "cell_type": "code",
   "execution_count": 6,
   "metadata": {},
   "outputs": [
    {
     "data": {
      "text/plain": [
       "Decimal('18.512295868219161196009899292654531923571426913640')"
      ]
     },
     "execution_count": 6,
     "metadata": {},
     "output_type": "execute_result"
    }
   ],
   "source": [
    "icosa = five * sqrt2 * Ø ** 2\n",
    "icosa"
   ]
  },
  {
   "cell_type": "code",
   "execution_count": 7,
   "metadata": {
    "collapsed": true
   },
   "outputs": [],
   "source": [
    "ve = Decimal(20)"
   ]
  },
  {
   "cell_type": "code",
   "execution_count": 8,
   "metadata": {
    "collapsed": true
   },
   "outputs": [],
   "source": [
    "s_factor = ve / icosa"
   ]
  },
  {
   "cell_type": "code",
   "execution_count": 9,
   "metadata": {},
   "outputs": [
    {
     "data": {
      "text/plain": [
       "Decimal('1.0803630269509058144061726281963757019894604868056')"
      ]
     },
     "execution_count": 9,
     "metadata": {},
     "output_type": "execute_result"
    }
   ],
   "source": [
    "s_factor  # see?"
   ]
  },
  {
   "cell_type": "markdown",
   "metadata": {},
   "source": [
    "## \"SMALLGUY\"\n",
    "\n",
    "Above is an expression for the volume of said Icosa in tetravolumes.  \n",
    "\n",
    "We may think of it as \"two applications of the S-Factor bigger\" than a smaller cubocta, with edges, get this, equal in magnitude to the *volume* of the edge 2 icosa.  \n",
    "\n",
    "David Koski and I got to calling this cubocta \"SmallGuy\" (feel free to substitute your own moniker).  \n",
    "\n",
    "The Concentric Hierarchy has a *Sesame Street* flavor (kids' TV show) in some walkx of life, lending to our penchant for colloquialisms."
   ]
  },
  {
   "cell_type": "code",
   "execution_count": 10,
   "metadata": {},
   "outputs": [
    {
     "data": {
      "text/plain": [
       "Decimal('15.860645438769607979506732934761348026253292147309')"
      ]
     },
     "execution_count": 10,
     "metadata": {},
     "output_type": "execute_result"
    }
   ],
   "source": [
    "SmallGuy = icosa * one/s_factor * one/s_factor\n",
    "SmallGuy"
   ]
  },
  {
   "cell_type": "markdown",
   "metadata": {},
   "source": [
    "Another way to reach the SmallGuy is to start with the volume 20 cubocta and shrink its edges by the S Factor, which means volume shrinks by a factor of the reciprocal of said S Factor to the 3rd power or $1/s\\_factor ^{3}$"
   ]
  },
  {
   "cell_type": "code",
   "execution_count": 11,
   "metadata": {},
   "outputs": [
    {
     "data": {
      "text/plain": [
       "Decimal('15.860645438769607979506732934761348026253292147310')"
      ]
     },
     "execution_count": 11,
     "metadata": {},
     "output_type": "execute_result"
    }
   ],
   "source": [
    "ve * (one/s_factor)**3"
   ]
  },
  {
   "cell_type": "code",
   "execution_count": 12,
   "metadata": {},
   "outputs": [
    {
     "data": {
      "text/plain": [
       "Decimal('1.8512295868219161196009899292654531923571426913641')"
      ]
     },
     "execution_count": 12,
     "metadata": {},
     "output_type": "execute_result"
    }
   ],
   "source": [
    "SmallGuy_edge = two * (one/s_factor) # effect on edges\n",
    "SmallGuy_edge"
   ]
  },
  {
   "cell_type": "markdown",
   "metadata": {},
   "source": [
    "## RHOMBIC TRIACONTAHEDRON (RT)\n",
    "\n",
    "<a data-flickr-embed=\"true\"  href=\"https://www.flickr.com/photos/kirbyurner/4148457444/in/photolist-27mJSE2-9AU59Y-97TTvV-8dyvmP-8batBx-8awATh-7YZyV3-7nfvNf-7jzVRo-7jzVSm-5STUzp-5DsYfo-5zTRpB-JoybP-Joybi-6BkWWK\" title=\"Rhombic Triacontahedron\"><img src=\"https://farm3.staticflickr.com/2662/4148457444_60e88eee55.jpg\" width=\"454\" height=\"354\" alt=\"Rhombic Triacontahedron\"></a><script async src=\"//embedr.flickr.com/assets/client-code.js\" charset=\"utf-8\"></script>"
   ]
  },
  {
   "cell_type": "code",
   "execution_count": 13,
   "metadata": {},
   "outputs": [
    {
     "data": {
      "text/plain": [
       "Decimal('21.213203435596425732025330863145471178545078130654')"
      ]
     },
     "execution_count": 13,
     "metadata": {},
     "output_type": "execute_result"
    }
   ],
   "source": [
    "superRT = ve * S3\n",
    "superRT"
   ]
  },
  {
   "cell_type": "markdown",
   "metadata": {},
   "source": [
    "S3 is our conversion constant for going between XYZ cube volumes and [IVM](https://github.com/4dsolutions/Python5/blob/master/Generating%20the%20FCC.ipynb) tetra volumes.  The two mensuration systems each have their own unit volume, by convention a .5 radius edge cube versus a 1.0 diametered edged tetrahedron, or use edges 1 and 2 if preferred, their ratio will be the same, with the cube a bit bigger.\n",
    "\n",
    "<a data-flickr-embed=\"true\"  href=\"https://www.flickr.com/photos/kirbyurner/9530922237/in/album-72157624750749042/\" title=\"Regular and Right Tetrahedrons Compared\"><img src=\"https://farm4.staticflickr.com/3790/9530922237_dcc672a68a.jpg\" width=\"500\" height=\"375\" alt=\"Regular and Right Tetrahedrons Compared\"></a><script async src=\"//embedr.flickr.com/assets/client-code.js\" charset=\"utf-8\"></script>\n",
    "\n",
    "SuperRT is the RT (rhombic triacontahedron) formed by the Icosa and its dual, the Pentagonal Dodecahedron, the two five-fold symmetric shapes in [the Platonic set](https://youtu.be/vk-cpknOz9E) of five polys.  The Icosa we're talking about is the one above, derived from the VE of volume 20, through Jitterbugging.\n",
    "\n",
    "If we shrink SuperRT down by $\\phi^{-3}$ volume-wise (all edges are now $\\phi^{-1}$ their initial length), and carve it into 120 modules (60 left, 60 right), then lo and behold, we have the E modules.\n",
    "\n",
    "Another expression for SuperRT volume is $15\\sqrt{2}$."
   ]
  },
  {
   "cell_type": "code",
   "execution_count": 14,
   "metadata": {},
   "outputs": [
    {
     "data": {
      "text/plain": [
       "Decimal('21.213203435596425732025330863145471178545078130654')"
      ]
     },
     "execution_count": 14,
     "metadata": {},
     "output_type": "execute_result"
    }
   ],
   "source": [
    "Decimal('15') * sqrt2"
   ]
  },
  {
   "cell_type": "markdown",
   "metadata": {},
   "source": [
    "## E MODULE\n",
    "\n",
    "<a data-flickr-embed=\"true\"  href=\"https://www.flickr.com/photos/kirbyurner/39286474584/in/photolist-22RBsb5-CwvwpP-vLby2U-ujipN3-f75zUP-aDSfHf-8ryEix-8ryECF-7mcmne-5zTRjp-5zY9gA-7k4Eid-7k4Em5-7jZLe2-7jZLhp-7k4Ejf\" title=\"module_studies\"><img src=\"https://farm5.staticflickr.com/4626/39286474584_2df7913f05.jpg\" width=\"500\" height=\"271\" alt=\"module_studies\"></a><script async src=\"//embedr.flickr.com/assets/client-code.js\" charset=\"utf-8\"></script>"
   ]
  },
  {
   "cell_type": "code",
   "execution_count": 15,
   "metadata": {
    "collapsed": true
   },
   "outputs": [],
   "source": [
    "emod = (superRT * Ø**-3)/Decimal(120)"
   ]
  },
  {
   "cell_type": "code",
   "execution_count": 16,
   "metadata": {},
   "outputs": [
    {
     "data": {
      "text/plain": [
       "Decimal('0.041731316927773654299439512001665297072526423571412')"
      ]
     },
     "execution_count": 16,
     "metadata": {},
     "output_type": "execute_result"
    }
   ],
   "source": [
    "emod"
   ]
  },
  {
   "cell_type": "code",
   "execution_count": 17,
   "metadata": {},
   "outputs": [
    {
     "data": {
      "text/plain": [
       "Decimal('0.045084971874737120511467085914095294300772949514403')"
      ]
     },
     "execution_count": 17,
     "metadata": {},
     "output_type": "execute_result"
    }
   ],
   "source": [
    "smod = emod * s_factor\n",
    "smod"
   ]
  },
  {
   "cell_type": "code",
   "execution_count": 18,
   "metadata": {},
   "outputs": [
    {
     "data": {
      "text/plain": [
       "Decimal('1.0803630269509058144061726281963757019894604868056')"
      ]
     },
     "execution_count": 18,
     "metadata": {},
     "output_type": "execute_result"
    }
   ],
   "source": [
    "smod/emod"
   ]
  },
  {
   "cell_type": "markdown",
   "metadata": {},
   "source": [
    "The S factor again, yes?  \n",
    "\n",
    "$\\sqrt{2}-(\\sqrt{2}(\\phi^{-3}))= 2\\sqrt{2}(\\phi^{-2})$ = S Factor.\n",
    "\n",
    "Another expression for the S Factor is $24E + 8e3$ where E means emod, and $e3$ means $E * \\phi^{-3}$."
   ]
  },
  {
   "cell_type": "code",
   "execution_count": 19,
   "metadata": {},
   "outputs": [
    {
     "data": {
      "text/plain": [
       "Decimal('1.0803630269509058144061726281963757019894604868056')"
      ]
     },
     "execution_count": 19,
     "metadata": {},
     "output_type": "execute_result"
    }
   ],
   "source": [
    "Decimal(24) * emod + Decimal(8) * emod * Ø**-3"
   ]
  },
  {
   "cell_type": "markdown",
   "metadata": {},
   "source": [
    "## S MODULE\n",
    "\n",
    "Now lets shrink the 20 volumed VE by halving all edges, reducing volume by a factor of 8, to 2.5\n"
   ]
  },
  {
   "cell_type": "code",
   "execution_count": 20,
   "metadata": {
    "collapsed": true
   },
   "outputs": [],
   "source": [
    "small_ve = ve / Decimal(8)"
   ]
  },
  {
   "cell_type": "markdown",
   "metadata": {},
   "source": [
    "<a data-flickr-embed=\"true\"  href=\"https://www.flickr.com/photos/kirbyurner/6335726352/in/photolist-vLby2U-ujipN3-f75zUP-aDSfHf-8ryEix-8ryECF-7mcmne-5zTRjp-5zY9gA-7k4Eid-7k4Em5-7jZLe2-7jZLhp-7k4Ejf\" title=\"S Module\"><img src=\"https://farm7.staticflickr.com/6114/6335726352_902009df40.jpg\" width=\"500\" height=\"441\" alt=\"S Module\"></a><script async src=\"//embedr.flickr.com/assets/client-code.js\" charset=\"utf-8\"></script>\n",
    "\n",
    "As every grade schooler knows, if at all aware of their heritage, said VE inscribes inside the octahedron of volume 4, as does an Icosahedron with flush faces.  We do a kind of jitterbugging that makes the VE larger instead of smaller.  Two applications of the S Factor does the trick."
   ]
  },
  {
   "cell_type": "code",
   "execution_count": 21,
   "metadata": {
    "collapsed": true
   },
   "outputs": [],
   "source": [
    "skew_icosa = small_ve * s_factor * s_factor"
   ]
  },
  {
   "cell_type": "code",
   "execution_count": 22,
   "metadata": {},
   "outputs": [
    {
     "data": {
      "text/plain": [
       "Decimal('2.9179606750063091077247899380617129367814492116541')"
      ]
     },
     "execution_count": 22,
     "metadata": {},
     "output_type": "execute_result"
    }
   ],
   "source": [
    "skew_icosa"
   ]
  },
  {
   "cell_type": "code",
   "execution_count": 23,
   "metadata": {},
   "outputs": [
    {
     "data": {
      "text/plain": [
       "Decimal('3.9999999999999999999999999999999999999999999999998')"
      ]
     },
     "execution_count": 23,
     "metadata": {},
     "output_type": "execute_result"
    }
   ],
   "source": [
    "skew_icosa + (24 * smod)"
   ]
  },
  {
   "cell_type": "markdown",
   "metadata": {},
   "source": [
    "The figure below is an S-Factor radius, meaning from the center to each diamond face center on the surface.\n",
    "\n",
    "<a data-flickr-embed=\"true\"  href=\"https://www.flickr.com/photos/kirbyurner/37516435114/in/photolist-Zacx7b-f763Kv-PjPfT-PjPdz\" title=\"S-Factor Radius\"><img src=\"https://farm5.staticflickr.com/4551/37516435114_d4687b378c.jpg\" width=\"500\" height=\"312\" alt=\"S-Factor Radius\"></a><script async src=\"//embedr.flickr.com/assets/client-code.js\" charset=\"utf-8\"></script>\n",
    "<div align=\"center\">by D.B. Koski using vZome</div>"
   ]
  },
  {
   "cell_type": "markdown",
   "metadata": {},
   "source": [
    "David Koski writes (on Facebook):  \n",
    "\n",
    "The volume 4, edge 2 octahedron, has a volume of 4 tetrahedral units or 84S + 20s3 modules\n",
    "\n",
    "S = $(\\phi^{-5})/2$ = .045084\n",
    "\n",
    "s3 = $(\\phi^{-8})/2$ = .010643\n",
    "\n",
    "The icosahedron inside of this octahedron has a volume of 84S+20s3 - 24S = 60S+20s3 = 2.917960 = $20(\\phi^{-4})$.\n",
    "Surprisingly, this icosahedron has an edge of 1.08036 or the Sfactor!"
   ]
  },
  {
   "cell_type": "code",
   "execution_count": 24,
   "metadata": {},
   "outputs": [
    {
     "data": {
      "text/plain": [
       "Decimal('2.9179606750063091077247899380617129367814492116540')"
      ]
     },
     "execution_count": 24,
     "metadata": {},
     "output_type": "execute_result"
    }
   ],
   "source": [
    "Decimal(60) * smod + Decimal(20) * smod * Ø**-3"
   ]
  },
  {
   "cell_type": "code",
   "execution_count": 25,
   "metadata": {},
   "outputs": [
    {
     "data": {
      "text/plain": [
       "Decimal('2.9179606750063091077247899380617129367814492116540')"
      ]
     },
     "execution_count": 25,
     "metadata": {},
     "output_type": "execute_result"
    }
   ],
   "source": [
    "Decimal(20) * Ø**-4"
   ]
  },
  {
   "cell_type": "markdown",
   "metadata": {},
   "source": [
    "## A MODULE\n",
    "\n",
    "The A and B modules have the same volume (1/24), as does the [T modules](http://www.grunch.net/synergetics/tmod.html).  We review these in other Notebooks.\n",
    "\n",
    "<a data-flickr-embed=\"true\"  href=\"https://www.flickr.com/photos/kirbyurner/4883782209/in/photolist-NYVxaA-ujipN3-f75zUP-8ryECF-8ryEix-7pQH9f-7pLP7a-7mcmne-7cVLoM-5zTRjp-5zY9gA-7k4Eid-7k4Em5-7k4Ejf-7jZLhp-7jZLe2\" title=\"Plane Nets\"><img src=\"https://farm5.staticflickr.com/4098/4883782209_eb318edb3f.jpg\" width=\"375\" height=\"500\" alt=\"Plane Nets\"></a><script async src=\"//embedr.flickr.com/assets/client-code.js\" charset=\"utf-8\"></script>\n",
    "\n",
    "<div align=\"center\">3D Print Me!</div>"
   ]
  }
 ],
 "metadata": {
  "kernelspec": {
   "display_name": "Python 3",
   "language": "python",
   "name": "python3"
  },
  "language_info": {
   "codemirror_mode": {
    "name": "ipython",
    "version": 3
   },
   "file_extension": ".py",
   "mimetype": "text/x-python",
   "name": "python",
   "nbconvert_exporter": "python",
   "pygments_lexer": "ipython3",
   "version": "3.6.4"
  }
 },
 "nbformat": 4,
 "nbformat_minor": 2
}
