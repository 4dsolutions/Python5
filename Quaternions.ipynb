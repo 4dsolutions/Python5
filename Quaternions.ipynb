{
 "cells": [
  {
   "cell_type": "markdown",
   "metadata": {},
   "source": [
    "### [Oregon Curriculum Network](http://www.4dsolutions.net/ocn) <br />\n",
    "[Discovering Math with Python](Introduction.ipynb)\n",
    "\n",
    "\n",
    "# Chapter 11: QUATERNIONS\n",
    "\n",
    "Quaternions were invented by Sir William Rowan Hamilton around 1843 and were considered a breakthrough.  \n",
    "\n",
    "In subsequent chapters Willard Gibbs and Oliver Heaviside came up with a vector concept that proved easier to use for many of the physics applications for which quaternions had originally been proposed.\n",
    "\n",
    "However quaternions and vectors together have become chief tools in accomplishing rotation.  Quaternions have some advantages over rotation matrices.  They're used a lot in physics engines, computer games, and robotics, whenever rotations are necessary.\n",
    "\n",
    "You might think of quaternions as \"vectors on steroids\" if that helps.  They have some properties in common with vectors, and are conceived to have a \"vector part\" somewhat like complex numbers have a \"real part\".\n",
    "\n",
    "Unit quaternions (w, x, y, z) with w\\*\\*2 + x\\*\\*2 + y\\*\\*2 + z\\*\\*2 == 1, form a group under multiplication.  Any two unit quaternions, when multiplied, produce a unit quaternion (Closure), and every unit quaternion has an inverse (w, -x, -y, -z), such that q \\* q\\*\\*-1 gives the unit quaternion (1, 0, 0, 0)."
   ]
  },
  {
   "cell_type": "code",
   "execution_count": null,
   "metadata": {
    "collapsed": true
   },
   "outputs": [],
   "source": [
    "class Quaternion:\n",
    "    \"\"\"\n",
    "    skeletal outline of the method's we'll need to \n",
    "    accomplish rotation\n",
    "    \"\"\"\n",
    "    \n",
    "    def __init__(self, degrees, v):\n",
    "        \"\"\"\n",
    "        v is a Vector, the axis of rotation\n",
    "        \"\"\"\n",
    "        pass\n",
    "    \n",
    "    def __mul__(self, other):\n",
    "        \"\"\"when other is a Vector, w == 0\"\"\"\n",
    "        pass\n",
    "    \n",
    "    def __invert__(self, other):\n",
    "        pass\n",
    "    \n",
    "    def __repr__(self):\n",
    "        pass"
   ]
  },
  {
   "cell_type": "markdown",
   "metadata": {},
   "source": [
    "What we'll plan to do, when rotating polyhedron P by n degrees around v = Vector(a, b, c), is initialize the corresponding unit quaternion (n, v) and then multiply every vector of P in a \"sandwich\" between that unit quaternion and its inverse:  \n",
    "\n",
    "new_v = q \\* old_v \\* q\\*\\*-1."
   ]
  },
  {
   "cell_type": "markdown",
   "metadata": {},
   "source": [
    "Back to Chapter 10: [Complex Numbers](Complex%20Numbers.ipynb) <br />\n",
    "Continue to Chapter 12: [The Mandelbrot Set](Mandelbrot%20Set.ipynb)<br />\n",
    "[Introduction / Table of Contents](Introduction.ipynb)"
   ]
  }
 ],
 "metadata": {
  "kernelspec": {
   "display_name": "Python 3",
   "language": "python",
   "name": "python3"
  },
  "language_info": {
   "codemirror_mode": {
    "name": "ipython",
    "version": 3
   },
   "file_extension": ".py",
   "mimetype": "text/x-python",
   "name": "python",
   "nbconvert_exporter": "python",
   "pygments_lexer": "ipython3",
   "version": "3.6.0"
  }
 },
 "nbformat": 4,
 "nbformat_minor": 2
}
