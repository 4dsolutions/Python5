{
 "cells": [
  {
   "cell_type": "markdown",
   "metadata": {},
   "source": [
    "Python for STEM Teachers<br/>[Oregon Curriculum Network](http://4dsolutions.net/ocn/)\n",
    "\n",
    "\n",
    "# BUILDING A PANDAS DATAFRAME\n",
    "\n",
    "Welcome everyone.\n",
    "\n",
    "In this very simple demo, I start with a listing of Polyhedrons with [volumes](https://codepen.io/pdx4d/pen/qjwORr) in increasing order."
   ]
  },
  {
   "cell_type": "code",
   "execution_count": 1,
   "metadata": {},
   "outputs": [],
   "source": [
    "import pandas as pd\n",
    "import numpy as np\n",
    "\n",
    "shapes = ['Tetrahedron', 'Cube', 'Octahedron', 'Rhombic Dodecahedron', 'Cuboctahedron']\n",
    "table = pd.DataFrame([1,3,4,6,20], index = shapes)"
   ]
  },
  {
   "cell_type": "code",
   "execution_count": 2,
   "metadata": {},
   "outputs": [
    {
     "data": {
      "text/html": [
       "<div>\n",
       "<style scoped>\n",
       "    .dataframe tbody tr th:only-of-type {\n",
       "        vertical-align: middle;\n",
       "    }\n",
       "\n",
       "    .dataframe tbody tr th {\n",
       "        vertical-align: top;\n",
       "    }\n",
       "\n",
       "    .dataframe thead th {\n",
       "        text-align: right;\n",
       "    }\n",
       "</style>\n",
       "<table border=\"1\" class=\"dataframe\">\n",
       "  <thead>\n",
       "    <tr style=\"text-align: right;\">\n",
       "      <th></th>\n",
       "      <th>0</th>\n",
       "    </tr>\n",
       "  </thead>\n",
       "  <tbody>\n",
       "    <tr>\n",
       "      <th>Tetrahedron</th>\n",
       "      <td>1</td>\n",
       "    </tr>\n",
       "    <tr>\n",
       "      <th>Cube</th>\n",
       "      <td>3</td>\n",
       "    </tr>\n",
       "    <tr>\n",
       "      <th>Octahedron</th>\n",
       "      <td>4</td>\n",
       "    </tr>\n",
       "    <tr>\n",
       "      <th>Rhombic Dodecahedron</th>\n",
       "      <td>6</td>\n",
       "    </tr>\n",
       "    <tr>\n",
       "      <th>Cuboctahedron</th>\n",
       "      <td>20</td>\n",
       "    </tr>\n",
       "  </tbody>\n",
       "</table>\n",
       "</div>"
      ],
      "text/plain": [
       "                       0\n",
       "Tetrahedron            1\n",
       "Cube                   3\n",
       "Octahedron             4\n",
       "Rhombic Dodecahedron   6\n",
       "Cuboctahedron         20"
      ]
     },
     "execution_count": 2,
     "metadata": {},
     "output_type": "execute_result"
    }
   ],
   "source": [
    "table"
   ]
  },
  {
   "cell_type": "markdown",
   "metadata": {},
   "source": [
    "Unlike a numpy array, which is of uniform data type (example: all floating point), a pandas Dataframe is expected to have labels for both columns and rows.  The data columns themselves by be of varying type.  A Dataframe consists as an arrangement, left to right, of instances of the [pandas Series type](https://www.tutorialspoint.com/python_pandas/python_pandas_series.htm), i.e. the columns."
   ]
  },
  {
   "cell_type": "code",
   "execution_count": 3,
   "metadata": {},
   "outputs": [],
   "source": [
    "table.columns = [\"Volume\",] # relabel the one column"
   ]
  },
  {
   "cell_type": "code",
   "execution_count": 4,
   "metadata": {},
   "outputs": [
    {
     "data": {
      "text/html": [
       "<div>\n",
       "<style scoped>\n",
       "    .dataframe tbody tr th:only-of-type {\n",
       "        vertical-align: middle;\n",
       "    }\n",
       "\n",
       "    .dataframe tbody tr th {\n",
       "        vertical-align: top;\n",
       "    }\n",
       "\n",
       "    .dataframe thead th {\n",
       "        text-align: right;\n",
       "    }\n",
       "</style>\n",
       "<table border=\"1\" class=\"dataframe\">\n",
       "  <thead>\n",
       "    <tr style=\"text-align: right;\">\n",
       "      <th></th>\n",
       "      <th>Volume</th>\n",
       "    </tr>\n",
       "  </thead>\n",
       "  <tbody>\n",
       "    <tr>\n",
       "      <th>Tetrahedron</th>\n",
       "      <td>1</td>\n",
       "    </tr>\n",
       "    <tr>\n",
       "      <th>Cube</th>\n",
       "      <td>3</td>\n",
       "    </tr>\n",
       "    <tr>\n",
       "      <th>Octahedron</th>\n",
       "      <td>4</td>\n",
       "    </tr>\n",
       "    <tr>\n",
       "      <th>Rhombic Dodecahedron</th>\n",
       "      <td>6</td>\n",
       "    </tr>\n",
       "    <tr>\n",
       "      <th>Cuboctahedron</th>\n",
       "      <td>20</td>\n",
       "    </tr>\n",
       "  </tbody>\n",
       "</table>\n",
       "</div>"
      ],
      "text/plain": [
       "                      Volume\n",
       "Tetrahedron                1\n",
       "Cube                       3\n",
       "Octahedron                 4\n",
       "Rhombic Dodecahedron       6\n",
       "Cuboctahedron             20"
      ]
     },
     "execution_count": 4,
     "metadata": {},
     "output_type": "execute_result"
    }
   ],
   "source": [
    "table"
   ]
  },
  {
   "cell_type": "markdown",
   "metadata": {},
   "source": [
    "$\\phi = (1 + \\sqrt{5})/2$"
   ]
  },
  {
   "cell_type": "code",
   "execution_count": 5,
   "metadata": {},
   "outputs": [],
   "source": [
    "phi = (1 + np.sqrt(5))/2 # a constant aka \"golden ratio\""
   ]
  },
  {
   "cell_type": "markdown",
   "metadata": {},
   "source": [
    "Now comes our common need to add another row to our table.  \n",
    "\n",
    "However the Icosahedron's volume is smaller than the Cuboctahedron's.  \n",
    "\n",
    "How shall we maintain Volume order?"
   ]
  },
  {
   "cell_type": "code",
   "execution_count": 6,
   "metadata": {},
   "outputs": [],
   "source": [
    "table.loc[\"Icosahedron\",\"Volume\"] = 5 * np.sqrt(2) * phi ** 2\n",
    "shapes.append(\"Icosahedron\")"
   ]
  },
  {
   "cell_type": "code",
   "execution_count": 7,
   "metadata": {},
   "outputs": [
    {
     "data": {
      "text/html": [
       "<div>\n",
       "<style scoped>\n",
       "    .dataframe tbody tr th:only-of-type {\n",
       "        vertical-align: middle;\n",
       "    }\n",
       "\n",
       "    .dataframe tbody tr th {\n",
       "        vertical-align: top;\n",
       "    }\n",
       "\n",
       "    .dataframe thead th {\n",
       "        text-align: right;\n",
       "    }\n",
       "</style>\n",
       "<table border=\"1\" class=\"dataframe\">\n",
       "  <thead>\n",
       "    <tr style=\"text-align: right;\">\n",
       "      <th></th>\n",
       "      <th>Volume</th>\n",
       "    </tr>\n",
       "  </thead>\n",
       "  <tbody>\n",
       "    <tr>\n",
       "      <th>Tetrahedron</th>\n",
       "      <td>1.000000</td>\n",
       "    </tr>\n",
       "    <tr>\n",
       "      <th>Cube</th>\n",
       "      <td>3.000000</td>\n",
       "    </tr>\n",
       "    <tr>\n",
       "      <th>Octahedron</th>\n",
       "      <td>4.000000</td>\n",
       "    </tr>\n",
       "    <tr>\n",
       "      <th>Rhombic Dodecahedron</th>\n",
       "      <td>6.000000</td>\n",
       "    </tr>\n",
       "    <tr>\n",
       "      <th>Cuboctahedron</th>\n",
       "      <td>20.000000</td>\n",
       "    </tr>\n",
       "    <tr>\n",
       "      <th>Icosahedron</th>\n",
       "      <td>18.512296</td>\n",
       "    </tr>\n",
       "  </tbody>\n",
       "</table>\n",
       "</div>"
      ],
      "text/plain": [
       "                         Volume\n",
       "Tetrahedron            1.000000\n",
       "Cube                   3.000000\n",
       "Octahedron             4.000000\n",
       "Rhombic Dodecahedron   6.000000\n",
       "Cuboctahedron         20.000000\n",
       "Icosahedron           18.512296"
      ]
     },
     "execution_count": 7,
     "metadata": {},
     "output_type": "execute_result"
    }
   ],
   "source": [
    "table"
   ]
  },
  {
   "cell_type": "markdown",
   "metadata": {},
   "source": [
    "Lets add one of a few interesting RTs (RT = rhombic triacontahedron).  The original Icosahedron, just added, has a dual with crossing edges that we'll also be adding.  Together, the Icosahedron and its intersecting Dual, the Pentagonal Dodecahedron, define an RT of tetravolume "
   ]
  },
  {
   "cell_type": "code",
   "execution_count": 8,
   "metadata": {},
   "outputs": [],
   "source": [
    "table.loc[\"RT5\",\"Volume\"] = 5\n",
    "shapes.append(\"RT5\")"
   ]
  },
  {
   "cell_type": "code",
   "execution_count": 9,
   "metadata": {},
   "outputs": [],
   "source": [
    "byvolume = table.sort_values(by=\"Volume\")"
   ]
  },
  {
   "cell_type": "code",
   "execution_count": 10,
   "metadata": {},
   "outputs": [
    {
     "data": {
      "text/html": [
       "<div>\n",
       "<style scoped>\n",
       "    .dataframe tbody tr th:only-of-type {\n",
       "        vertical-align: middle;\n",
       "    }\n",
       "\n",
       "    .dataframe tbody tr th {\n",
       "        vertical-align: top;\n",
       "    }\n",
       "\n",
       "    .dataframe thead th {\n",
       "        text-align: right;\n",
       "    }\n",
       "</style>\n",
       "<table border=\"1\" class=\"dataframe\">\n",
       "  <thead>\n",
       "    <tr style=\"text-align: right;\">\n",
       "      <th></th>\n",
       "      <th>Volume</th>\n",
       "    </tr>\n",
       "  </thead>\n",
       "  <tbody>\n",
       "    <tr>\n",
       "      <th>Tetrahedron</th>\n",
       "      <td>1.000000</td>\n",
       "    </tr>\n",
       "    <tr>\n",
       "      <th>Cube</th>\n",
       "      <td>3.000000</td>\n",
       "    </tr>\n",
       "    <tr>\n",
       "      <th>Octahedron</th>\n",
       "      <td>4.000000</td>\n",
       "    </tr>\n",
       "    <tr>\n",
       "      <th>RT5</th>\n",
       "      <td>5.000000</td>\n",
       "    </tr>\n",
       "    <tr>\n",
       "      <th>Rhombic Dodecahedron</th>\n",
       "      <td>6.000000</td>\n",
       "    </tr>\n",
       "    <tr>\n",
       "      <th>Icosahedron</th>\n",
       "      <td>18.512296</td>\n",
       "    </tr>\n",
       "    <tr>\n",
       "      <th>Cuboctahedron</th>\n",
       "      <td>20.000000</td>\n",
       "    </tr>\n",
       "  </tbody>\n",
       "</table>\n",
       "</div>"
      ],
      "text/plain": [
       "                         Volume\n",
       "Tetrahedron            1.000000\n",
       "Cube                   3.000000\n",
       "Octahedron             4.000000\n",
       "RT5                    5.000000\n",
       "Rhombic Dodecahedron   6.000000\n",
       "Icosahedron           18.512296\n",
       "Cuboctahedron         20.000000"
      ]
     },
     "execution_count": 10,
     "metadata": {},
     "output_type": "execute_result"
    }
   ],
   "source": [
    "byvolume"
   ]
  },
  {
   "cell_type": "markdown",
   "metadata": {},
   "source": [
    "The concentric hierarchy icosahedron, obtained by jitterbugging the Cuboctahedron of volume 20, has a volume of:\n",
    "\n",
    "$$ 5 \\sqrt{2}\\phi^{2} $$"
   ]
  },
  {
   "cell_type": "code",
   "execution_count": 11,
   "metadata": {},
   "outputs": [],
   "source": [
    "byvolume[\"Avols\"] = byvolume[\"Volume\"] * 24  # A = B = T = 1/24"
   ]
  },
  {
   "cell_type": "code",
   "execution_count": 12,
   "metadata": {},
   "outputs": [
    {
     "data": {
      "text/html": [
       "<div>\n",
       "<style scoped>\n",
       "    .dataframe tbody tr th:only-of-type {\n",
       "        vertical-align: middle;\n",
       "    }\n",
       "\n",
       "    .dataframe tbody tr th {\n",
       "        vertical-align: top;\n",
       "    }\n",
       "\n",
       "    .dataframe thead th {\n",
       "        text-align: right;\n",
       "    }\n",
       "</style>\n",
       "<table border=\"1\" class=\"dataframe\">\n",
       "  <thead>\n",
       "    <tr style=\"text-align: right;\">\n",
       "      <th></th>\n",
       "      <th>Volume</th>\n",
       "      <th>Avols</th>\n",
       "    </tr>\n",
       "  </thead>\n",
       "  <tbody>\n",
       "    <tr>\n",
       "      <th>Tetrahedron</th>\n",
       "      <td>1.000000</td>\n",
       "      <td>24.000000</td>\n",
       "    </tr>\n",
       "    <tr>\n",
       "      <th>Cube</th>\n",
       "      <td>3.000000</td>\n",
       "      <td>72.000000</td>\n",
       "    </tr>\n",
       "    <tr>\n",
       "      <th>Octahedron</th>\n",
       "      <td>4.000000</td>\n",
       "      <td>96.000000</td>\n",
       "    </tr>\n",
       "    <tr>\n",
       "      <th>RT5</th>\n",
       "      <td>5.000000</td>\n",
       "      <td>120.000000</td>\n",
       "    </tr>\n",
       "    <tr>\n",
       "      <th>Rhombic Dodecahedron</th>\n",
       "      <td>6.000000</td>\n",
       "      <td>144.000000</td>\n",
       "    </tr>\n",
       "    <tr>\n",
       "      <th>Icosahedron</th>\n",
       "      <td>18.512296</td>\n",
       "      <td>444.295101</td>\n",
       "    </tr>\n",
       "    <tr>\n",
       "      <th>Cuboctahedron</th>\n",
       "      <td>20.000000</td>\n",
       "      <td>480.000000</td>\n",
       "    </tr>\n",
       "  </tbody>\n",
       "</table>\n",
       "</div>"
      ],
      "text/plain": [
       "                         Volume       Avols\n",
       "Tetrahedron            1.000000   24.000000\n",
       "Cube                   3.000000   72.000000\n",
       "Octahedron             4.000000   96.000000\n",
       "RT5                    5.000000  120.000000\n",
       "Rhombic Dodecahedron   6.000000  144.000000\n",
       "Icosahedron           18.512296  444.295101\n",
       "Cuboctahedron         20.000000  480.000000"
      ]
     },
     "execution_count": 12,
     "metadata": {},
     "output_type": "execute_result"
    }
   ],
   "source": [
    "byvolume"
   ]
  },
  {
   "cell_type": "code",
   "execution_count": 13,
   "metadata": {},
   "outputs": [
    {
     "data": {
      "text/plain": [
       "15.350018208050784"
      ]
     },
     "execution_count": 13,
     "metadata": {},
     "output_type": "execute_result"
    }
   ],
   "source": [
    "penta_dodeca = 3 * np.sqrt(2) * (phi**2 + 1)\n",
    "shapes.append(\"Pentagonal Dodeca\")\n",
    "penta_dodeca"
   ]
  },
  {
   "cell_type": "code",
   "execution_count": 14,
   "metadata": {},
   "outputs": [],
   "source": [
    "byvolume.loc[\"Pentagonal Dodeca\",\"Volume\"] = penta_dodeca\n",
    "byvolume.loc[\"Pentagonal Dodeca\",\"Avols\"] = penta_dodeca * 24"
   ]
  },
  {
   "cell_type": "code",
   "execution_count": 15,
   "metadata": {},
   "outputs": [],
   "source": [
    "SuperRT = 20 * np.sqrt(9/8) # S3"
   ]
  },
  {
   "cell_type": "code",
   "execution_count": 16,
   "metadata": {},
   "outputs": [
    {
     "data": {
      "text/plain": [
       "21.213203435596423"
      ]
     },
     "execution_count": 16,
     "metadata": {},
     "output_type": "execute_result"
    }
   ],
   "source": [
    "SuperRT"
   ]
  },
  {
   "cell_type": "code",
   "execution_count": 17,
   "metadata": {},
   "outputs": [],
   "source": [
    "byvolume.loc[\"SuperRT\", \"Volume\"] = SuperRT\n",
    "byvolume.loc[\"SuperRT\", \"Avols\"] = SuperRT *24\n",
    "shapes.append(\"SuperRT\")"
   ]
  },
  {
   "cell_type": "code",
   "execution_count": 18,
   "metadata": {},
   "outputs": [
    {
     "data": {
      "text/html": [
       "<div>\n",
       "<style scoped>\n",
       "    .dataframe tbody tr th:only-of-type {\n",
       "        vertical-align: middle;\n",
       "    }\n",
       "\n",
       "    .dataframe tbody tr th {\n",
       "        vertical-align: top;\n",
       "    }\n",
       "\n",
       "    .dataframe thead th {\n",
       "        text-align: right;\n",
       "    }\n",
       "</style>\n",
       "<table border=\"1\" class=\"dataframe\">\n",
       "  <thead>\n",
       "    <tr style=\"text-align: right;\">\n",
       "      <th></th>\n",
       "      <th>Volume</th>\n",
       "      <th>Avols</th>\n",
       "    </tr>\n",
       "  </thead>\n",
       "  <tbody>\n",
       "    <tr>\n",
       "      <th>Tetrahedron</th>\n",
       "      <td>1.000000</td>\n",
       "      <td>24.000000</td>\n",
       "    </tr>\n",
       "    <tr>\n",
       "      <th>Cube</th>\n",
       "      <td>3.000000</td>\n",
       "      <td>72.000000</td>\n",
       "    </tr>\n",
       "    <tr>\n",
       "      <th>Octahedron</th>\n",
       "      <td>4.000000</td>\n",
       "      <td>96.000000</td>\n",
       "    </tr>\n",
       "    <tr>\n",
       "      <th>RT5</th>\n",
       "      <td>5.000000</td>\n",
       "      <td>120.000000</td>\n",
       "    </tr>\n",
       "    <tr>\n",
       "      <th>Rhombic Dodecahedron</th>\n",
       "      <td>6.000000</td>\n",
       "      <td>144.000000</td>\n",
       "    </tr>\n",
       "    <tr>\n",
       "      <th>Icosahedron</th>\n",
       "      <td>18.512296</td>\n",
       "      <td>444.295101</td>\n",
       "    </tr>\n",
       "    <tr>\n",
       "      <th>Cuboctahedron</th>\n",
       "      <td>20.000000</td>\n",
       "      <td>480.000000</td>\n",
       "    </tr>\n",
       "    <tr>\n",
       "      <th>Pentagonal Dodeca</th>\n",
       "      <td>15.350018</td>\n",
       "      <td>368.400437</td>\n",
       "    </tr>\n",
       "    <tr>\n",
       "      <th>SuperRT</th>\n",
       "      <td>21.213203</td>\n",
       "      <td>509.116882</td>\n",
       "    </tr>\n",
       "  </tbody>\n",
       "</table>\n",
       "</div>"
      ],
      "text/plain": [
       "                         Volume       Avols\n",
       "Tetrahedron            1.000000   24.000000\n",
       "Cube                   3.000000   72.000000\n",
       "Octahedron             4.000000   96.000000\n",
       "RT5                    5.000000  120.000000\n",
       "Rhombic Dodecahedron   6.000000  144.000000\n",
       "Icosahedron           18.512296  444.295101\n",
       "Cuboctahedron         20.000000  480.000000\n",
       "Pentagonal Dodeca     15.350018  368.400437\n",
       "SuperRT               21.213203  509.116882"
      ]
     },
     "execution_count": 18,
     "metadata": {},
     "output_type": "execute_result"
    }
   ],
   "source": [
    "byvolume"
   ]
  },
  {
   "cell_type": "markdown",
   "metadata": {},
   "source": [
    "What other RTs might we want to add?  The RT of exactly 5 tetravolumes is not the SuperRT scaled down by phi in its linear dimensions, (1/phi) to the 3rd power by volume.  The latter has a volume of 5+ and a radius of 1 exactly, whereas the RT of 5 has a radius of 0.9994... that of the RT of 5+."
   ]
  },
  {
   "cell_type": "code",
   "execution_count": 19,
   "metadata": {},
   "outputs": [],
   "source": [
    "byvolume.loc[\"RTe\", \"Volume\"] = byvolume.loc[\"SuperRT\",\"Volume\"] * phi**-3"
   ]
  },
  {
   "cell_type": "code",
   "execution_count": 20,
   "metadata": {},
   "outputs": [],
   "source": [
    "byvolume.loc[\"RTe\", \"Avols\"] = byvolume.loc[\"RTe\", \"Volume\"] * 24"
   ]
  },
  {
   "cell_type": "code",
   "execution_count": 21,
   "metadata": {},
   "outputs": [],
   "source": [
    "shapes.append(\"RTe\") # RT of 120 E modules"
   ]
  },
  {
   "cell_type": "code",
   "execution_count": 22,
   "metadata": {},
   "outputs": [],
   "source": [
    "byvolume.sort_values(by=\"Volume\", inplace=True)"
   ]
  },
  {
   "cell_type": "markdown",
   "metadata": {},
   "source": [
    "<a data-flickr-embed=\"true\"  href=\"https://www.flickr.com/photos/kirbyurner/4883782209/in/photolist-NYVxaA-ujipN3-f75zUP-8ryECF-8ryEix-7pQH9f-7pLP7a-7mcmne-7cVLoM-5zTRjp-5zY9gA-7k4Eid-7k4Em5-7k4Ejf-7jZLhp-7jZLe2\" title=\"Plane Nets\"><img src=\"https://farm5.staticflickr.com/4098/4883782209_eb318edb3f.jpg\" width=\"375\" height=\"500\" alt=\"Plane Nets\"></a><script async src=\"//embedr.flickr.com/assets/client-code.js\" charset=\"utf-8\"></script>\n",
    "\n",
    "<div align=\"center\">3D Print Me!</div>"
   ]
  },
  {
   "cell_type": "code",
   "execution_count": 23,
   "metadata": {},
   "outputs": [
    {
     "data": {
      "text/html": [
       "<div>\n",
       "<style scoped>\n",
       "    .dataframe tbody tr th:only-of-type {\n",
       "        vertical-align: middle;\n",
       "    }\n",
       "\n",
       "    .dataframe tbody tr th {\n",
       "        vertical-align: top;\n",
       "    }\n",
       "\n",
       "    .dataframe thead th {\n",
       "        text-align: right;\n",
       "    }\n",
       "</style>\n",
       "<table border=\"1\" class=\"dataframe\">\n",
       "  <thead>\n",
       "    <tr style=\"text-align: right;\">\n",
       "      <th></th>\n",
       "      <th>Volume</th>\n",
       "      <th>Avols</th>\n",
       "    </tr>\n",
       "  </thead>\n",
       "  <tbody>\n",
       "    <tr>\n",
       "      <th>Tetrahedron</th>\n",
       "      <td>1.000000</td>\n",
       "      <td>24.000000</td>\n",
       "    </tr>\n",
       "    <tr>\n",
       "      <th>Cube</th>\n",
       "      <td>3.000000</td>\n",
       "      <td>72.000000</td>\n",
       "    </tr>\n",
       "    <tr>\n",
       "      <th>Octahedron</th>\n",
       "      <td>4.000000</td>\n",
       "      <td>96.000000</td>\n",
       "    </tr>\n",
       "    <tr>\n",
       "      <th>RT5</th>\n",
       "      <td>5.000000</td>\n",
       "      <td>120.000000</td>\n",
       "    </tr>\n",
       "    <tr>\n",
       "      <th>RTe</th>\n",
       "      <td>5.007758</td>\n",
       "      <td>120.186193</td>\n",
       "    </tr>\n",
       "    <tr>\n",
       "      <th>Rhombic Dodecahedron</th>\n",
       "      <td>6.000000</td>\n",
       "      <td>144.000000</td>\n",
       "    </tr>\n",
       "    <tr>\n",
       "      <th>Pentagonal Dodeca</th>\n",
       "      <td>15.350018</td>\n",
       "      <td>368.400437</td>\n",
       "    </tr>\n",
       "    <tr>\n",
       "      <th>Icosahedron</th>\n",
       "      <td>18.512296</td>\n",
       "      <td>444.295101</td>\n",
       "    </tr>\n",
       "    <tr>\n",
       "      <th>Cuboctahedron</th>\n",
       "      <td>20.000000</td>\n",
       "      <td>480.000000</td>\n",
       "    </tr>\n",
       "    <tr>\n",
       "      <th>SuperRT</th>\n",
       "      <td>21.213203</td>\n",
       "      <td>509.116882</td>\n",
       "    </tr>\n",
       "  </tbody>\n",
       "</table>\n",
       "</div>"
      ],
      "text/plain": [
       "                         Volume       Avols\n",
       "Tetrahedron            1.000000   24.000000\n",
       "Cube                   3.000000   72.000000\n",
       "Octahedron             4.000000   96.000000\n",
       "RT5                    5.000000  120.000000\n",
       "RTe                    5.007758  120.186193\n",
       "Rhombic Dodecahedron   6.000000  144.000000\n",
       "Pentagonal Dodeca     15.350018  368.400437\n",
       "Icosahedron           18.512296  444.295101\n",
       "Cuboctahedron         20.000000  480.000000\n",
       "SuperRT               21.213203  509.116882"
      ]
     },
     "execution_count": 23,
     "metadata": {},
     "output_type": "execute_result"
    }
   ],
   "source": [
    "byvolume"
   ]
  },
  {
   "cell_type": "code",
   "execution_count": 24,
   "metadata": {},
   "outputs": [],
   "source": [
    "comments = pd.Series(index=shapes, dtype=str)"
   ]
  },
  {
   "cell_type": "code",
   "execution_count": 25,
   "metadata": {},
   "outputs": [],
   "source": [
    "comments.loc[\"Tetrahedron\"] = \"unit of volume, self dual\"\n",
    "comments.loc[\"Cube\"] = \"intersected tetrahedron duals\"\n",
    "comments.loc[\"Octahedron\"] = \"cube dual\"\n",
    "comments.loc[\"Rhombic Dodecahedron\"] = \"space-filler, sphere container\"\n",
    "comments.loc[\"Cuboctahedron\"] = \"RD's dual\"\n",
    "comments.loc[\"Icosahedron\"] = \"Platonic, pent. dodeca's dual\"\n",
    "comments.loc[\"RT5\"] = \"120 T modules, radius 0.9994\"\n",
    "comments.loc[\"Pentagonal Dodeca\"] = \"Platonic, Icosa's dual\"\n",
    "comments.loc[\"RTe\"] = \"120 E modules, radius 1.0000\"\n",
    "comments.loc[\"SuperRT\"] = \"RTe scaled up to Phi radius\""
   ]
  },
  {
   "cell_type": "code",
   "execution_count": 26,
   "metadata": {},
   "outputs": [
    {
     "data": {
      "text/plain": [
       "(10,)"
      ]
     },
     "execution_count": 26,
     "metadata": {},
     "output_type": "execute_result"
    }
   ],
   "source": [
    "comments.shape"
   ]
  },
  {
   "cell_type": "code",
   "execution_count": 27,
   "metadata": {},
   "outputs": [
    {
     "data": {
      "text/plain": [
       "Tetrahedron                  unit of volume, self dual\n",
       "Cube                     intersected tetrahedron duals\n",
       "Octahedron                                   cube dual\n",
       "Rhombic Dodecahedron    space-filler, sphere container\n",
       "Cuboctahedron                                RD's dual\n",
       "Icosahedron              Platonic, pent. dodeca's dual\n",
       "RT5                       120 T modules, radius 0.9994\n",
       "Pentagonal Dodeca               Platonic, Icosa's dual\n",
       "SuperRT                    RTe scaled up to Phi radius\n",
       "RTe                       120 E modules, radius 1.0000\n",
       "dtype: object"
      ]
     },
     "execution_count": 27,
     "metadata": {},
     "output_type": "execute_result"
    }
   ],
   "source": [
    "comments"
   ]
  },
  {
   "cell_type": "code",
   "execution_count": 28,
   "metadata": {},
   "outputs": [],
   "source": [
    "byvolume[\"Comments\"] = comments"
   ]
  },
  {
   "cell_type": "code",
   "execution_count": 29,
   "metadata": {},
   "outputs": [
    {
     "data": {
      "text/html": [
       "<div>\n",
       "<style scoped>\n",
       "    .dataframe tbody tr th:only-of-type {\n",
       "        vertical-align: middle;\n",
       "    }\n",
       "\n",
       "    .dataframe tbody tr th {\n",
       "        vertical-align: top;\n",
       "    }\n",
       "\n",
       "    .dataframe thead th {\n",
       "        text-align: right;\n",
       "    }\n",
       "</style>\n",
       "<table border=\"1\" class=\"dataframe\">\n",
       "  <thead>\n",
       "    <tr style=\"text-align: right;\">\n",
       "      <th></th>\n",
       "      <th>Volume</th>\n",
       "      <th>Avols</th>\n",
       "      <th>Comments</th>\n",
       "    </tr>\n",
       "  </thead>\n",
       "  <tbody>\n",
       "    <tr>\n",
       "      <th>Tetrahedron</th>\n",
       "      <td>1.000000</td>\n",
       "      <td>24.000000</td>\n",
       "      <td>unit of volume, self dual</td>\n",
       "    </tr>\n",
       "    <tr>\n",
       "      <th>Cube</th>\n",
       "      <td>3.000000</td>\n",
       "      <td>72.000000</td>\n",
       "      <td>intersected tetrahedron duals</td>\n",
       "    </tr>\n",
       "    <tr>\n",
       "      <th>Octahedron</th>\n",
       "      <td>4.000000</td>\n",
       "      <td>96.000000</td>\n",
       "      <td>cube dual</td>\n",
       "    </tr>\n",
       "    <tr>\n",
       "      <th>RT5</th>\n",
       "      <td>5.000000</td>\n",
       "      <td>120.000000</td>\n",
       "      <td>120 T modules, radius 0.9994</td>\n",
       "    </tr>\n",
       "    <tr>\n",
       "      <th>RTe</th>\n",
       "      <td>5.007758</td>\n",
       "      <td>120.186193</td>\n",
       "      <td>120 E modules, radius 1.0000</td>\n",
       "    </tr>\n",
       "    <tr>\n",
       "      <th>Rhombic Dodecahedron</th>\n",
       "      <td>6.000000</td>\n",
       "      <td>144.000000</td>\n",
       "      <td>space-filler, sphere container</td>\n",
       "    </tr>\n",
       "    <tr>\n",
       "      <th>Pentagonal Dodeca</th>\n",
       "      <td>15.350018</td>\n",
       "      <td>368.400437</td>\n",
       "      <td>Platonic, Icosa's dual</td>\n",
       "    </tr>\n",
       "    <tr>\n",
       "      <th>Icosahedron</th>\n",
       "      <td>18.512296</td>\n",
       "      <td>444.295101</td>\n",
       "      <td>Platonic, pent. dodeca's dual</td>\n",
       "    </tr>\n",
       "    <tr>\n",
       "      <th>Cuboctahedron</th>\n",
       "      <td>20.000000</td>\n",
       "      <td>480.000000</td>\n",
       "      <td>RD's dual</td>\n",
       "    </tr>\n",
       "    <tr>\n",
       "      <th>SuperRT</th>\n",
       "      <td>21.213203</td>\n",
       "      <td>509.116882</td>\n",
       "      <td>RTe scaled up to Phi radius</td>\n",
       "    </tr>\n",
       "  </tbody>\n",
       "</table>\n",
       "</div>"
      ],
      "text/plain": [
       "                         Volume       Avols                        Comments\n",
       "Tetrahedron            1.000000   24.000000       unit of volume, self dual\n",
       "Cube                   3.000000   72.000000   intersected tetrahedron duals\n",
       "Octahedron             4.000000   96.000000                       cube dual\n",
       "RT5                    5.000000  120.000000    120 T modules, radius 0.9994\n",
       "RTe                    5.007758  120.186193    120 E modules, radius 1.0000\n",
       "Rhombic Dodecahedron   6.000000  144.000000  space-filler, sphere container\n",
       "Pentagonal Dodeca     15.350018  368.400437          Platonic, Icosa's dual\n",
       "Icosahedron           18.512296  444.295101   Platonic, pent. dodeca's dual\n",
       "Cuboctahedron         20.000000  480.000000                       RD's dual\n",
       "SuperRT               21.213203  509.116882     RTe scaled up to Phi radius"
      ]
     },
     "execution_count": 29,
     "metadata": {},
     "output_type": "execute_result"
    }
   ],
   "source": [
    "byvolume"
   ]
  },
  {
   "cell_type": "code",
   "execution_count": 30,
   "metadata": {},
   "outputs": [
    {
     "data": {
      "image/jpeg": "[encoded data removed]",
      "text/html": [
       "\n",
       "        <iframe\n",
       "            width=\"400\"\n",
       "            height=\"300\"\n",
       "            src=\"https://www.youtube.com/embed/RGH8m0LdaTM\"\n",
       "            frameborder=\"0\"\n",
       "            allowfullscreen\n",
       "        ></iframe>\n",
       "        "
      ],
      "text/plain": [
       "<IPython.lib.display.YouTubeVideo at 0x113844198>"
      ]
     },
     "execution_count": 30,
     "metadata": {},
     "output_type": "execute_result"
    }
   ],
   "source": [
    "from IPython.display import YouTubeVideo\n",
    "YouTubeVideo(\"RGH8m0LdaTM\")"
   ]
  },
  {
   "cell_type": "markdown",
   "metadata": {},
   "source": [
    "My video narrative could be a little more clear on how we're inserting rows in the same way we insert columns, but with ```.loc``` for adding the new labeling.  In general, consider embedding videos in your Notebooks if you think these could be helpful to those making use of it down the road."
   ]
  }
 ],
 "metadata": {
  "kernelspec": {
   "display_name": "Python 3",
   "language": "python",
   "name": "python3"
  },
  "language_info": {
   "codemirror_mode": {
    "name": "ipython",
    "version": 3
   },
   "file_extension": ".py",
   "mimetype": "text/x-python",
   "name": "python",
   "nbconvert_exporter": "python",
   "pygments_lexer": "ipython3",
   "version": "3.6.4"
  }
 },
 "nbformat": 4,
 "nbformat_minor": 2
}
