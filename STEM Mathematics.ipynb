{
 "cells": [
  {
   "cell_type": "markdown",
   "metadata": {},
   "source": [
    "Crystal Ball Sequence\n",
    "============\n",
    "The face-centered cubic (FCC) lattice is not always presented in this simplest form, ditto the cubic close packing (CCP), which amounts to the same thing.  A nuclear ball is surrounded by a layer of twelve, all touching it, and adjacent neighbors.  The shape so formed is not a cube, but a cuboctahedron, with eight triangular faces and six square.\n",
    "\n",
    "As the cuboctahedral packing continues to expand outward, layer by layer, the cumulative number of balls or points forms the Crystal Ball Sequence.\n",
    "\n",
    "cubocta(), a generator, yields the number of balls in each successive layer of the cuboctahedron, according to a simple formula derived by R. Buckminster Fuller, a prolific inventor and philosopher.  cummulative( ) delegates to cubocta( ) while accumulating the number in each layer to provide a running total.\n",
    "\n",
    "![Image of Cubocta](http://www.4dsolutions.net/ocn/graphics/cubanim.gif)"
   ]
  },
  {
   "cell_type": "code",
   "execution_count": 1,
   "metadata": {
    "collapsed": false
   },
   "outputs": [
    {
     "name": "stdout",
     "output_type": "stream",
     "text": [
      "=== Crystal Ball Sequence ====\n",
      "  Layers     Points  \n",
      "         1          1\n",
      "         2         13\n",
      "         3         55\n",
      "         4        147\n",
      "         5        309\n",
      "         6        561\n",
      "         7        923\n",
      "         8       1415\n",
      "         9       2057\n",
      "        10       2869\n"
     ]
    }
   ],
   "source": [
    "from itertools import accumulate, islice\n",
    "\n",
    "def cubocta():\n",
    "    \"\"\"\n",
    "    Classic Generator:  Cuboctahedral / Icosahedral #s\n",
    "    https://oeis.org/A005901\n",
    "    \"\"\"\n",
    "    yield 1  # nuclear ball\n",
    "    f = 1\n",
    "    while True:\n",
    "        elem = 10 * f * f + 2  # f for frequency\n",
    "        yield elem    # <--- pause / resume here\n",
    "        f += 1\n",
    "        \n",
    "def cummulative(n):\n",
    "    \"\"\"\n",
    "    https://oeis.org/A005902 (crystal ball sequence)\n",
    "    \"\"\"\n",
    "    yield from islice(accumulate(cubocta()),0,n)\n",
    "\n",
    "print(\"{:=^30}\".format(\" Crystal Ball Sequence \"))\n",
    "print(\"{:^10} {:^10}\".format(\"Layers\", \"Points\"))\n",
    "for f, out in enumerate(cummulative(10),start=1):\n",
    "    print(\"{:>10} {:>10}\".format(f, out))\n",
    "   "
   ]
  },
  {
   "cell_type": "markdown",
   "metadata": {},
   "source": [
    "Pascal's Triangle\n",
    "=========\n",
    "\n",
    "Pascal's Triangle connects to the Binomial Theorem, originally proved by Sir Isaac Newton, and to numerous topics in probability theory.  The triangular and tetrahedral number sequences may be discovered lurking in its columns.\n",
    "\n",
    "pascal(), a generator, yields successive rows of Pascal's Triangle.  By prepending and appending a zero element and adding vertically, a next row is obtain.  For example, from [1] we get [0, 1] + [1, 0] = [1, 1].  From [1, 1] we get [0, 1, 1] + [1, 1, 0] = [1, 2, 1] and so on.\n",
    "\n",
    "![Image of Cubocta](http://www.4dsolutions.net/ocn/graphics/randtrianim.gif)"
   ]
  },
  {
   "cell_type": "code",
   "execution_count": 2,
   "metadata": {
    "collapsed": false
   },
   "outputs": [
    {
     "name": "stdout",
     "output_type": "stream",
     "text": [
      "==================== Pascal's Triangle =====================\n",
      "\n",
      "                               1                            \n",
      "                             1    1                         \n",
      "                          1    2    1                       \n",
      "                        1    3    3    1                    \n",
      "                     1    4    6    4    1                  \n",
      "                   1    5   10   10    5    1               \n",
      "                1    6   15   20   15    6    1             \n",
      "              1    7   21   35   35   21    7    1          \n",
      "           1    8   28   56   70   56   28    8    1        \n",
      "         1    9   36   84  126  126   84   36    9    1     \n",
      "      1   10   45  120  210  252  210  120   45   10    1   \n"
     ]
    }
   ],
   "source": [
    "from itertools import islice\n",
    "\n",
    "def pascal():\n",
    "    row = [1]\n",
    "    while True:\n",
    "        yield row\n",
    "        row = [i+j for i,j in zip([0]+row, row+[0])]\n",
    "\n",
    "print(\"{0:=^60}\".format(\" Pascal's Triangle \"))\n",
    "print()\n",
    "for r in islice(pascal(),0,11):\n",
    "    print(\"{:^60}\".format(\"\".join(map(lambda n: \"{:>5}\".format(n), r))))"
   ]
  },
  {
   "cell_type": "code",
   "execution_count": null,
   "metadata": {
    "collapsed": true
   },
   "outputs": [],
   "source": []
  }
 ],
 "metadata": {
  "kernelspec": {
   "display_name": "Python 3",
   "language": "python",
   "name": "python3"
  },
  "language_info": {
   "codemirror_mode": {
    "name": "ipython",
    "version": 3
   },
   "file_extension": ".py",
   "mimetype": "text/x-python",
   "name": "python",
   "nbconvert_exporter": "python",
   "pygments_lexer": "ipython3",
   "version": "3.5.1"
  }
 },
 "nbformat": 4,
 "nbformat_minor": 0
}
