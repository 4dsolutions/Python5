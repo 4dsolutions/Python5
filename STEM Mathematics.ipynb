{
 "cells": [
  {
   "cell_type": "markdown",
   "metadata": {},
   "source": [
    "Crystal Ball Sequence\n",
    "============\n",
    "The face-centered cubic (FCC) lattice is not always presented in this simplest form, ditto the cubic close packing (CCP), which amounts to the same thing.  A nuclear ball is surrounded by a layer of twelve, all touching it, and adjacent neighbors.  The shape so formed is not a cube, but a cuboctahedron, with eight triangular faces and six square.\n",
    "\n",
    "As the cuboctahedral packing continues to expand outward, layer by layer, the cumulative number of balls or points forms the Crystal Ball Sequence.\n",
    "\n",
    "cubocta(), a generator, yields the number of balls in each successive layer of the cuboctahedron, according to a simple formula derived by R. Buckminster Fuller, a prolific inventor and philosopher [1].  cummulative( ) delegates to cubocta( ) while accumulating the number in each layer to provide a running total.\n",
    "\n",
    "![Image of Cubocta](http://www.4dsolutions.net/ocn/graphics/cubanim.gif)"
   ]
  },
  {
   "cell_type": "code",
   "execution_count": 1,
   "metadata": {
    "collapsed": false
   },
   "outputs": [
    {
     "name": "stdout",
     "output_type": "stream",
     "text": [
      "=== Crystal Ball Sequence ====\n",
      "  Layers     Points  \n",
      "         1          1\n",
      "         2         13\n",
      "         3         55\n",
      "         4        147\n",
      "         5        309\n",
      "         6        561\n",
      "         7        923\n",
      "         8       1415\n",
      "         9       2057\n",
      "        10       2869\n",
      "        11       3871\n",
      "        12       5083\n",
      "        13       6525\n",
      "        14       8217\n",
      "        15      10179\n",
      "        16      12431\n"
     ]
    }
   ],
   "source": [
    "from itertools import accumulate, islice\n",
    "\n",
    "def cubocta():\n",
    "    \"\"\"\n",
    "    Classic Generator:  Cuboctahedral / Icosahedral #s\n",
    "    https://oeis.org/A005901\n",
    "    \"\"\"\n",
    "    yield 1  # nuclear ball\n",
    "    f = 1\n",
    "    while True:\n",
    "        elem = 10 * f * f + 2  # f for frequency\n",
    "        yield elem    # <--- pause / resume here\n",
    "        f += 1\n",
    "        \n",
    "def cummulative(n):\n",
    "    \"\"\"\n",
    "    https://oeis.org/A005902 (crystal ball sequence)\n",
    "    \"\"\"\n",
    "    yield from islice(accumulate(cubocta()),0,n)\n",
    "\n",
    "print(\"{:=^30}\".format(\" Crystal Ball Sequence \"))\n",
    "print(\"{:^10} {:^10}\".format(\"Layers\", \"Points\"))\n",
    "for f, out in enumerate(cummulative(16),start=1):\n",
    "    print(\"{:>10} {:>10}\".format(f, out))\n",
    "   "
   ]
  },
  {
   "cell_type": "markdown",
   "metadata": {},
   "source": [
    "Octet Truss\n",
    "======\n",
    "\n",
    "When adjacent CCP ball centers interconnect, what do you get?  Why the octet truss of course, a well known space frame, used a lot in architecture.  Alexander Graham Bell was fascinated by this construction.[2]\n",
    "\n",
    "<a data-flickr-embed=\"true\"  href=\"https://www.flickr.com/photos/kirbyurner/23636692173/in/album-72157664250599655/\" title=\"Business Accelerator Building\"><img src=\"https://farm2.staticflickr.com/1584/23636692173_103b411737.jpg\" width=\"500\" height=\"375\" alt=\"Business Accelerator Building\"></a><script async src=\"//embedr.flickr.com/assets/client-code.js\" charset=\"utf-8\"></script>"
   ]
  },
  {
   "cell_type": "markdown",
   "metadata": {},
   "source": [
    "[1] Siobahn Roberts. King of Infinite Space. New York: Walker & Company (2006). pp 179-180.\n",
    "\n",
    "\"Coxeter sent back a letter saying that one equation would be 'a remarkable discovery, justifying Bucky's evident pride,' if only it weren't too good to be true.  The next day, Coxeter called: 'On further reflection, I see that it *is* true'. Coxeter told Fuller how impressed he was with his formula -- on the cubic close-packing of balls.\"\n",
    "\n",
    "[2]  http://worldgame.blogspot.com/2006/02/octet-truss.html (additional info on the octet truss)"
   ]
  },
  {
   "cell_type": "markdown",
   "metadata": {},
   "source": [
    "Pascal's Triangle\n",
    "=========\n",
    "\n",
    "Pascal's Triangle connects to the Binomial Theorem, originally proved by Sir Isaac Newton, and to numerous topics in probability theory.  The triangular and tetrahedral number sequences may be discovered lurking in its columns.\n",
    "\n",
    "pascal(), a generator, yields successive rows of Pascal's Triangle.  By prepending and appending a zero element and adding vertically, a next row is obtain.  For example, from [1] we get [0, 1] + [1, 0] = [1, 1].  From [1, 1] we get [0, 1, 1] + [1, 1, 0] = [1, 2, 1] and so on.\n",
    "\n",
    "Notice the triangular numbers (1, 3, 6, 10...) and tetrahedral number sequences (1, 4, 10, 20...) appear in the slanted columns. [3]\n",
    "\n",
    "![Image of PT](http://www.4dsolutions.net/ocn/graphics/randtrianim.gif)"
   ]
  },
  {
   "cell_type": "code",
   "execution_count": 2,
   "metadata": {
    "collapsed": false
   },
   "outputs": [
    {
     "name": "stdout",
     "output_type": "stream",
     "text": [
      "==================== Pascal's Triangle =====================\n",
      "\n",
      "                               1                            \n",
      "                             1    1                         \n",
      "                          1    2    1                       \n",
      "                        1    3    3    1                    \n",
      "                     1    4    6    4    1                  \n",
      "                   1    5   10   10    5    1               \n",
      "                1    6   15   20   15    6    1             \n",
      "              1    7   21   35   35   21    7    1          \n",
      "           1    8   28   56   70   56   28    8    1        \n",
      "         1    9   36   84  126  126   84   36    9    1     \n",
      "      1   10   45  120  210  252  210  120   45   10    1   \n"
     ]
    }
   ],
   "source": [
    "from itertools import islice\n",
    "\n",
    "def pascal():\n",
    "    row = [1]\n",
    "    while True:\n",
    "        yield row\n",
    "        row = [i+j for i,j in zip([0]+row, row+[0])]\n",
    "\n",
    "print(\"{0:=^60}\".format(\" Pascal's Triangle \"))\n",
    "print()\n",
    "for r in islice(pascal(),0,11):\n",
    "    print(\"{:^60}\".format(\"\".join(map(lambda n: \"{:>5}\".format(n), r))))"
   ]
  },
  {
   "cell_type": "markdown",
   "metadata": {
    "collapsed": true
   },
   "source": [
    "Each number of in Pascal's Triangle may be understood as the number of unique pathways to that position, were falling balls introduced through the top and allowed to fall left or right to the next row down.  This apparatus is sometimes called a Galton Board.\n",
    "\n",
    "For example, a ball could reach the 6 in the middle of the 5th row going 1,1,2,3,6 in four ways (counting left and right mirrors), or 1,1,1,3,6 in two ways.  The likely pattern when many balls fall through this maze will be a bell curve, as shown in the simulation below."
   ]
  },
  {
   "cell_type": "code",
   "execution_count": 3,
   "metadata": {
    "collapsed": false
   },
   "outputs": [
    {
     "data": {
      "text/html": [
       "\n",
       "        <iframe\n",
       "            width=\"400\"\n",
       "            height=\"300\"\n",
       "            src=\"https://www.youtube.com/embed/p65aYYuAz-s\"\n",
       "            frameborder=\"0\"\n",
       "            allowfullscreen\n",
       "        ></iframe>\n",
       "        "
      ],
      "text/plain": [
       "<IPython.lib.display.YouTubeVideo at 0x104216b00>"
      ]
     },
     "execution_count": 3,
     "metadata": {},
     "output_type": "execute_result"
    }
   ],
   "source": [
    "from IPython.display import YouTubeVideo\n",
    "YouTubeVideo(\"p65aYYuAz-s\")"
   ]
  },
  {
   "cell_type": "markdown",
   "metadata": {},
   "source": [
    "[3] for more on both Pascal's Triangle and Cuboctahedral Numbers see:\n",
    "http://www.4dsolutions.net/ocn/numeracy0.html\n"
   ]
  }
 ],
 "metadata": {
  "kernelspec": {
   "display_name": "Python 3",
   "language": "python",
   "name": "python3"
  },
  "language_info": {
   "codemirror_mode": {
    "name": "ipython",
    "version": 3
   },
   "file_extension": ".py",
   "mimetype": "text/x-python",
   "name": "python",
   "nbconvert_exporter": "python",
   "pygments_lexer": "ipython3",
   "version": "3.5.1"
  }
 },
 "nbformat": 4,
 "nbformat_minor": 0
}
