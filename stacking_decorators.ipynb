{
 "cells": [
  {
   "cell_type": "markdown",
   "metadata": {},
   "source": [
    "## STACKING DECORATORS"
   ]
  },
  {
   "cell_type": "markdown",
   "metadata": {},
   "source": [
    "Lets look at decorators again.  They're related to what we call \"function composition\" in that the decorator \"eats\" what's defined just below it, and returns a proxy with the same name, likewise a callable.\n",
    "\n",
    "Here's a decorator that tells the identity function under it what letter to tack on (concatenate) to the end of string s, the argument.  \n",
    "\n",
    "The decorator itself takes an argument.  The callable it then returns, the adder function, is ready to do the work of finally \"eating\" ident and extending what it does by the one letter)."
   ]
  },
  {
   "cell_type": "code",
   "execution_count": 1,
   "metadata": {
    "collapsed": false
   },
   "outputs": [
    {
     "data": {
      "text/plain": [
       "'XR'"
      ]
     },
     "execution_count": 1,
     "metadata": {},
     "output_type": "execute_result"
    }
   ],
   "source": [
    "def plus(char):\n",
    "    \"\"\"\n",
    "    returns a prepped adder to eat the target, and to\n",
    "    build a little lambda that does the job.\n",
    "    \"\"\"\n",
    "    def adder(f):\n",
    "        return lambda s: f(s) + char\n",
    "    return adder\n",
    "\n",
    "@plus('R')     \n",
    "def ident(s):\n",
    "    return s\n",
    "\n",
    "ident('X')  # do the job!"
   ]
  },
  {
   "cell_type": "markdown",
   "metadata": {},
   "source": [
    "Now let's stack up some decorators, showing how each swallows the result below. Work from the bottom up..."
   ]
  },
  {
   "cell_type": "code",
   "execution_count": 2,
   "metadata": {
    "collapsed": false
   },
   "outputs": [
    {
     "name": "stdout",
     "output_type": "stream",
     "text": [
      "ident('X')  : XRAW\n",
      "ident('WAR'): WARRAW\n"
     ]
    }
   ],
   "source": [
    "# append from the bottom up, successive wrappings\n",
    "@plus('W')\n",
    "@plus('A')\n",
    "@plus('R')\n",
    "def ident(s):\n",
    "    return s\n",
    "\n",
    "print(\"ident('X')  :\", ident('X'))\n",
    "print(\"ident('WAR'):\", ident('WAR'))"
   ]
  },
  {
   "cell_type": "markdown",
   "metadata": {},
   "source": [
    "Now let's bring Compose into the mix, a decorator class makes our proxies able to compose with one another by means of multiplication. Even powering has been implemented.  We're free to make our target functions composable, in addition to controlling what letters to add."
   ]
  },
  {
   "cell_type": "code",
   "execution_count": 3,
   "metadata": {
    "collapsed": false
   },
   "outputs": [],
   "source": [
    "class Compose:\n",
    "    \"\"\"\n",
    "    make function composible with multiply\n",
    "    also make self powerable e.g. f ** 3 == f * f * f\n",
    "    From: https://repl.it/@kurner\n",
    "    \"\"\"\n",
    "\n",
    "    def __init__(self, f):\n",
    "        self.func = f\n",
    "\n",
    "    def __mul__(self, other):\n",
    "        return Compose(lambda x: self(other(x)))\n",
    "\n",
    "    def __pow__(self, n):\n",
    "        if n == 0:\n",
    "            return Compose(lambda x: x) # identity function\n",
    "        if n == 1:\n",
    "            return self\n",
    "        if n > 1:\n",
    "            me = self\n",
    "            for _ in range(n-1):\n",
    "                me *= self # me times me times me...\n",
    "            return me\n",
    "    \n",
    "    def __call__(self, x): # callable instances\n",
    "        return self.func(x)"
   ]
  },
  {
   "cell_type": "code",
   "execution_count": 4,
   "metadata": {
    "collapsed": false
   },
   "outputs": [
    {
     "data": {
      "text/plain": [
       "'XRAWRAWRAW'"
      ]
     },
     "execution_count": 4,
     "metadata": {},
     "output_type": "execute_result"
    }
   ],
   "source": [
    "@Compose\n",
    "@plus('W')\n",
    "@plus('A')\n",
    "@plus('R')\n",
    "def ident(s):\n",
    "    return s\n",
    "\n",
    "H = ident ** 3\n",
    "H('X')"
   ]
  },
  {
   "cell_type": "code",
   "execution_count": 5,
   "metadata": {
    "collapsed": false
   },
   "outputs": [
    {
     "data": {
      "text/plain": [
       "'PYTHONHONPYT'"
      ]
     },
     "execution_count": 5,
     "metadata": {},
     "output_type": "execute_result"
    }
   ],
   "source": [
    "@Compose\n",
    "@plus('T')\n",
    "@plus('Y')\n",
    "@plus('P')\n",
    "def F(s):\n",
    "    return s\n",
    "\n",
    "@Compose\n",
    "@plus('N')\n",
    "@plus('O')\n",
    "@plus('H')\n",
    "def G(s):\n",
    "    return s\n",
    "\n",
    "H = F * G * G * F\n",
    "H('')"
   ]
  },
  {
   "cell_type": "code",
   "execution_count": 6,
   "metadata": {
    "collapsed": false
   },
   "outputs": [
    {
     "data": {
      "text/plain": [
       "'LETS DO ANOTHER EXPERIMENT!'"
      ]
     },
     "execution_count": 6,
     "metadata": {},
     "output_type": "execute_result"
    }
   ],
   "source": [
    "@plus('EXPERIMENT!')\n",
    "@plus('ANOTHER ')\n",
    "@plus('DO ')\n",
    "@plus('LETS ')\n",
    "def ident(s): return s\n",
    "\n",
    "ident('')"
   ]
  }
 ],
 "metadata": {
  "kernelspec": {
   "display_name": "Python 3",
   "language": "python",
   "name": "python3"
  },
  "language_info": {
   "codemirror_mode": {
    "name": "ipython",
    "version": 3
   },
   "file_extension": ".py",
   "mimetype": "text/x-python",
   "name": "python",
   "nbconvert_exporter": "python",
   "pygments_lexer": "ipython3",
   "version": "3.6.0"
  }
 },
 "nbformat": 4,
 "nbformat_minor": 2
}
