{
 "cells": [
  {
   "cell_type": "markdown",
   "metadata": {},
   "source": [
    "[Oregon Curriculum Network](http://www.4dsolutions.net/ocn) <br />\n",
    "[Discovering Math with Python](Introduction.ipynb)\n",
    "\n",
    "\n",
    "## LAB:  Sieve of Eratosthenes\n",
    "\n",
    "<a data-flickr-embed=\"true\"  href=\"https://www.flickr.com/photos/kirbyurner/23595014708/in/dateposted-public/\" title=\"Sieve of Eratosthenes\"><img src=\"https://farm5.staticflickr.com/4472/23595014708_9f47f9f0c7.jpg\" width=\"462\" height=\"500\" alt=\"Sieve of Eratosthenes\"></a><script async src=\"//embedr.flickr.com/assets/client-code.js\" charset=\"utf-8\"></script>\n",
    "\n",
    "The end goal is to verify the included program is getting all the primes it should be.  \n",
    "\n",
    "To this end, primes_file.txt contains the first 10,000 prime numbers, up to over 104,000.\n",
    "\n",
    "First, lets see how we read in the file and turn it into a simple Python list, of primes only. This published list came from [The Prime Pages](http://primes.utm.edu/)."
   ]
  },
  {
   "cell_type": "code",
   "execution_count": null,
   "metadata": {},
   "outputs": [],
   "source": [
    "from IPython.display import YouTubeVideo\n",
    "YouTubeVideo('V08g_lkKj6Q')"
   ]
  },
  {
   "cell_type": "code",
   "execution_count": null,
   "metadata": {
    "collapsed": true
   },
   "outputs": [],
   "source": [
    "with open(\"primes_file.txt\", \"r\") as primes:\n",
    "    output = []\n",
    "    for line in primes.readlines()[3:]: # skip first 4 lines\n",
    "        if line.strip() == 'end.':\n",
    "            break\n",
    "        for column in line.split():\n",
    "            num = int(column.strip())\n",
    "            output.append(num)    "
   ]
  },
  {
   "cell_type": "markdown",
   "metadata": {},
   "source": [
    "*output* will be global since the above cell is run top level, not inside the scope of a function.  Checking the last few entries below, to confirm everything worked:"
   ]
  },
  {
   "cell_type": "code",
   "execution_count": null,
   "metadata": {},
   "outputs": [],
   "source": [
    "# verify we have the data we want\n",
    "print(output[0:10]) # first 10\n",
    "print(output[-10: -1]) # last 10"
   ]
  },
  {
   "cell_type": "markdown",
   "metadata": {},
   "source": [
    "So far I'm feeling pretty good about this one.  \n",
    "\n",
    "Lets check on primes to 1000.  Up to 100,000 is left as an exercise to the more committed."
   ]
  },
  {
   "cell_type": "code",
   "execution_count": null,
   "metadata": {},
   "outputs": [],
   "source": [
    "from math import sqrt as root2, floor\n",
    "\n",
    "def eratosthenes(n):\n",
    "    the_max = floor(root2(n))\n",
    "    sieve = list(range(0, n+1))\n",
    "    eliminator = 2\n",
    "    while True:\n",
    "        if eliminator > the_max:\n",
    "            break\n",
    "        print(\"Eliminating multiples of:\", eliminator)\n",
    "        for k in range(2 * eliminator, n + 1, eliminator):\n",
    "            sieve[k] = 0\n",
    "        while sieve[eliminator + 1] == 0:\n",
    "            eliminator += 1\n",
    "        else:\n",
    "            eliminator = sieve[eliminator + 1]\n",
    "        \n",
    "    # shrink me down (compact the sieve)    \n",
    "    sieve = [n for n in sieve if n != 0][1:]  # list comprehension!\n",
    "    return sieve\n",
    "\n",
    "output = eratosthenes(1000)"
   ]
  },
  {
   "cell_type": "markdown",
   "metadata": {},
   "source": [
    "Now we're interested in checking our list against the elements obtained from primes_file.txt, up to and including our largest prime.  \n",
    "\n",
    "We may simply count the primes we have, chop off that many from *output* and perform and equality test..."
   ]
  },
  {
   "cell_type": "code",
   "execution_count": null,
   "metadata": {},
   "outputs": [],
   "source": [
    "how_many = len(output)\n",
    "check_list = output[:how_many]  # get as many from the published pool as are in the sieve\n",
    "print(output == check_list)     # check for equality"
   ]
  },
  {
   "cell_type": "markdown",
   "metadata": {},
   "source": [
    "Below is a screen shot of what the sieve algorithm looks like on the Codesters development platform, used with 5th and 6th graders in some schools.  You may actually run the code in Codesters by visiting [this link](https://www.codesters.com/preview/efa131bd8f0b43d0a25e22f37c729c9b/).\n",
    "\n",
    "<a data-flickr-embed=\"true\"  href=\"https://www.flickr.com/photos/kirbyurner/36783001573/in/dateposted-public/\" title=\"Codesters | Sieve of Erastosthenes\"><img src=\"https://farm5.staticflickr.com/4468/36783001573_2313c48b31.jpg\" width=\"500\" height=\"303\" alt=\"Codesters | Sieve of Erastosthenes\"></a><script async src=\"//embedr.flickr.com/assets/client-code.js\" charset=\"utf-8\"></script>"
   ]
  }
 ],
 "metadata": {
  "kernelspec": {
   "display_name": "Python 3",
   "language": "python",
   "name": "python3"
  },
  "language_info": {
   "codemirror_mode": {
    "name": "ipython",
    "version": 3
   },
   "file_extension": ".py",
   "mimetype": "text/x-python",
   "name": "python",
   "nbconvert_exporter": "python",
   "pygments_lexer": "ipython3",
   "version": "3.6.1"
  }
 },
 "nbformat": 4,
 "nbformat_minor": 2
}
