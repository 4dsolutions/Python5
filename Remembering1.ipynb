{
 "cells": [
  {
   "cell_type": "markdown",
   "metadata": {},
   "source": [
    "<h3>Remembering Python...</h3>\n",
    "\n",
    "Python boots up with __builtins__ already in the namespace and checked as a part of the name resolution protocol..."
   ]
  },
  {
   "cell_type": "code",
   "execution_count": 3,
   "metadata": {
    "collapsed": false
   },
   "outputs": [
    {
     "name": "stdout",
     "output_type": "stream",
     "text": [
      "['ArithmeticError', 'AssertionError', 'AttributeError', 'BaseException', 'BlockingIOError', 'BrokenPipeError', 'BufferError', 'BytesWarning', 'ChildProcessError', 'ConnectionAbortedError', 'ConnectionError', 'ConnectionRefusedError', 'ConnectionResetError', 'DeprecationWarning', 'EOFError', 'Ellipsis', 'EnvironmentError', 'Exception', 'False', 'FileExistsError', 'FileNotFoundError', 'FloatingPointError', 'FutureWarning', 'GeneratorExit', 'IOError', 'ImportError', 'ImportWarning', 'IndentationError', 'IndexError', 'InterruptedError', 'IsADirectoryError', 'KeyError', 'KeyboardInterrupt', 'LookupError', 'MemoryError', 'NameError', 'None', 'NotADirectoryError', 'NotImplemented', 'NotImplementedError', 'OSError', 'OverflowError', 'PendingDeprecationWarning', 'PermissionError', 'ProcessLookupError', 'RecursionError', 'ReferenceError', 'ResourceWarning', 'RuntimeError', 'RuntimeWarning', 'StopAsyncIteration', 'StopIteration', 'SyntaxError', 'SyntaxWarning', 'SystemError', 'SystemExit', 'TabError', 'TimeoutError', 'True', 'TypeError', 'UnboundLocalError', 'UnicodeDecodeError', 'UnicodeEncodeError', 'UnicodeError', 'UnicodeTranslateError', 'UnicodeWarning', 'UserWarning', 'ValueError', 'Warning', 'ZeroDivisionError', '__IPYTHON__', '__IPYTHON__active', '__build_class__', '__debug__', '__doc__', '__import__', '__loader__', '__name__', '__package__', '__spec__', 'abs', 'all', 'any', 'ascii', 'bin', 'bool', 'bytearray', 'bytes', 'callable', 'chr', 'classmethod', 'compile', 'complex', 'copyright', 'credits', 'delattr', 'dict', 'dir', 'divmod', 'dreload', 'enumerate', 'eval', 'exec', 'filter', 'float', 'format', 'frozenset', 'get_ipython', 'getattr', 'globals', 'hasattr', 'hash', 'help', 'hex', 'id', 'input', 'int', 'isinstance', 'issubclass', 'iter', 'len', 'license', 'list', 'locals', 'map', 'max', 'memoryview', 'min', 'next', 'object', 'oct', 'open', 'ord', 'pow', 'print', 'property', 'range', 'repr', 'reversed', 'round', 'set', 'setattr', 'slice', 'sorted', 'staticmethod', 'str', 'sum', 'super', 'tuple', 'type', 'vars', 'zip']\n"
     ]
    }
   ],
   "source": [
    "\n",
    "# I, Python am built from types, such as builtin types:\n",
    "\n",
    "the_builtins = dir(__builtins__) # always here\n",
    "\n",
    "print(the_builtins)  # no need to import"
   ]
  },
  {
   "cell_type": "markdown",
   "metadata": {},
   "source": [
    "Lets check our understanding that the native types we count on to build more complex types, live in __builtins__:"
   ]
  },
  {
   "cell_type": "code",
   "execution_count": 4,
   "metadata": {
    "collapsed": false
   },
   "outputs": [
    {
     "name": "stdout",
     "output_type": "stream",
     "text": [
      "No, I'm not native:  Decimal\n",
      "Yes I am a native type:  list\n",
      "Yes I am a native type:  tuple\n",
      "Yes I am a native type:  dict\n",
      "Yes I am a native type:  int\n",
      "No, I'm not native:  Fraction\n",
      "Yes I am a native type:  float\n"
     ]
    }
   ],
   "source": [
    "for the_string in [\"Decimal\", \"list\", \"tuple\", \"dict\", \"int\", \"Fraction\", \"float\"]:\n",
    "    if the_string in the_builtins:\n",
    "        print(\"Yes I am a native type: \", the_string)\n",
    "        assert type(eval(the_string)) == type # all types in this club\n",
    "    else:\n",
    "        print(\"No, I'm not native: \", the_string)\n",
    "\n",
    "# usually up top\n",
    "from string import ascii_lowercase as all_lowers\n",
    "from random import shuffle"
   ]
  },
  {
   "cell_type": "markdown",
   "metadata": {},
   "source": [
    "And now for something completely different, lets define a class that does substitution based on a permutation of lower-case ascii letters plus space.  Such a type is given more substantial implementation in the form of our Px class, which allows permutations to multiply, giving more permuations."
   ]
  },
  {
   "cell_type": "code",
   "execution_count": 6,
   "metadata": {
    "collapsed": false
   },
   "outputs": [
    {
     "name": "stdout",
     "output_type": "stream",
     "text": [
      "able was i ere i saw elba\n",
      "hspkyghuylykikylyuhgykpsh\n",
      "able was i ere i saw elba\n"
     ]
    }
   ],
   "source": [
    "# usually up top\n",
    "from string import ascii_lowercase as all_lowers\n",
    "from random import shuffle\n",
    "\n",
    "class P:\n",
    "    \"\"\"\n",
    "    class Px is the more sophisticated version of this class\n",
    "    \"\"\"\n",
    "    def __init__(self, p=None):\n",
    "        if not p:\n",
    "            original = all_lowers + ' '\n",
    "            scrambled = list(original)\n",
    "            shuffle(scrambled)            \n",
    "            self.perm = dict(zip(original, scrambled))\n",
    "        else:\n",
    "            self.perm = p\n",
    "        \n",
    "    def __invert__(self):\n",
    "        \"\"\"reverse my perm, make a new me\"\"\"\n",
    "        reverse = dict(zip(self.perm.values(), self.perm.keys()))\n",
    "        return P(reverse)  # <-- new P instance\n",
    "        \n",
    "    def encrypt(self, s):\n",
    "        output = \"\"\n",
    "        for c in s:\n",
    "            output += self.perm[c]\n",
    "        return output\n",
    "            \n",
    "    def decrypt(self, s):\n",
    "        rev = ~self  # <-- new P instance\n",
    "        return rev.encrypt(s) # <-- symmetric key\n",
    "\n",
    "     \n",
    "p = P()\n",
    "m = \"able was i ere i saw elba\"\n",
    "c = p.encrypt(m)\n",
    "print(m)  # plaintext\n",
    "print(c)  # ciphertext\n",
    "d = p.decrypt(c)\n",
    "print(d)"
   ]
  },
  {
   "cell_type": "code",
   "execution_count": null,
   "metadata": {
    "collapsed": true
   },
   "outputs": [],
   "source": []
  }
 ],
 "metadata": {
  "kernelspec": {
   "display_name": "Python 3",
   "language": "python",
   "name": "python3"
  },
  "language_info": {
   "codemirror_mode": {
    "name": "ipython",
    "version": 3
   },
   "file_extension": ".py",
   "mimetype": "text/x-python",
   "name": "python",
   "nbconvert_exporter": "python",
   "pygments_lexer": "ipython3",
   "version": "3.5.1"
  }
 },
 "nbformat": 4,
 "nbformat_minor": 0
}
