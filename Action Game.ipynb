{
 "cells": [
  {
   "cell_type": "markdown",
   "metadata": {},
   "source": [
    "### Welcome to Game of Heroes\n"
   ]
  },
  {
   "cell_type": "code",
   "execution_count": 1,
   "metadata": {
    "collapsed": true
   },
   "outputs": [],
   "source": [
    "from random import choice\n",
    "\n",
    "class Action_Player:\n",
    "    how_many = {\"Monsters\":0, \"Heros\":0}\n",
    "\n",
    "    def __init__(self, name, species, fav_food):\n",
    "        self.name = name\n",
    "        self.species = species\n",
    "        self.fav_food = fav_food\n",
    "        self.stomach = [ ]\n",
    "        if species == \"Monster\":\n",
    "            self.how_many[\"Monsters\"] += 1\n",
    "        else:\n",
    "            self.how_many[\"Heros\"] += 1            \n",
    "\n",
    "    def do_trick(self):\n",
    "        if len(self.stomach) == 0:\n",
    "            print(\"Sorry, I'm too hungry to do tricks\")\n",
    "        else:            \n",
    "            print(\"Look at me, {}!  I'm {}!\".format(self.name, \n",
    "                                      choice(self.tricks)))\n",
    "            self.stomach.pop(0)\n",
    "        \n",
    "    def __str__(self):\n",
    "        return \"Hi!  My name is {}\".format(self.name)\n",
    "                \n",
    "    def __call__(self, food):\n",
    "        if food == self.fav_food:\n",
    "            print(\"Yummy, that's my favorite\")\n",
    "        else:\n",
    "            print(\"OK, but that's not a\", self.fav_food)\n",
    "        self.stomach.append(food)\n",
    "    \n",
    "    def version():\n",
    "        return \"This is Verion 0.1a\"\n",
    "    version = staticmethod(version)\n",
    "    \n",
    "    def created(cls):\n",
    "        \"\"\"\n",
    "        if cls.__name__ is Hero, how many heros?\n",
    "        if cls.__name__ is Monster, how many monsters?\n",
    "        if cls.__name__ is Action_Player, how many players?\n",
    "        \"\"\"\n",
    "        # debugging help\n",
    "        print(\"Created:\", cls.__name__)\n",
    "        \n",
    "    created = classmethod(created)\n",
    "\n",
    "class Monster(Action_Player):\n",
    "\n",
    "    tricks = [\"imprisoning princess\", \"slaying hero\"]\n",
    "\n",
    "    def add_trick(cls, trick):\n",
    "        cls.tricks.append(trick)\n",
    "    add_trick = classmethod(add_trick)\n",
    "\n",
    "    def show_tricks(cls):\n",
    "        return \"My tricks: {}\".format(cls.tricks)\n",
    "    show_tricks = classmethod(show_tricks)\n",
    "        \n",
    "    def __init__(self, name, fav_food):\n",
    "        super().__init__(name, \"Monster\", fav_food)\n",
    "    \n",
    "    def __repr__(self):\n",
    "        return \"Monster(name={})\".format(self.name)\n",
    "        \n",
    "class Hero(Action_Player):\n",
    "    \n",
    "    tricks = [\"rescuing princess\", \"slaying dragon\"]\n",
    "\n",
    "    def add_trick(cls, trick):\n",
    "        cls.tricks.append(trick)\n",
    "    add_trick = classmethod(add_trick)\n",
    "\n",
    "    def show_tricks(cls):\n",
    "        return \"My tricks: {}\".format(cls.tricks)\n",
    "    show_tricks = classmethod(show_tricks)\n",
    "    \n",
    "    def __init__(self, name, fav_food):\n",
    "        super().__init__(name, \"Hero\", fav_food)\n",
    "        \n",
    "    def __repr__(self):\n",
    "        return \"Hero(name={})\".format(self.name)\n"
   ]
  },
  {
   "cell_type": "markdown",
   "metadata": {},
   "source": [
    "Now that I've defined by classes, it's time to give them a workout."
   ]
  },
  {
   "cell_type": "code",
   "execution_count": 2,
   "metadata": {
    "collapsed": false
   },
   "outputs": [
    {
     "name": "stdout",
     "output_type": "stream",
     "text": [
      "Hi!  My name is Frodo\n",
      "Hero(name=Frodo)\n",
      "Yummy, that's my favorite\n",
      "My tricks: ['rescuing princess', 'slaying dragon', 'finding treasure']\n",
      "Look at me, Frodo!  I'm slaying dragon!\n",
      "----\n",
      "Hi!  My name is Gollum\n",
      "Monster(name=Gollum)\n",
      "OK, but that's not a worms\n",
      "My tricks: ['imprisoning princess', 'slaying hero', 'finding worms']\n",
      "Look at me, Gollum!  I'm slaying hero!\n",
      "Sorry, I'm too hungry to do tricks\n"
     ]
    }
   ],
   "source": [
    "    frodo = Hero(\"Frodo\", \"wine\")\n",
    "    hero1 = Hero(\"Sam\", \"wine\")\n",
    "    hero2 = Hero(\"Gandalf\", \"wine\")\n",
    "    hero3 = Hero(\"Pippin\", \"wine\")\n",
    "    hero4 = Hero(\"Strider\", \"wine\")\n",
    "    hero5 = Hero(\"Bilbo\", \"wine\")    \n",
    "    print(frodo)\n",
    "    print(repr(frodo))\n",
    "    frodo(\"wine\")\n",
    "    frodo.add_trick(\"finding treasure\") \n",
    "    print(frodo.show_tricks())\n",
    "    frodo.do_trick()  \n",
    "\n",
    "    print(\"----\")\n",
    "    \n",
    "    gollum = Monster(\"Gollum\", \"worms\")\n",
    "    print(gollum)\n",
    "    print(repr(gollum))    \n",
    "    gollum(\"wine\")\n",
    "    gollum.add_trick(\"finding worms\") \n",
    "    print(gollum.show_tricks())\n",
    "    gollum.do_trick()\n",
    "    gollum.do_trick()"
   ]
  },
  {
   "cell_type": "code",
   "execution_count": null,
   "metadata": {
    "collapsed": true
   },
   "outputs": [],
   "source": []
  }
 ],
 "metadata": {
  "kernelspec": {
   "display_name": "Python 3",
   "language": "python",
   "name": "python3"
  },
  "language_info": {
   "codemirror_mode": {
    "name": "ipython",
    "version": 3
   },
   "file_extension": ".py",
   "mimetype": "text/x-python",
   "name": "python",
   "nbconvert_exporter": "python",
   "pygments_lexer": "ipython3",
   "version": "3.5.1"
  },
  "widgets": {
   "state": {},
   "version": "1.1.2"
  }
 },
 "nbformat": 4,
 "nbformat_minor": 0
}
