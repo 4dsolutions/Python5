{
 "cells": [
  {
   "cell_type": "markdown",
   "metadata": {},
   "source": [
    "# SAISOFT PYT-PR:  Session 10\n",
    "\n",
    "### Django, the web framework, uses Regular Expressions\n",
    "\n",
    "Below we see how Python names a matched group, possibly less than the full match.\n",
    "\n",
    "[Regex101.com](http://regex101.com) is a useful sandbox for practicing with [Regular Expressions](https://en.wikipedia.org/wiki/Regular_expression), once you learn what they are and roughly what they're good for.\n",
    "\n",
    "Here we are practicing in Spyder, doing one of the exercises.  Remember?\n",
    "\n",
    "![regexes](session09_regex_django.jpg)\n",
    "\n",
    "<br />\n",
    "\n",
    "Django dispatches incoming URL requests to views, by matching regexes, perhaps extracting a group, and passing the argument on to a corresponding view.\n",
    "\n",
    "I tend to use similar or identical flat file data sets across implementations, both to keep it simple and to facilitate comparing and contrasting the frameworks.\n",
    "\n",
    "![urls.py](django_urls_py.jpg)\n",
    "\n",
    "<br />\n",
    "\n",
    "Django views may not have to use any SQL directly as the Object Relational Mapper (ORM) allows a more Pythonic way of interacting with the data.\n",
    "\n",
    "Keep in mind that Django, as well as other frameworks, also provide a bridge to [NoSQL](https://en.wikipedia.org/wiki/NoSQL) data stores, [such as MongoDB](https://django-mongodb-engine.readthedocs.io/en/latest/).\n",
    "\n",
    "![views.py](django_views.jpg)\n",
    "\n",
    "<br />\n",
    "\n",
    "The tables have all been meticulously described to Django, allowing it to assist in many ways, including with data migrations should structures change.\n",
    "\n",
    "![models.py](django_models.jpg)\n",
    "\n",
    "\n",
    "[Flask](http://flask.pocoo.org/) is not that different in terms of supplying a Model-View-Controller architecture.  However Flask uses ```@app.router``` decorator syntax to pair URLs with corresponding View functions.\n",
    "\n",
    "We have looked at both Flask and [Django](https://www.djangoproject.com/) applications in this course, with opportunities to run them locally provided the necessary dependencies have been installed.  Both are available to the conda installer.\n",
    "\n",
    "[Web2py](http://www.web2py.com/) is another open source website development framework you may want to try.  Keep alert for new options.  The Python Ecosystem remains dynamic!\n",
    "\n",
    "### The Future\n",
    "\n",
    "At the cutting edge of current technology, especially in the open source sphere, is [the Python GIS stack](https://github.com/4dsolutions/Python5/blob/master/PYT_DS_SAISOFT_MPL_02.ipynb).  This includes:\n",
    "\n",
    "* geopandas : like pandas but with geometry added (use a clean Anaconda environment)\n",
    "* Geodjango : handles geometry in the models (extends regular django)\n",
    "* PostGIS   : an open source database with GIS extensions (other options available)\n",
    "\n",
    "### LAB:\n",
    "\n",
    "Turn the above three bulleted items into live links to home pages for the respective technologies.  Practice with Markdown!"
   ]
  }
 ],
 "metadata": {
  "kernelspec": {
   "display_name": "Python 3",
   "language": "python",
   "name": "python3"
  },
  "language_info": {
   "codemirror_mode": {
    "name": "ipython",
    "version": 3
   },
   "file_extension": ".py",
   "mimetype": "text/x-python",
   "name": "python",
   "nbconvert_exporter": "python",
   "pygments_lexer": "ipython3",
   "version": "3.6.4"
  }
 },
 "nbformat": 4,
 "nbformat_minor": 2
}
