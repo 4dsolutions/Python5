{
 "cells": [
  {
   "cell_type": "markdown",
   "metadata": {},
   "source": [
    "[Oregon Curriculum Network](http://www.4dsolutions.net/ocn) <br />\n",
    "[Discovering Math with Python](Introduction.ipynb)\n",
    "\n",
    "\n",
    "# Chapter 6: VECTORS IN SPACE\n",
    "\n",
    "A point vector is simply an object that points, from the origin to a specific location. We usually represent such an object with an arrow, with its tail at (0,0) or whatever, and its head at (x,y).\n",
    "\n",
    "Rather that pursue Flatland geometry as an end in itself, we will start right away in spatial geometry, showing two classes of vector, one typical, the other somewhat exotic."
   ]
  },
  {
   "cell_type": "code",
   "execution_count": 1,
   "metadata": {
    "collapsed": true
   },
   "outputs": [],
   "source": [
    "class Vector:\n",
    "    \"A point in space\"\n",
    "    pass"
   ]
  },
  {
   "cell_type": "markdown",
   "metadata": {},
   "source": [
    "We're going to want to see our vectors rendered in some way.  Visual Python, or VPython, provides an excellent solution.  However, we're going to stay with still ray tracings in this Chapter and work with [POV-Ray](http://www.povray.org).\n",
    "\n",
    "Our goal is to build up a data structure for representing a full-fledge polyhedron, a network of edges, connecting around in faces, floating about the origin.  We'll use point vectors for the vertexes, pairs of vectors for the edges, and sets of three or more vectors for the faces.  Indeed, given faces as clockwise or counterclockwise listings, we can \"distill\" the edges by going around each face and getting the vertex vector pairs."
   ]
  },
  {
   "cell_type": "code",
   "execution_count": 4,
   "metadata": {
    "collapsed": true
   },
   "outputs": [],
   "source": [
    "class Edge:\n",
    "    \"A pair of vectors\"\n",
    "    pass\n",
    "\n",
    "class Face:\n",
    "    \"A set of vectors in clockwise or counter-clockwise order\"\n",
    "    pass\n",
    "\n",
    "class Polyhedron:\n",
    "    \"A set of faces\"\n",
    "    pass"
   ]
  },
  {
   "cell_type": "markdown",
   "metadata": {},
   "source": [
    "In this Chapter, we focus on developing a Vector class.\n",
    "\n",
    "Back to Chapter 5: [Public Key Cryptography](Public Key Cryptography.ipynb) <br />\n",
    "Continue to Chapter 7: [Polyhedrons](Polyhedrons.ipynb) <br />\n",
    "[Introduction / Table of Contents](Introduction.ipynb)"
   ]
  }
 ],
 "metadata": {
  "kernelspec": {
   "display_name": "Python 3",
   "language": "python",
   "name": "python3"
  },
  "language_info": {
   "codemirror_mode": {
    "name": "ipython",
    "version": 3
   },
   "file_extension": ".py",
   "mimetype": "text/x-python",
   "name": "python",
   "nbconvert_exporter": "python",
   "pygments_lexer": "ipython3",
   "version": "3.6.8"
  }
 },
 "nbformat": 4,
 "nbformat_minor": 2
}
