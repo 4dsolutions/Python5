{
 "cells": [
  {
   "cell_type": "markdown",
   "metadata": {},
   "source": [
    "# Central Angles of the E-Module\n",
    "\n",
    "#### By David Koski (trig) & Kirby Urner (python)\n",
    " \n",
    "![E mod](http://www.rwgrayprojects.com/synergetics/s09/figs/f86411b.gif)\n",
    "\n",
    "The above [Fig. 986.411B](http://www.rwgrayprojects.com/synergetics/s09/figs/f86411b.html) shows the \"plane net\" or template for an E or T module.  \n",
    "\n",
    "If you cut it out with scissors and fold it up, reversing the lid (have to slice it off), you'll get a tetrahedron.  You can fold it up in two ways, creasing towards you or away from you.  \n",
    "\n",
    "A & B modules, used to assemble other shapes, also come with plane nets and fold the same two ways, into \"left\" and \"right\".  You can call them \"congruent\" but don't forget they're mirror images or inside-out versions of one another.\n",
    "\n",
    "The T & E modules have the same angles.  120 Ts (60 left, 60 right) build a Rhombic Triacontahedron of tetravolume 5, whereas 120 Es build a Rhombic Triacontahedron of radius 1. \n",
    "\n",
    "The Tmod RT has a slightly shorter radius of ~0.9994 versus 1.0.  Its volume is therefore a bit less as well.\n",
    "\n",
    "Here's [Fig. 986.419] from Buckminster Fuller's *Synergetics*:\n",
    "\n",
    "![T mod](http://www.rwgrayprojects.com/synergetics/s09/figs/f86419.gif)\n",
    "\n",
    "[Fig. 986.419]: http://www.rwgrayprojects.com/synergetics/s09/figs/f86419.html\n",
    "\n",
    "Per David Koski's research, we an use the arctangent function to express angles using expressions involving the golden ratio or Phi (Greek letter: Ø).\n",
    "\n",
    "The central angles are at the center of the Rhombic Triacontahedron, where three vectors radiate towards the surface, forming three angles with one another.  In this Notebook, we see how smaller angles may be used to define bigger ones.\n",
    "\n",
    "<pre>\n",
    "The three central angles of the E module are:\n",
    "a = 31.717474411º\n",
    "b = 37.377368140º\n",
    "c = 20.905157447º\n",
    "these three sum to 90º\n",
    "</pre>\n",
    "\n",
    "With the help of two smaller angles, d and e, we can build a and b.\n",
    "\n",
    "<pre>\n",
    "d = 13.282525588º\n",
    "e = 10.812316963º\n",
    "a = c + e\n",
    "b = 2d + e\n",
    "</pre>\n",
    "\n",
    "And with still smaller angles, we can build d and e, also c:\n",
    "\n",
    "<pre>\n",
    "Now we introduce three even smaller angles, f and g:\n",
    "f = 7.622631859º\n",
    "g = 5.659893729º\n",
    "h = 5.152423234º\n",
    "\n",
    "c = 2f + g\n",
    "d = f + g\n",
    "e = g + h\n",
    "</pre>\n",
    "\n",
    "In sum, f and g will build all the angles so far:\n",
    "\n",
    "<pre>\n",
    "a = 2f + 2g + h\n",
    "b = 2f + 3g + h\n",
    "c = 2f + g\n",
    "</pre>\n",
    "\n",
    "Here are all of the eight angles in terms of the arctangent of a \"phi expression\":\n",
    "\n",
    "<pre>\n",
    "a = 31.717474º  = arctan(Ø^-1)       = arctan(0.618034)\n",
    "b = 37.377368º  = arctan(2Ø^-2)      = arctan(0.763932)\n",
    "c = 20.905157º  = arctan(Ø^-2)       = arctan(0.381966)\n",
    "d = 13.282525º  = arctan(Ø^-3)       = arctan(0.236068)\n",
    "e = 10.812316º  = arctan(Ø^-2/2)     = arctan(0.190983)\n",
    "f = 7.622631º   = arctan((2√5-3)/11) = arctan(0.133830)\n",
    "g = 5.659893º   = arctan((5√5-9)/22) = arctan(0.099106)\n",
    "h = 5.152423º   = arctan(Ø^-5)       = arctan(0.090169)\n",
    "</pre>\n",
    "\n",
    "As a prelude to getting some work done, lets import some tools familiar to most Pythonistas.  These are likewise \"namepaces\" e.g inside of numpy we find a collection of names.  These names have \"powers\" in the sense of capabilities, as well as \"attributes\" (as in properties)."
   ]
  },
  {
   "cell_type": "code",
   "execution_count": 1,
   "metadata": {},
   "outputs": [],
   "source": [
    "import numpy as np\n",
    "import pandas as pd\n",
    "from math import atan, tan, degrees, radians, sqrt"
   ]
  },
  {
   "cell_type": "markdown",
   "metadata": {},
   "source": [
    "We say \"square\" root (in quotes) because in *Synergetics* we may want to use a triangular area to show the same idea.  Two edges A, B at 60 degrees multiply to give an area A times B.  Just add the 3rd vector (A-B) to \"close the lid\".  The same technique applies to multiplying A times B times C:  three vectors from an origin, at 60 degrees to one another, define a tetrahedron.  \"Close the lid\" to get the corresponding volume.\n",
    "\n",
    "Here's another figure, [Fig. 990.01] from *Synergetics* to help make sense of this idea.  \n",
    "\n",
    "![Fig. 990.01](http://www.rwgrayprojects.com/synergetics/s09/figs/f9001.gif)\n",
    "\n",
    "[Fig. 990.01]: http://www.rwgrayprojects.com/synergetics/s09/figs/f9001.html\n",
    "\n",
    "It's important to introduce these alternative models of 2nd and 3rd powering because our idea of \"tetravolumes\" derives from there.  \n",
    "\n",
    "As of 2018, very few mathematicians have dared to comment on this 1900s literary innovation within New England Transcendentalism.  \n",
    "\n",
    "Hugh Kenner, a James Joyce scholar, is one of the few to have contributed any secondary literature regarding Fuller's forays into mathematics and logic.  Given how alien this thinking remains, we sometimes refer to it as \"Martian Math\"."
   ]
  },
  {
   "cell_type": "code",
   "execution_count": 2,
   "metadata": {},
   "outputs": [],
   "source": [
    "rt5 = sqrt(5)    # 2nd root of 5 or \"square\" root\n",
    "Ø = (1 + rt5)/2  # golden ratio\n",
    "\n",
    "f = atan((2*rt5 - 3)/11)\n",
    "g = atan((5*rt5 - 9)/22)\n",
    "h = atan(Ø ** -5)"
   ]
  },
  {
   "cell_type": "markdown",
   "metadata": {},
   "source": [
    "Per David's comments above: f, g, h serve as basis angles such that linear combinations thereof net additional angles a-e.\n",
    "\n",
    "<pre>\n",
    "a = 2f + 2g + h\n",
    "b = 2f + 3g + h\n",
    "c = 2f + g\n",
    "d = f + g\n",
    "e = g + h\n",
    "</pre>\n",
    "\n",
    "When it comes to linear combinations, we tend to use \"matrix operations\" and in this case simple integer coefficients do the work.  Create ```[f, g, h]``` as a vertical column vector, and multiply it on the left with a matrix.  For example, in the top row of this matrix we have \n",
    "```[2,2,1]``` meaning we'll get ```2 * f + 2 * g + h``` as the top cell of our 5 by 1 result matrix, or angle a."
   ]
  },
  {
   "cell_type": "code",
   "execution_count": 3,
   "metadata": {},
   "outputs": [
    {
     "data": {
      "text/plain": [
       "array([[0.13304002],\n",
       "       [0.09878378],\n",
       "       [0.08992675]])"
      ]
     },
     "execution_count": 3,
     "metadata": {},
     "output_type": "execute_result"
    }
   ],
   "source": [
    "m = np.array([f, g, h]).reshape(3,1)\n",
    "m"
   ]
  },
  {
   "cell_type": "code",
   "execution_count": 4,
   "metadata": {},
   "outputs": [
    {
     "data": {
      "text/plain": [
       "array([[2, 2, 1],\n",
       "       [2, 3, 1],\n",
       "       [2, 1, 0],\n",
       "       [1, 1, 0],\n",
       "       [0, 1, 1]])"
      ]
     },
     "execution_count": 4,
     "metadata": {},
     "output_type": "execute_result"
    }
   ],
   "source": [
    "coeffs = np.array([[2,2,1],[2,3,1],[2,1,0],[1,1,0],[0,1,1]])\n",
    "coeffs"
   ]
  },
  {
   "cell_type": "code",
   "execution_count": 5,
   "metadata": {},
   "outputs": [
    {
     "data": {
      "text/plain": [
       "array([[0.55357436],\n",
       "       [0.65235814],\n",
       "       [0.36486383],\n",
       "       [0.2318238 ],\n",
       "       [0.18871053]])"
      ]
     },
     "execution_count": 5,
     "metadata": {},
     "output_type": "execute_result"
    }
   ],
   "source": [
    "coeffs.dot(m)"
   ]
  },
  {
   "cell_type": "markdown",
   "metadata": {},
   "source": [
    "In order to use \"parallel assignment\" we may stretch this column vector into a numpy array of shape (5, ), making it akin to an ordinary Python list."
   ]
  },
  {
   "cell_type": "code",
   "execution_count": 6,
   "metadata": {},
   "outputs": [
    {
     "data": {
      "text/plain": [
       "(5,)"
      ]
     },
     "execution_count": 6,
     "metadata": {},
     "output_type": "execute_result"
    }
   ],
   "source": [
    "angles = coeffs.dot(m).ravel()\n",
    "angles.shape"
   ]
  },
  {
   "cell_type": "code",
   "execution_count": 7,
   "metadata": {},
   "outputs": [],
   "source": [
    "a,b,c,d,e = angles  # get the five values"
   ]
  },
  {
   "cell_type": "markdown",
   "metadata": {},
   "source": [
    "Now let's build a 1-d vector this time adding f,g,h on the end.  We will use this numpy ndarray to transition to a pandas Series, very like a column vector yet able to support labels i.e. string indexes."
   ]
  },
  {
   "cell_type": "code",
   "execution_count": 8,
   "metadata": {},
   "outputs": [
    {
     "data": {
      "text/plain": [
       "array([0.55357436, 0.65235814, 0.36486383, 0.2318238 , 0.18871053,\n",
       "       0.13304002, 0.09878378, 0.08992675])"
      ]
     },
     "execution_count": 8,
     "metadata": {},
     "output_type": "execute_result"
    }
   ],
   "source": [
    "vector = np.array([a,b,c,d,e,f,g,h])\n",
    "vector"
   ]
  },
  {
   "cell_type": "code",
   "execution_count": 9,
   "metadata": {},
   "outputs": [],
   "source": [
    "col1 = pd.Series(vector, index=['a','b','c','d','e','f','g','h'])  # note letter indexes"
   ]
  },
  {
   "cell_type": "code",
   "execution_count": 10,
   "metadata": {},
   "outputs": [
    {
     "data": {
      "text/plain": [
       "a    0.553574\n",
       "b    0.652358\n",
       "c    0.364864\n",
       "d    0.231824\n",
       "e    0.188711\n",
       "f    0.133040\n",
       "g    0.098784\n",
       "h    0.089927\n",
       "dtype: float64"
      ]
     },
     "execution_count": 10,
     "metadata": {},
     "output_type": "execute_result"
    }
   ],
   "source": [
    "col1 # a pandas Series"
   ]
  },
  {
   "cell_type": "markdown",
   "metadata": {},
   "source": [
    "We get our arctangent results in radians.  To confirm we getting the right numbers in terms of degrees, lets set up a parallel column.  Numpy operations apply to entire columns or vectors, no need to write a Python loop."
   ]
  },
  {
   "cell_type": "code",
   "execution_count": 11,
   "metadata": {},
   "outputs": [
    {
     "data": {
      "text/plain": [
       "a    31.717474\n",
       "b    37.377368\n",
       "c    20.905157\n",
       "d    13.282526\n",
       "e    10.812317\n",
       "f     7.622632\n",
       "g     5.659894\n",
       "h     5.152423\n",
       "dtype: float64"
      ]
     },
     "execution_count": 11,
     "metadata": {},
     "output_type": "execute_result"
    }
   ],
   "source": [
    "col2 = np.degrees(col1)  # convert radians to degrees\n",
    "col2"
   ]
  },
  {
   "cell_type": "markdown",
   "metadata": {},
   "source": [
    "Now we'll use the pandas ```concat``` function to create a pandas Dataframe.  Since we're expanding along the column axis, not the row axis, we say axis = 1.  Otherwise ```concat``` will try to put the columns on top of one another."
   ]
  },
  {
   "cell_type": "code",
   "execution_count": 12,
   "metadata": {},
   "outputs": [],
   "source": [
    "df = pd.concat([col1, col2], axis=1)  # build a 2-column dataframe"
   ]
  },
  {
   "cell_type": "code",
   "execution_count": 13,
   "metadata": {},
   "outputs": [],
   "source": [
    "df.rename(columns={0: 'Radians', 1: 'Degrees'}, inplace=True) # renaming columns"
   ]
  },
  {
   "cell_type": "code",
   "execution_count": 14,
   "metadata": {},
   "outputs": [
    {
     "data": {
      "text/html": [
       "<div>\n",
       "<style scoped>\n",
       "    .dataframe tbody tr th:only-of-type {\n",
       "        vertical-align: middle;\n",
       "    }\n",
       "\n",
       "    .dataframe tbody tr th {\n",
       "        vertical-align: top;\n",
       "    }\n",
       "\n",
       "    .dataframe thead th {\n",
       "        text-align: right;\n",
       "    }\n",
       "</style>\n",
       "<table border=\"1\" class=\"dataframe\">\n",
       "  <thead>\n",
       "    <tr style=\"text-align: right;\">\n",
       "      <th></th>\n",
       "      <th>Radians</th>\n",
       "      <th>Degrees</th>\n",
       "    </tr>\n",
       "  </thead>\n",
       "  <tbody>\n",
       "    <tr>\n",
       "      <th>a</th>\n",
       "      <td>0.553574</td>\n",
       "      <td>31.717474</td>\n",
       "    </tr>\n",
       "    <tr>\n",
       "      <th>b</th>\n",
       "      <td>0.652358</td>\n",
       "      <td>37.377368</td>\n",
       "    </tr>\n",
       "    <tr>\n",
       "      <th>c</th>\n",
       "      <td>0.364864</td>\n",
       "      <td>20.905157</td>\n",
       "    </tr>\n",
       "    <tr>\n",
       "      <th>d</th>\n",
       "      <td>0.231824</td>\n",
       "      <td>13.282526</td>\n",
       "    </tr>\n",
       "    <tr>\n",
       "      <th>e</th>\n",
       "      <td>0.188711</td>\n",
       "      <td>10.812317</td>\n",
       "    </tr>\n",
       "    <tr>\n",
       "      <th>f</th>\n",
       "      <td>0.133040</td>\n",
       "      <td>7.622632</td>\n",
       "    </tr>\n",
       "    <tr>\n",
       "      <th>g</th>\n",
       "      <td>0.098784</td>\n",
       "      <td>5.659894</td>\n",
       "    </tr>\n",
       "    <tr>\n",
       "      <th>h</th>\n",
       "      <td>0.089927</td>\n",
       "      <td>5.152423</td>\n",
       "    </tr>\n",
       "  </tbody>\n",
       "</table>\n",
       "</div>"
      ],
      "text/plain": [
       "    Radians    Degrees\n",
       "a  0.553574  31.717474\n",
       "b  0.652358  37.377368\n",
       "c  0.364864  20.905157\n",
       "d  0.231824  13.282526\n",
       "e  0.188711  10.812317\n",
       "f  0.133040   7.622632\n",
       "g  0.098784   5.659894\n",
       "h  0.089927   5.152423"
      ]
     },
     "execution_count": 14,
     "metadata": {},
     "output_type": "execute_result"
    }
   ],
   "source": [
    "df"
   ]
  },
  {
   "cell_type": "markdown",
   "metadata": {},
   "source": [
    "Using the Dataframe ```loc``` attribute, and square brackets (for indexing), we may give both row and column lists.  Below we're checking that a, b, c sum to 90 degrees as expected.  If we sum the radians column, we would expect pi/2."
   ]
  },
  {
   "cell_type": "code",
   "execution_count": 15,
   "metadata": {},
   "outputs": [
    {
     "data": {
      "text/plain": [
       "90.00000000000001"
      ]
     },
     "execution_count": 15,
     "metadata": {},
     "output_type": "execute_result"
    }
   ],
   "source": [
    "np.sum(df.loc[['a','b','c'], 'Degrees'])"
   ]
  },
  {
   "cell_type": "code",
   "execution_count": 16,
   "metadata": {},
   "outputs": [
    {
     "data": {
      "text/plain": [
       "1.570796326794897"
      ]
     },
     "execution_count": 16,
     "metadata": {},
     "output_type": "execute_result"
    }
   ],
   "source": [
    "np.sum(df.loc[['a','b','c'], 'Radians'])"
   ]
  },
  {
   "cell_type": "markdown",
   "metadata": {},
   "source": [
    "The arctangent function is the inverse of the tangent function.  Going from the radians column back to some initial argument to arctangent, should give us a final cross-check of our initial phi expressions, derived by David Koski.\n",
    "\n",
    "Here we go then:"
   ]
  },
  {
   "cell_type": "code",
   "execution_count": 17,
   "metadata": {},
   "outputs": [],
   "source": [
    "col0 = np.tan(col1)  # work back from radians"
   ]
  },
  {
   "cell_type": "code",
   "execution_count": 18,
   "metadata": {},
   "outputs": [
    {
     "data": {
      "text/plain": [
       "a    0.618034\n",
       "b    0.763932\n",
       "c    0.381966\n",
       "d    0.236068\n",
       "e    0.190983\n",
       "f    0.133831\n",
       "g    0.099106\n",
       "h    0.090170\n",
       "dtype: float64"
      ]
     },
     "execution_count": 18,
     "metadata": {},
     "output_type": "execute_result"
    }
   ],
   "source": [
    "col0"
   ]
  },
  {
   "cell_type": "markdown",
   "metadata": {},
   "source": [
    "<pre>\n",
    "The arctangents of the 8 angles described above:\n",
    "a = 31.717474º  = arctan(Ø^-1)       = arctan(0.618034)\n",
    "b = 37.377368º  = arctan(2Ø^-2)      = arctan(0.763932)\n",
    "c = 20.905157º  = arctan(Ø^-2)       = arctan(0.381966)\n",
    "d = 13.282525º  = arctan(Ø^-3)       = arctan(0.236068)\n",
    "e = 10.812316º  = arctan(Ø^-2/2)     = arctan(0.190983)\n",
    "f = 7.622631º   = arctan((2√5-3)/11) = arctan(0.133830)\n",
    "g = 5.659893º   = arctan((5√5-9)/22) = arctan(0.099106)\n",
    "h = 5.152423º   = arctan(Ø^-5)       = arctan(0.090169)\n",
    "</pre>"
   ]
  },
  {
   "cell_type": "code",
   "execution_count": 19,
   "metadata": {},
   "outputs": [
    {
     "data": {
      "text/plain": [
       "a    0.618034\n",
       "b    0.763932\n",
       "c    0.381966\n",
       "d    0.236068\n",
       "e    0.190983\n",
       "f    0.133831\n",
       "g    0.099106\n",
       "h    0.090170\n",
       "dtype: float64"
      ]
     },
     "execution_count": 19,
     "metadata": {},
     "output_type": "execute_result"
    }
   ],
   "source": [
    "phi_expr = pd.Series([Ø**-1, 2*Ø**-2, Ø**-2, Ø**-3, \n",
    "                     (Ø**-2)/2,(2*rt5-3)/11, (5*rt5-9)/22, Ø**-5],\n",
    "                    index=['a','b','c','d','e','f','g','h'])\n",
    "phi_expr"
   ]
  },
  {
   "cell_type": "code",
   "execution_count": 20,
   "metadata": {},
   "outputs": [],
   "source": [
    "df = pd.concat([phi_expr, col0, col1, col2], axis=1)"
   ]
  },
  {
   "cell_type": "code",
   "execution_count": 21,
   "metadata": {},
   "outputs": [],
   "source": [
    "df.rename(columns={0: \"Phi Expr\", 1: \"Arctan of...\", 2: 'Radians', 3: 'Degrees'}, inplace=True)"
   ]
  },
  {
   "cell_type": "code",
   "execution_count": 22,
   "metadata": {},
   "outputs": [
    {
     "data": {
      "text/html": [
       "<div>\n",
       "<style scoped>\n",
       "    .dataframe tbody tr th:only-of-type {\n",
       "        vertical-align: middle;\n",
       "    }\n",
       "\n",
       "    .dataframe tbody tr th {\n",
       "        vertical-align: top;\n",
       "    }\n",
       "\n",
       "    .dataframe thead th {\n",
       "        text-align: right;\n",
       "    }\n",
       "</style>\n",
       "<table border=\"1\" class=\"dataframe\">\n",
       "  <thead>\n",
       "    <tr style=\"text-align: right;\">\n",
       "      <th></th>\n",
       "      <th>Phi Expr</th>\n",
       "      <th>Arctan of...</th>\n",
       "      <th>Radians</th>\n",
       "      <th>Degrees</th>\n",
       "    </tr>\n",
       "  </thead>\n",
       "  <tbody>\n",
       "    <tr>\n",
       "      <th>a</th>\n",
       "      <td>0.618034</td>\n",
       "      <td>0.618034</td>\n",
       "      <td>0.553574</td>\n",
       "      <td>31.717474</td>\n",
       "    </tr>\n",
       "    <tr>\n",
       "      <th>b</th>\n",
       "      <td>0.763932</td>\n",
       "      <td>0.763932</td>\n",
       "      <td>0.652358</td>\n",
       "      <td>37.377368</td>\n",
       "    </tr>\n",
       "    <tr>\n",
       "      <th>c</th>\n",
       "      <td>0.381966</td>\n",
       "      <td>0.381966</td>\n",
       "      <td>0.364864</td>\n",
       "      <td>20.905157</td>\n",
       "    </tr>\n",
       "    <tr>\n",
       "      <th>d</th>\n",
       "      <td>0.236068</td>\n",
       "      <td>0.236068</td>\n",
       "      <td>0.231824</td>\n",
       "      <td>13.282526</td>\n",
       "    </tr>\n",
       "    <tr>\n",
       "      <th>e</th>\n",
       "      <td>0.190983</td>\n",
       "      <td>0.190983</td>\n",
       "      <td>0.188711</td>\n",
       "      <td>10.812317</td>\n",
       "    </tr>\n",
       "    <tr>\n",
       "      <th>f</th>\n",
       "      <td>0.133831</td>\n",
       "      <td>0.133831</td>\n",
       "      <td>0.133040</td>\n",
       "      <td>7.622632</td>\n",
       "    </tr>\n",
       "    <tr>\n",
       "      <th>g</th>\n",
       "      <td>0.099106</td>\n",
       "      <td>0.099106</td>\n",
       "      <td>0.098784</td>\n",
       "      <td>5.659894</td>\n",
       "    </tr>\n",
       "    <tr>\n",
       "      <th>h</th>\n",
       "      <td>0.090170</td>\n",
       "      <td>0.090170</td>\n",
       "      <td>0.089927</td>\n",
       "      <td>5.152423</td>\n",
       "    </tr>\n",
       "  </tbody>\n",
       "</table>\n",
       "</div>"
      ],
      "text/plain": [
       "   Phi Expr  Arctan of...   Radians    Degrees\n",
       "a  0.618034      0.618034  0.553574  31.717474\n",
       "b  0.763932      0.763932  0.652358  37.377368\n",
       "c  0.381966      0.381966  0.364864  20.905157\n",
       "d  0.236068      0.236068  0.231824  13.282526\n",
       "e  0.190983      0.190983  0.188711  10.812317\n",
       "f  0.133831      0.133831  0.133040   7.622632\n",
       "g  0.099106      0.099106  0.098784   5.659894\n",
       "h  0.090170      0.090170  0.089927   5.152423"
      ]
     },
     "execution_count": 22,
     "metadata": {},
     "output_type": "execute_result"
    }
   ],
   "source": [
    "df"
   ]
  }
 ],
 "metadata": {
  "kernelspec": {
   "display_name": "Python 3",
   "language": "python",
   "name": "python3"
  },
  "language_info": {
   "codemirror_mode": {
    "name": "ipython",
    "version": 3
   },
   "file_extension": ".py",
   "mimetype": "text/x-python",
   "name": "python",
   "nbconvert_exporter": "python",
   "pygments_lexer": "ipython3",
   "version": "3.6.4"
  }
 },
 "nbformat": 4,
 "nbformat_minor": 2
}
