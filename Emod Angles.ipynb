{
 "cells": [
  {
   "cell_type": "markdown",
   "metadata": {},
   "source": [
    "# Central Angles of the E-Module\n",
    "![E mod](http://www.rwgrayprojects.com/synergetics/s09/figs/f86411b.gif)\n",
    "\n",
    "<div style=\"text-align: center\">\n",
    "[Fig. 986.411B](http://www.rwgrayprojects.com/synergetics/s09/figs/f86411b.html)\n",
    "</div>\n",
    "\n",
    "By:   \n",
    " * David Koski (trig) \n",
    " * Kirby Urner (python)\n",
    "\n",
    "The T & E modules have the same angles.  120 Ts (60 left, 60 right) build a Rhombic Triacontahedron of tetravolume 5, whereas 120 Es build a Rhombic Triacontahedron of radius 1. \n",
    "\n",
    "The Tmod RT has a slightly shorter radius of ~0.9994 versus 1.0.  Its volume is therefore a bit less as well.\n",
    "\n",
    "![T mod](http://www.rwgrayprojects.com/synergetics/s09/figs/f86419.gif)\n",
    "\n",
    "<div style=\"text-align: center\">\n",
    "[Fig. 986.419](http://www.rwgrayprojects.com/synergetics/s09/figs/f86419.html)\n",
    "</div>\n",
    "\n",
    "Per David Koski's research:\n",
    "\n",
    "<pre>\n",
    "The three central angles of the E module are:\n",
    "a = 31.717474411º\n",
    "b = 37.377368140º\n",
    "c = 20.905157447º\n",
    "these three sum to 90º\n",
    "\n",
    "These are broken down into three  angles, one remains the same:\n",
    "c = 20.905157447º\n",
    "d = 13.282525588º\n",
    "e = 10.812316963º\n",
    "c + e = a\n",
    "2d + e = b\n",
    "\n",
    "Now we introduce three even smaller angles:\n",
    "f = 7.622631859º\n",
    "g = 5.659893729º\n",
    "h = 5.152423234º\n",
    "g + h = e\n",
    "f + g = d\n",
    "2f + g = c\n",
    "\n",
    "It follows that:\n",
    "a = 2f + 2g + h\n",
    "b = 2f + 3g + h\n",
    "c = 2f + g\n",
    "\n",
    "The arctangents of the 8 angles described above:\n",
    "a = 31.717474º  = arctan(Ø^-1)       = arctan(0.618034)\n",
    "b = 37.377368º  = arctan(2Ø^-2)      = arctan(0.763932)\n",
    "c = 20.905157º  = arctan(Ø^-2)       = arctan(0.381966)\n",
    "d = 13.282525º  = arctan(Ø^-3)       = arctan(0.236068)\n",
    "e = 10.812316º  = arctan(Ø^-2/2)     = arctan(0.190983)\n",
    "f = 7.622631º   = arctan((2√5-3)/11) = arctan(0.133830)\n",
    "g = 5.659893º   = arctan((5√5-9)/22) = arctan(0.099106)\n",
    "h = 5.152423º   = arctan(Ø^-5)       = arctan(0.090169)\n",
    "</pre>"
   ]
  },
  {
   "cell_type": "code",
   "execution_count": 1,
   "metadata": {},
   "outputs": [],
   "source": [
    "from IPython.display import HTML \n",
    "import numpy as np\n",
    "import pandas as pd\n",
    "import numpy.testing as npt\n",
    "from math import atan, tan, degrees, radians, sqrt"
   ]
  },
  {
   "cell_type": "code",
   "execution_count": 2,
   "metadata": {},
   "outputs": [],
   "source": [
    "rt5 = sqrt(5)\n",
    "Ø = (1 + rt5)/2\n",
    "\n",
    "f = atan((2*rt5 - 3)/11)\n",
    "g = atan((5*rt5 - 9)/22)\n",
    "h = atan(Ø ** -5)"
   ]
  },
  {
   "cell_type": "markdown",
   "metadata": {},
   "source": [
    "Per David's comments above: f, g, h serve as basis angles such that linear combinations thereof net additional angles a-e.\n",
    "\n",
    "<pre>\n",
    "a = 2f + 2g + h\n",
    "b = 2f + 3g + h\n",
    "c = 2f + g\n",
    "d = f + g\n",
    "e = g + h\n",
    "</pre>"
   ]
  },
  {
   "cell_type": "code",
   "execution_count": 3,
   "metadata": {},
   "outputs": [
    {
     "data": {
      "text/plain": [
       "array([[0.13304002],\n",
       "       [0.09878378],\n",
       "       [0.08992675]])"
      ]
     },
     "execution_count": 3,
     "metadata": {},
     "output_type": "execute_result"
    }
   ],
   "source": [
    "m = np.array([f, g, h]).reshape(3,1)\n",
    "m"
   ]
  },
  {
   "cell_type": "code",
   "execution_count": 4,
   "metadata": {},
   "outputs": [
    {
     "data": {
      "text/plain": [
       "array([[2, 2, 1],\n",
       "       [2, 3, 1],\n",
       "       [2, 1, 0],\n",
       "       [1, 1, 0],\n",
       "       [0, 1, 1]])"
      ]
     },
     "execution_count": 4,
     "metadata": {},
     "output_type": "execute_result"
    }
   ],
   "source": [
    "coeffs = np.array([[2,2,1],[2,3,1],[2,1,0],[1,1,0],[0,1,1]])\n",
    "coeffs"
   ]
  },
  {
   "cell_type": "code",
   "execution_count": 5,
   "metadata": {},
   "outputs": [
    {
     "data": {
      "text/plain": [
       "array([[0.55357436],\n",
       "       [0.65235814],\n",
       "       [0.36486383],\n",
       "       [0.2318238 ],\n",
       "       [0.18871053]])"
      ]
     },
     "execution_count": 5,
     "metadata": {},
     "output_type": "execute_result"
    }
   ],
   "source": [
    "coeffs.dot(m)"
   ]
  },
  {
   "cell_type": "code",
   "execution_count": 6,
   "metadata": {},
   "outputs": [],
   "source": [
    "a,b,c,d,e = coeffs.dot(m).ravel()"
   ]
  },
  {
   "cell_type": "code",
   "execution_count": 7,
   "metadata": {},
   "outputs": [
    {
     "data": {
      "text/plain": [
       "array([[0.55357436],\n",
       "       [0.65235814],\n",
       "       [0.36486383],\n",
       "       [0.2318238 ],\n",
       "       [0.18871053],\n",
       "       [0.13304002],\n",
       "       [0.09878378],\n",
       "       [0.08992675]])"
      ]
     },
     "execution_count": 7,
     "metadata": {},
     "output_type": "execute_result"
    }
   ],
   "source": [
    "np.array([a,b,c,d,e,f,g,h]).reshape(8,1)"
   ]
  },
  {
   "cell_type": "code",
   "execution_count": 8,
   "metadata": {},
   "outputs": [],
   "source": [
    "col1 = pd.Series(data=[a,b,c,d,e,f,g,h], index=['a','b','c','d','e','f','g','h'])"
   ]
  },
  {
   "cell_type": "code",
   "execution_count": 9,
   "metadata": {},
   "outputs": [
    {
     "data": {
      "text/plain": [
       "a    0.553574\n",
       "b    0.652358\n",
       "c    0.364864\n",
       "d    0.231824\n",
       "e    0.188711\n",
       "f    0.133040\n",
       "g    0.098784\n",
       "h    0.089927\n",
       "dtype: float64"
      ]
     },
     "execution_count": 9,
     "metadata": {},
     "output_type": "execute_result"
    }
   ],
   "source": [
    "col1"
   ]
  },
  {
   "cell_type": "code",
   "execution_count": 10,
   "metadata": {},
   "outputs": [],
   "source": [
    "col2 = np.degrees(col1)  # convert radians to degrees"
   ]
  },
  {
   "cell_type": "code",
   "execution_count": 26,
   "metadata": {},
   "outputs": [],
   "source": [
    "df = pd.concat([col1, col2], axis=1)  # build a 2-column dataframe"
   ]
  },
  {
   "cell_type": "code",
   "execution_count": 27,
   "metadata": {},
   "outputs": [],
   "source": [
    "df.rename(columns={0: 'Radians', 1: 'Degrees'}, inplace=True) # renaming columns"
   ]
  },
  {
   "cell_type": "code",
   "execution_count": 28,
   "metadata": {},
   "outputs": [
    {
     "data": {
      "text/html": [
       "<div>\n",
       "<style scoped>\n",
       "    .dataframe tbody tr th:only-of-type {\n",
       "        vertical-align: middle;\n",
       "    }\n",
       "\n",
       "    .dataframe tbody tr th {\n",
       "        vertical-align: top;\n",
       "    }\n",
       "\n",
       "    .dataframe thead th {\n",
       "        text-align: right;\n",
       "    }\n",
       "</style>\n",
       "<table border=\"1\" class=\"dataframe\">\n",
       "  <thead>\n",
       "    <tr style=\"text-align: right;\">\n",
       "      <th></th>\n",
       "      <th>Radians</th>\n",
       "      <th>Degrees</th>\n",
       "    </tr>\n",
       "  </thead>\n",
       "  <tbody>\n",
       "    <tr>\n",
       "      <th>a</th>\n",
       "      <td>0.553574</td>\n",
       "      <td>31.717474</td>\n",
       "    </tr>\n",
       "    <tr>\n",
       "      <th>b</th>\n",
       "      <td>0.652358</td>\n",
       "      <td>37.377368</td>\n",
       "    </tr>\n",
       "    <tr>\n",
       "      <th>c</th>\n",
       "      <td>0.364864</td>\n",
       "      <td>20.905157</td>\n",
       "    </tr>\n",
       "    <tr>\n",
       "      <th>d</th>\n",
       "      <td>0.231824</td>\n",
       "      <td>13.282526</td>\n",
       "    </tr>\n",
       "    <tr>\n",
       "      <th>e</th>\n",
       "      <td>0.188711</td>\n",
       "      <td>10.812317</td>\n",
       "    </tr>\n",
       "    <tr>\n",
       "      <th>f</th>\n",
       "      <td>0.133040</td>\n",
       "      <td>7.622632</td>\n",
       "    </tr>\n",
       "    <tr>\n",
       "      <th>g</th>\n",
       "      <td>0.098784</td>\n",
       "      <td>5.659894</td>\n",
       "    </tr>\n",
       "    <tr>\n",
       "      <th>h</th>\n",
       "      <td>0.089927</td>\n",
       "      <td>5.152423</td>\n",
       "    </tr>\n",
       "  </tbody>\n",
       "</table>\n",
       "</div>"
      ],
      "text/plain": [
       "    Radians    Degrees\n",
       "a  0.553574  31.717474\n",
       "b  0.652358  37.377368\n",
       "c  0.364864  20.905157\n",
       "d  0.231824  13.282526\n",
       "e  0.188711  10.812317\n",
       "f  0.133040   7.622632\n",
       "g  0.098784   5.659894\n",
       "h  0.089927   5.152423"
      ]
     },
     "execution_count": 28,
     "metadata": {},
     "output_type": "execute_result"
    }
   ],
   "source": [
    "df"
   ]
  },
  {
   "cell_type": "code",
   "execution_count": 14,
   "metadata": {},
   "outputs": [
    {
     "data": {
      "text/plain": [
       "Degrees    90.0\n",
       "dtype: float64"
      ]
     },
     "execution_count": 14,
     "metadata": {},
     "output_type": "execute_result"
    }
   ],
   "source": [
    "np.sum(df.loc[['a','b','c'],['Degrees']])"
   ]
  },
  {
   "cell_type": "code",
   "execution_count": 15,
   "metadata": {},
   "outputs": [],
   "source": [
    "col0 = np.tan(col1)  # work back from radians"
   ]
  },
  {
   "cell_type": "code",
   "execution_count": 16,
   "metadata": {},
   "outputs": [
    {
     "data": {
      "text/plain": [
       "a    0.618034\n",
       "b    0.763932\n",
       "c    0.381966\n",
       "d    0.236068\n",
       "e    0.190983\n",
       "f    0.133831\n",
       "g    0.099106\n",
       "h    0.090170\n",
       "dtype: float64"
      ]
     },
     "execution_count": 16,
     "metadata": {},
     "output_type": "execute_result"
    }
   ],
   "source": [
    "col0"
   ]
  },
  {
   "cell_type": "markdown",
   "metadata": {},
   "source": [
    "<pre>\n",
    "The arctangents of the 8 angles described above:\n",
    "a = 31.717474º  = arctan(Ø^-1)       = arctan(0.618034)\n",
    "b = 37.377368º  = arctan(2Ø^-2)      = arctan(0.763932)\n",
    "c = 20.905157º  = arctan(Ø^-2)       = arctan(0.381966)\n",
    "d = 13.282525º  = arctan(Ø^-3)       = arctan(0.236068)\n",
    "e = 10.812316º  = arctan(Ø^-2/2)     = arctan(0.190983)\n",
    "f = 7.622631º   = arctan((2√5-3)/11) = arctan(0.133830)\n",
    "g = 5.659893º   = arctan((5√5-9)/22) = arctan(0.099106)\n",
    "h = 5.152423º   = arctan(Ø^-5)       = arctan(0.090169)\n",
    "</pre>"
   ]
  },
  {
   "cell_type": "code",
   "execution_count": 17,
   "metadata": {},
   "outputs": [
    {
     "data": {
      "text/plain": [
       "a    0.618034\n",
       "b    0.763932\n",
       "c    0.381966\n",
       "d    0.236068\n",
       "e    0.190983\n",
       "f    0.133831\n",
       "g    0.099106\n",
       "h    0.090170\n",
       "dtype: float64"
      ]
     },
     "execution_count": 17,
     "metadata": {},
     "output_type": "execute_result"
    }
   ],
   "source": [
    "phi_expr = pd.Series([Ø**-1, 2*Ø**-2, Ø**-2, Ø**-3, \n",
    "                     (Ø**-2)/2,(2*rt5-3)/11, (5*rt5-9)/22, Ø**-5],\n",
    "                    index=['a','b','c','d','e','f','g','h'])\n",
    "phi_expr"
   ]
  },
  {
   "cell_type": "code",
   "execution_count": 18,
   "metadata": {},
   "outputs": [],
   "source": [
    "df = pd.concat([phi_expr, col0, col1, col2], axis=1)"
   ]
  },
  {
   "cell_type": "code",
   "execution_count": 19,
   "metadata": {},
   "outputs": [],
   "source": [
    "df.rename(columns={0: \"Phi Expr\", 1: \"Arctan of...\", 2: 'Radians', 3: 'Degrees'}, inplace=True)"
   ]
  },
  {
   "cell_type": "code",
   "execution_count": 20,
   "metadata": {},
   "outputs": [
    {
     "data": {
      "text/html": [
       "<div>\n",
       "<style scoped>\n",
       "    .dataframe tbody tr th:only-of-type {\n",
       "        vertical-align: middle;\n",
       "    }\n",
       "\n",
       "    .dataframe tbody tr th {\n",
       "        vertical-align: top;\n",
       "    }\n",
       "\n",
       "    .dataframe thead th {\n",
       "        text-align: right;\n",
       "    }\n",
       "</style>\n",
       "<table border=\"1\" class=\"dataframe\">\n",
       "  <thead>\n",
       "    <tr style=\"text-align: right;\">\n",
       "      <th></th>\n",
       "      <th>Phi Expr</th>\n",
       "      <th>Arctan of...</th>\n",
       "      <th>Radians</th>\n",
       "      <th>Degrees</th>\n",
       "    </tr>\n",
       "  </thead>\n",
       "  <tbody>\n",
       "    <tr>\n",
       "      <th>a</th>\n",
       "      <td>0.618034</td>\n",
       "      <td>0.618034</td>\n",
       "      <td>0.553574</td>\n",
       "      <td>31.717474</td>\n",
       "    </tr>\n",
       "    <tr>\n",
       "      <th>b</th>\n",
       "      <td>0.763932</td>\n",
       "      <td>0.763932</td>\n",
       "      <td>0.652358</td>\n",
       "      <td>37.377368</td>\n",
       "    </tr>\n",
       "    <tr>\n",
       "      <th>c</th>\n",
       "      <td>0.381966</td>\n",
       "      <td>0.381966</td>\n",
       "      <td>0.364864</td>\n",
       "      <td>20.905157</td>\n",
       "    </tr>\n",
       "    <tr>\n",
       "      <th>d</th>\n",
       "      <td>0.236068</td>\n",
       "      <td>0.236068</td>\n",
       "      <td>0.231824</td>\n",
       "      <td>13.282526</td>\n",
       "    </tr>\n",
       "    <tr>\n",
       "      <th>e</th>\n",
       "      <td>0.190983</td>\n",
       "      <td>0.190983</td>\n",
       "      <td>0.188711</td>\n",
       "      <td>10.812317</td>\n",
       "    </tr>\n",
       "    <tr>\n",
       "      <th>f</th>\n",
       "      <td>0.133831</td>\n",
       "      <td>0.133831</td>\n",
       "      <td>0.133040</td>\n",
       "      <td>7.622632</td>\n",
       "    </tr>\n",
       "    <tr>\n",
       "      <th>g</th>\n",
       "      <td>0.099106</td>\n",
       "      <td>0.099106</td>\n",
       "      <td>0.098784</td>\n",
       "      <td>5.659894</td>\n",
       "    </tr>\n",
       "    <tr>\n",
       "      <th>h</th>\n",
       "      <td>0.090170</td>\n",
       "      <td>0.090170</td>\n",
       "      <td>0.089927</td>\n",
       "      <td>5.152423</td>\n",
       "    </tr>\n",
       "  </tbody>\n",
       "</table>\n",
       "</div>"
      ],
      "text/plain": [
       "   Phi Expr  Arctan of...   Radians    Degrees\n",
       "a  0.618034      0.618034  0.553574  31.717474\n",
       "b  0.763932      0.763932  0.652358  37.377368\n",
       "c  0.381966      0.381966  0.364864  20.905157\n",
       "d  0.236068      0.236068  0.231824  13.282526\n",
       "e  0.190983      0.190983  0.188711  10.812317\n",
       "f  0.133831      0.133831  0.133040   7.622632\n",
       "g  0.099106      0.099106  0.098784   5.659894\n",
       "h  0.090170      0.090170  0.089927   5.152423"
      ]
     },
     "execution_count": 20,
     "metadata": {},
     "output_type": "execute_result"
    }
   ],
   "source": [
    "df"
   ]
  }
 ],
 "metadata": {
  "kernelspec": {
   "display_name": "Python 3",
   "language": "python",
   "name": "python3"
  },
  "language_info": {
   "codemirror_mode": {
    "name": "ipython",
    "version": 3
   },
   "file_extension": ".py",
   "mimetype": "text/x-python",
   "name": "python",
   "nbconvert_exporter": "python",
   "pygments_lexer": "ipython3",
   "version": "3.6.4"
  }
 },
 "nbformat": 4,
 "nbformat_minor": 2
}
