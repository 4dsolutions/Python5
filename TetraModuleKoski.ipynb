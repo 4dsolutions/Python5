{
 "cells": [
  {
   "cell_type": "markdown",
   "metadata": {},
   "source": [
    "\n",
    "![Picture](koski_tet.jpg)\n",
    "\n",
    "For that tetrahedron to be the same volume a an E module volume, ((Phi^-3)(sqrt 2/8)=.041731\n",
    "\n",
    "* 2 edges(purple & yellow) are the same: (sqrt 3)(phi^-1)\n",
    "* Green edge = (sqrt 2)(phi^-1)\n",
    "* Short Blue edge = phi^-1\n",
    "* Long Blue edge = 2(phi^-1)\n",
    "* Red edge = (sqrt ((phi^-2)+1))(phi^-3)"
   ]
  },
  {
   "cell_type": "code",
   "execution_count": 4,
   "metadata": {},
   "outputs": [],
   "source": [
    "import tetravolume\n",
    "from math import sqrt"
   ]
  },
  {
   "cell_type": "code",
   "execution_count": 5,
   "metadata": {},
   "outputs": [],
   "source": [
    "φ = (sqrt(5)+1)/2\n",
    "red = (sqrt((φ**-2)+1))*(φ**-3)\n",
    "long_blue = 2*(φ**-1)\n",
    "short_blue = φ**-1\n",
    "green = sqrt(2)*(φ**-1)\n",
    "purple = yellow = sqrt(3)*(φ**-1)"
   ]
  },
  {
   "cell_type": "code",
   "execution_count": 11,
   "metadata": {},
   "outputs": [
    {
     "name": "stdout",
     "output_type": "stream",
     "text": [
      "red: 0.27751455142577547\n",
      "long blue 1.2360679774997896\n",
      "short_blue 0.6180339887498948\n",
      "green 0.8740320488976421\n",
      "purple 1.0704662693192697\n",
      "yellow 1.0704662693192697\n"
     ]
    }
   ],
   "source": [
    "print(\"red:\", red)\n",
    "print(\"long blue\", long_blue)\n",
    "print(\"short_blue\", short_blue)\n",
    "print(\"green\", green)\n",
    "print(\"purple\", purple)\n",
    "print(\"yellow\", yellow)"
   ]
  },
  {
   "cell_type": "code",
   "execution_count": 17,
   "metadata": {},
   "outputs": [],
   "source": [
    "Tet = tetravolume.Tetrahedron(red, purple, long_blue, green, short_blue, yellow)"
   ]
  },
  {
   "cell_type": "code",
   "execution_count": 24,
   "metadata": {},
   "outputs": [
    {
     "data": {
      "text/plain": [
       "0.1648768911028565"
      ]
     },
     "execution_count": 24,
     "metadata": {},
     "output_type": "execute_result"
    }
   ],
   "source": [
    "Tet.ivm_volume()"
   ]
  },
  {
   "cell_type": "code",
   "execution_count": 14,
   "metadata": {},
   "outputs": [
    {
     "data": {
      "text/plain": [
       "0.1648768911028565"
      ]
     },
     "execution_count": 14,
     "metadata": {},
     "output_type": "execute_result"
    }
   ],
   "source": [
    "Tet = tetravolume.Tetrahedron(red, yellow, green, long_blue, short_blue, purple)\n",
    "Tet.ivm_volume()"
   ]
  },
  {
   "cell_type": "code",
   "execution_count": 10,
   "metadata": {},
   "outputs": [
    {
     "data": {
      "text/plain": [
       "0.041731316927773654"
      ]
     },
     "execution_count": 10,
     "metadata": {},
     "output_type": "execute_result"
    }
   ],
   "source": [
    "emod = (φ**-3)*(sqrt(2))/8\n",
    "emod"
   ]
  },
  {
   "cell_type": "code",
   "execution_count": null,
   "metadata": {},
   "outputs": [],
   "source": []
  }
 ],
 "metadata": {
  "kernelspec": {
   "display_name": "Python 3",
   "language": "python",
   "name": "python3"
  },
  "language_info": {
   "codemirror_mode": {
    "name": "ipython",
    "version": 3
   },
   "file_extension": ".py",
   "mimetype": "text/x-python",
   "name": "python",
   "nbconvert_exporter": "python",
   "pygments_lexer": "ipython3",
   "version": "3.6.4"
  }
 },
 "nbformat": 4,
 "nbformat_minor": 2
}
