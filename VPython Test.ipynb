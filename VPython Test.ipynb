{
 "cells": [
  {
   "cell_type": "markdown",
   "metadata": {},
   "source": [
    "# Visual Python\n",
    "\n",
    "[Sphere](http://vpython.org/contents/docs/sphere.html) -- Example documentation, of a simple API.\n",
    "\n",
    "Visual Python (VPython) provides a simple API for spatial geometry.  The decision to embed it within wxPython resulted in a new version branching off into Jupyter Notebook territory.  The latter provides VPython with a bridge to Python 3.6 in this example.  However Github and nbviewer do not provide VPython backing for interactive display of its window.  The picture below is a screen shot.\n",
    "<br />\n",
    "<br />\n",
    "\n",
    "<div style=\"text-align:center;\">\n",
    "<a data-flickr-embed=\"true\"  href=\"https://www.flickr.com/photos/kirbyurner/24460774517/in/dateposted-public/\" title=\"Polyhedrons in VPython\"><img src=\"https://farm5.staticflickr.com/4595/24460774517_2e9c0dddbf.jpg\" width=\"500\" height=\"374\" alt=\"Polyhedrons in VPython\"></a><script async src=\"//embedr.flickr.com/assets/client-code.js\" charset=\"utf-8\"></script>\n",
    "</div>\n",
    "<br />\n",
    "<br />\n",
    "Jupyter Notebooks are designed to run locally, on localhost, through an included server.  Once your laptop is setup with the necessary software, you will have access to VPython's renderings."
   ]
  },
  {
   "cell_type": "code",
   "execution_count": 2,
   "metadata": {},
   "outputs": [
    {
     "data": {
      "text/html": [
       "<div id=\"glowscript\" class=\"glowscript\"></div>"
      ],
      "text/plain": [
       "<IPython.core.display.HTML object>"
      ]
     },
     "metadata": {},
     "output_type": "display_data"
    },
    {
     "data": {
      "application/javascript": [
       "window.__context = { glowscript_container: $(\"#glowscript\").removeAttr(\"id\")}"
      ],
      "text/plain": [
       "<IPython.core.display.Javascript object>"
      ]
     },
     "metadata": {},
     "output_type": "display_data"
    }
   ],
   "source": [
    "%run tetra_vzome.py"
   ]
  },
  {
   "cell_type": "markdown",
   "metadata": {},
   "source": [
    "When it comes to the [Martian Math curriculum](http://wikieducator.org/Martian_Math), one of the themes in this Repo, Vpython has proved important.  In particular, I used it to implement \"hypertoons\", which are spaghetti balls of animated scenarios randomized through keyframe segues.  The playhead(s) wander the \"spaghetti ball\" switching smoothly at the vertex junctures (think of graphs)."
   ]
  }
 ],
 "metadata": {
  "kernelspec": {
   "display_name": "Python 3",
   "language": "python",
   "name": "python3"
  },
  "language_info": {
   "codemirror_mode": {
    "name": "ipython",
    "version": 3
   },
   "file_extension": ".py",
   "mimetype": "text/x-python",
   "name": "python",
   "nbconvert_exporter": "python",
   "pygments_lexer": "ipython3",
   "version": "3.6.1"
  }
 },
 "nbformat": 4,
 "nbformat_minor": 2
}
