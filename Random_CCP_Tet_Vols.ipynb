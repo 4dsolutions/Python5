{
 "cells": [
  {
   "cell_type": "markdown",
   "metadata": {},
   "source": [
    "# Random IVM Tetrahedron Volumes\n",
    "\n",
    "\n",
    "<div style=\"text-align: center;\">\n",
    "<a data-flickr-embed=\"true\" href=\"https://www.flickr.com/photos/kirbyurner/4723083407/\" title=\"Quadray Coordinates\"><img src=\"https://live.staticflickr.com/1213/4723083407_1e315f2877_o.gif\" width=\"400\" height=\"350\" alt=\"Quadray Coordinates\"/></a><script async src=\"//embedr.flickr.com/assets/client-code.js\" charset=\"utf-8\"></script>\n",
    "</div>\n",
    "<div style=\"text-align: center;\">\n",
    "The four quadrays (in blue)\n",
    "</div>\n",
    "<br />\n",
    "\n",
    "According to a proof by Dr. Robert Gray, at one time archived on a Synergetics listserv, any tetrahedron of IVM vertexes (assuming non-coplanar) will have a whole number volume.  \n",
    "\n",
    "In this Notebook, we randomly generate IVM tetrahedrons and compute their volumes.  Within the error of floating point, we demonstrate this result."
   ]
  },
  {
   "cell_type": "code",
   "execution_count": 1,
   "metadata": {},
   "outputs": [],
   "source": [
    "from tetravolume import Qvector"
   ]
  },
  {
   "cell_type": "code",
   "execution_count": 2,
   "metadata": {},
   "outputs": [],
   "source": [
    "from itertools import permutations"
   ]
  },
  {
   "cell_type": "code",
   "execution_count": 3,
   "metadata": {},
   "outputs": [
    {
     "data": {
      "text/plain": [
       "[(0, 1, 1, 2),\n",
       " (1, 2, 0, 1),\n",
       " (0, 2, 1, 1),\n",
       " (0, 1, 2, 1),\n",
       " (2, 1, 0, 1),\n",
       " (1, 1, 2, 0),\n",
       " (1, 2, 1, 0),\n",
       " (2, 1, 1, 0),\n",
       " (1, 0, 2, 1),\n",
       " (2, 0, 1, 1),\n",
       " (1, 0, 1, 2),\n",
       " (1, 1, 0, 2)]"
      ]
     },
     "execution_count": 3,
     "metadata": {},
     "output_type": "execute_result"
    }
   ],
   "source": [
    "combos = set()\n",
    "for combo in permutations((0,1,1,2)):\n",
    "    combos.add(combo)\n",
    "combos = list(combos)\n",
    "combos"
   ]
  },
  {
   "cell_type": "markdown",
   "metadata": {},
   "source": [
    "One frequency:\n",
    "\n",
    "![\"freq1\"](freq1.png)\n"
   ]
  },
  {
   "cell_type": "code",
   "execution_count": 4,
   "metadata": {},
   "outputs": [
    {
     "data": {
      "text/plain": [
       "ivm_vector(a=365, b=159, c=336, d=0)"
      ]
     },
     "execution_count": 4,
     "metadata": {},
     "output_type": "execute_result"
    }
   ],
   "source": [
    "import random\n",
    "\n",
    "def any_ball():\n",
    "    # random coefficients for arbitrary choice of vectors...\n",
    "    coeffs = [random.randint(0, 300) for _ in range(12)]\n",
    "    vectors = ([coeffs[i] * Qvector(combos[i]) for i in range(12)])\n",
    "    vector_sum = Qvector((0,0,0,0))\n",
    "    for v in vectors:\n",
    "        vector_sum = vector_sum + v\n",
    "    return vector_sum\n",
    "\n",
    "any_ball()"
   ]
  },
  {
   "cell_type": "code",
   "execution_count": 5,
   "metadata": {},
   "outputs": [],
   "source": [
    "A,B,C,D = any_ball(), any_ball(), any_ball(), any_ball()"
   ]
  },
  {
   "cell_type": "code",
   "execution_count": 6,
   "metadata": {},
   "outputs": [],
   "source": [
    "lengths = [(\"AB\", (A-B).length()),\n",
    "           (\"AC\", (A-C).length()),\n",
    "           (\"AD\", (A-D).length()),\n",
    "           (\"BC\", (B-C).length()),\n",
    "           (\"CD\", (C-D).length()),\n",
    "           (\"DB\", (D-B).length())]"
   ]
  },
  {
   "cell_type": "code",
   "execution_count": 7,
   "metadata": {},
   "outputs": [
    {
     "data": {
      "text/plain": [
       "[('AB', 373.0321701944753),\n",
       " ('AC', 333.39616074574104),\n",
       " ('AD', 476.14808620848197),\n",
       " ('BC', 534.9635501601955),\n",
       " ('CD', 544.9155897935019),\n",
       " ('DB', 280.3194606159194)]"
      ]
     },
     "execution_count": 7,
     "metadata": {},
     "output_type": "execute_result"
    }
   ],
   "source": [
    "lengths"
   ]
  },
  {
   "cell_type": "code",
   "execution_count": 8,
   "metadata": {},
   "outputs": [],
   "source": [
    "from tetravolume import Tetrahedron"
   ]
  },
  {
   "cell_type": "code",
   "execution_count": 9,
   "metadata": {},
   "outputs": [],
   "source": [
    "t = Tetrahedron(*[lengths[i][1] for i in range(6)])"
   ]
  },
  {
   "cell_type": "code",
   "execution_count": 10,
   "metadata": {},
   "outputs": [
    {
     "data": {
      "text/plain": [
       "44190451.00000004"
      ]
     },
     "execution_count": 10,
     "metadata": {},
     "output_type": "execute_result"
    }
   ],
   "source": [
    "t.ivm_volume()"
   ]
  },
  {
   "cell_type": "code",
   "execution_count": 11,
   "metadata": {},
   "outputs": [
    {
     "data": {
      "text/plain": [
       "14170140.999999965"
      ]
     },
     "execution_count": 11,
     "metadata": {},
     "output_type": "execute_result"
    }
   ],
   "source": [
    "def demo():\n",
    "    A,B,C,D = any_ball(), any_ball(), any_ball(), any_ball()\n",
    "    lengths = [(\"AB\", (A-B).length()),\n",
    "           (\"AC\", (A-C).length()),\n",
    "           (\"AD\", (A-D).length()),\n",
    "           (\"BC\", (B-C).length()),\n",
    "           (\"CD\", (C-D).length()),\n",
    "           (\"DB\", (D-B).length())]\n",
    "    t = Tetrahedron(*[lengths[i][1] for i in range(6)])\n",
    "    return t.ivm_volume()\n",
    "\n",
    "demo()"
   ]
  },
  {
   "cell_type": "code",
   "execution_count": 12,
   "metadata": {},
   "outputs": [
    {
     "data": {
      "text/plain": [
       "41663156.754389174"
      ]
     },
     "execution_count": 12,
     "metadata": {},
     "output_type": "execute_result"
    }
   ],
   "source": [
    "t.xyz_volume()"
   ]
  },
  {
   "cell_type": "code",
   "execution_count": 13,
   "metadata": {},
   "outputs": [
    {
     "data": {
      "image/jpeg": "[encoded data removed]",
      "text/html": [
       "\n",
       "        <iframe\n",
       "            width=\"400\"\n",
       "            height=\"300\"\n",
       "            src=\"https://www.youtube.com/embed/v8vjw3gCBgs\"\n",
       "            frameborder=\"0\"\n",
       "            allowfullscreen\n",
       "        ></iframe>\n",
       "        "
      ],
      "text/plain": [
       "<IPython.lib.display.YouTubeVideo at 0x1134460f0>"
      ]
     },
     "execution_count": 13,
     "metadata": {},
     "output_type": "execute_result"
    }
   ],
   "source": [
    "from IPython.display import YouTubeVideo\n",
    "YouTubeVideo(\"v8vjw3gCBgs\") # https://youtu.be/v8vjw3gCBgs"
   ]
  }
 ],
 "metadata": {
  "kernelspec": {
   "display_name": "Python 3 (ipykernel)",
   "language": "python",
   "name": "python3"
  },
  "language_info": {
   "codemirror_mode": {
    "name": "ipython",
    "version": 3
   },
   "file_extension": ".py",
   "mimetype": "text/x-python",
   "name": "python",
   "nbconvert_exporter": "python",
   "pygments_lexer": "ipython3",
   "version": "3.11.3"
  }
 },
 "nbformat": 4,
 "nbformat_minor": 4
}
