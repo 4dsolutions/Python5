{
 "cells": [
  {
   "cell_type": "markdown",
   "metadata": {},
   "source": [
    "# Random IVM Tetrahedron Volumes\n",
    "\n",
    "![quadrays](https://upload.wikimedia.org/wikipedia/commons/9/99/Quadray.gif)\n",
    "\n",
    "According to a proof by Dr. Robert Gray, at one time archived on a Synergetics listserv, any tetrahedron of IVM vertexes (assuming non-coplanar) will have a whole number volume.  \n",
    "\n",
    "His proof was actually more general than that and may have extended to points half-way between IVM centers as well.\n",
    "\n",
    "In this Notebook, we randomly generate IVM tetrahedrons and computer their volumes.  Within the error of floating point, we demonstrate this result."
   ]
  },
  {
   "cell_type": "code",
   "execution_count": 1,
   "metadata": {},
   "outputs": [],
   "source": [
    "from tetravolume import Qvector"
   ]
  },
  {
   "cell_type": "code",
   "execution_count": 2,
   "metadata": {},
   "outputs": [],
   "source": [
    "from itertools import permutations"
   ]
  },
  {
   "cell_type": "code",
   "execution_count": 3,
   "metadata": {},
   "outputs": [
    {
     "data": {
      "text/plain": [
       "[(0, 1, 1, 2),\n",
       " (1, 2, 0, 1),\n",
       " (0, 2, 1, 1),\n",
       " (0, 1, 2, 1),\n",
       " (2, 1, 0, 1),\n",
       " (1, 1, 2, 0),\n",
       " (1, 2, 1, 0),\n",
       " (2, 1, 1, 0),\n",
       " (1, 0, 2, 1),\n",
       " (2, 0, 1, 1),\n",
       " (1, 0, 1, 2),\n",
       " (1, 1, 0, 2)]"
      ]
     },
     "execution_count": 3,
     "metadata": {},
     "output_type": "execute_result"
    }
   ],
   "source": [
    "combos = set()\n",
    "for combo in permutations((0,1,1,2)):\n",
    "    combos.add(combo)\n",
    "combos = list(combos)\n",
    "combos"
   ]
  },
  {
   "cell_type": "markdown",
   "metadata": {},
   "source": [
    "One frequency:\n",
    "\n",
    "![\"freq1\"](freq1.png)\n"
   ]
  },
  {
   "cell_type": "code",
   "execution_count": 4,
   "metadata": {},
   "outputs": [
    {
     "data": {
      "text/plain": [
       "ivm_vector(a=0, b=405, c=315, d=372)"
      ]
     },
     "execution_count": 4,
     "metadata": {},
     "output_type": "execute_result"
    }
   ],
   "source": [
    "import random\n",
    "\n",
    "def any_ball():\n",
    "    # random coefficients for arbitrary choice of vectors...\n",
    "    coeffs = [random.randint(0, 300) for _ in range(12)]\n",
    "    vectors = ([coeffs[i] * Qvector(combos[i]) for i in range(12)])\n",
    "    vector_sum = Qvector((0,0,0,0))\n",
    "    for v in vectors:\n",
    "        vector_sum = vector_sum + v\n",
    "    return vector_sum\n",
    "\n",
    "any_ball()"
   ]
  },
  {
   "cell_type": "code",
   "execution_count": 5,
   "metadata": {},
   "outputs": [],
   "source": [
    "A,B,C,D = any_ball(), any_ball(), any_ball(), any_ball()"
   ]
  },
  {
   "cell_type": "code",
   "execution_count": 6,
   "metadata": {},
   "outputs": [],
   "source": [
    "lengths = [(\"AB\", (A-B).length()),\n",
    "           (\"AC\", (A-C).length()),\n",
    "           (\"AD\", (A-D).length()),\n",
    "           (\"BC\", (B-C).length()),\n",
    "           (\"CD\", (C-D).length()),\n",
    "           (\"DB\", (D-B).length())]"
   ]
  },
  {
   "cell_type": "code",
   "execution_count": 7,
   "metadata": {},
   "outputs": [
    {
     "data": {
      "text/plain": [
       "[('AB', 303.67416748877406),\n",
       " ('AC', 601.656878960093),\n",
       " ('AD', 199.1808223700264),\n",
       " ('BC', 334.7730574583325),\n",
       " ('CD', 592.8313419514863),\n",
       " ('DB', 371.18863129142306)]"
      ]
     },
     "execution_count": 7,
     "metadata": {},
     "output_type": "execute_result"
    }
   ],
   "source": [
    "lengths"
   ]
  },
  {
   "cell_type": "code",
   "execution_count": 8,
   "metadata": {},
   "outputs": [],
   "source": [
    "from tetravolume import Tetrahedron"
   ]
  },
  {
   "cell_type": "code",
   "execution_count": 9,
   "metadata": {},
   "outputs": [],
   "source": [
    "t = Tetrahedron(*[lengths[i][1] for i in range(6)])"
   ]
  },
  {
   "cell_type": "code",
   "execution_count": 10,
   "metadata": {},
   "outputs": [
    {
     "data": {
      "text/plain": [
       "12393213.000000121"
      ]
     },
     "execution_count": 10,
     "metadata": {},
     "output_type": "execute_result"
    }
   ],
   "source": [
    "t.ivm_volume()"
   ]
  },
  {
   "cell_type": "code",
   "execution_count": 11,
   "metadata": {},
   "outputs": [
    {
     "data": {
      "text/plain": [
       "1386440.0"
      ]
     },
     "execution_count": 11,
     "metadata": {},
     "output_type": "execute_result"
    }
   ],
   "source": [
    "def demo():\n",
    "    A,B,C,D = any_ball(), any_ball(), any_ball(), any_ball()\n",
    "    lengths = [(\"AB\", (A-B).length()),\n",
    "           (\"AC\", (A-C).length()),\n",
    "           (\"AD\", (A-D).length()),\n",
    "           (\"BC\", (B-C).length()),\n",
    "           (\"CD\", (C-D).length()),\n",
    "           (\"DB\", (D-B).length())]\n",
    "    t = Tetrahedron(*[lengths[i][1] for i in range(6)])\n",
    "    return t.ivm_volume()\n",
    "\n",
    "demo()"
   ]
  },
  {
   "cell_type": "code",
   "execution_count": 12,
   "metadata": {},
   "outputs": [
    {
     "data": {
      "text/plain": [
       "11684433.270652484"
      ]
     },
     "execution_count": 12,
     "metadata": {},
     "output_type": "execute_result"
    }
   ],
   "source": [
    "t.xyz_volume()"
   ]
  },
  {
   "cell_type": "code",
   "execution_count": 13,
   "metadata": {},
   "outputs": [
    {
     "data": {
      "image/jpeg": "[encoded data removed]",
      "text/html": [
       "\n",
       "        <iframe\n",
       "            width=\"400\"\n",
       "            height=\"300\"\n",
       "            src=\"https://www.youtube.com/embed/v8vjw3gCBgs\"\n",
       "            frameborder=\"0\"\n",
       "            allowfullscreen\n",
       "        ></iframe>\n",
       "        "
      ],
      "text/plain": [
       "<IPython.lib.display.YouTubeVideo at 0x114209588>"
      ]
     },
     "execution_count": 13,
     "metadata": {},
     "output_type": "execute_result"
    }
   ],
   "source": [
    "from IPython.display import YouTubeVideo\n",
    "YouTubeVideo(\"v8vjw3gCBgs\") # https://youtu.be/v8vjw3gCBgs"
   ]
  }
 ],
 "metadata": {
  "kernelspec": {
   "display_name": "Python 3",
   "language": "python",
   "name": "python3"
  },
  "language_info": {
   "codemirror_mode": {
    "name": "ipython",
    "version": 3
   },
   "file_extension": ".py",
   "mimetype": "text/x-python",
   "name": "python",
   "nbconvert_exporter": "python",
   "pygments_lexer": "ipython3",
   "version": "3.6.8"
  }
 },
 "nbformat": 4,
 "nbformat_minor": 2
}
