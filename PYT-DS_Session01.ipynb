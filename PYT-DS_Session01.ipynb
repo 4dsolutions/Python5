{
 "cells": [
  {
   "cell_type": "markdown",
   "metadata": {},
   "source": [
    "### PYT-DS 1041: SESSION 01\n",
    "# The Bigger Picture\n",
    "\n",
    "![Mapparium](./mapparium.jpg \"Mapparium, Boston, MA\")\n",
    "\n",
    "This is a [\"Markdown Cell\"](https://github.com/adam-p/markdown-here/wiki/Markdown-Cheatsheet) in a Jupyter Notebook.  \n",
    "\n",
    "What we're introducing here is the idea of [Literate Programming](http://www.literateprogramming.com/knuthweb.pdf).\n",
    "\n",
    "Your instructor will give you some of the history.\n",
    "\n",
    "The next step is to import some of the tools we'll be using."
   ]
  },
  {
   "cell_type": "code",
   "execution_count": 1,
   "metadata": {
    "collapsed": true
   },
   "outputs": [],
   "source": [
    "import numpy as np\n",
    "import pandas as pd"
   ]
  },
  {
   "cell_type": "markdown",
   "metadata": {},
   "source": [
    "Above:  two of the core tools we'll be using.  These are moving targets in the sense that both are actively maintained and new versions come out periodically, meaning their APIs also change.\n",
    "\n",
    "What's best is to have a working environment wherein you're not averse to upgrading.  Going to the next version should be a fairly painless process.  Your instructor suggests using the Anaconda distribution of Python, which includes much of the science stack and/or puts the packages you'll need within easy reach, thanks to the ```conda``` utility."
   ]
  },
  {
   "cell_type": "code",
   "execution_count": 3,
   "metadata": {},
   "outputs": [
    {
     "name": "stdout",
     "output_type": "stream",
     "text": [
      "1.13.3\n"
     ]
    }
   ],
   "source": [
    "print(np.__version__)"
   ]
  },
  {
   "cell_type": "code",
   "execution_count": 4,
   "metadata": {},
   "outputs": [
    {
     "name": "stdout",
     "output_type": "stream",
     "text": [
      "0.22.0\n"
     ]
    }
   ],
   "source": [
    "print(pd.__version__)"
   ]
  },
  {
   "cell_type": "code",
   "execution_count": 5,
   "metadata": {},
   "outputs": [
    {
     "name": "stdout",
     "output_type": "stream",
     "text": [
      "usage: conda [-h] [-V] command ...\n",
      "\n",
      "conda is a tool for managing and deploying applications, environments and packages.\n",
      "\n",
      "Options:\n",
      "\n",
      "positional arguments:\n",
      "  command\n",
      "    clean        Remove unused packages and caches.\n",
      "    config       Modify configuration values in .condarc. This is modeled\n",
      "                 after the git config command. Writes to the user .condarc\n",
      "                 file (/Users/kurner/.condarc) by default.\n",
      "    create       Create a new conda environment from a list of specified\n",
      "                 packages.\n",
      "    help         Displays a list of available conda commands and their help\n",
      "                 strings.\n",
      "    info         Display information about current conda install.\n",
      "    install      Installs a list of packages into a specified conda\n",
      "                 environment.\n",
      "    list         List linked packages in a conda environment.\n",
      "    package      Low-level conda package utility. (EXPERIMENTAL)\n",
      "    remove       Remove a list of packages from a specified conda environment.\n",
      "    uninstall    Alias for conda remove. See conda remove --help.\n",
      "    search       Search for packages and display associated information. The\n",
      "                 input is a MatchSpec, a query language for conda packages.\n",
      "                 See examples below.\n",
      "    update       Updates conda packages to the latest compatible version. This\n",
      "                 command accepts a list of package names and updates them to\n",
      "                 the latest versions that are compatible with all other\n",
      "                 packages in the environment. Conda attempts to install the\n",
      "                 newest versions of the requested packages. To accomplish\n",
      "                 this, it may update some packages that are already installed,\n",
      "                 or install additional packages. To prevent existing packages\n",
      "                 from updating, use the --no-update-deps option. This may\n",
      "                 force conda to install older versions of the requested\n",
      "                 packages, and it does not prevent additional dependency\n",
      "                 packages from being installed. If you wish to skip dependency\n",
      "                 checking altogether, use the '--force' option. This may\n",
      "                 result in an environment with incompatible packages, so this\n",
      "                 option must be used with great caution.\n",
      "    upgrade      Alias for conda update. See conda update --help.\n",
      "\n",
      "optional arguments:\n",
      "  -h, --help     Show this help message and exit.\n",
      "  -V, --version  Show the conda version number and exit.\n",
      "\n",
      "conda commands available from other packages:\n",
      "  env\n",
      "  server\n"
     ]
    }
   ],
   "source": [
    "! conda --help"
   ]
  },
  {
   "cell_type": "markdown",
   "metadata": {},
   "source": [
    "Notice the mix of Markdown and Code Cells.  Code Cells give you access not only to Python, but to Javascript and to the Operating System.  Running a Jupyter Notebook locally, in Trusted mode, gives you something interactive."
   ]
  },
  {
   "cell_type": "code",
   "execution_count": null,
   "metadata": {
    "collapsed": true
   },
   "outputs": [],
   "source": []
  }
 ],
 "metadata": {
  "kernelspec": {
   "display_name": "Python 3",
   "language": "python",
   "name": "python3"
  },
  "language_info": {
   "codemirror_mode": {
    "name": "ipython",
    "version": 3
   },
   "file_extension": ".py",
   "mimetype": "text/x-python",
   "name": "python",
   "nbconvert_exporter": "python",
   "pygments_lexer": "ipython3",
   "version": "3.6.4"
  }
 },
 "nbformat": 4,
 "nbformat_minor": 2
}
