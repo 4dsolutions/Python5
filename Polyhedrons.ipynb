{
 "cells": [
  {
   "cell_type": "markdown",
   "metadata": {},
   "source": [
    "[Oregon Curriculum Network](http://www.4dsolutions.net/ocn) <br />\n",
    "[Discovering Math with Python](Introduction.ipynb)\n",
    "\n",
    "\n",
    "# Chapter 7: POLYHEDRONS\n",
    "\n",
    "The ray-tracing program POV-Ray, free and open source, understands XYZ coordinates, so at the end of the day we'll need those for rendering our polyhedrons as ray tracings.  \n",
    "\n",
    "However, building our small vocabulary of 26 vertexes will make use of a more congenial set of 4-tuples known as Quadray coordinates.  \n",
    "\n",
    "We will compute and then store our polyhedron vertexes using Quadray Coordinates (see Chapter 6) and then convert to XYZ on the fly, when it's time to actually write scene description language for POV-Ray to process.\n",
    "\n",
    "Do not confuse Quadrays with Quaternions, the subject of Chapter 11.\n",
    "\n",
    "<a data-flickr-embed=\"true\"  href=\"https://www.flickr.com/photos/kirbyurner/4073009388/in/photolist-dXVxsM-JotMo-8cn39x-7cVeMN-kreNGK-jjQKR2-8P2cs1-jjQPyH-jjRh9s-dj1wJw-jjPxdF-jjTYJ3-jjPNN8-bhjf7P-dq3Pno-jjTX9Q-jnjYkJ-jKwah8-jpfFXG-7rwtU1-4ZEr4-4ZEr3\" title=\"Quadray Coordinates\"><img src=\"https://farm3.staticflickr.com/2693/4073009388_e1da93dbd4.jpg\" width=\"400\" height=\"350\" alt=\"Quadray Coordinates\"></a><script async src=\"//embedr.flickr.com/assets/client-code.js\" charset=\"utf-8\"></script>\n",
    "\n",
    "## Polyhedrons as a Data Structure\n",
    "\n",
    "Consider the Tetrahedron, the simplest of all polyhedrons, also known as a Simplex for that reason.  Its vertexes, labeled 'A', 'B', 'C', 'D' give us a way to represent the faces as a tuple of tuples: (('A', 'B', 'C'), ('A', 'B', 'D'), ('A', 'C', 'D'), ('B', 'C', 'D')).  \n",
    "\n",
    "'A' through 'D' may be considered the names of point vectors.\n",
    "\n",
    "The dual Tetrahedron (-A, -B, -C, -D) intersects our first at its mid-edges and together these define the eight vertexes of a cube.  The cube's dual, an octahedron, has vertexes we might define as vector sums of those already given.\n",
    "\n",
    "The combination of the cube and octahedron define the twelve diamond faced rhombic dodecahedron, a favorite of Kepler's, and a space-filler.  It's dual, the cuboctahedron, will be the final shape we include.  All 26 vertexes labeled 'A' through 'Z' may be developed as vector sums of the initial A, B, C, D.\n",
    "\n",
    "![Points of Interest](https://upload.wikimedia.org/wikipedia/commons/d/dc/Povlabels.gif)\n",
    "\n",
    "However, before we get to our actual dict of vectors, lets take a look at the Polyhedron that's shaping up, based on the transformations we'll be needing.\n",
    "\n",
    "The more complete version will be in the accompanying source code file, polyhedrons.py."
   ]
  },
  {
   "cell_type": "code",
   "execution_count": 1,
   "metadata": {},
   "outputs": [],
   "source": [
    "from qrays import Vector # see Chapter 6\n",
    "\n",
    "class Polyhedron:\n",
    "    \n",
    "    def __init__(self, name, volume, faces : set, \n",
    "                 vertexes : dict, center = Vector((0,0,0))):        \n",
    "        self.name = name\n",
    "        self.vertexes = vertexes\n",
    "        self.volume = volume\n",
    "        self.faces = faces\n",
    "        self.edges = self._distill() # derive unique edges from faces\n",
    "        self.center = center\n",
    "        \n",
    "    def _distill(self):\n",
    "        \"\"\"\n",
    "        get all edge pairs from faces\n",
    "        \"\"\"\n",
    "        edges = set()\n",
    "        for face in self.faces:\n",
    "            new_pairs = {tuple(sorted([a, b])) # sorting pairs keeps them unique\n",
    "                         for a,b in zip(face, face[1:] + (face[0],))}\n",
    "             # ('B','A') won't sneak in as another ('A','B')\n",
    "            edges = edges.union(new_pairs) \n",
    "        return edges\n",
    "    \n",
    "    def translate(self, slider : Vector):\n",
    "        \"\"\"\n",
    "        slide to a new position, keep track of the center\n",
    "        \"\"\"\n",
    "        pass\n",
    "    \n",
    "    def rotate(self, degrees, axis):\n",
    "        \"\"\"\n",
    "        We will use a matrix to rotate around x, y or z axis\n",
    "        \"\"\"            \n",
    "        pass\n",
    "    \n",
    "    def scale(self, scale_factor):\n",
    "        \"\"\"\n",
    "        resize by scale_factor and emit a new polyhedron\n",
    "        Volume changes as a 3rd power of scale_factor.\n",
    "        \"\"\"\n",
    "        pass\n",
    "    \n",
    "    def render(self, color, filename = \"output.pov\"):\n",
    "        \"\"\"\n",
    "        build a povray file in Scene Description Language\n",
    "        \"\"\"\n",
    "        pass\n",
    "    \n",
    "    def __repr__(self):\n",
    "        return \"Polyhedron({})\".format(self.name)"
   ]
  },
  {
   "cell_type": "markdown",
   "metadata": {},
   "source": [
    "The polyhedrons we've talked about will be instances of our Polyhedron class.  Once instantiated, they each keep their vertex labels and pass them on to their progeny.  To transform a polyhedron, as we will do in the next chapter, is to create a new one, not to change an existing one in place.  Once defined, a polyhedron should be considered immutable.\n",
    "\n",
    "Quadrays are just like XYZ vectors except they're described by 4-tuples indicating how much of three of the four directions are needed to reach a point.  The basis vectors point to the corners of a regular tetrahedron from its center, dividing space intor four quadrants.  The basis vector pointing away from the quadrant where our point is, will have a coefficient of 0.\n",
    "\n",
    "Lets look at some examples:"
   ]
  },
  {
   "cell_type": "code",
   "execution_count": 2,
   "metadata": {
    "scrolled": true
   },
   "outputs": [
    {
     "name": "stdout",
     "output_type": "stream",
     "text": [
      "xyz_vector(x=Decimal('0.3535533905932737308575042334'), y=Decimal('0.3535533905932737308575042334'), z=Decimal('0.3535533905932737308575042334'))\n",
      "xyz_vector(x=Decimal('-0.3535533905932737308575042334'), y=Decimal('-0.3535533905932737308575042334'), z=Decimal('0.3535533905932737308575042334'))\n",
      "xyz_vector(x=Decimal('-0.3535533905932737308575042334'), y=Decimal('0.3535533905932737308575042334'), z=Decimal('-0.3535533905932737308575042334'))\n",
      "xyz_vector(x=Decimal('0.3535533905932737308575042334'), y=Decimal('-0.3535533905932737308575042334'), z=Decimal('-0.3535533905932737308575042334'))\n"
     ]
    }
   ],
   "source": [
    "from qrays import Qvector, Vector\n",
    "tet1 = {}\n",
    "tet1['A'] = Qvector((1,0,0,0))\n",
    "tet1['B'] = Qvector((0,1,0,0))\n",
    "tet1['C'] = Qvector((0,0,1,0))\n",
    "tet1['D'] = Qvector((0,0,0,1))\n",
    "for v in tet1:\n",
    "    print(tet1[v].xyz())"
   ]
  },
  {
   "cell_type": "markdown",
   "metadata": {},
   "source": [
    "Qvector A is in the all-positive XYZ octant (+,+,+), whereas Qvector B is still above the XY plane but kitty-corner in octant (-,-,+). The other two points form a segment below the XY plane and perpendicular to the first, in (-,+,-) and (+,-,-) respectively.  \n",
    "\n",
    "Placing your forearms perpendicular to one another, but some distance apart, gives the same idea.  Your wrists and elbows will be the four vertexes in question.  Opposite edges of the regular tetrahedron are at 90 degrees to one another.\n",
    "\n",
    "We're now ready to define our polyhedron faces accordingly and feed them into the class, along with the dict of needed vectors (or Qvectors in this case)."
   ]
  },
  {
   "cell_type": "code",
   "execution_count": 3,
   "metadata": {},
   "outputs": [],
   "source": [
    "Tet1 = Polyhedron(\"Tetrahedron\", volume = 1, \n",
    "                  faces = {('A', 'B', 'C'), ('A', 'B', 'D'), \n",
    "                           ('A', 'C', 'D'), ('B', 'C', 'D')},\n",
    "                  vertexes = tet1)"
   ]
  },
  {
   "cell_type": "code",
   "execution_count": 4,
   "metadata": {},
   "outputs": [
    {
     "data": {
      "text/plain": [
       "{('A', 'B'), ('A', 'C'), ('A', 'D'), ('B', 'C'), ('B', 'D'), ('C', 'D')}"
      ]
     },
     "execution_count": 4,
     "metadata": {},
     "output_type": "execute_result"
    }
   ],
   "source": [
    "Tet1.edges  # lets make sure _distill() did its job"
   ]
  },
  {
   "cell_type": "code",
   "execution_count": 5,
   "metadata": {},
   "outputs": [],
   "source": [
    "tet2 = {}  # now for the dual tetrahedron\n",
    "tet2['E'] = -tet1['A']\n",
    "tet2['F'] = -tet1['B']\n",
    "tet2['G'] = -Qvector((0,0,1,0)) # same as -tet1['C']\n",
    "tet2['H'] = -Qvector((0,0,0,1)) # same as -tet1['D']"
   ]
  },
  {
   "cell_type": "code",
   "execution_count": 6,
   "metadata": {
    "collapsed": true,
    "jupyter": {
     "outputs_hidden": true
    }
   },
   "outputs": [],
   "source": [
    "Tet2 = Polyhedron(\"Dual Tetrahedron\", volume = 1, \n",
    "                  faces = {('E', 'F', 'G'), ('E', 'F', 'H'), \n",
    "                           ('E', 'F', 'G'), ('F', 'G', 'H')},\n",
    "                  vertexes = tet2)"
   ]
  },
  {
   "cell_type": "code",
   "execution_count": 7,
   "metadata": {},
   "outputs": [
    {
     "data": {
      "text/plain": [
       "{('E', 'F'), ('E', 'G'), ('E', 'H'), ('F', 'G'), ('F', 'H'), ('G', 'H')}"
      ]
     },
     "execution_count": 7,
     "metadata": {},
     "output_type": "execute_result"
    }
   ],
   "source": [
    "Tet2.edges"
   ]
  },
  {
   "cell_type": "markdown",
   "metadata": {},
   "source": [
    "Back to Chapter 6: [Vectors in Space](Vectors%20in%20Space.ipynb) <br />\n",
    "Continue to Chapter 8: [Transformations](Transformations.ipynb)<br />\n",
    "[Introduction / Table of Contents](Introduction.ipynb)"
   ]
  }
 ],
 "metadata": {
  "kernelspec": {
   "display_name": "Python 3",
   "language": "python",
   "name": "python3"
  },
  "language_info": {
   "codemirror_mode": {
    "name": "ipython",
    "version": 3
   },
   "file_extension": ".py",
   "mimetype": "text/x-python",
   "name": "python",
   "nbconvert_exporter": "python",
   "pygments_lexer": "ipython3",
   "version": "3.7.4"
  }
 },
 "nbformat": 4,
 "nbformat_minor": 4
}
