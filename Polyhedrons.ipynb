{
 "cells": [
  {
   "cell_type": "markdown",
   "metadata": {},
   "source": [
    "[Oregon Curriculum Network](http://www.4dsolutions.net/ocn) <br />\n",
    "[Discovering Math with Python](Introduction.ipynb)\n",
    "\n",
    "\n",
    "# Chapter 7: POLYHEDRONS\n",
    "\n",
    "POV-Ray understands XYZ coordinates, so at the end of the day we'll need those for rendering our polyhedrons as ray tracings.  On the other hand, building our database of Vertexes might depend on a more comfortable set of 4-tuples.  We will store our vertexes in Quadray Coordinates (see Chapter 6) and convert to XYZ on the fly.\n",
    "\n",
    "Back to Chapter 6: [Vectors in Space](Vectors%20%in%20Space.ipynb) <br />\n",
    "Continue to Chapter 8: [ Transformations](Transformations.ipynb)<br />\n",
    "[Introduction / Table of Contents](Introduction.ipynb)"
   ]
  }
 ],
 "metadata": {
  "kernelspec": {
   "display_name": "Python 3",
   "language": "python",
   "name": "python3"
  },
  "language_info": {
   "codemirror_mode": {
    "name": "ipython",
    "version": 3
   },
   "file_extension": ".py",
   "mimetype": "text/x-python",
   "name": "python",
   "nbconvert_exporter": "python",
   "pygments_lexer": "ipython3",
   "version": "3.6.0"
  }
 },
 "nbformat": 4,
 "nbformat_minor": 2
}
