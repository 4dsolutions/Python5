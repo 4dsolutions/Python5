{
 "cells": [
  {
   "cell_type": "markdown",
   "metadata": {},
   "source": [
    "# Pandas and Datetimes\n",
    "\n",
    "Pandas helps ease the pain of timezones, even as it provides many useful tools for generating ```DateTimeIndex``` based time Series."
   ]
  },
  {
   "cell_type": "code",
   "execution_count": 1,
   "metadata": {},
   "outputs": [],
   "source": [
    "import pandas as pd\n",
    "from pandas import DataFrame, Series\n",
    "import numpy as np"
   ]
  },
  {
   "cell_type": "code",
   "execution_count": 11,
   "metadata": {},
   "outputs": [],
   "source": [
    "rng = pd.date_range('3/9/2012 9:30', periods=10, freq='D')"
   ]
  },
  {
   "cell_type": "code",
   "execution_count": 12,
   "metadata": {},
   "outputs": [
    {
     "data": {
      "text/plain": [
       "DatetimeIndex(['2012-03-09 09:30:00', '2012-03-10 09:30:00',\n",
       "               '2012-03-11 09:30:00', '2012-03-12 09:30:00',\n",
       "               '2012-03-13 09:30:00', '2012-03-14 09:30:00',\n",
       "               '2012-03-15 09:30:00', '2012-03-16 09:30:00',\n",
       "               '2012-03-17 09:30:00', '2012-03-18 09:30:00'],\n",
       "              dtype='datetime64[ns]', freq='D')"
      ]
     },
     "execution_count": 12,
     "metadata": {},
     "output_type": "execute_result"
    }
   ],
   "source": [
    "rng"
   ]
  },
  {
   "cell_type": "code",
   "execution_count": 13,
   "metadata": {},
   "outputs": [
    {
     "data": {
      "text/plain": [
       "pandas.core.indexes.datetimes.DatetimeIndex"
      ]
     },
     "execution_count": 13,
     "metadata": {},
     "output_type": "execute_result"
    }
   ],
   "source": [
    "type(rng)"
   ]
  },
  {
   "cell_type": "code",
   "execution_count": 14,
   "metadata": {},
   "outputs": [],
   "source": [
    "rng2 = pd.date_range('3/9/2012 9:30', periods=6, freq='M')"
   ]
  },
  {
   "cell_type": "code",
   "execution_count": 15,
   "metadata": {},
   "outputs": [
    {
     "data": {
      "text/plain": [
       "DatetimeIndex(['2012-03-31 09:30:00', '2012-04-30 09:30:00',\n",
       "               '2012-05-31 09:30:00', '2012-06-30 09:30:00',\n",
       "               '2012-07-31 09:30:00', '2012-08-31 09:30:00'],\n",
       "              dtype='datetime64[ns]', freq='M')"
      ]
     },
     "execution_count": 15,
     "metadata": {},
     "output_type": "execute_result"
    }
   ],
   "source": [
    "rng2"
   ]
  },
  {
   "cell_type": "code",
   "execution_count": 19,
   "metadata": {},
   "outputs": [
    {
     "data": {
      "text/plain": [
       "10"
      ]
     },
     "execution_count": 19,
     "metadata": {},
     "output_type": "execute_result"
    }
   ],
   "source": [
    "ts = Series(np.random.randn(len(rng)), index=rng)\n",
    "type(ts)\n",
    "len(rng)"
   ]
  },
  {
   "cell_type": "code",
   "execution_count": 26,
   "metadata": {},
   "outputs": [
    {
     "data": {
      "text/plain": [
       "2012-03-09 09:30:00    2.702059\n",
       "2012-03-10 09:30:00    0.595437\n",
       "2012-03-11 09:30:00    2.720095\n",
       "2012-03-12 09:30:00    0.268932\n",
       "2012-03-13 09:30:00   -0.984892\n",
       "2012-03-14 09:30:00   -1.145879\n",
       "2012-03-15 09:30:00   -0.214099\n",
       "2012-03-16 09:30:00    0.487290\n",
       "2012-03-17 09:30:00   -1.516585\n",
       "2012-03-18 09:30:00   -1.350592\n",
       "Freq: D, dtype: float64"
      ]
     },
     "execution_count": 26,
     "metadata": {},
     "output_type": "execute_result"
    }
   ],
   "source": [
    "ts"
   ]
  },
  {
   "cell_type": "code",
   "execution_count": 21,
   "metadata": {},
   "outputs": [],
   "source": [
    "ts.index.tz"
   ]
  },
  {
   "cell_type": "code",
   "execution_count": 22,
   "metadata": {},
   "outputs": [],
   "source": [
    "rng.tz"
   ]
  },
  {
   "cell_type": "code",
   "execution_count": 23,
   "metadata": {},
   "outputs": [],
   "source": [
    "ts_utc = ts.tz_localize('UTC')"
   ]
  },
  {
   "cell_type": "code",
   "execution_count": 24,
   "metadata": {},
   "outputs": [
    {
     "data": {
      "text/plain": [
       "<UTC>"
      ]
     },
     "execution_count": 24,
     "metadata": {},
     "output_type": "execute_result"
    }
   ],
   "source": [
    "ts_utc.index.tz"
   ]
  },
  {
   "cell_type": "code",
   "execution_count": 25,
   "metadata": {},
   "outputs": [
    {
     "data": {
      "text/plain": [
       "2012-03-09 09:30:00+00:00    2.702059\n",
       "2012-03-10 09:30:00+00:00    0.595437\n",
       "2012-03-11 09:30:00+00:00    2.720095\n",
       "2012-03-12 09:30:00+00:00    0.268932\n",
       "2012-03-13 09:30:00+00:00   -0.984892\n",
       "2012-03-14 09:30:00+00:00   -1.145879\n",
       "2012-03-15 09:30:00+00:00   -0.214099\n",
       "2012-03-16 09:30:00+00:00    0.487290\n",
       "2012-03-17 09:30:00+00:00   -1.516585\n",
       "2012-03-18 09:30:00+00:00   -1.350592\n",
       "Freq: D, dtype: float64"
      ]
     },
     "execution_count": 25,
     "metadata": {},
     "output_type": "execute_result"
    }
   ],
   "source": [
    "ts_utc"
   ]
  },
  {
   "cell_type": "code",
   "execution_count": 27,
   "metadata": {},
   "outputs": [
    {
     "data": {
      "text/plain": [
       "2012-03-09 01:30:00-08:00    2.702059\n",
       "2012-03-10 01:30:00-08:00    0.595437\n",
       "2012-03-11 01:30:00-08:00    2.720095\n",
       "2012-03-12 02:30:00-07:00    0.268932\n",
       "2012-03-13 02:30:00-07:00   -0.984892\n",
       "2012-03-14 02:30:00-07:00   -1.145879\n",
       "2012-03-15 02:30:00-07:00   -0.214099\n",
       "2012-03-16 02:30:00-07:00    0.487290\n",
       "2012-03-17 02:30:00-07:00   -1.516585\n",
       "2012-03-18 02:30:00-07:00   -1.350592\n",
       "Freq: D, dtype: float64"
      ]
     },
     "execution_count": 27,
     "metadata": {},
     "output_type": "execute_result"
    }
   ],
   "source": [
    "ts_pacific = ts_utc.tz_convert('US/Pacific')\n",
    "ts_pacific"
   ]
  },
  {
   "cell_type": "code",
   "execution_count": 28,
   "metadata": {},
   "outputs": [
    {
     "data": {
      "image/jpeg": "[encoded data removed]",
      "text/html": [
       "\n",
       "        <iframe\n",
       "            width=\"400\"\n",
       "            height=\"300\"\n",
       "            src=\"https://www.youtube.com/embed/k4EUTMPuvHo\"\n",
       "            frameborder=\"0\"\n",
       "            allowfullscreen\n",
       "        ></iframe>\n",
       "        "
      ],
      "text/plain": [
       "<IPython.lib.display.YouTubeVideo at 0x1140d33c8>"
      ]
     },
     "execution_count": 28,
     "metadata": {},
     "output_type": "execute_result"
    }
   ],
   "source": [
    "from IPython.display import YouTubeVideo\n",
    "YouTubeVideo(\"k4EUTMPuvHo\")"
   ]
  },
  {
   "cell_type": "code",
   "execution_count": 29,
   "metadata": {},
   "outputs": [
    {
     "data": {
      "text/plain": [
       "2012-03-09 04:30:00-05:00    2.702059\n",
       "2012-03-10 04:30:00-05:00    0.595437\n",
       "2012-03-11 05:30:00-04:00    2.720095\n",
       "2012-03-12 05:30:00-04:00    0.268932\n",
       "2012-03-13 05:30:00-04:00   -0.984892\n",
       "2012-03-14 05:30:00-04:00   -1.145879\n",
       "2012-03-15 05:30:00-04:00   -0.214099\n",
       "2012-03-16 05:30:00-04:00    0.487290\n",
       "2012-03-17 05:30:00-04:00   -1.516585\n",
       "2012-03-18 05:30:00-04:00   -1.350592\n",
       "Freq: D, dtype: float64"
      ]
     },
     "execution_count": 29,
     "metadata": {},
     "output_type": "execute_result"
    }
   ],
   "source": [
    "ts_eastern = ts_pacific.tz_convert('US/Eastern')\n",
    "ts_eastern"
   ]
  },
  {
   "cell_type": "code",
   "execution_count": 30,
   "metadata": {},
   "outputs": [
    {
     "data": {
      "text/plain": [
       "2012-03-09 10:30:00+01:00    2.702059\n",
       "2012-03-10 10:30:00+01:00    0.595437\n",
       "2012-03-11 10:30:00+01:00    2.720095\n",
       "2012-03-12 10:30:00+01:00    0.268932\n",
       "2012-03-13 10:30:00+01:00   -0.984892\n",
       "2012-03-14 10:30:00+01:00   -1.145879\n",
       "2012-03-15 10:30:00+01:00   -0.214099\n",
       "2012-03-16 10:30:00+01:00    0.487290\n",
       "2012-03-17 10:30:00+01:00   -1.516585\n",
       "2012-03-18 10:30:00+01:00   -1.350592\n",
       "Freq: D, dtype: float64"
      ]
     },
     "execution_count": 30,
     "metadata": {},
     "output_type": "execute_result"
    }
   ],
   "source": [
    "ts_berlin = ts_pacific.tz_convert('Europe/Berlin')\n",
    "ts_berlin"
   ]
  },
  {
   "cell_type": "markdown",
   "metadata": {},
   "source": [
    "# Timestamp type (for individual datetimes)"
   ]
  },
  {
   "cell_type": "code",
   "execution_count": 31,
   "metadata": {},
   "outputs": [],
   "source": [
    "stamp = pd.Timestamp('2011-03-12 04:00')"
   ]
  },
  {
   "cell_type": "code",
   "execution_count": 32,
   "metadata": {},
   "outputs": [],
   "source": [
    "stamp2 = pd.Timestamp('Wed May 23 11:35:54 2018') # will this work too?"
   ]
  },
  {
   "cell_type": "code",
   "execution_count": 33,
   "metadata": {},
   "outputs": [
    {
     "data": {
      "text/plain": [
       "pandas._libs.tslibs.timestamps.Timestamp"
      ]
     },
     "execution_count": 33,
     "metadata": {},
     "output_type": "execute_result"
    }
   ],
   "source": [
    "type(stamp2)"
   ]
  },
  {
   "cell_type": "code",
   "execution_count": 34,
   "metadata": {},
   "outputs": [
    {
     "data": {
      "text/plain": [
       "Timestamp('2018-05-23 11:35:54-0700', tz='US/Pacific')"
      ]
     },
     "execution_count": 34,
     "metadata": {},
     "output_type": "execute_result"
    }
   ],
   "source": [
    "stamp2_pac = stamp2.tz_localize('US/Pacific')\n",
    "stamp2_pac"
   ]
  },
  {
   "cell_type": "code",
   "execution_count": 35,
   "metadata": {},
   "outputs": [
    {
     "data": {
      "text/plain": [
       "Timestamp('2018-05-23 21:35:54+0300', tz='Europe/Moscow')"
      ]
     },
     "execution_count": 35,
     "metadata": {},
     "output_type": "execute_result"
    }
   ],
   "source": [
    "stamp2_pac.tz_convert('Europe/Moscow')"
   ]
  },
  {
   "cell_type": "code",
   "execution_count": 36,
   "metadata": {},
   "outputs": [
    {
     "data": {
      "text/plain": [
       "1527100554000000000"
      ]
     },
     "execution_count": 36,
     "metadata": {},
     "output_type": "execute_result"
    }
   ],
   "source": [
    "stamp2_pac.value # nanoseconds since the UNIX Epoch, Jan 1 1970"
   ]
  },
  {
   "cell_type": "code",
   "execution_count": 37,
   "metadata": {},
   "outputs": [
    {
     "data": {
      "text/plain": [
       "1527100554000000000"
      ]
     },
     "execution_count": 37,
     "metadata": {},
     "output_type": "execute_result"
    }
   ],
   "source": [
    "stamp2_pac.tz_convert('Europe/Moscow').value"
   ]
  },
  {
   "cell_type": "code",
   "execution_count": 38,
   "metadata": {},
   "outputs": [],
   "source": [
    "stamp3 = pd.Timestamp('Wed May 23 11:35:54 1950') "
   ]
  },
  {
   "cell_type": "code",
   "execution_count": 39,
   "metadata": {},
   "outputs": [
    {
     "data": {
      "text/plain": [
       "-618841446000000000"
      ]
     },
     "execution_count": 39,
     "metadata": {},
     "output_type": "execute_result"
    }
   ],
   "source": [
    "stamp3.value  # negative number because before the UNIX Epoch"
   ]
  },
  {
   "cell_type": "code",
   "execution_count": 40,
   "metadata": {},
   "outputs": [
    {
     "data": {
      "text/plain": [
       "2012-03-09 09:30:00    2.702059\n",
       "2012-03-10 09:30:00    0.595437\n",
       "2012-03-11 09:30:00    2.720095\n",
       "2012-03-12 09:30:00    0.268932\n",
       "2012-03-13 09:30:00   -0.984892\n",
       "2012-03-14 09:30:00   -1.145879\n",
       "2012-03-15 09:30:00   -0.214099\n",
       "2012-03-16 09:30:00    0.487290\n",
       "2012-03-17 09:30:00   -1.516585\n",
       "2012-03-18 09:30:00   -1.350592\n",
       "Freq: D, dtype: float64"
      ]
     },
     "execution_count": 40,
     "metadata": {},
     "output_type": "execute_result"
    }
   ],
   "source": [
    "ts"
   ]
  },
  {
   "cell_type": "code",
   "execution_count": 41,
   "metadata": {},
   "outputs": [],
   "source": [
    "ts_sum = ts_eastern + ts_utc.tz_convert(\"Europe/Moscow\")"
   ]
  },
  {
   "cell_type": "code",
   "execution_count": 42,
   "metadata": {},
   "outputs": [
    {
     "data": {
      "text/plain": [
       "DatetimeIndex(['2012-03-09 09:30:00+00:00', '2012-03-10 09:30:00+00:00',\n",
       "               '2012-03-11 09:30:00+00:00', '2012-03-12 09:30:00+00:00',\n",
       "               '2012-03-13 09:30:00+00:00', '2012-03-14 09:30:00+00:00',\n",
       "               '2012-03-15 09:30:00+00:00', '2012-03-16 09:30:00+00:00',\n",
       "               '2012-03-17 09:30:00+00:00', '2012-03-18 09:30:00+00:00'],\n",
       "              dtype='datetime64[ns, UTC]', freq='D')"
      ]
     },
     "execution_count": 42,
     "metadata": {},
     "output_type": "execute_result"
    }
   ],
   "source": [
    "ts_sum.index"
   ]
  },
  {
   "cell_type": "markdown",
   "metadata": {},
   "source": [
    "### LAB CHALLENGE\n",
    "\n",
    "What time is it right now in:\n",
    "\n",
    "* Moscow\n",
    "* Berlin\n",
    "* Tokyo"
   ]
  },
  {
   "cell_type": "code",
   "execution_count": 51,
   "metadata": {},
   "outputs": [],
   "source": [
    "right_now = pd.Timestamp.now(tz='US/Pacific')  #  getting you started"
   ]
  },
  {
   "cell_type": "code",
   "execution_count": 53,
   "metadata": {},
   "outputs": [
    {
     "name": "stdout",
     "output_type": "stream",
     "text": [
      "California 2018-05-23 21:46:40.670918-07:00\n",
      "Moscow     2018-05-24 07:46:40.670918+03:00\n",
      "Berlin     2018-05-24 06:46:40.670918+02:00\n",
      "Tokyo      2018-05-24 13:46:40.670918+09:00\n"
     ]
    }
   ],
   "source": [
    "print(\"California\", right_now)\n",
    "print(\"Moscow    \", right_now.tz_convert('Europe/Moscow'))\n",
    "print(\"Berlin    \", right_now.tz_convert('Europe/Berlin'))\n",
    "print(\"Tokyo     \", right_now.tz_convert('Asia/Tokyo'))"
   ]
  },
  {
   "cell_type": "code",
   "execution_count": null,
   "metadata": {},
   "outputs": [],
   "source": []
  }
 ],
 "metadata": {
  "kernelspec": {
   "display_name": "Python 3",
   "language": "python",
   "name": "python3"
  },
  "language_info": {
   "codemirror_mode": {
    "name": "ipython",
    "version": 3
   },
   "file_extension": ".py",
   "mimetype": "text/x-python",
   "name": "python",
   "nbconvert_exporter": "python",
   "pygments_lexer": "ipython3",
   "version": "3.6.4"
  }
 },
 "nbformat": 4,
 "nbformat_minor": 2
}
