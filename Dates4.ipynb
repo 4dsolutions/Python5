{
 "cells": [
  {
   "cell_type": "markdown",
   "metadata": {},
   "source": [
    "# Pandas Periods"
   ]
  },
  {
   "cell_type": "code",
   "execution_count": 1,
   "metadata": {},
   "outputs": [],
   "source": [
    "import pandas as pd\n",
    "from pandas import Series, DataFrame, Period, Timestamp\n",
    "import numpy as np"
   ]
  },
  {
   "cell_type": "code",
   "execution_count": 2,
   "metadata": {},
   "outputs": [
    {
     "data": {
      "text/plain": [
       "Period('2007', 'A-DEC')"
      ]
     },
     "execution_count": 2,
     "metadata": {},
     "output_type": "execute_result"
    }
   ],
   "source": [
    "p = Period(2007, freq='A-DEC')  # an interval from Jan 1 to Dec 31, 2007\n",
    "p"
   ]
  },
  {
   "cell_type": "code",
   "execution_count": 3,
   "metadata": {},
   "outputs": [
    {
     "data": {
      "text/plain": [
       "Period('2012', 'A-DEC')"
      ]
     },
     "execution_count": 3,
     "metadata": {},
     "output_type": "execute_result"
    }
   ],
   "source": [
    "p + 5"
   ]
  },
  {
   "cell_type": "code",
   "execution_count": 4,
   "metadata": {},
   "outputs": [
    {
     "data": {
      "text/plain": [
       "Period('2005', 'A-DEC')"
      ]
     },
     "execution_count": 4,
     "metadata": {},
     "output_type": "execute_result"
    }
   ],
   "source": [
    "p - 2"
   ]
  },
  {
   "cell_type": "code",
   "execution_count": 5,
   "metadata": {},
   "outputs": [
    {
     "data": {
      "text/plain": [
       "7"
      ]
     },
     "execution_count": 5,
     "metadata": {},
     "output_type": "execute_result"
    }
   ],
   "source": [
    "p - Period(2000, freq='A-DEC')"
   ]
  },
  {
   "cell_type": "code",
   "execution_count": 6,
   "metadata": {},
   "outputs": [],
   "source": [
    "rng_years = pd.period_range('1/1/2000', '1/1/2018', freq='Y')"
   ]
  },
  {
   "cell_type": "code",
   "execution_count": 7,
   "metadata": {},
   "outputs": [
    {
     "data": {
      "text/plain": [
       "PeriodIndex(['2000', '2001', '2002', '2003', '2004', '2005', '2006', '2007',\n",
       "             '2008', '2009', '2010', '2011', '2012', '2013', '2014', '2015',\n",
       "             '2016', '2017', '2018'],\n",
       "            dtype='period[A-DEC]', freq='A-DEC')"
      ]
     },
     "execution_count": 7,
     "metadata": {},
     "output_type": "execute_result"
    }
   ],
   "source": [
    "rng_years"
   ]
  },
  {
   "cell_type": "code",
   "execution_count": 8,
   "metadata": {},
   "outputs": [],
   "source": [
    "rng_months = pd.period_range('1/1/2000', '1/1/2018', freq='M')"
   ]
  },
  {
   "cell_type": "code",
   "execution_count": 9,
   "metadata": {},
   "outputs": [
    {
     "data": {
      "text/plain": [
       "PeriodIndex(['2000-01', '2000-02', '2000-03', '2000-04', '2000-05', '2000-06',\n",
       "             '2000-07', '2000-08', '2000-09', '2000-10',\n",
       "             ...\n",
       "             '2017-04', '2017-05', '2017-06', '2017-07', '2017-08', '2017-09',\n",
       "             '2017-10', '2017-11', '2017-12', '2018-01'],\n",
       "            dtype='period[M]', length=217, freq='M')"
      ]
     },
     "execution_count": 9,
     "metadata": {},
     "output_type": "execute_result"
    }
   ],
   "source": [
    "rng_months"
   ]
  },
  {
   "cell_type": "code",
   "execution_count": 10,
   "metadata": {},
   "outputs": [
    {
     "data": {
      "text/plain": [
       "pandas.core.indexes.period.PeriodIndex"
      ]
     },
     "execution_count": 10,
     "metadata": {},
     "output_type": "execute_result"
    }
   ],
   "source": [
    "type(rng_months)"
   ]
  },
  {
   "cell_type": "code",
   "execution_count": 11,
   "metadata": {},
   "outputs": [
    {
     "data": {
      "text/plain": [
       "2000    0.087501\n",
       "2001    1.873060\n",
       "2002   -0.269831\n",
       "2003   -1.753858\n",
       "2004   -1.039908\n",
       "2005   -1.748864\n",
       "2006   -0.246767\n",
       "2007    0.421787\n",
       "2008   -0.223238\n",
       "2009   -0.376324\n",
       "2010   -0.139968\n",
       "2011    0.459687\n",
       "2012   -0.523700\n",
       "2013    1.280102\n",
       "2014   -0.623197\n",
       "2015    1.820796\n",
       "2016   -0.353539\n",
       "2017    0.584933\n",
       "2018    1.472999\n",
       "Freq: A-DEC, dtype: float64"
      ]
     },
     "execution_count": 11,
     "metadata": {},
     "output_type": "execute_result"
    }
   ],
   "source": [
    "s = Series(np.random.randn(len(rng_years)), index=rng_years)\n",
    "s"
   ]
  },
  {
   "cell_type": "code",
   "execution_count": 12,
   "metadata": {},
   "outputs": [
    {
     "data": {
      "text/plain": [
       "PeriodIndex(['2000', '2001', '2002', '2003', '2004', '2005', '2006', '2007',\n",
       "             '2008', '2009', '2010', '2011', '2012', '2013', '2014', '2015',\n",
       "             '2016', '2017', '2018'],\n",
       "            dtype='period[A-DEC]', freq='A-DEC')"
      ]
     },
     "execution_count": 12,
     "metadata": {},
     "output_type": "execute_result"
    }
   ],
   "source": [
    "s.index"
   ]
  },
  {
   "cell_type": "code",
   "execution_count": 13,
   "metadata": {},
   "outputs": [
    {
     "data": {
      "text/plain": [
       "PeriodIndex(['2000', '2001', '2002', '2003', '2004', '2005', '2006', '2007',\n",
       "             '2008', '2009', '2010', '2011', '2012', '2013', '2014', '2015',\n",
       "             '2016', '2017', '2018'],\n",
       "            dtype='period[A-DEC]', freq='A-DEC')"
      ]
     },
     "execution_count": 13,
     "metadata": {},
     "output_type": "execute_result"
    }
   ],
   "source": [
    "rng_years"
   ]
  },
  {
   "cell_type": "code",
   "execution_count": 14,
   "metadata": {},
   "outputs": [
    {
     "data": {
      "text/plain": [
       "PeriodIndex(['2000-01', '2001-01', '2002-01', '2003-01', '2004-01', '2005-01',\n",
       "             '2006-01', '2007-01', '2008-01', '2009-01', '2010-01', '2011-01',\n",
       "             '2012-01', '2013-01', '2014-01', '2015-01', '2016-01', '2017-01',\n",
       "             '2018-01'],\n",
       "            dtype='period[M]', freq='M')"
      ]
     },
     "execution_count": 14,
     "metadata": {},
     "output_type": "execute_result"
    }
   ],
   "source": [
    "rng_years.asfreq('M', how='start')"
   ]
  },
  {
   "cell_type": "code",
   "execution_count": 15,
   "metadata": {},
   "outputs": [
    {
     "data": {
      "text/plain": [
       "PeriodIndex(['2000-12', '2001-12', '2002-12', '2003-12', '2004-12', '2005-12',\n",
       "             '2006-12', '2007-12', '2008-12', '2009-12', '2010-12', '2011-12',\n",
       "             '2012-12', '2013-12', '2014-12', '2015-12', '2016-12', '2017-12',\n",
       "             '2018-12'],\n",
       "            dtype='period[M]', freq='M')"
      ]
     },
     "execution_count": 15,
     "metadata": {},
     "output_type": "execute_result"
    }
   ],
   "source": [
    "rng_years.asfreq('M', how='end')"
   ]
  },
  {
   "cell_type": "code",
   "execution_count": 16,
   "metadata": {},
   "outputs": [
    {
     "data": {
      "text/plain": [
       "PeriodIndex(['2000-12-31', '2001-12-31', '2002-12-31', '2003-12-31',\n",
       "             '2004-12-31', '2005-12-31', '2006-12-31', '2007-12-31',\n",
       "             '2008-12-31', '2009-12-31', '2010-12-31', '2011-12-31',\n",
       "             '2012-12-31', '2013-12-31', '2014-12-31', '2015-12-31',\n",
       "             '2016-12-31', '2017-12-31', '2018-12-31'],\n",
       "            dtype='period[D]', freq='D')"
      ]
     },
     "execution_count": 16,
     "metadata": {},
     "output_type": "execute_result"
    }
   ],
   "source": [
    "rng_years.asfreq('D', how='end')"
   ]
  },
  {
   "cell_type": "code",
   "execution_count": 17,
   "metadata": {},
   "outputs": [
    {
     "data": {
      "text/plain": [
       "PeriodIndex(['2000-01-31', '2000-02-29', '2000-03-31', '2000-04-30',\n",
       "             '2000-05-31', '2000-06-30', '2000-07-31', '2000-08-31',\n",
       "             '2000-09-30', '2000-10-31',\n",
       "             ...\n",
       "             '2017-04-30', '2017-05-31', '2017-06-30', '2017-07-31',\n",
       "             '2017-08-31', '2017-09-30', '2017-10-31', '2017-11-30',\n",
       "             '2017-12-31', '2018-01-31'],\n",
       "            dtype='period[D]', length=217, freq='D')"
      ]
     },
     "execution_count": 17,
     "metadata": {},
     "output_type": "execute_result"
    }
   ],
   "source": [
    "rng_months.asfreq('D', how='end')"
   ]
  },
  {
   "cell_type": "code",
   "execution_count": 18,
   "metadata": {},
   "outputs": [],
   "source": [
    "fiscal_year = Period('2007', freq='A-JUN')"
   ]
  },
  {
   "cell_type": "code",
   "execution_count": 19,
   "metadata": {},
   "outputs": [
    {
     "data": {
      "text/plain": [
       "Period('2006-07', 'M')"
      ]
     },
     "execution_count": 19,
     "metadata": {},
     "output_type": "execute_result"
    }
   ],
   "source": [
    "fiscal_year.asfreq('M', 'start')"
   ]
  },
  {
   "cell_type": "code",
   "execution_count": 20,
   "metadata": {},
   "outputs": [
    {
     "data": {
      "text/plain": [
       "Period('2007-06', 'M')"
      ]
     },
     "execution_count": 20,
     "metadata": {},
     "output_type": "execute_result"
    }
   ],
   "source": [
    "fiscal_year.asfreq('M', 'end')"
   ]
  },
  {
   "cell_type": "code",
   "execution_count": 21,
   "metadata": {},
   "outputs": [
    {
     "data": {
      "text/plain": [
       "Period('2006-07-01', 'D')"
      ]
     },
     "execution_count": 21,
     "metadata": {},
     "output_type": "execute_result"
    }
   ],
   "source": [
    "fiscal_year.asfreq('D', 'start')"
   ]
  },
  {
   "cell_type": "code",
   "execution_count": 22,
   "metadata": {},
   "outputs": [
    {
     "data": {
      "text/plain": [
       "Period('2007-06-30', 'D')"
      ]
     },
     "execution_count": 22,
     "metadata": {},
     "output_type": "execute_result"
    }
   ],
   "source": [
    "fiscal_year.asfreq('D', 'end')"
   ]
  },
  {
   "cell_type": "markdown",
   "metadata": {},
   "source": [
    "## Quarterly Period Frequencies"
   ]
  },
  {
   "cell_type": "code",
   "execution_count": 23,
   "metadata": {},
   "outputs": [],
   "source": [
    "p = Period('2018Q4', freq='Q-JAN')"
   ]
  },
  {
   "cell_type": "code",
   "execution_count": 24,
   "metadata": {},
   "outputs": [
    {
     "data": {
      "text/plain": [
       "Period('2018Q4', 'Q-JAN')"
      ]
     },
     "execution_count": 24,
     "metadata": {},
     "output_type": "execute_result"
    }
   ],
   "source": [
    "p"
   ]
  },
  {
   "cell_type": "code",
   "execution_count": 25,
   "metadata": {},
   "outputs": [
    {
     "data": {
      "text/plain": [
       "Period('2017-11-01', 'D')"
      ]
     },
     "execution_count": 25,
     "metadata": {},
     "output_type": "execute_result"
    }
   ],
   "source": [
    "p.asfreq('D', 'start')"
   ]
  },
  {
   "cell_type": "code",
   "execution_count": 26,
   "metadata": {},
   "outputs": [
    {
     "data": {
      "text/plain": [
       "Period('2018-01-31', 'D')"
      ]
     },
     "execution_count": 26,
     "metadata": {},
     "output_type": "execute_result"
    }
   ],
   "source": [
    "p.asfreq('D', 'end')"
   ]
  },
  {
   "cell_type": "code",
   "execution_count": 27,
   "metadata": {},
   "outputs": [
    {
     "data": {
      "text/plain": [
       "Period('2017', 'A-DEC')"
      ]
     },
     "execution_count": 27,
     "metadata": {},
     "output_type": "execute_result"
    }
   ],
   "source": [
    "p.asfreq('Y', 'start')"
   ]
  },
  {
   "cell_type": "code",
   "execution_count": 28,
   "metadata": {},
   "outputs": [
    {
     "data": {
      "text/plain": [
       "Period('2017-11', 'M')"
      ]
     },
     "execution_count": 28,
     "metadata": {},
     "output_type": "execute_result"
    }
   ],
   "source": [
    "p.asfreq('M', 'start')"
   ]
  },
  {
   "cell_type": "code",
   "execution_count": 29,
   "metadata": {},
   "outputs": [
    {
     "data": {
      "text/plain": [
       "Period('2018-02', 'M')"
      ]
     },
     "execution_count": 29,
     "metadata": {},
     "output_type": "execute_result"
    }
   ],
   "source": [
    "p.asfreq('M', 'start') + 3"
   ]
  },
  {
   "cell_type": "code",
   "execution_count": 30,
   "metadata": {},
   "outputs": [
    {
     "data": {
      "text/plain": [
       "Period('2018Q4', 'Q-JAN')"
      ]
     },
     "execution_count": 30,
     "metadata": {},
     "output_type": "execute_result"
    }
   ],
   "source": [
    "p.asfreq('Q-JAN', 'start')"
   ]
  },
  {
   "cell_type": "code",
   "execution_count": 31,
   "metadata": {},
   "outputs": [
    {
     "data": {
      "text/plain": [
       "Period('2018Q4', 'Q-JAN')"
      ]
     },
     "execution_count": 31,
     "metadata": {},
     "output_type": "execute_result"
    }
   ],
   "source": [
    "p.asfreq('Q-JAN', 'end')"
   ]
  },
  {
   "cell_type": "code",
   "execution_count": 32,
   "metadata": {},
   "outputs": [
    {
     "data": {
      "text/plain": [
       "Period('2018Q1', 'Q-DEC')"
      ]
     },
     "execution_count": 32,
     "metadata": {},
     "output_type": "execute_result"
    }
   ],
   "source": [
    "p.asfreq('Q', 'end')"
   ]
  },
  {
   "cell_type": "markdown",
   "metadata": {},
   "source": [
    "## Timestamps to Periods (and Back)"
   ]
  },
  {
   "cell_type": "code",
   "execution_count": 33,
   "metadata": {},
   "outputs": [],
   "source": [
    "rng = pd.date_range('1/1/2018', periods=6, freq='M')"
   ]
  },
  {
   "cell_type": "code",
   "execution_count": 34,
   "metadata": {},
   "outputs": [
    {
     "data": {
      "text/plain": [
       "DatetimeIndex(['2018-01-31', '2018-02-28', '2018-03-31', '2018-04-30',\n",
       "               '2018-05-31', '2018-06-30'],\n",
       "              dtype='datetime64[ns]', freq='M')"
      ]
     },
     "execution_count": 34,
     "metadata": {},
     "output_type": "execute_result"
    }
   ],
   "source": [
    "rng"
   ]
  },
  {
   "cell_type": "code",
   "execution_count": 35,
   "metadata": {},
   "outputs": [],
   "source": [
    "ts = Series(np.random.randn(6), index=rng)"
   ]
  },
  {
   "cell_type": "code",
   "execution_count": 36,
   "metadata": {},
   "outputs": [
    {
     "data": {
      "text/plain": [
       "2018-01-31   -1.197964\n",
       "2018-02-28    0.593871\n",
       "2018-03-31   -0.039549\n",
       "2018-04-30    1.300169\n",
       "2018-05-31    0.350475\n",
       "2018-06-30    0.213500\n",
       "Freq: M, dtype: float64"
      ]
     },
     "execution_count": 36,
     "metadata": {},
     "output_type": "execute_result"
    }
   ],
   "source": [
    "ts"
   ]
  },
  {
   "cell_type": "code",
   "execution_count": 37,
   "metadata": {},
   "outputs": [],
   "source": [
    "pts = ts.to_period()"
   ]
  },
  {
   "cell_type": "code",
   "execution_count": 38,
   "metadata": {},
   "outputs": [
    {
     "data": {
      "text/plain": [
       "2018-01   -1.197964\n",
       "2018-02    0.593871\n",
       "2018-03   -0.039549\n",
       "2018-04    1.300169\n",
       "2018-05    0.350475\n",
       "2018-06    0.213500\n",
       "Freq: M, dtype: float64"
      ]
     },
     "execution_count": 38,
     "metadata": {},
     "output_type": "execute_result"
    }
   ],
   "source": [
    "pts"
   ]
  },
  {
   "cell_type": "code",
   "execution_count": 39,
   "metadata": {},
   "outputs": [],
   "source": [
    "rng = pd.date_range('1/28/2018', periods=10, freq='D')\n",
    "ts2 = Series(np.random.randn(len(rng)), index=rng)"
   ]
  },
  {
   "cell_type": "code",
   "execution_count": 40,
   "metadata": {},
   "outputs": [
    {
     "data": {
      "text/plain": [
       "2018-01-28    0.761732\n",
       "2018-01-29    1.631007\n",
       "2018-01-30    0.577628\n",
       "2018-01-31   -1.913628\n",
       "2018-02-01    1.854390\n",
       "2018-02-02    1.747621\n",
       "2018-02-03   -2.309767\n",
       "2018-02-04   -0.408091\n",
       "2018-02-05   -0.449351\n",
       "2018-02-06    0.045971\n",
       "Freq: D, dtype: float64"
      ]
     },
     "execution_count": 40,
     "metadata": {},
     "output_type": "execute_result"
    }
   ],
   "source": [
    "ts2"
   ]
  },
  {
   "cell_type": "code",
   "execution_count": 41,
   "metadata": {},
   "outputs": [
    {
     "data": {
      "text/plain": [
       "2018-01    0.761732\n",
       "2018-01    1.631007\n",
       "2018-01    0.577628\n",
       "2018-01   -1.913628\n",
       "2018-02    1.854390\n",
       "2018-02    1.747621\n",
       "2018-02   -2.309767\n",
       "2018-02   -0.408091\n",
       "2018-02   -0.449351\n",
       "2018-02    0.045971\n",
       "Freq: M, dtype: float64"
      ]
     },
     "execution_count": 41,
     "metadata": {},
     "output_type": "execute_result"
    }
   ],
   "source": [
    "ts2.to_period('M')"
   ]
  },
  {
   "cell_type": "code",
   "execution_count": 42,
   "metadata": {},
   "outputs": [
    {
     "data": {
      "text/plain": [
       "2018-01   -1.197964\n",
       "2018-02    0.593871\n",
       "2018-03   -0.039549\n",
       "2018-04    1.300169\n",
       "2018-05    0.350475\n",
       "2018-06    0.213500\n",
       "Freq: M, dtype: float64"
      ]
     },
     "execution_count": 42,
     "metadata": {},
     "output_type": "execute_result"
    }
   ],
   "source": [
    "pts"
   ]
  },
  {
   "cell_type": "code",
   "execution_count": 43,
   "metadata": {},
   "outputs": [
    {
     "data": {
      "text/plain": [
       "2018-01-31   -1.197964\n",
       "2018-02-28    0.593871\n",
       "2018-03-31   -0.039549\n",
       "2018-04-30    1.300169\n",
       "2018-05-31    0.350475\n",
       "2018-06-30    0.213500\n",
       "Freq: M, dtype: float64"
      ]
     },
     "execution_count": 43,
     "metadata": {},
     "output_type": "execute_result"
    }
   ],
   "source": [
    "pts.to_timestamp(how='end')"
   ]
  },
  {
   "cell_type": "code",
   "execution_count": 44,
   "metadata": {},
   "outputs": [
    {
     "data": {
      "text/plain": [
       "2018-01-01   -1.197964\n",
       "2018-02-01    0.593871\n",
       "2018-03-01   -0.039549\n",
       "2018-04-01    1.300169\n",
       "2018-05-01    0.350475\n",
       "2018-06-01    0.213500\n",
       "Freq: MS, dtype: float64"
      ]
     },
     "execution_count": 44,
     "metadata": {},
     "output_type": "execute_result"
    }
   ],
   "source": [
    "pts.to_timestamp(how='start')"
   ]
  },
  {
   "cell_type": "code",
   "execution_count": 45,
   "metadata": {},
   "outputs": [],
   "source": [
    "pts2 = ts2.to_period('M')"
   ]
  },
  {
   "cell_type": "code",
   "execution_count": 46,
   "metadata": {},
   "outputs": [
    {
     "data": {
      "text/plain": [
       "2018-01    0.761732\n",
       "2018-01    1.631007\n",
       "2018-01    0.577628\n",
       "2018-01   -1.913628\n",
       "2018-02    1.854390\n",
       "2018-02    1.747621\n",
       "2018-02   -2.309767\n",
       "2018-02   -0.408091\n",
       "2018-02   -0.449351\n",
       "2018-02    0.045971\n",
       "Freq: M, dtype: float64"
      ]
     },
     "execution_count": 46,
     "metadata": {},
     "output_type": "execute_result"
    }
   ],
   "source": [
    "pts2"
   ]
  },
  {
   "cell_type": "code",
   "execution_count": 47,
   "metadata": {},
   "outputs": [
    {
     "data": {
      "text/plain": [
       "2018-01-31    0.761732\n",
       "2018-01-31    1.631007\n",
       "2018-01-31    0.577628\n",
       "2018-01-31   -1.913628\n",
       "2018-02-28    1.854390\n",
       "2018-02-28    1.747621\n",
       "2018-02-28   -2.309767\n",
       "2018-02-28   -0.408091\n",
       "2018-02-28   -0.449351\n",
       "2018-02-28    0.045971\n",
       "dtype: float64"
      ]
     },
     "execution_count": 47,
     "metadata": {},
     "output_type": "execute_result"
    }
   ],
   "source": [
    "pts2.to_timestamp(how='end')"
   ]
  },
  {
   "cell_type": "code",
   "execution_count": 48,
   "metadata": {},
   "outputs": [
    {
     "data": {
      "text/plain": [
       "2018-01-31   -1.197964\n",
       "2018-02-28    0.593871\n",
       "2018-03-31   -0.039549\n",
       "2018-04-30    1.300169\n",
       "2018-05-31    0.350475\n",
       "2018-06-30    0.213500\n",
       "Freq: M, dtype: float64"
      ]
     },
     "execution_count": 48,
     "metadata": {},
     "output_type": "execute_result"
    }
   ],
   "source": [
    "ts"
   ]
  },
  {
   "cell_type": "code",
   "execution_count": 51,
   "metadata": {},
   "outputs": [
    {
     "data": {
      "text/plain": [
       "pandas.core.series.Series"
      ]
     },
     "execution_count": 51,
     "metadata": {},
     "output_type": "execute_result"
    }
   ],
   "source": [
    "type(ts)"
   ]
  },
  {
   "cell_type": "code",
   "execution_count": 49,
   "metadata": {},
   "outputs": [
    {
     "data": {
      "text/plain": [
       "<matplotlib.axes._subplots.AxesSubplot at 0x1172a1278>"
      ]
     },
     "execution_count": 49,
     "metadata": {},
     "output_type": "execute_result"
    },
    {
     "data": {
      "image/png": "[encoded data removed]",
      "text/plain": [
       "<matplotlib.figure.Figure at 0x10ec12be0>"
      ]
     },
     "metadata": {},
     "output_type": "display_data"
    }
   ],
   "source": [
    "%matplotlib inline\n",
    "ts.plot(kind=\"bar\")"
   ]
  },
  {
   "cell_type": "code",
   "execution_count": 50,
   "metadata": {},
   "outputs": [
    {
     "data": {
      "text/plain": [
       "<matplotlib.axes._subplots.AxesSubplot at 0x11731e6d8>"
      ]
     },
     "execution_count": 50,
     "metadata": {},
     "output_type": "execute_result"
    },
    {
     "data": {
      "image/png": "[encoded data removed]",
      "text/plain": [
       "<matplotlib.figure.Figure at 0x117323a20>"
      ]
     },
     "metadata": {},
     "output_type": "display_data"
    }
   ],
   "source": [
    "ts.plot(kind=\"line\")"
   ]
  },
  {
   "cell_type": "markdown",
   "metadata": {},
   "source": [
    "### LAB CHALLENGE:  \n",
    "\n",
    "Using documentation (of course!) create a horizontal bar graph from the same data (ts)."
   ]
  },
  {
   "cell_type": "code",
   "execution_count": 52,
   "metadata": {},
   "outputs": [
    {
     "data": {
      "text/plain": [
       "<matplotlib.axes._subplots.AxesSubplot at 0x1173236a0>"
      ]
     },
     "execution_count": 52,
     "metadata": {},
     "output_type": "execute_result"
    },
    {
     "data": {
      "image/png": "[encoded data removed]",
      "text/plain": [
       "<matplotlib.figure.Figure at 0x117387160>"
      ]
     },
     "metadata": {},
     "output_type": "display_data"
    }
   ],
   "source": [
    "ts.plot(kind=\"barh\")"
   ]
  },
  {
   "cell_type": "code",
   "execution_count": null,
   "metadata": {},
   "outputs": [],
   "source": []
  }
 ],
 "metadata": {
  "kernelspec": {
   "display_name": "Python 3",
   "language": "python",
   "name": "python3"
  },
  "language_info": {
   "codemirror_mode": {
    "name": "ipython",
    "version": 3
   },
   "file_extension": ".py",
   "mimetype": "text/x-python",
   "name": "python",
   "nbconvert_exporter": "python",
   "pygments_lexer": "ipython3",
   "version": "3.6.4"
  }
 },
 "nbformat": 4,
 "nbformat_minor": 2
}
