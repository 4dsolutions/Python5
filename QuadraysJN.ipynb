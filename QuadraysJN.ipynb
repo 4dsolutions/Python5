{
 "cells": [
  {
   "cell_type": "markdown",
   "metadata": {},
   "source": [
    "STEM for Philosophers series<br/>[Oregon Curriculum Network](http://4dsolutions.net/ocn/)\n",
    "\n",
    "## Quadray Coordinates: Getting Started\n",
    "\n",
    "What are quadray coordinates and how are they used in philosophy?  For more background on this question, read my [Thinking Outside the Box: Language Games in Mathematics](https://medium.com/@kirbyurner/thinking-outside-the-box-dcdd9df4ba69), on Medium\n",
    "\n",
    "Lets start out with a stripped down XYZ Vector class that works pretty much as expected, in allowing for vector addition and subtraction, multiplication by a scalar.\n",
    "\n",
    "![quadrays](http://www.grunch.net/synergetics/quadray/quadray.gif)"
   ]
  },
  {
   "cell_type": "code",
   "execution_count": 1,
   "metadata": {},
   "outputs": [],
   "source": [
    "from math import radians, degrees, cos, sin, acos\n",
    "import math\n",
    "from operator import add, sub, mul, neg\n",
    "from collections import namedtuple\n",
    "\n",
    "XYZ = namedtuple(\"xyz_vector\", \"x y z\")\n",
    "IVM = namedtuple(\"ivm_vector\", \"a b c d\")\n",
    "\n",
    "root2   = 2.0**0.5\n",
    "\n",
    "        \n",
    "class Qvector:\n",
    "    \"\"\"Quadray vector\"\"\"\n",
    "\n",
    "    def __init__(self, arg):\n",
    "        \"\"\"Initialize a vector at an (x,y,z)\"\"\"\n",
    "        self.coords = self.norm(arg)\n",
    "\n",
    "    def __repr__(self):\n",
    "        return repr(self.coords)\n",
    "\n",
    "    def norm(self, arg):\n",
    "        \"\"\"Normalize such that 4-tuple all non-negative members.\"\"\"\n",
    "        return IVM(*tuple(map(sub, arg, [min(arg)] * 4))) \n",
    "    \n",
    "    def norm0(self):\n",
    "        \"\"\"Normalize such that sum of 4-tuple members = 0\"\"\"\n",
    "        q = self.coords\n",
    "        return IVM(*tuple(map(sub, q, [sum(q)/4.0] * 4))) \n",
    "\n",
    "    @property\n",
    "    def a(self):\n",
    "        return self.coords.a\n",
    "\n",
    "    @property\n",
    "    def b(self):\n",
    "        return self.coords.b\n",
    "\n",
    "    @property\n",
    "    def c(self):\n",
    "        return self.coords.c\n",
    "\n",
    "    @property\n",
    "    def d(self):\n",
    "        return self.coords.d\n",
    "    \n",
    "    def __eq__(self, other):\n",
    "        return self.coords == other.coords\n",
    "        \n",
    "    def __lt__(self, other):\n",
    "        return self.coords < other.coords\n",
    "\n",
    "    def __gt__(self, other):\n",
    "        return self.coords > other.coords\n",
    "    \n",
    "    def __hash__(self):\n",
    "        return hash(self.coords)\n",
    "    \n",
    "    def __mul__(self, scalar):\n",
    "        \"\"\"Return vector (self) * scalar.\"\"\"\n",
    "        newcoords = [scalar * dim for dim in self.coords]\n",
    "        return Qvector(newcoords)\n",
    "\n",
    "    __rmul__ = __mul__ # allow scalar * vector\n",
    "\n",
    "    def __truediv__(self,scalar):\n",
    "        \"\"\"Return vector (self) * 1/scalar\"\"\"        \n",
    "        return self.__mul__(1.0/scalar)\n",
    "    \n",
    "    def __add__(self,v1):\n",
    "        \"\"\"Add a vector to this vector, return a vector\"\"\" \n",
    "        newcoords = tuple(map(add, v1.coords, self.coords))\n",
    "        return Qvector(newcoords)\n",
    "        \n",
    "    def __sub__(self,v1):\n",
    "        \"\"\"Subtract vector from this vector, return a vector\"\"\"\n",
    "        return self.__add__(-v1)\n",
    "    \n",
    "    def __neg__(self):      \n",
    "        \"\"\"Return a vector, the negative of this one.\"\"\"\n",
    "        return Qvector(tuple(map(neg, self.coords)))\n",
    "                  \n",
    "    def dot(self,v1):\n",
    "        \"\"\"Return the dot product of self with another vector.\n",
    "        return a scalar\n",
    "        \n",
    "        >>> s1 = a.dot(b)/(a.length() * b.length())\n",
    "        >>> degrees(acos(s1))\n",
    "        109.47122063449069\n",
    "        \"\"\"\n",
    "        return 0.5 * sum(map(mul, self.norm0(), v1.norm0()))\n",
    "\n",
    "    def length(self):\n",
    "        \"\"\"Return this vector's length\"\"\"\n",
    "        return self.dot(self) ** 0.5\n",
    "        \n",
    "    def cross(self,v1):\n",
    "        \"\"\"Return the cross product of self with another vector.\n",
    "        return a Qvector\"\"\"\n",
    "        A = Qvector((1,0,0,0))\n",
    "        B = Qvector((0,1,0,0))\n",
    "        C = Qvector((0,0,1,0))\n",
    "        D = Qvector((0,0,0,1))\n",
    "        a1,b1,c1,d1 = v1.coords\n",
    "        a2,b2,c2,d2 = self.coords\n",
    "        k= (2.0**0.5)/4.0\n",
    "        sum =   (A*c1*d2 - A*d1*c2 - A*b1*d2 + A*b1*c2\n",
    "               + A*b2*d1 - A*b2*c1 - B*c1*d2 + B*d1*c2 \n",
    "               + b1*C*d2 - b1*D*c2 - b2*C*d1 + b2*D*c1 \n",
    "               + a1*B*d2 - a1*B*c2 - a1*C*d2 + a1*D*c2\n",
    "               + a1*b2*C - a1*b2*D - a2*B*d1 + a2*B*c1 \n",
    "               + a2*C*d1 - a2*D*c1 - a2*b1*C + a2*b1*D)\n",
    "        return k*sum\n",
    "\n",
    "    def angle(self, v1):\n",
    "        return self.xyz().angle(v1.xyz())\n",
    "        \n",
    "    def xyz(self):\n",
    "        a,b,c,d     =  self.coords\n",
    "        k           =  0.5/root2\n",
    "        xyz         = (k * (a - b - c + d),\n",
    "                       k * (a - b + c - d),\n",
    "                       k * (a + b - c - d))\n",
    "        return Vector(xyz)"
   ]
  },
  {
   "cell_type": "markdown",
   "metadata": {},
   "source": [
    "Converting to xyz will not work yet, as the Vector class is not yet defined.  That's what's coming."
   ]
  },
  {
   "cell_type": "code",
   "execution_count": 2,
   "metadata": {},
   "outputs": [],
   "source": [
    "class Vector:\n",
    "\n",
    "    def __init__(self, arg):\n",
    "        \"\"\"Initialize a vector at an (x,y,z)\"\"\"\n",
    "        self.xyz = XYZ(*map(float,arg))\n",
    "\n",
    "    def __repr__(self):\n",
    "        return repr(self.xyz)\n",
    "    \n",
    "    @property\n",
    "    def x(self):\n",
    "        return self.xyz.x\n",
    "\n",
    "    @property\n",
    "    def y(self):\n",
    "        return self.xyz.y\n",
    "\n",
    "    @property\n",
    "    def z(self):\n",
    "        return self.xyz.z\n",
    "    \n",
    "    def __mul__(self, scalar):\n",
    "        \"\"\"Return vector (self) * scalar.\"\"\"\n",
    "        newcoords = [scalar * dim for dim in self.xyz]\n",
    "        return type(self)(newcoords)\n",
    "\n",
    "    __rmul__ = __mul__ # allow scalar * vector\n",
    "\n",
    "    def __truediv__(self,scalar):\n",
    "        \"\"\"Return vector (self) * 1/scalar\"\"\"        \n",
    "        return self.__mul__(1.0/scalar)\n",
    "    \n",
    "    def __add__(self,v1):\n",
    "        \"\"\"Add a vector to this vector, return a vector\"\"\" \n",
    "        newcoords = map(add, v1.xyz, self.xyz)\n",
    "        return type(self)(newcoords)\n",
    "        \n",
    "    def __sub__(self,v1):\n",
    "        \"\"\"Subtract vector from this vector, return a vector\"\"\"\n",
    "        return self.__add__(-v1)\n",
    "    \n",
    "    def __neg__(self):      \n",
    "        \"\"\"Return a vector, the negative of this one.\"\"\"\n",
    "        return type(self)(tuple(map(neg, self.xyz)))\n",
    "\n",
    "    def unit(self):\n",
    "        return self.__mul__(1.0/self.length())\n",
    "\n",
    "    def dot(self,v1):\n",
    "        \"\"\"Return scalar dot product of this with another vector.\"\"\"\n",
    "        return sum(map(mul , v1.xyz, self.xyz))\n",
    "\n",
    "    def cross(self,v1):\n",
    "        \"\"\"Return the vector cross product of this with another vector\"\"\"\n",
    "        newcoords = (self.y * v1.z - self.z * v1.y, \n",
    "                     self.z * v1.x - self.x * v1.z,\n",
    "                     self.x * v1.y - self.y * v1.x )\n",
    "        return type(self)(newcoords)\n",
    "    \n",
    "    def length(self):\n",
    "        \"\"\"Return this vector's length\"\"\"\n",
    "        return self.dot(self) ** 0.5\n",
    "\n",
    "    def quadray(self):\n",
    "        \"\"\"return (a, b, c, d) quadray based on current (x, y, z)\"\"\"\n",
    "        x, y, z = self.xyz\n",
    "        k = 2/root2\n",
    "        a = k * ((x >= 0)* ( x) + (y >= 0) * ( y) + (z >= 0) * ( z))\n",
    "        b = k * ((x <  0)* (-x) + (y <  0) * (-y) + (z >= 0) * ( z))\n",
    "        c = k * ((x <  0)* (-x) + (y >= 0) * ( y) + (z <  0) * (-z))\n",
    "        d = k * ((x >= 0)* ( x) + (y <  0) * (-y) + (z <  0) * (-z))\n",
    "        return Qvector((a, b, c, d))"
   ]
  },
  {
   "cell_type": "markdown",
   "metadata": {},
   "source": [
    "At the end is a method for outputting in quadray coordinates.  \n",
    "\n",
    "Some design decisions were taken, conventions followed, in how the XYZ and IVM systems were overlaid. \n",
    "\n",
    "Lets not worry about that for now and just imagine a cube with edges sqrt(2)/2, one corner in each octant.  The face diagonals will have length 1 in this case.\n",
    "\n",
    "For example, in the all positive octant (+ + +) we would have a point at (sqrt(2)/4, sqrt(2)/4, sqrt(2)/4)."
   ]
  },
  {
   "cell_type": "code",
   "execution_count": 3,
   "metadata": {},
   "outputs": [
    {
     "name": "stdout",
     "output_type": "stream",
     "text": [
      "xyz_vector(x=0.3535533905932738, y=0.3535533905932738, z=0.3535533905932738)\n",
      "ivm_vector(a=1.0, b=0.0, c=0.0, d=0.0)\n"
     ]
    }
   ],
   "source": [
    "octant0 = Vector((root2/4, root2/4, root2/4))\n",
    "print(octant0.xyz)\n",
    "q0 = octant0.quadray()\n",
    "print(q0)"
   ]
  },
  {
   "cell_type": "code",
   "execution_count": 4,
   "metadata": {},
   "outputs": [
    {
     "data": {
      "text/plain": [
       "0.6123724356957945"
      ]
     },
     "execution_count": 4,
     "metadata": {},
     "output_type": "execute_result"
    }
   ],
   "source": [
    "q0.length()"
   ]
  },
  {
   "cell_type": "markdown",
   "metadata": {},
   "source": [
    "This might seem strange already. What appears to be a unit vector, has some irrational length. The cube below is flipped over somehow, but gives the idea.  Think of (1,0,0,0) as being in the all positive octant (+, +, +) of XYZ.\n",
    "\n",
    "Another issue with this cube, in the context of the surrounding computations, is all edges are doubled, with cube face diagonals set at 2.  Divide every linear dimension through by 2 to get the computations here.\n",
    "\n",
    "The body diagonal of a cube with unit face diagonas is $\\sqrt{6}/2$ meaning each quadray, which goes from the cube center to a corner, has a length of $\\sqrt(6)/4$. That's the lenght of ```q0``` shown above.\n",
    "\n",
    "![unit vector](http://www.grunch.net/synergetics/quadray/cube.gif)\n",
    "<div style=\"text-align: center;\">\n",
    "Fig 1:  Divide Through by 2 for Dimensions\n",
    "</div>"
   ]
  },
  {
   "cell_type": "code",
   "execution_count": 5,
   "metadata": {},
   "outputs": [
    {
     "name": "stdout",
     "output_type": "stream",
     "text": [
      "diff.quadray() ivm_vector(a=1.0, b=0.0, c=0.0, d=1.0)\n",
      "Length between adjacent corners:  0.7071067811865476\n"
     ]
    }
   ],
   "source": [
    "octant1 = Vector((-root2/4, root2/4, root2/4))  # neighboring octant\n",
    "diff = octant0 - octant1\n",
    "print(\"diff.quadray()\", diff.quadray())\n",
    "print(\"Length between adjacent corners: \", diff.length())"
   ]
  },
  {
   "cell_type": "markdown",
   "metadata": {},
   "source": [
    "This confirms the cube has the expected edge length.  This is not the length between two quadray tips, which is $1.0$, but between two adjacent corners of our cube, so $\\sqrt{2}/2$."
   ]
  },
  {
   "cell_type": "code",
   "execution_count": 6,
   "metadata": {},
   "outputs": [
    {
     "data": {
      "text/plain": [
       "0.7071067811865476"
      ]
     },
     "execution_count": 6,
     "metadata": {},
     "output_type": "execute_result"
    }
   ],
   "source": [
    "diff.quadray().length()"
   ]
  },
  {
   "cell_type": "code",
   "execution_count": 7,
   "metadata": {},
   "outputs": [
    {
     "data": {
      "text/plain": [
       "1.0"
      ]
     },
     "execution_count": 7,
     "metadata": {},
     "output_type": "execute_result"
    }
   ],
   "source": [
    "a = Qvector((1,0,0,0))\n",
    "b = Qvector((0,1,0,0))\n",
    "(a-b).length()"
   ]
  },
  {
   "cell_type": "markdown",
   "metadata": {},
   "source": [
    "Half the cube's vertices will align with the four spokes of the caltrop (in blue). These correspond the the vertexes of an embedded tetrahedron of edges 2 (in red), or edges 1 if measuring in D units.\n",
    "\n",
    "![alt txt](http://www.grunch.net/synergetics/quadray/q1x1.gif)"
   ]
  },
  {
   "cell_type": "markdown",
   "metadata": {},
   "source": [
    "Note that the Qvector class comes with two ways to express a Qray in canonical lowest terms.  One way preserves the non-negative coordinate address for every point.  The other way assures that the 4-tuple coordinates sum to zero.  I'm using the former for all representations (__repr__) whereas the latter gets used in various internal computations."
   ]
  },
  {
   "cell_type": "code",
   "execution_count": 8,
   "metadata": {},
   "outputs": [
    {
     "name": "stdout",
     "output_type": "stream",
     "text": [
      "Canonical representation: ivm_vector(a=0, b=1, c=0, d=0)\n",
      "Alternative expression:   ivm_vector(a=-0.25, b=0.75, c=-0.25, d=-0.25)\n",
      "v_sum length:             0.6123724356957945\n"
     ]
    }
   ],
   "source": [
    "# add up three quadrays and negate their sum, to get the other Qray\n",
    "a = Qvector((1,0,0,0))\n",
    "c = Qvector((0,0,1,0))\n",
    "d = Qvector((0,0,0,1))\n",
    "v_sum = -(a + c + d)\n",
    "print(\"Canonical representation:\", v_sum)\n",
    "print(\"Alternative expression:  \", v_sum.norm0())\n",
    "print(\"v_sum length:            \", v_sum.length())"
   ]
  },
  {
   "cell_type": "markdown",
   "metadata": {},
   "source": [
    "Related reading:<br />\n",
    "* [Computing Volumes](http://localhost:8888/notebooks/Documents/Python5/Computing%20Volumes.ipynb)\n",
    "* [Polyhedrons 101](https://github.com/4dsolutions/Python5/blob/master/Polyhedrons%20101.ipynb)"
   ]
  }
 ],
 "metadata": {
  "kernelspec": {
   "display_name": "Python 3",
   "language": "python",
   "name": "python3"
  },
  "language_info": {
   "codemirror_mode": {
    "name": "ipython",
    "version": 3
   },
   "file_extension": ".py",
   "mimetype": "text/x-python",
   "name": "python",
   "nbconvert_exporter": "python",
   "pygments_lexer": "ipython3",
   "version": "3.7.9"
  }
 },
 "nbformat": 4,
 "nbformat_minor": 4
}
