{
 "cells": [
  {
   "cell_type": "markdown",
   "metadata": {},
   "source": [
    "Python for Everyone!<br/>[Oregon Curriculum Network](http://4dsolutions.net/ocn/)\n",
    "\n",
    "## Python and JavaScript\n",
    "\n",
    "JavaScript has been moving [a lot closer to Python](http://worldgame.blogspot.com/2016/10/javascript-for-pythonistas.html), nowadays supporting classes, with a constructor like \\_\\_init\\_\\_ and *this* for *self*. \n",
    "\n",
    "Here in a Jupyter Notebook, we have a way to run both JavaScript and Python together.\n",
    "\n",
    "I'm using source code from [this article](https://medium.freecodecamp.com/a-gentle-introduction-to-data-structures-how-queues-work-f8b871938e64#.l2p002vqt), *A Gentle Introduction to Data Structures: How Queues Work* by Michael Olorunnisola, to show off the similarities between the two languages."
   ]
  },
  {
   "cell_type": "code",
   "execution_count": 1,
   "metadata": {
    "collapsed": false
   },
   "outputs": [
    {
     "data": {
      "application/javascript": [
       "\n",
       "class Queue {\n",
       "  constructor(){\n",
       "    this._storage = {};\n",
       "    this._start = -1; //replicating 0 index used for arrays\n",
       "    this._end = -1; //replicating 0 index used for arrays\n",
       "  }\n",
       "\n",
       "  enqueue(val){\n",
       "    this._storage[++this._end] = val; \n",
       "  }\n",
       "\n",
       "  dequeue(){\n",
       "    if(this.size()){ \n",
       "      let nextUp = this._storage[++this._start];\n",
       "      delete this._storage[this._start];\n",
       "\n",
       "      if(!this.size()){ \n",
       "        this._start = -1;\n",
       "        this._end = -1; \n",
       "      }\n",
       "\n",
       "      return nextUp;\n",
       "    }\n",
       "  }\n",
       "        \n",
       "  size(){\n",
       "   return this._end - this._start;\n",
       "  }\n",
       "} //end Queue\n",
       "\n",
       "var microsoftQueue = new Queue();\n",
       "\n",
       "microsoftQueue.enqueue(\"{user: ILoveWindows@gmail.com}\");\n",
       "microsoftQueue.enqueue(\"{user: cortanaIsMyBestFriend@hotmail.com}\");\n",
       "microsoftQueue.enqueue(\"{user: InternetExplorer8Fan@outlook.com}\");\n",
       "microsoftQueue.enqueue(\"{user: IThrowApplesOutMyWindow@yahoo.com}\");\n",
       "\n",
       "var sendTo = function(s){\n",
       "    element.append(s + \" gets a Surface Studio<br />\");\n",
       "}\n",
       "\n",
       "//Function to send everyone their Surface Studio!\n",
       "let sendSurface = recepient => {\n",
       "   sendTo(recepient);\n",
       "}\n",
       "\n",
       "//When your server is ready to handle this queue, execute this:\n",
       "while(microsoftQueue.size() > 0){\n",
       "  sendSurface(microsoftQueue.dequeue());\n",
       "}"
      ],
      "text/plain": [
       "<IPython.core.display.Javascript object>"
      ]
     },
     "metadata": {},
     "output_type": "display_data"
    }
   ],
   "source": [
    "%%javascript\n",
    "\n",
    "class Queue {\n",
    "  constructor(){\n",
    "    this._storage = {};\n",
    "    this._start = -1; //replicating 0 index used for arrays\n",
    "    this._end = -1; //replicating 0 index used for arrays\n",
    "  }\n",
    "\n",
    "  enqueue(val){\n",
    "    this._storage[++this._end] = val; \n",
    "  }\n",
    "\n",
    "  dequeue(){\n",
    "    if(this.size()){ \n",
    "      let nextUp = this._storage[++this._start];\n",
    "      delete this._storage[this._start];\n",
    "\n",
    "      if(!this.size()){ \n",
    "        this._start = -1;\n",
    "        this._end = -1; \n",
    "      }\n",
    "\n",
    "      return nextUp;\n",
    "    }\n",
    "  }\n",
    "        \n",
    "  size(){\n",
    "   return this._end - this._start;\n",
    "  }\n",
    "} //end Queue\n",
    "\n",
    "var microsoftQueue = new Queue();\n",
    "\n",
    "microsoftQueue.enqueue(\"{user: ILoveWindows@gmail.com}\");\n",
    "microsoftQueue.enqueue(\"{user: cortanaIsMyBestFriend@hotmail.com}\");\n",
    "microsoftQueue.enqueue(\"{user: InternetExplorer8Fan@outlook.com}\");\n",
    "microsoftQueue.enqueue(\"{user: IThrowApplesOutMyWindow@yahoo.com}\");\n",
    "\n",
    "var sendTo = function(s){\n",
    "    element.append(s + \" gets a Surface Studio<br />\");\n",
    "}\n",
    "\n",
    "//Function to send everyone their Surface Studio!\n",
    "let sendSurface = recepient => {\n",
    "   sendTo(recepient);\n",
    "}\n",
    "\n",
    "//When your server is ready to handle this queue, execute this:\n",
    "while(microsoftQueue.size() > 0){\n",
    "  sendSurface(microsoftQueue.dequeue());\n",
    "}"
   ]
  },
  {
   "cell_type": "markdown",
   "metadata": {},
   "source": [
    "If you don't see four lines of output above, you might be rendering this on Github.  If you want to see the output, same as the Python output below, cut and paste the Github URL to nbviewer.jupyter.org, which will do a more thorough rendering job.\n",
    "\n",
    "Now lets do the same thing in Python.  Yes, Python has it's own collections.deque or we could use a list object as a queue, but the point here is to show off similarities, so lets stick with a dict-based implementation, mirroring the JavaScript."
   ]
  },
  {
   "cell_type": "code",
   "execution_count": 2,
   "metadata": {
    "collapsed": false
   },
   "outputs": [
    {
     "name": "stdout",
     "output_type": "stream",
     "text": [
      "{user: ILoveWindows@gmail.com} gets a Surface Studio\n",
      "{user: cortanaIsMyBestFriend@hotmail.com} gets a Surface Studio\n",
      "{user: InternetExplorer8Fan@outlook.com} gets a Surface Studio\n",
      "{user: IThrowApplesOutMyWindow@yahoo.com} gets a Surface Studio\n"
     ]
    }
   ],
   "source": [
    "class Queue:\n",
    "    \n",
    "    def __init__(self):\n",
    "        self._storage = {}\n",
    "        self._start = -1   # replicating 0 index used for arrays\n",
    "        self._end = -1     # replicating 0 index used for arrays\n",
    "        \n",
    "    def size(self):\n",
    "        return self._end - self._start\n",
    "\n",
    "    def enqueue(self, val):\n",
    "        self._end += 1\n",
    "        self._storage[self._end] = val\n",
    "\n",
    "    def dequeue(self):\n",
    "        if self.size():\n",
    "            self._start += 1\n",
    "            nextUp = self._storage[self._start]\n",
    "            del self._storage[self._start]\n",
    "    \n",
    "            if not self.size(): \n",
    "                self._start = -1\n",
    "                self._end = -1\n",
    "            return nextUp\n",
    "        \n",
    "microsoftQueue = Queue()\n",
    "\n",
    "microsoftQueue.enqueue(\"{user: ILoveWindows@gmail.com}\")\n",
    "microsoftQueue.enqueue(\"{user: cortanaIsMyBestFriend@hotmail.com}\")\n",
    "microsoftQueue.enqueue(\"{user: InternetExplorer8Fan@outlook.com}\")\n",
    "microsoftQueue.enqueue(\"{user: IThrowApplesOutMyWindow@yahoo.com}\") \n",
    "\n",
    "def sendTo(recipient):\n",
    "    print(recipient, \"gets a Surface Studio\")\n",
    "\n",
    "# Function to send everyone their Surface Studio!\n",
    "def sendSurface(recepient):\n",
    "   sendTo(recepient)\n",
    "\n",
    "# When your server is ready to handle this queue, execute this:\n",
    "\n",
    "while microsoftQueue.size() > 0:\n",
    "  sendSurface(microsoftQueue.dequeue())"
   ]
  }
 ],
 "metadata": {
  "kernelspec": {
   "display_name": "Python 3",
   "language": "python",
   "name": "python3"
  },
  "language_info": {
   "codemirror_mode": {
    "name": "ipython",
    "version": 3
   },
   "file_extension": ".py",
   "mimetype": "text/x-python",
   "name": "python",
   "nbconvert_exporter": "python",
   "pygments_lexer": "ipython3",
   "version": "3.5.1"
  },
  "widgets": {
   "state": {},
   "version": "1.1.2"
  }
 },
 "nbformat": 4,
 "nbformat_minor": 0
}
