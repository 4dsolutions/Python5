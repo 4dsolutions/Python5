{
 "cells": [
  {
   "cell_type": "markdown",
   "metadata": {},
   "source": [
    "## Python and JavaScript\n",
    "\n",
    "JavaScript has been moving a lot closer to Python, nowadays supporting classes. Here in a Jupyter Notebook, we have a way to run both JavaScript and Python together.\n",
    "\n",
    "I'm using source code from [this article](https://medium.freecodecamp.com/a-gentle-introduction-to-data-structures-how-queues-work-f8b871938e64#.l2p002vqt) by Michael Olorunnisola to show off the similarities between the two languages."
   ]
  },
  {
   "cell_type": "code",
   "execution_count": 34,
   "metadata": {
    "collapsed": false
   },
   "outputs": [
    {
     "data": {
      "application/javascript": [
       "\n",
       "class Queue {\n",
       "  constructor(){\n",
       "    this._storage = {};\n",
       "    this._start = -1; //replicating 0 index used for arrays\n",
       "    this._end = -1; //replicating 0 index used for arrays\n",
       "  }\n",
       "\n",
       "  enqueue(val){\n",
       "    this._storage[++this._end] = val; \n",
       "  }\n",
       "\n",
       "  dequeue(){\n",
       "    if(this.size()){ \n",
       "      let nextUp = this._storage[++this._start];\n",
       "      delete this._storage[this._start];\n",
       "\n",
       "      if(!this.size()){ \n",
       "        this._start = -1;\n",
       "        this._end = -1; \n",
       "      }\n",
       "\n",
       "      return nextUp;\n",
       "    }\n",
       "  }\n",
       "        \n",
       "  size(){\n",
       "   return this._end - this._start;\n",
       "  }\n",
       "} //end Queue\n",
       "\n",
       "var microsoftQueue = new Queue();\n",
       "\n",
       "microsoftQueue.enqueue(\"{user: ILoveWindows@gmail.com}\");\n",
       "microsoftQueue.enqueue(\"{user: cortanaIsMyBestFriend@hotmail.com}\");\n",
       "microsoftQueue.enqueue(\"{user: InternetExplorer8Fan@outlook.com}\");\n",
       "microsoftQueue.enqueue(\"{user: IThrowApplesOutMyWindow@yahoo.com}\");\n",
       "\n",
       "var sendTo = function(s){\n",
       "    element.append(s + \" gets s Surface Studio<br />\");\n",
       "}\n",
       "\n",
       "//Function to send everyone their Surface Studio!\n",
       "let sendSurface = recepient => {\n",
       "   sendTo(recepient);\n",
       "}\n",
       "\n",
       "//When your server is ready to handle this queue, execute this:\n",
       "while(microsoftQueue.size() > 0){\n",
       "  sendSurface(microsoftQueue.dequeue());\n",
       "}"
      ],
      "text/plain": [
       "<IPython.core.display.Javascript object>"
      ]
     },
     "metadata": {},
     "output_type": "display_data"
    }
   ],
   "source": [
    "%%javascript\n",
    "\n",
    "class Queue {\n",
    "  constructor(){\n",
    "    this._storage = {};\n",
    "    this._start = -1; //replicating 0 index used for arrays\n",
    "    this._end = -1; //replicating 0 index used for arrays\n",
    "  }\n",
    "\n",
    "  enqueue(val){\n",
    "    this._storage[++this._end] = val; \n",
    "  }\n",
    "\n",
    "  dequeue(){\n",
    "    if(this.size()){ \n",
    "      let nextUp = this._storage[++this._start];\n",
    "      delete this._storage[this._start];\n",
    "\n",
    "      if(!this.size()){ \n",
    "        this._start = -1;\n",
    "        this._end = -1; \n",
    "      }\n",
    "\n",
    "      return nextUp;\n",
    "    }\n",
    "  }\n",
    "        \n",
    "  size(){\n",
    "   return this._end - this._start;\n",
    "  }\n",
    "} //end Queue\n",
    "\n",
    "var microsoftQueue = new Queue();\n",
    "\n",
    "microsoftQueue.enqueue(\"{user: ILoveWindows@gmail.com}\");\n",
    "microsoftQueue.enqueue(\"{user: cortanaIsMyBestFriend@hotmail.com}\");\n",
    "microsoftQueue.enqueue(\"{user: InternetExplorer8Fan@outlook.com}\");\n",
    "microsoftQueue.enqueue(\"{user: IThrowApplesOutMyWindow@yahoo.com}\");\n",
    "\n",
    "var sendTo = function(s){\n",
    "    element.append(s + \" gets s Surface Studio<br />\");\n",
    "}\n",
    "\n",
    "//Function to send everyone their Surface Studio!\n",
    "let sendSurface = recepient => {\n",
    "   sendTo(recepient);\n",
    "}\n",
    "\n",
    "//When your server is ready to handle this queue, execute this:\n",
    "while(microsoftQueue.size() > 0){\n",
    "  sendSurface(microsoftQueue.dequeue());\n",
    "}"
   ]
  },
  {
   "cell_type": "markdown",
   "metadata": {},
   "source": [
    "Now lets do the same thing in Python.  Yes, Python has it's own collections.deque or we could use a list object as a queue, but the point here is to show off similarities, so lets stick with a dict-based implementation, mirroring the JavaScript."
   ]
  },
  {
   "cell_type": "code",
   "execution_count": 31,
   "metadata": {
    "collapsed": false
   },
   "outputs": [
    {
     "name": "stdout",
     "output_type": "stream",
     "text": [
      "{user: ILoveWindows@gmail.com} gets a Surface Studio\n",
      "{user: cortanaIsMyBestFriend@hotmail.com} gets a Surface Studio\n",
      "{user: InternetExplorer8Fan@outlook.com} gets a Surface Studio\n",
      "{user: IThrowApplesOutMyWindow@yahoo.com} gets a Surface Studio\n"
     ]
    }
   ],
   "source": [
    "\n",
    "class Queue:\n",
    "    \n",
    "    def __init__(self):\n",
    "        self._storage = {}\n",
    "        self._start = -1   # replicating 0 index used for arrays\n",
    "        self._end = -1     # replicating 0 index used for arrays\n",
    "        \n",
    "    def size(self):\n",
    "        return self._end - self._start\n",
    "\n",
    "    def enqueue(self, val):\n",
    "        self._end += 1\n",
    "        self._storage[self._end] = val\n",
    "\n",
    "    def dequeue(self):\n",
    "        if self.size():\n",
    "            self._start += 1\n",
    "            nextUp = self._storage[self._start]\n",
    "            del self._storage[self._start]\n",
    "    \n",
    "            if not self.size(): \n",
    "                self._start = -1\n",
    "                self._end = -1\n",
    "            return nextUp\n",
    "        \n",
    "microsoftQueue = Queue()\n",
    "\n",
    "microsoftQueue.enqueue(\"{user: ILoveWindows@gmail.com}\")\n",
    "microsoftQueue.enqueue(\"{user: cortanaIsMyBestFriend@hotmail.com}\")\n",
    "microsoftQueue.enqueue(\"{user: InternetExplorer8Fan@outlook.com}\")\n",
    "microsoftQueue.enqueue(\"{user: IThrowApplesOutMyWindow@yahoo.com}\") \n",
    "\n",
    "def sendTo(recipient):\n",
    "    print(recipient, \"gets a Surface Studio\")\n",
    "\n",
    "# Function to send everyone their Surface Studio!\n",
    "def sendSurface(recepient):\n",
    "   sendTo(recepient)\n",
    "\n",
    "# When your server is ready to handle this queue, execute this:\n",
    "\n",
    "while microsoftQueue.size() > 0:\n",
    "  sendSurface(microsoftQueue.dequeue())"
   ]
  }
 ],
 "metadata": {
  "kernelspec": {
   "display_name": "Python 3",
   "language": "python",
   "name": "python3"
  },
  "language_info": {
   "codemirror_mode": {
    "name": "ipython",
    "version": 3
   },
   "file_extension": ".py",
   "mimetype": "text/x-python",
   "name": "python",
   "nbconvert_exporter": "python",
   "pygments_lexer": "ipython3",
   "version": "3.5.1"
  },
  "widgets": {
   "state": {},
   "version": "1.1.2"
  }
 },
 "nbformat": 4,
 "nbformat_minor": 0
}
