{
 "cells": [
  {
   "cell_type": "markdown",
   "metadata": {},
   "source": [
    "[Oregon Curriculum Network](http://www.4dsolutions.net/ocn) <br />\n",
    "[Discovering Math with Python](Introduction.ipynb)\n",
    "\n",
    "# Generating the Face Centered Cubic lattice (FCC)\n",
    "\n",
    "The Face Centered Cubic lattice is equivalently the CCP and the IVM the way we're thinking of it here.\n",
    "\n",
    "IVM = Isotropic Vector Matrix which is what Buckminster Fuller dubbed it, drawing attention to the same-length segments between any sphere center and its twelve neighbors.  He was able to patent the IVM in the form of [the octet-truss](http://www.grunch.net/synergetics/octet.html), even though Alexander Graham Bell had done some earlier work with the same space frame.\n",
    "\n",
    "<a data-flickr-embed=\"true\"  href=\"https://www.flickr.com/photos/kirbyurner/5436831548/in/photolist-5AA1JF-wWKQmk-bdBsk4-a3doND-9mY873-9hrbAY-8awzCS-7Fw23Z-7dcs4X-6BY6va-6oqjem-6i5oRw-5SXuYP-5PjRWV-5xe2b6-5sHnxN-5rFY8v-2yoZR2\" title=\"Bell&#x27;s Octet Truss\"><img src=\"https://farm5.staticflickr.com/4112/5436831548_feefdbb9a0.jpg\" width=\"500\" height=\"387\" alt=\"Bell&#x27;s Octet Truss\"></a><script async src=\"//embedr.flickr.com/assets/client-code.js\" charset=\"utf-8\"></script>\n",
    "\n",
    "Shown below are the twelve neighbors of a nuclear sphere at the center."
   ]
  },
  {
   "cell_type": "code",
   "execution_count": null,
   "metadata": {
    "collapsed": true
   },
   "outputs": [],
   "source": []
  },
  {
   "cell_type": "markdown",
   "metadata": {},
   "source": [
    "![\"freq1\"](freq1.png)\n",
    "\n",
    "You can see the above is somewhat similar to the C6XTY implementation below, which exists outside of the world of computer graphics, in the real world of load-bearing structures.\n",
    "\n",
    "C6XTY does not use struts directly between FCC vertexes as Bell and Fuller did.  Rather, there's a 3-way weave of mutually orthogonal connecting members that attach to the outer surfaces of the compression members.  Flextegrity, of which C6XTY is one version, has some similarities with Kenneth Snelson's tensegrity, hence the name.\n",
    "\n",
    "<a data-flickr-embed=\"true\"  href=\"https://www.flickr.com/photos/kirbyurner/27156126147/in/dateposted-public/\" title=\"Picnic Table\"><img src=\"https://farm1.staticflickr.com/943/27156126147_897ae519ac_n.jpg\" width=\"320\" height=\"240\" alt=\"Picnic Table\"></a><script async src=\"//embedr.flickr.com/assets/client-code.js\" charset=\"utf-8\"></script>"
   ]
  },
  {
   "cell_type": "markdown",
   "metadata": {},
   "source": [
    "My technique for generating the above computer graphic is to add all permutations of {2, 1, 1, 0} to the nuclear (0, 0, 0, 0).  I use vector addition.\n",
    "\n",
    "The itertools.permutations algorithm treats the two 1s as distinct and so creates more permutations than we need.\n",
    "\n",
    "Those permutations are:"
   ]
  },
  {
   "cell_type": "code",
   "execution_count": 1,
   "metadata": {},
   "outputs": [
    {
     "name": "stdout",
     "output_type": "stream",
     "text": [
      "{(0, 1, 1, 2), (1, 0, 1, 2), (2, 0, 1, 1), (0, 2, 1, 1), (0, 1, 2, 1), (1, 2, 1, 0), (1, 1, 2, 0), (2, 1, 1, 0), (1, 0, 2, 1), (1, 2, 0, 1), (2, 1, 0, 1), (1, 1, 0, 2)}\n"
     ]
    }
   ],
   "source": [
    "from itertools import permutations\n",
    "g = permutations((2,1,1,0))\n",
    "unique = {p for p in g}  # set comprehension\n",
    "print(unique)"
   ]
  },
  {
   "cell_type": "markdown",
   "metadata": {},
   "source": [
    "What we're talking about here are [\"Quadrays\"](https://en.wikipedia.org/wiki/Quadray_coordinates) i.e. vectors built from linear combinations of four basis rays from the center of a regular tetrahedron to its four corners.  Think of the methane molecule (carbon in the middle, a hydrogen at each vertex).\n",
    "\n",
    "<a data-flickr-embed=\"true\"  href=\"https://www.flickr.com/photos/kirbyurner/21089803385/in/photolist-24Qv2m5-Tv7QFj-xbEKyU-xbKB72-y8CKMK-xamAiS\" title=\"caltrops\"><img src=\"https://farm6.staticflickr.com/5630/21089803385_229c5d70db_n.jpg\" width=\"320\" height=\"295\" alt=\"caltrops\"></a><script async src=\"//embedr.flickr.com/assets/client-code.js\" charset=\"utf-8\"></script>\n",
    "\n",
    "These have the advantage of assigning integer coordinates to all FCC lattice points.\n",
    "\n",
    "The system for getting successive layers of 1, 12, 42, 92... balls, is to add these twelve unique vectors to each ball center, while only keeping those *not* already in the current layer, and *not* in the previous layer.  In other words, we force the database to enlarge only in the direction of new unique spheres.  Every sphere in the current layer is the source of twelve new ones, but only a few of those will be kept, and added to the next layer.\n",
    "\n",
    "Put another way:  The algorithm for getting successive layers of balls (1, 12, 42, 92...) is to add all 12 balls around every ball in shell N, but then discard the redundant ones, simply by using the set object for storage, which will not accept duplicates.  All those balls already in shell N or shell N-1 are ignored, meaning only balls in shell N+1 are added.\n",
    "\n",
    "We keep track of the separate layers such the the two previous layers become input to the function for computing the next.  See ```next_layer``` below.\n",
    "\n",
    "I have the ability to convert [Quadrays](http://mathforum.org/library/view/6236.html) to XYZ vectors.  Once the algorithm has located all the balls in the next layer, I get the XYZ equivalents as no rendering software has any native understanding of Quadrays."
   ]
  },
  {
   "cell_type": "code",
   "execution_count": 2,
   "metadata": {},
   "outputs": [
    {
     "name": "stdout",
     "output_type": "stream",
     "text": [
      "Number of balls in successive layers:\n",
      "12\n",
      "42\n",
      "92\n",
      "162\n"
     ]
    }
   ],
   "source": [
    "import qrays\n",
    "\n",
    "nucleus = {qrays.Qvector((0,0,0,0))}\n",
    "\n",
    "layer1 = tuple(map(qrays.Qvector, \n",
    "         ((0, 1, 1, 2), (1, 0, 1, 2), \n",
    "          (2, 0, 1, 1), (0, 2, 1, 1), \n",
    "          (0, 1, 2, 1), (1, 2, 1, 0), \n",
    "          (1, 1, 2, 0), (2, 1, 1, 0), \n",
    "          (1, 0, 2, 1), (1, 2, 0, 1), \n",
    "          (2, 1, 0, 1), (1, 1, 0, 2))))\n",
    "\n",
    "def next_layer(curr_layer, prev_layer):\n",
    "    next_layer = set()\n",
    "    for qv in curr_layer:\n",
    "        for bv in layer1:\n",
    "            v_sum = qv + bv\n",
    "            if (not v_sum in curr_layer \n",
    "                and not v_sum in prev_layer):\n",
    "                next_layer.add(v_sum)\n",
    "    return next_layer\n",
    "\n",
    "nl   = next_layer(nucleus, nucleus) # 1-freq\n",
    "nnl  = next_layer(nl, nucleus)      # 2-freq\n",
    "nnnl = next_layer(nnl, nl)          # 3-freq\n",
    "nnnnl= next_layer(nnnl, nnl)        # 4-freq\n",
    "print(\"Number of balls in successive layers:\")\n",
    "print(len(nl))     # 12 around 1\n",
    "print(len(nnl))    # should be 42 unique balls\n",
    "print(len(nnnl))   # expecting 92 unique balls\n",
    "print(len(nnnnl))  # the next next next next layer"
   ]
  },
  {
   "cell_type": "markdown",
   "metadata": {},
   "source": [
    "See the [Online Encyclopedia of Integer Sequences](http://oeis.org/A005901) for more information on this sequence.  As we learn from observing the Jitterbug Transformation, the cuboctahedral shells may transform into Icosahedral shells, which is why the number sequences are the same.\n",
    "\n",
    "The final step involves generating scene description language and interpolating the resulting instructions into a POV-Ray script."
   ]
  },
  {
   "cell_type": "code",
   "execution_count": 3,
   "metadata": {},
   "outputs": [],
   "source": [
    "sph = \"\"\"sphere { %s 0.5 texture { pigment { color rgb <1,0,0> } } }\"\"\"\n",
    "    \n",
    "def get_xyz(qvectors):\n",
    "    xyz_vectors = []\n",
    "    for qv in qvectors:\n",
    "        xyz_vectors.append(qv.xyz())\n",
    "    return xyz_vectors\n",
    "\n",
    "def make_spheres(xyz_vectors):\n",
    "    pov = open(\"fragment.pov\", \"w\")\n",
    "    for xyzv in xyz_vectors:\n",
    "        s = sph % \"<{0.x}, {0.y}, {0.z}>\".format(xyzv)\n",
    "        print(s, file=pov)\n",
    "        \n",
    "vs = get_xyz(nl)\n",
    "make_spheres(vs)"
   ]
  },
  {
   "cell_type": "markdown",
   "metadata": {},
   "source": [
    "Here's what scene description language looks like:\n",
    "\n",
    "<pre>\n",
    "sphere { &lt;0.0, -0.7071067811865475, -0.7071067811865475&gt; \n",
    "         0.5 texture { pigment { color rgb &lt;1,0,0&gt; } } }\n",
    "sphere { &lt;0.0, -0.7071067811865475, 0.7071067811865475&gt; \n",
    "         0.5 texture { pigment { color rgb &lt;1,0,0&gt; } } }\n",
    "</pre>\n",
    "\n",
    "...and so on."
   ]
  },
  {
   "cell_type": "markdown",
   "metadata": {},
   "source": [
    "Two frequency:\n",
    "\n",
    "[ ](test_layer2.png)"
   ]
  },
  {
   "cell_type": "markdown",
   "metadata": {},
   "source": [
    "![\"freq2\"](freq2.png)"
   ]
  },
  {
   "cell_type": "markdown",
   "metadata": {},
   "source": [
    "Three frequency.\n",
    "\n",
    "![\"freq3\"](freq3.png) "
   ]
  },
  {
   "cell_type": "markdown",
   "metadata": {},
   "source": [
    "[C6XTY](http://www.c6xty.com) at [Saturday Academy](http://www.4dsolutions.net/satacad/martianmath/toc.html)\n",
    "\n",
    "<a data-flickr-embed=\"true\"  href=\"https://www.flickr.com/photos/kirbyurner/27156123767/in/dateposted-public/\" title=\"Product Placement\"><img src=\"https://farm1.staticflickr.com/954/27156123767_6eecddea25.jpg\" width=\"500\" height=\"375\" alt=\"Product Placement\"></a><script async src=\"//embedr.flickr.com/assets/client-code.js\" charset=\"utf-8\"></script>\n",
    "\n",
    "Many thanks to our sponsor.  Related reading on [edu-sig](https://mail.python.org/pipermail/edu-sig/2018-May/011829.html)."
   ]
  }
 ],
 "metadata": {
  "kernelspec": {
   "display_name": "Python 3",
   "language": "python",
   "name": "python3"
  },
  "language_info": {
   "codemirror_mode": {
    "name": "ipython",
    "version": 3
   },
   "file_extension": ".py",
   "mimetype": "text/x-python",
   "name": "python",
   "nbconvert_exporter": "python",
   "pygments_lexer": "ipython3",
   "version": "3.6.4"
  }
 },
 "nbformat": 4,
 "nbformat_minor": 2
}
