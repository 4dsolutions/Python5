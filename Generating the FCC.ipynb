{
 "cells": [
  {
   "cell_type": "markdown",
   "metadata": {},
   "source": [
    "[Oregon Curriculum Network](http://www.4dsolutions.net/ocn) <br />\n",
    "[Discovering Math with Python](Introduction.ipynb)\n",
    "\n",
    "# Generating the FCC\n",
    "\n",
    "The Face Centered Cubic lattice is equivalently the CCP and the IVM the way we're thinking of it here.\n",
    "\n",
    "IVM = Isotropic Vector Matrix which is what Buckminster Fuller dubbed it, drawing attention to the same-length segments between any sphere center and it's twelve neighbors.\n",
    "\n",
    "Shown below are the twelve neighbors of a nuclear sphere at the center."
   ]
  },
  {
   "cell_type": "markdown",
   "metadata": {},
   "source": [
    "![\"freq1\"](freq1.png)"
   ]
  },
  {
   "cell_type": "markdown",
   "metadata": {},
   "source": [
    "My technique for generating the above is to add all permutations of {2, 1, 1, 0} to the nuclear (0, 0, 0, 0).\n",
    "\n",
    "The itertools.permutations algorithm treats the two 1s as distinct and so creates more permutations than we need.\n",
    "\n",
    "Those permutations are:"
   ]
  },
  {
   "cell_type": "code",
   "execution_count": 1,
   "metadata": {},
   "outputs": [
    {
     "name": "stdout",
     "output_type": "stream",
     "text": [
      "{(0, 1, 1, 2), (1, 0, 1, 2), (2, 0, 1, 1), (0, 2, 1, 1), (0, 1, 2, 1), (1, 2, 1, 0), (1, 1, 2, 0), (2, 1, 1, 0), (1, 0, 2, 1), (1, 2, 0, 1), (2, 1, 0, 1), (1, 1, 0, 2)}\n"
     ]
    }
   ],
   "source": [
    "from itertools import permutations\n",
    "g = permutations((2,1,1,0))\n",
    "unique = {p for p in g}  # set comprehension\n",
    "print(unique)"
   ]
  },
  {
   "cell_type": "markdown",
   "metadata": {},
   "source": [
    "What we're talking about here are [\"Quadrays\"](https://en.wikipedia.org/wiki/Quadray_coordinates) i.e. vectors built from linear combinations of four basis rays from the center of a regular tetrahedron to its four corners.  These have the advantage of assigning integer coordinates to all FCC lattice points.\n",
    "\n",
    "The system for getting successive layers is to add the twelve unique vectors above, but only keep those not already in the current layer, or in the previous layer.  In other words, we force the database to enlarge only in the direction of new unique spheres.  Every sphere in the current layer is the source of twelve new ones, but only a few of those will be kept, and added to the next layer.\n",
    "\n",
    "I have the ability to convert Quadrays to XYZ vectors.  Once the algorithm has located all the balls in the next layer, I get the XYZ equivalents as no rendering software has any native understanding of Quadrays."
   ]
  },
  {
   "cell_type": "code",
   "execution_count": 2,
   "metadata": {},
   "outputs": [
    {
     "name": "stdout",
     "output_type": "stream",
     "text": [
      "Number of balls in successive layers:\n",
      "12\n",
      "42\n",
      "92\n"
     ]
    }
   ],
   "source": [
    "import qrays\n",
    "\n",
    "nucleus = {qrays.Qvector((0,0,0,0))}\n",
    "\n",
    "layer1 = tuple(map(qrays.Qvector, \n",
    "         ((0, 1, 1, 2), (1, 0, 1, 2), \n",
    "          (2, 0, 1, 1), (0, 2, 1, 1), \n",
    "          (0, 1, 2, 1), (1, 2, 1, 0), \n",
    "          (1, 1, 2, 0), (2, 1, 1, 0), \n",
    "          (1, 0, 2, 1), (1, 2, 0, 1), \n",
    "          (2, 1, 0, 1), (1, 1, 0, 2))))\n",
    "\n",
    "def next_layer(curr_layer, prev_layer):\n",
    "    next_layer = set()\n",
    "    for qv in curr_layer:\n",
    "        for bv in layer1:\n",
    "            v_sum = qv + bv\n",
    "            if (not v_sum in curr_layer \n",
    "                and not v_sum in prev_layer):\n",
    "                next_layer.add(v_sum)\n",
    "    return next_layer\n",
    "\n",
    "nl   = next_layer(nucleus, nucleus) # 1-freq\n",
    "nnl  = next_layer(nl, nucleus)      # 2-freq\n",
    "nnnl = next_layer(nnl, nl)          # 3-freq\n",
    "print(\"Number of balls in successive layers:\")\n",
    "print(len(nl))\n",
    "print(len(nnl))\n",
    "print(len(nnnl))"
   ]
  },
  {
   "cell_type": "markdown",
   "metadata": {},
   "source": [
    "The final step involves generating scene description language and interpolating the resulting instructions into a POV-Ray script."
   ]
  },
  {
   "cell_type": "code",
   "execution_count": 3,
   "metadata": {},
   "outputs": [],
   "source": [
    "sph = \"\"\"sphere { %s 0.5 texture { pigment { color rgb <1,0,0> } } }\"\"\"\n",
    "    \n",
    "def get_xyz(qvectors):\n",
    "    xyz_vectors = []\n",
    "    for qv in qvectors:\n",
    "        xyz_vectors.append(qv.xyz())\n",
    "    return xyz_vectors\n",
    "\n",
    "def make_spheres(xyz_vectors):\n",
    "    pov = open(\"fragment.pov\", \"w\")\n",
    "    for xyzv in xyz_vectors:\n",
    "        s = sph % \"<{0.x}, {0.y}, {0.z}>\".format(xyzv)\n",
    "        print(s, file=pov)\n",
    "        \n",
    "vs = get_xyz(nl)\n",
    "make_spheres(vs)"
   ]
  },
  {
   "cell_type": "markdown",
   "metadata": {},
   "source": [
    "Here's what scene description language looks like:\n",
    "\n",
    "<pre>\n",
    "sphere { &lt;0.0, -0.7071067811865475, -0.7071067811865475&gt; \n",
    "         0.5 texture { pigment { color rgb &lt;1,0,0&gt; } } }\n",
    "sphere { &lt;0.0, -0.7071067811865475, 0.7071067811865475&gt; \n",
    "         0.5 texture { pigment { color rgb &lt;1,0,0&gt; } } }\n",
    "</pre>\n",
    "\n",
    "...and so on."
   ]
  },
  {
   "cell_type": "markdown",
   "metadata": {},
   "source": [
    "Two frequency:\n",
    "\n",
    "[ ](test_layer2.png)"
   ]
  },
  {
   "cell_type": "markdown",
   "metadata": {},
   "source": [
    "![\"freq2\"](freq2.png)"
   ]
  },
  {
   "cell_type": "markdown",
   "metadata": {},
   "source": [
    "Three frequency.\n",
    "\n",
    "![\"freq3\"](freq3.png) "
   ]
  }
 ],
 "metadata": {
  "kernelspec": {
   "display_name": "Python 3",
   "language": "python",
   "name": "python3"
  },
  "language_info": {
   "codemirror_mode": {
    "name": "ipython",
    "version": 3
   },
   "file_extension": ".py",
   "mimetype": "text/x-python",
   "name": "python",
   "nbconvert_exporter": "python",
   "pygments_lexer": "ipython3",
   "version": "3.6.4"
  }
 },
 "nbformat": 4,
 "nbformat_minor": 2
}
