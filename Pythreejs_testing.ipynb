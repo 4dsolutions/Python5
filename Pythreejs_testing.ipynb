{
 "cells": [
  {
   "cell_type": "code",
   "execution_count": 2,
   "metadata": {
    "collapsed": true
   },
   "outputs": [],
   "source": [
    "from pythreejs import *\n",
    "import numpy as np\n",
    "from IPython.display import display\n",
    "from ipywidgets import HTML, Text\n",
    "from traitlets import link, dlink"
   ]
  },
  {
   "cell_type": "code",
   "execution_count": 4,
   "metadata": {
    "collapsed": true
   },
   "outputs": [],
   "source": [
    "ball = Mesh(geometry=TetrahedronGeometry(radius=1), material=LambertMaterial(color='red'), position=[2,1,0])\n",
    "scene = Scene(children=[ball, AmbientLight(color='#777777'), make_text('Hello World!', height=.6)])\n",
    "c = PerspectiveCamera(position=[0, 5, 5],\n",
    "                      up=[0, 0, 1],\n",
    "                      children=[DirectionalLight(color='white', position=[3, 5, 1], intensity=0.5)])\n",
    "renderer = Renderer(camera=c, scene=scene, controls=[OrbitControls(controlling=c)])\n",
    "display(renderer)"
   ]
  },
  {
   "cell_type": "code",
   "execution_count": null,
   "metadata": {
    "collapsed": true
   },
   "outputs": [],
   "source": []
  }
 ],
 "metadata": {
  "kernelspec": {
   "display_name": "Python 3",
   "language": "python",
   "name": "python3"
  },
  "language_info": {
   "codemirror_mode": {
    "name": "ipython",
    "version": 3
   },
   "file_extension": ".py",
   "mimetype": "text/x-python",
   "name": "python",
   "nbconvert_exporter": "python",
   "pygments_lexer": "ipython3",
   "version": "3.5.1"
  },
  "widgets": {
   "state": {
    "032b4aedacd2430589bdfa5f072b11a4": {
     "views": []
    },
    "10eee4f6a7a24343a00f9672fec5c1f2": {
     "views": []
    },
    "130a626154fe4c269493a9ae9430358c": {
     "views": []
    },
    "14923517bed54beb98d4ef13d637c4f2": {
     "views": []
    },
    "2416692fce7947cc97b09f09f0e97809": {
     "views": []
    },
    "26c20743f1bc41a6bd2dfacee6660034": {
     "views": []
    },
    "2e2ff03bec924034936905d8f9cb99ff": {
     "views": []
    },
    "32747757d2724b0391e1d9c7b4a2691e": {
     "views": []
    },
    "54155826776a4702a5bf15450b13b0f9": {
     "views": []
    },
    "55dad6c115594f6d80dd263499cb2b9d": {
     "views": []
    },
    "57289a2367fc4c558ecb751d675fb837": {
     "views": []
    },
    "5a48b07f3dce453b807d634dca1ee87f": {
     "views": []
    },
    "5cb71fc3e3d1482d97d531f5b96a9b2c": {
     "views": []
    },
    "6141027fa6c841c2b3360eece4043bf8": {
     "views": []
    },
    "7140eeb575e749a4992eb2911fc2c602": {
     "views": []
    },
    "7e0897dee08549dab4eaa98dc1103652": {
     "views": []
    },
    "891f6f6ad77d4e89b3549b2bb70415ce": {
     "views": []
    },
    "8d22a05578ca4d77bf683be6be02df05": {
     "views": []
    },
    "a60722e0f9174e818c4ae78b02629ff1": {
     "views": []
    },
    "a6361d2670084e6da2a8d9876aba05e2": {
     "views": [
      {
       "cell_index": 1
      }
     ]
    },
    "af09431405444999a5b2122d75d1a3a1": {
     "views": []
    },
    "b3fe7f16f5e34b7fb6d34909eb24ed62": {
     "views": []
    },
    "de414219734c4e7fab012242c9fa0df3": {
     "views": []
    },
    "ecb5b5ccb81e4a94b77c9762583b2e9d": {
     "views": []
    },
    "ecf8b97c563a4c339979bdb46458b8e5": {
     "views": []
    },
    "f71e61695d3449e5bc8f4f23eb38a0eb": {
     "views": []
    }
   },
   "version": "1.1.2"
  }
 },
 "nbformat": 4,
 "nbformat_minor": 0
}
