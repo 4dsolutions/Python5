{
 "cells": [
  {
   "cell_type": "markdown",
   "id": "fbb9d445-7fca-4448-ba5c-b0c488360d84",
   "metadata": {},
   "source": [
    "##### School of Tomorrow\n",
    "\n",
    "[Oregon Curriculum Network](http://4dsolutions.net/ocn/)<br/>\n",
    "[School of Tomorrow](https://github.com/4dsolutions/School_of_Tomorrow/blob/master/School_of_Tomorrow.ipynb)\n",
    "\n",
    "* <a href=\"https://colab.research.google.com/github/4dsolutions/Python5/blob/master/EuclidsAlgorithm.ipynb\"><img align=\"left\" src=\"https://colab.research.google.com/assets/colab-badge.svg\" alt=\"Open in Colab\" title=\"Open and Execute in Google Colaboratory\"></a>\n",
    "* [![nbviewer](https://raw.githubusercontent.com/jupyter/design/master/logos/Badges/nbviewer_badge.svg)](https://nbviewer.org/github/4dsolutions/python5/blob/master/EuclidsAlgorithm.ipynb)"
   ]
  },
  {
   "cell_type": "markdown",
   "id": "a6126190-a850-4131-acf7-e011207996a4",
   "metadata": {},
   "source": [
    "# Understanding Fractions"
   ]
  },
  {
   "cell_type": "markdown",
   "id": "200b6419-d206-41e9-9807-5a253032d5b4",
   "metadata": {},
   "source": [
    "\n",
    "I take a position regarding Fractions which is that greatest common divisor (e.g. 5 is the biggest number that divides into 15 and 20) is a great place to introduce what's known as Euclid's Method, one of the oldest of all algorithms, named in Euclid's honor, but we think it predates the guy.\n",
    "\n",
    "Fractions involve basically two patterns: adding them, multiplying them.\n",
    "\n",
    "Multiplying is easy:\n",
    "\n",
    "$$(a/b)(c/d) = (ac/bd)$$  \n",
    "\n",
    "just multiply tops and bottoms together.\n",
    "\n",
    "Addition is more involved, they need a common denominator (bottom).  \n",
    "\n",
    "If they have the same bottom, just add the tops (keep the bottom):\n",
    "\n",
    "$$(a/d) + (b/d) = (a + b)/d$$  \n",
    "\n",
    "but if they don't, use some algebra.  Remember, any n/n (n is any number) = 1.\n",
    "\n",
    "$$(a/b) + (c/d) = (a/b)(d/d) + (c/d)(b/b) = ad/bd + cb/bd = (ad + cb)/bd$$ \n",
    "\n",
    "In both cases, you'll want to \"simplify\" as a very last step, meaning divide both top and bottom by the biggest number that goes into them both (where gcd algorithm comes in).\n",
    "\n",
    "15/20 = 3/4 because gcd(15, 20) = 5 and 15/5 = 3 whereas 20/5 = 4.  So 3/4 is \"simplest terms\".\n",
    "\n",
    "In USA public schools, there's a bias towards skipping Euclid's Method completely and relying on finding \"prime factors in common\".  That's all fine and good when the numbers are small, but Euclid's Method works well even when the two numbers, a & b, are hundreds of digits long!  That's what modern cryptography is like.\n",
    "\n",
    "Typically, students won't see Euclid's Method until college, if they take up computer programming. \n",
    "\n",
    "But what about dividing and subtracting fractions?  \n",
    "\n",
    "Here one introduces the idea of \"multiplicative inverse\" and \"additive inverse\" which involve the \"multiplicative identity\" (1) and \"additive identity\" (0) respectively.\n",
    "\n",
    "Given number n, the additive identity is -n, such that n + (-n) = 0.  The additive inverse of n is that number which, added to n, gives the additive identity or 0.\n",
    "\n",
    "Given number n, the multiplicative identity is 1/n, such that n(1/n) = 1. The multiplicative inverse of n is that number which, multiplied by n, gives the multiplicative identity or 1. We also call this the reciprocal such that the reciprocal of p/q is q/p such that (p/q)(q/p) = 1.\n",
    "\n",
    "So \"to subtract\" just means \"to add the additive inverse of\" and \"to divide\" means \"to multiply by the multiplicative inverse of\":\n",
    "\n",
    "$$a - b = a + (-b)$$\n",
    "\n",
    "$$(a/b) / (c/d) = (a/b)(d/c) = ad/bc$$\n",
    "\n",
    "By way of background, the formal name for \"fraction\" is \"rational number\", with the set of all rational numbers symbolized by a $\\mathbb{Q}$. \n",
    "\n",
    "Lets remember where the rationals fit into our hierarchy of numeric sets:\n",
    "* Counting Numbers, or set $\\mathbb{N}$ \n",
    "* Whole Numbers $\\mathbb{W}$ (add 0 to $\\mathbb{N}$)\n",
    "* Integers $\\mathbb{Z}$ (add negatives of positives)\n",
    "* Rationals $\\mathbb{Q}$ (integer:integer ratios)\n",
    "* Reals $\\mathbb{R}$ (no holes)\n",
    "* Complex numbers (add 2nd root of -1 to $\\mathbb{R}$)\n",
    "\n",
    "each a superset of the next previous.\n",
    "\n",
    "$$\n",
    "\\mathbb{N} \\subset  \n",
    "\\mathbb{W} \\subset \n",
    "\\mathbb{Z} \\subset \n",
    "\\mathbb{Q} \\subset \n",
    "\\mathbb{R} \\subset \n",
    "\\mathbb{C}\n",
    "$$\n",
    "\n",
    "That's the foundation we lay, as far as \"number types\" are concerned.\n"
   ]
  },
  {
   "cell_type": "code",
   "execution_count": 1,
   "id": "9c7a020c-0753-4653-9d6e-472af4fe19e1",
   "metadata": {},
   "outputs": [
    {
     "name": "stdout",
     "output_type": "stream",
     "text": [
      "gcd(100, 20) = 20\n",
      "gcd(113, 20) = 1\n",
      "gcd(17, 31) = 1\n",
      "gcd(270, 192) = 6\n"
     ]
    }
   ],
   "source": [
    "# %load gcd_euclid.py\n",
    "#!/usr/bin/env python3\n",
    "\"\"\"\n",
    "Created on Fri Aug  2 09:36:45 2024\n",
    "\n",
    "@author: kirbyurner\n",
    "\"\"\"\n",
    "\n",
    "def gcd(n, m):\n",
    "    \"\"\"\n",
    "    Euclid's Method\n",
    "    \"\"\"\n",
    "    # if n < m then r will be n e.g. 5 % 100 returns 5\n",
    "    r = n % m   # dividing n by m leaves how many?\n",
    "    if r == 0:  # no remainder, m is gold\n",
    "        return m\n",
    "    else:\n",
    "        # see if m and r have a gcd > 1\n",
    "        # if r == 1, then r==0 next call, current m returned\n",
    "        return gcd(m, r) \n",
    "\n",
    "def test_me():\n",
    "    m = 100; n = 20\n",
    "    print(f\"gcd({m}, {n}) = {gcd(m,n)}\")\n",
    "    m = 113; n = 20\n",
    "    print(f\"gcd({m}, {n}) = {gcd(m,n)}\")\n",
    "    m = 17; n = 31\n",
    "    print(f\"gcd({m}, {n}) = {gcd(m,n)}\")\n",
    "    m = 270; n = 192\n",
    "    print(f\"gcd({m}, {n}) = {gcd(m,n)}\")\n",
    "    \n",
    "    \n",
    "if __name__ == \"__main__\":\n",
    "    test_me()"
   ]
  },
  {
   "cell_type": "markdown",
   "id": "b383434a-d3ad-4064-bb27-d481584a02cb",
   "metadata": {},
   "source": [
    "<a data-flickr-embed=\"true\" href=\"https://www.flickr.com/photos/kirbyurner/53897817728/in/dateposted/\" title=\"Screen Shot 2024-08-02 at 10.01.27 AM\"><img src=\"https://live.staticflickr.com/65535/53897817728_28996a68c6_c.jpg\" width=\"800\" height=\"602\" alt=\"Screen Shot 2024-08-02 at 10.01.27 AM\"/></a><script async src=\"//embedr.flickr.com/assets/client-code.js\" charset=\"utf-8\"></script>"
   ]
  },
  {
   "cell_type": "markdown",
   "id": "9a904a5d-effe-4b85-b74c-dc3a378cfc79",
   "metadata": {},
   "source": [
    "More School of Tomorrow pages:\n",
    "\n",
    "* [Extended Euclidean Algorithm (EEA)](https://github.com/4dsolutions/elite_school/blob/master/EEA.ipynb) -- Elite School Repo\n",
    "* [Building a Rational Number type](https://github.com/4dsolutions/elite_school/blob/master/Py4HS_July_12_2022.ipynb)  -- Elite School Repo"
   ]
  }
 ],
 "metadata": {
  "kernelspec": {
   "display_name": "Python 3 (ipykernel)",
   "language": "python",
   "name": "python3"
  },
  "language_info": {
   "codemirror_mode": {
    "name": "ipython",
    "version": 3
   },
   "file_extension": ".py",
   "mimetype": "text/x-python",
   "name": "python",
   "nbconvert_exporter": "python",
   "pygments_lexer": "ipython3",
   "version": "3.9.15"
  }
 },
 "nbformat": 4,
 "nbformat_minor": 5
}
