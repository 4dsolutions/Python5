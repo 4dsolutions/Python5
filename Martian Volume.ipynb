{
 "cells": [
  {
   "cell_type": "markdown",
   "metadata": {},
   "source": [
    "# Martian Volume\n",
    "\n",
    "Whoever heard of a linear algebra with four independent basis vectors in 3-space, which basis vectors are not unit length?  \n",
    "\n",
    "This all sounds absurd. \n",
    "\n",
    "Welcome to Quadrays."
   ]
  },
  {
   "cell_type": "code",
   "execution_count": 1,
   "metadata": {},
   "outputs": [
    {
     "data": {
      "text/plain": [
       "0.6123724356957945"
      ]
     },
     "execution_count": 1,
     "metadata": {},
     "output_type": "execute_result"
    }
   ],
   "source": [
    "from qrays import Qvector, Vector\n",
    "a = Qvector((1,0,0,0))\n",
    "a.length()"
   ]
  },
  {
   "cell_type": "code",
   "execution_count": 2,
   "metadata": {},
   "outputs": [
    {
     "data": {
      "text/plain": [
       "1.0"
      ]
     },
     "execution_count": 2,
     "metadata": {},
     "output_type": "execute_result"
    }
   ],
   "source": [
    "b = Qvector((0,1,0,0))\n",
    "(a-b).length()"
   ]
  },
  {
   "cell_type": "markdown",
   "metadata": {},
   "source": [
    "The Quadray coordinate system stands on its own without merging with 20th Century Neoplatonist esoterica. Some of the shoptalk which follows is inessential to the system's other applications, insofar as it has any.\n",
    "\n",
    "However, if we do go ahead with that merger, this apparatus proves useful in breaking the \"spell\", the \"bewitchment of our intelligence\" (Wittgenstein) by the dogma that space *has to be* 3D. \n",
    "\n",
    "Have we no choice but to accept the three mutual orthogonals, X, Y and Z, as definitive?  Could a different \"dimension talk\" be imagined?\n",
    "\n",
    "In this alternative, alien, lingo, we draw attention to the tetrahedron (the 4-faced enclosure) as the simplest imaginable.  \n",
    "\n",
    "\n",
    "<a data-flickr-embed=\"true\"  href=\"https://www.flickr.com/photos/kirbyurner/4723083407/in/photolist-jnjYkJ-dXVxsM-8cn39x-kreNGK-dj1wJw-jjQPyH-jjRh9s-jjPxdF-eVX8tk-jjTX9Q-GsURhL-jKwah8-QZehHh-Py8HBr-Gdbvd3\" title=\"Quadray Coordinates\"><img src=\"https://live.staticflickr.com/1213/4723083407_2ccf6bc229.jpg\" width=\"400\" height=\"350\" alt=\"Quadray Coordinates\"></a><script async src=\"//embedr.flickr.com/assets/client-code.js\" charset=\"utf-8\"></script>\n",
    "\n",
    "We might say the sphere is simpler, but what if we're exploring a discontinuous, discrete approach?  \n",
    "\n",
    "Real spheres such as found in nature have lots of surface details, which we tune out in our idealizations.  What if we're less interested in idealizations?\n",
    "\n",
    "Starting with the tetrahedron as our symbolic Container (that which encloses space, excluding an outside, including an inside), we note its salient fourness:  four points, four faces.  \n",
    "\n",
    "Three points determine a plane (so-called); four non-coplaner points get us to volume.  Lets stop there.  Volume is 4D, as in four directional.  QED.\n",
    "\n",
    "\n",
    "<a data-flickr-embed=\"true\"  href=\"https://www.flickr.com/photos/kirbyurner/41211295565/in/album-72157624750749042/\" title=\"Martian Multiplication\"><img src=\"https://live.staticflickr.com/907/41211295565_59145e2f63.jpg\" width=\"500\" height=\"312\" alt=\"Martian Multiplication\"></a><script async src=\"//embedr.flickr.com/assets/client-code.js\" charset=\"utf-8\"></script>\n",
    "\n",
    "We say the four Qvectors are linearly independent because negating a vector is rotating and our definition of \"linear combination of\" does not include rotation as an operation.  We don't need the negative Qrays (Qvectors) even though we're free to use them.\n",
    "\n",
    "Also, Qrays are such that it's the edges of the unit volume tetrahedron they define, the edges between their vector tips, that matter most in terms of length.  \n",
    "\n",
    "What we call the \"prime vector radius\" is the unit radius of a sphere (we do have spheres in Martian Math).\n",
    "\n",
    "<a data-flickr-embed=\"true\"  href=\"https://www.flickr.com/photos/kirbyurner/4949799682\" title=\"Tetrahedron\"><img src=\"https://live.staticflickr.com/4143/4949799682_327b33e8d5.jpg\" width=\"375\" height=\"500\" alt=\"Tetrahedron\"></a><script async src=\"//embedr.flickr.com/assets/client-code.js\" charset=\"utf-8\"></script>\n",
    "\n",
    "\n",
    "This is not the way Earthlings talk.  Three mutually perpendicular lines define *res extensa* and therefore space is 3D.  Furthermore, although we cannot visualize a fourth orthogonal, the algebra still works, as does a definition of polytopes.  Everything feels very Euclidean.  We call nD geometry \"extended Euclidean\" geometry and regard H.S.M. Coxeter (University of Toronto) as one of its champions.\n",
    "\n",
    "This more alien 4D talk wound up in a corner of American literature seldom visited in today's university track courseware.  \n",
    "\n",
    "I'm speaking of Buckminster Fuller's *Synergetics* in two volumes (Macmillan), developed in collaboration with many, but especially in cahoots with E.J. Applewhite, one of his earliest fans.  \n",
    "\n",
    "Applewhite went on the write *Paradise Mislaid* investigating the scientific meaning of \"alive\" versus \"not alive\" (is a virus alive?)."
   ]
  },
  {
   "cell_type": "code",
   "execution_count": 3,
   "metadata": {},
   "outputs": [
    {
     "name": "stderr",
     "output_type": "stream",
     "text": [
      ".\n",
      "----------------------------------------------------------------------\n",
      "Ran 1 test in 0.002s\n",
      "\n",
      "OK\n"
     ]
    }
   ],
   "source": [
    "from tetvols import make_tet\n",
    "import unittest\n",
    "\n",
    "class TestQuadrays(unittest.TestCase):\n",
    "    \n",
    "    def test_martian(self):\n",
    "        p = Qvector((2,1,0,1))\n",
    "        q = Qvector((2,1,1,0))\n",
    "        r = Qvector((2,0,1,1))\n",
    "        result = make_tet(5*q, 2*p, 2*r) # three scalars\n",
    "        self.assertAlmostEqual(result[0], 20, 7)\n",
    "        \n",
    "\n",
    "if __name__ == '__main__':\n",
    "    unittest.main(argv=['first-arg-is-ignored'], exit=False)\n"
   ]
  },
  {
   "cell_type": "markdown",
   "metadata": {},
   "source": [
    "In the demonstration below, we're showing any three positive scalars s0, s1, s2, used to stretch three vectors (or shrink them), p, q, r, from the corner of a regular tetrahedron, define a tetrahedron of volume s0 \\* s1 \\* s2.\n",
    "\n",
    "In other words, instead of using the three positive orthogonal basis vectors, imagined at the corner of a cube (say the positive octant in XYZ), we're using unit length vectors from the corner of a regular tetrahedron.  These are not the Qray basis vectors, but they do demonstrate how we define volume and by extension 3rd powering.\n",
    "\n",
    "The picture below is from [one of the figures](http://www.rwgrayprojects.com/synergetics/s09/figs/f9001.html) published in *Synergetics*.\n",
    "\n",
    "<a data-flickr-embed=\"true\"  href=\"https://www.flickr.com/photos/kirbyurner/36545769791\" title=\"tetrahedroning\"><img src=\"https://live.staticflickr.com/4403/36545769791_5a77c2073a.jpg\" width=\"330\" height=\"422\" alt=\"tetrahedroning\"></a><script async src=\"//embedr.flickr.com/assets/client-code.js\" charset=\"utf-8\"></script>"
   ]
  },
  {
   "cell_type": "code",
   "execution_count": 4,
   "metadata": {},
   "outputs": [
    {
     "data": {
      "text/plain": [
       "0.125"
      ]
     },
     "execution_count": 4,
     "metadata": {},
     "output_type": "execute_result"
    }
   ],
   "source": [
    "def martian_volume(s0, s1, s2):\n",
    "    \"\"\"\n",
    "    p, q, r are unit vectors from the corner of a \n",
    "    regular unit volume tetrahedron, expressed using\n",
    "    Quadray coordinates.  Stretch or shrink using any\n",
    "    three scalars, even negatives which reverse a \n",
    "    vector\n",
    "    \"\"\"\n",
    "    p = Qvector((2,1,0,1))\n",
    "    q = Qvector((2,1,1,0))\n",
    "    r = Qvector((2,0,1,1))\n",
    "    result = make_tet(s0*q, s1*p, s2*r)\n",
    "    return result[0]\n",
    "\n",
    "float(\"{:5f}\".format(martian_volume(.5, .5, .5)))"
   ]
  },
  {
   "cell_type": "code",
   "execution_count": 5,
   "metadata": {},
   "outputs": [
    {
     "data": {
      "text/plain": [
       "1.0"
      ]
     },
     "execution_count": 5,
     "metadata": {},
     "output_type": "execute_result"
    }
   ],
   "source": [
    "p = Qvector((2,1,0,1))\n",
    "p.length()"
   ]
  },
  {
   "cell_type": "markdown",
   "metadata": {},
   "source": [
    "What's the volume formula we're using?  A simple conversion constant will take us from XYZ to IVM volume, but the algorithm below returns the IVM volume natively.  It's the XYZ volume we use the constant to derive.\n",
    "\n",
    "The ```make_tet``` function computes the missing three lengths, given three from a corner (the edges between vector tips), and returns the IVM volume of the tetrahedron so formed.\n",
    "\n",
    "The formula below, similar to one of Euler's (with a history before that) and derived by Gerald de Jong (University of Toronto undergrad), requires edge lengths only, but all six of them.\n",
    "\n",
    "<a data-flickr-embed=\"true\"  href=\"https://www.flickr.com/photos/kirbyurner/39391693474\" title=\"Computer Volume\"><img src=\"https://live.staticflickr.com/4672/39391693474_c6c54f3d22.jpg\" width=\"500\" height=\"463\" alt=\"Computer Volume\"></a><script async src=\"//embedr.flickr.com/assets/client-code.js\" charset=\"utf-8\"></script>\n",
    "\n",
    "The Youtube below does not pop up in the Github rendering.\n",
    "\n",
    "[Click here](https://nbviewer.jupyter.org/github/4dsolutions/Python5/blob/master/Martian%20Volume.ipynb) for the nbviewer version, or follow [this link](https://youtu.be/F9ZVCSPIUls) to the Youtube."
   ]
  },
  {
   "cell_type": "code",
   "execution_count": 6,
   "metadata": {},
   "outputs": [
    {
     "data": {
      "image/jpeg": "[encoded data removed]",
      "text/html": [
       "\n",
       "        <iframe\n",
       "            width=\"400\"\n",
       "            height=\"300\"\n",
       "            src=\"https://www.youtube.com/embed/F9ZVCSPIUls\"\n",
       "            frameborder=\"0\"\n",
       "            allowfullscreen\n",
       "        ></iframe>\n",
       "        "
      ],
      "text/plain": [
       "<IPython.lib.display.YouTubeVideo at 0x1124e1e80>"
      ]
     },
     "execution_count": 6,
     "metadata": {},
     "output_type": "execute_result"
    }
   ],
   "source": [
    "from IPython.display import YouTubeVideo\n",
    "YouTubeVideo(\"F9ZVCSPIUls\")"
   ]
  }
 ],
 "metadata": {
  "kernelspec": {
   "display_name": "Python 3",
   "language": "python",
   "name": "python3"
  },
  "language_info": {
   "codemirror_mode": {
    "name": "ipython",
    "version": 3
   },
   "file_extension": ".py",
   "mimetype": "text/x-python",
   "name": "python",
   "nbconvert_exporter": "python",
   "pygments_lexer": "ipython3",
   "version": "3.6.8"
  }
 },
 "nbformat": 4,
 "nbformat_minor": 2
}
